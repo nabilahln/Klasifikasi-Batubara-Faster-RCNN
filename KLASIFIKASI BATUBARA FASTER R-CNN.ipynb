{
  "nbformat": 4,
  "nbformat_minor": 0,
  "metadata": {
    "colab": {
      "name": "FIX FASTER R-CNN.ipynb",
      "provenance": []
    },
    "kernelspec": {
      "name": "python3",
      "display_name": "Python 3"
    },
    "language_info": {
      "name": "python"
    },
    "accelerator": "GPU",
    "gpuClass": "standard"
  },
  "cells": [
    {
      "cell_type": "code",
      "execution_count": 1,
      "metadata": {
        "colab": {
          "base_uri": "https://localhost:8080/"
        },
        "id": "9IsbB2bt7Mmy",
        "outputId": "44ff0b81-853e-4952-be9a-d80897d1c148"
      },
      "outputs": [
        {
          "output_type": "stream",
          "name": "stdout",
          "text": [
            "Mounted at /content/drive\n"
          ]
        }
      ],
      "source": [
        "from google.colab import drive\n",
        "drive.mount('/content/drive')"
      ]
    },
    {
      "cell_type": "code",
      "source": [
        "# Install Tensor Flow Model Maker\n",
        "!pip install -q tflite-model-maker"
      ],
      "metadata": {
        "colab": {
          "base_uri": "https://localhost:8080/"
        },
        "id": "rYgW3svH7UlL",
        "outputId": "08fdf5d0-543e-47ce-9020-59bcc967742c"
      },
      "execution_count": null,
      "outputs": [
        {
          "output_type": "stream",
          "name": "stdout",
          "text": [
            "\u001b[K     |████████████████████████████████| 642 kB 33.9 MB/s \n",
            "\u001b[K     |████████████████████████████████| 10.9 MB 52.8 MB/s \n",
            "\u001b[K     |████████████████████████████████| 1.1 MB 61.9 MB/s \n",
            "\u001b[K     |████████████████████████████████| 87 kB 7.0 MB/s \n",
            "\u001b[K     |████████████████████████████████| 1.2 MB 27.4 MB/s \n",
            "\u001b[K     |████████████████████████████████| 237 kB 77.4 MB/s \n",
            "\u001b[K     |████████████████████████████████| 596 kB 35.6 MB/s \n",
            "\u001b[K     |████████████████████████████████| 120 kB 80.0 MB/s \n",
            "\u001b[K     |████████████████████████████████| 3.4 MB 58.7 MB/s \n",
            "\u001b[K     |████████████████████████████████| 6.4 MB 62.2 MB/s \n",
            "\u001b[K     |████████████████████████████████| 840 kB 48.8 MB/s \n",
            "\u001b[K     |████████████████████████████████| 42.6 MB 1.7 MB/s \n",
            "\u001b[K     |████████████████████████████████| 77 kB 6.8 MB/s \n",
            "\u001b[K     |████████████████████████████████| 25.3 MB 1.5 MB/s \n",
            "\u001b[K     |████████████████████████████████| 48.3 MB 84 kB/s \n",
            "\u001b[K     |████████████████████████████████| 352 kB 68.4 MB/s \n",
            "\u001b[K     |████████████████████████████████| 99 kB 9.8 MB/s \n",
            "\u001b[K     |████████████████████████████████| 40 kB 5.7 MB/s \n",
            "\u001b[K     |████████████████████████████████| 42.6 MB 91.2 MB/s \n",
            "\u001b[K     |████████████████████████████████| 42.6 MB 1.4 MB/s \n",
            "\u001b[K     |████████████████████████████████| 42.6 MB 1.2 MB/s \n",
            "\u001b[K     |████████████████████████████████| 42.6 MB 1.2 MB/s \n",
            "\u001b[K     |████████████████████████████████| 42.6 MB 1.4 MB/s \n",
            "\u001b[K     |████████████████████████████████| 42.6 MB 1.2 MB/s \n",
            "\u001b[K     |████████████████████████████████| 42.6 MB 1.4 MB/s \n",
            "\u001b[K     |████████████████████████████████| 42.6 MB 1.1 MB/s \n",
            "\u001b[K     |████████████████████████████████| 42.6 MB 1.1 MB/s \n",
            "\u001b[K     |████████████████████████████████| 42.6 MB 128 kB/s \n",
            "\u001b[K     |████████████████████████████████| 42.6 MB 1.2 MB/s \n",
            "\u001b[K     |████████████████████████████████| 42.5 MB 1.2 MB/s \n",
            "\u001b[K     |████████████████████████████████| 1.1 MB 57.4 MB/s \n",
            "\u001b[K     |████████████████████████████████| 213 kB 75.2 MB/s \n",
            "\u001b[?25h  Building wheel for fire (setup.py) ... \u001b[?25l\u001b[?25hdone\n",
            "  Building wheel for py-cpuinfo (setup.py) ... \u001b[?25l\u001b[?25hdone\n",
            "\u001b[31mERROR: pip's dependency resolver does not currently take into account all the packages that are installed. This behaviour is the source of the following dependency conflicts.\n",
            "datascience 0.10.6 requires folium==0.2.1, but you have folium 0.8.3 which is incompatible.\u001b[0m\n"
          ]
        }
      ]
    },
    {
      "cell_type": "code",
      "source": [
        "# Import Library\n",
        "!sudo apt-get install libportaudio2\n",
        "!pip install -q tflite-model-maker\n",
        "\n",
        "import os\n",
        "import sounddevice as sd\n",
        "import numpy as np\n",
        "import tensorflow as tf\n",
        "\n",
        "assert tf.__version__.startswith('2')\n",
        "\n",
        "from tflite_model_maker import model_spec\n",
        "from tflite_model_maker import image_classifier\n",
        "from tflite_model_maker.config import ExportFormat\n",
        "from tflite_model_maker.config import QuantizationConfig\n",
        "from tflite_model_maker.image_classifier import DataLoader\n",
        "\n",
        "from PIL import Image as pil\n",
        "import matplotlib.pyplot as plt"
      ],
      "metadata": {
        "colab": {
          "base_uri": "https://localhost:8080/"
        },
        "id": "fCIOWZmh7Wwf",
        "outputId": "aa08709e-5fe3-4655-9f20-cc9364d911b2"
      },
      "execution_count": null,
      "outputs": [
        {
          "output_type": "stream",
          "name": "stdout",
          "text": [
            "Reading package lists... Done\n",
            "Building dependency tree       \n",
            "Reading state information... Done\n",
            "The following package was automatically installed and is no longer required:\n",
            "  libnvidia-common-460\n",
            "Use 'sudo apt autoremove' to remove it.\n",
            "The following NEW packages will be installed:\n",
            "  libportaudio2\n",
            "0 upgraded, 1 newly installed, 0 to remove and 49 not upgraded.\n",
            "Need to get 64.6 kB of archives.\n",
            "After this operation, 215 kB of additional disk space will be used.\n",
            "Get:1 http://archive.ubuntu.com/ubuntu bionic/universe amd64 libportaudio2 amd64 19.6.0-1 [64.6 kB]\n",
            "Fetched 64.6 kB in 0s (190 kB/s)\n",
            "debconf: unable to initialize frontend: Dialog\n",
            "debconf: (No usable dialog-like program is installed, so the dialog based frontend cannot be used. at /usr/share/perl5/Debconf/FrontEnd/Dialog.pm line 76, <> line 1.)\n",
            "debconf: falling back to frontend: Readline\n",
            "debconf: unable to initialize frontend: Readline\n",
            "debconf: (This frontend requires a controlling tty.)\n",
            "debconf: falling back to frontend: Teletype\n",
            "dpkg-preconfigure: unable to re-open stdin: \n",
            "Selecting previously unselected package libportaudio2:amd64.\n",
            "(Reading database ... 155639 files and directories currently installed.)\n",
            "Preparing to unpack .../libportaudio2_19.6.0-1_amd64.deb ...\n",
            "Unpacking libportaudio2:amd64 (19.6.0-1) ...\n",
            "Setting up libportaudio2:amd64 (19.6.0-1) ...\n",
            "Processing triggers for libc-bin (2.27-3ubuntu1.3) ...\n",
            "/sbin/ldconfig.real: /usr/local/lib/python3.7/dist-packages/ideep4py/lib/libmkldnn.so.0 is not a symbolic link\n",
            "\n"
          ]
        }
      ]
    },
    {
      "cell_type": "code",
      "source": [
        "# Buat Folder Hasil\n",
        "folderHasil = '/content/drive/MyDrive/Colab Notebooks/Hasil'\n",
        "folderBatubara = '/content/drive/MyDrive/Colab Notebooks/Batubara/Foto'\n",
        "\n",
        "for namaFolder in os.listdir(folderBatubara):\n",
        "  f = os.path.join(folderHasil, namaFolder)\n",
        "  if not os.path.exists(f):\n",
        "    os.makedirs(f)"
      ],
      "metadata": {
        "id": "5avm2kg87oh4"
      },
      "execution_count": null,
      "outputs": []
    },
    {
      "cell_type": "code",
      "source": [
        "# Pre-processing Foto\n",
        "for namaFolder in os.listdir(folderBatubara):\n",
        "  index = 1\n",
        "  d = os.path.join(folderBatubara, namaFolder)\n",
        "  for namaFoto in os.listdir(d):\n",
        "    f = os.path.join(d, namaFoto)\n",
        "    data = pil.open(f)\n",
        "\n",
        "    # Flip Foto Kanan Ke Kiri\n",
        "    data.transpose(pil.FLIP_LEFT_RIGHT).save(folderHasil+'/'+namaFolder+'/'+str(index)+'.JPG')\n",
        "    index += 1\n",
        "    \n",
        "    # Rotate Foto 90 Derajat\n",
        "    data.transpose(pil.ROTATE_90).save(folderHasil+'/'+namaFolder+'/'+str(index)+'.JPG')\n",
        "    index += 1\n",
        "\n",
        "    # Flip Foto Atas Ke Bawah\n",
        "    data.transpose(pil.ROTATE_90).transpose(pil.FLIP_TOP_BOTTOM).save(folderHasil+'/'+namaFolder+'/'+str(index)+'.JPG')\n",
        "    index += 1"
      ],
      "metadata": {
        "id": "BbkU8CSE7pkT"
      },
      "execution_count": null,
      "outputs": []
    },
    {
      "cell_type": "code",
      "source": [
        "import tensorflow as tf\n",
        "\n",
        "dataset = tf.keras.preprocessing.image_dataset_from_directory(\n",
        "    '/content/drive/My Drive/Colab Notebooks/Hasil/',\n",
        "    shuffle=True,\n",
        "    image_size = (256,256),\n",
        "    batch_size = 8\n",
        ")"
      ],
      "metadata": {
        "colab": {
          "base_uri": "https://localhost:8080/"
        },
        "id": "DUqSZtMh7sxI",
        "outputId": "29aae2c3-9984-4e14-d182-86046d122b80"
      },
      "execution_count": 2,
      "outputs": [
        {
          "output_type": "stream",
          "name": "stdout",
          "text": [
            "Found 957 files belonging to 3 classes.\n"
          ]
        }
      ]
    },
    {
      "cell_type": "code",
      "source": [
        "class_names = dataset.class_names\n",
        "class_names"
      ],
      "metadata": {
        "colab": {
          "base_uri": "https://localhost:8080/"
        },
        "id": "u38eGzEH75Bz",
        "outputId": "f1097f14-395c-4cfb-a550-66019a8167d3"
      },
      "execution_count": 3,
      "outputs": [
        {
          "output_type": "execute_result",
          "data": {
            "text/plain": [
              "['Rendah', 'Sedang', 'Tinggi']"
            ]
          },
          "metadata": {},
          "execution_count": 3
        }
      ]
    },
    {
      "cell_type": "code",
      "source": [
        "data_train = dataset.take(int(0.8*len(dataset)))\n",
        "data_val = dataset.skip(len(data_train)).take(int(0.1*len(dataset)))\n",
        "data_test = dataset.skip(len(data_train)).skip(len(data_val))"
      ],
      "metadata": {
        "id": "4wruohIc78Go"
      },
      "execution_count": 4,
      "outputs": []
    },
    {
      "cell_type": "code",
      "source": [
        "# from tensorflow.keras.applications.vgg16 import VGG16,preprocess_input\n",
        "\n",
        "# base_model = VGG16(input_shape = (256,256,3),\n",
        "#                    include_top = False,\n",
        "#                    weights= 'imagenet')"
      ],
      "metadata": {
        "colab": {
          "base_uri": "https://localhost:8080/"
        },
        "id": "Lat0V7-x7-r_",
        "outputId": "190a55e6-49a0-42ec-ee55-2acb71e9e743"
      },
      "execution_count": 5,
      "outputs": [
        {
          "output_type": "stream",
          "name": "stdout",
          "text": [
            "Downloading data from https://storage.googleapis.com/tensorflow/keras-applications/vgg16/vgg16_weights_tf_dim_ordering_tf_kernels_notop.h5\n",
            "58892288/58889256 [==============================] - 0s 0us/step\n",
            "58900480/58889256 [==============================] - 0s 0us/step\n"
          ]
        }
      ]
    },
    {
      "cell_type": "code",
      "source": [
        "# for layer in base_model.layers:\n",
        "#   layer.trainable = False"
      ],
      "metadata": {
        "id": "3PfPBdJY8Gtc"
      },
      "execution_count": 6,
      "outputs": []
    },
    {
      "cell_type": "code",
      "source": [
        "# vgg_preprocess = preprocess_input\n",
        "# data_train.preprocessing_function = vgg_preprocess"
      ],
      "metadata": {
        "id": "7lXWl9gq8I3U"
      },
      "execution_count": 7,
      "outputs": []
    },
    {
      "cell_type": "code",
      "source": [
        "# from tensorflow.keras.models import Sequential\n",
        "# from tensorflow.keras.layers import Dense, Flatten, Conv2D, MaxPooling2D, Dropout, BatchNormalization\n",
        "\n",
        "# model = Sequential()\n",
        "# model.add(base_model)\n",
        "\n",
        "# model.add(Flatten())\n",
        "\n",
        "# model.add(Dense(units=128, kernel_initializer='uniform', activation='relu'))\n",
        "# # model.add(Dense(units=32, kernel_initializer='uniform', activation='relu'))\n",
        "# model.add(Dense(units=3, kernel_initializer='uniform', activation = 'softmax'))\n",
        "\n",
        "# model.compile(optimizer = 'adam',loss = tf.keras.losses.SparseCategoricalCrossentropy(from_logits=True), metrics = ['accuracy'])"
      ],
      "metadata": {
        "id": "kbTqcG6S8KyZ",
        "colab": {
          "base_uri": "https://localhost:8080/",
          "height": 235
        },
        "collapsed": true,
        "outputId": "f6fecc13-a3ec-4c0b-fa75-8c13d1cfc554"
      },
      "execution_count": 1,
      "outputs": [
        {
          "output_type": "error",
          "ename": "NameError",
          "evalue": "ignored",
          "traceback": [
            "\u001b[0;31m---------------------------------------------------------------------------\u001b[0m",
            "\u001b[0;31mNameError\u001b[0m                                 Traceback (most recent call last)",
            "\u001b[0;32m<ipython-input-1-06b9e5b9c4ed>\u001b[0m in \u001b[0;36m<module>\u001b[0;34m()\u001b[0m\n\u001b[1;32m      3\u001b[0m \u001b[0;34m\u001b[0m\u001b[0m\n\u001b[1;32m      4\u001b[0m \u001b[0mmodel\u001b[0m \u001b[0;34m=\u001b[0m \u001b[0mSequential\u001b[0m\u001b[0;34m(\u001b[0m\u001b[0;34m)\u001b[0m\u001b[0;34m\u001b[0m\u001b[0;34m\u001b[0m\u001b[0m\n\u001b[0;32m----> 5\u001b[0;31m \u001b[0mmodel\u001b[0m\u001b[0;34m.\u001b[0m\u001b[0madd\u001b[0m\u001b[0;34m(\u001b[0m\u001b[0mbase_model\u001b[0m\u001b[0;34m)\u001b[0m\u001b[0;34m\u001b[0m\u001b[0;34m\u001b[0m\u001b[0m\n\u001b[0m\u001b[1;32m      6\u001b[0m \u001b[0;34m\u001b[0m\u001b[0m\n\u001b[1;32m      7\u001b[0m \u001b[0mmodel\u001b[0m\u001b[0;34m.\u001b[0m\u001b[0madd\u001b[0m\u001b[0;34m(\u001b[0m\u001b[0mFlatten\u001b[0m\u001b[0;34m(\u001b[0m\u001b[0;34m)\u001b[0m\u001b[0;34m)\u001b[0m\u001b[0;34m\u001b[0m\u001b[0;34m\u001b[0m\u001b[0m\n",
            "\u001b[0;31mNameError\u001b[0m: name 'base_model' is not defined"
          ]
        }
      ]
    },
    {
      "cell_type": "code",
      "source": [
        "!pip install keras_applications"
      ],
      "metadata": {
        "colab": {
          "base_uri": "https://localhost:8080/"
        },
        "id": "7HhnlNBJnnCa",
        "outputId": "e4550518-4d22-4d07-fd8f-4ca4d817d1d0"
      },
      "execution_count": 54,
      "outputs": [
        {
          "output_type": "stream",
          "name": "stdout",
          "text": [
            "Looking in indexes: https://pypi.org/simple, https://us-python.pkg.dev/colab-wheels/public/simple/\n",
            "Collecting keras_applications\n",
            "  Downloading Keras_Applications-1.0.8-py3-none-any.whl (50 kB)\n",
            "\u001b[K     |████████████████████████████████| 50 kB 2.9 MB/s \n",
            "\u001b[?25hRequirement already satisfied: h5py in /usr/local/lib/python3.7/dist-packages (from keras_applications) (3.1.0)\n",
            "Requirement already satisfied: numpy>=1.9.1 in /usr/local/lib/python3.7/dist-packages (from keras_applications) (1.21.6)\n",
            "Requirement already satisfied: cached-property in /usr/local/lib/python3.7/dist-packages (from h5py->keras_applications) (1.5.2)\n",
            "Installing collected packages: keras-applications\n",
            "Successfully installed keras-applications-1.0.8\n"
          ]
        }
      ]
    },
    {
      "cell_type": "code",
      "source": [
        "from keras.models import Model\n",
        "from keras.layers import Flatten,Activation,Input,Conv2D,MaxPooling2D,GlobalMaxPooling2D\n",
        "from keras import backend as K\n",
        "from keras.applications.imagenet_utils import obtain_input_shape\n",
        "\n",
        "input_shape=(256,256,3)\n",
        "input_shape = obtain_input_shape(input_shape,\n",
        "                                  default_size=256,\n",
        "                                  min_size=48,\n",
        "                                  data_format=K.image_data_format(),\n",
        "                                  require_flatten=True,\n",
        "                                  weights='imagenet')\n",
        "\n",
        "img_input = Input(shape=input_shape)\n",
        "\n",
        "# Block 1   \n",
        "x = Conv2D(64, (3, 3), activation='relu', padding='same', name='block1_conv1')(img_input)\n",
        "x = Conv2D(64, (3, 3), activation='relu', padding='same', name='block1_conv2')(x)\n",
        "x = MaxPooling2D((2, 2), strides=(2, 2), name='block1_pool')(x)\n",
        "\n",
        "# Block 2\n",
        "x = Conv2D(128, (3, 3), activation='relu', padding='same', name='block2_conv1')(x)\n",
        "x = Conv2D(128, (3, 3), activation='relu', padding='same', name='block2_conv2')(x)\n",
        "x = MaxPooling2D((2, 2), strides=(2, 2), name='block2_pool')(x)\n",
        "\n",
        "# Block 3\n",
        "x = Conv2D(256, (3, 3), activation='relu', padding='same', name='block3_conv1')(x)\n",
        "x = Conv2D(256, (3, 3), activation='relu', padding='same', name='block3_conv2')(x)\n",
        "x = Conv2D(256, (3, 3), activation='relu', padding='same', name='block3_conv3')(x)\n",
        "x = MaxPooling2D((2, 2), strides=(2, 2), name='block3_pool')(x)\n",
        "\n",
        "# Block 4\n",
        "x = Conv2D(512, (3, 3), activation='relu', padding='same', name='block4_conv1')(x)\n",
        "x = Conv2D(512, (3, 3), activation='relu', padding='same', name='block4_conv2')(x)\n",
        "x = Conv2D(512, (3, 3), activation='relu', padding='same', name='block4_conv3')(x)\n",
        "x = MaxPooling2D((2, 2), strides=(2, 2), name='block4_pool')(x)\n",
        "\n",
        "# Block 5\n",
        "x = Conv2D(512, (3, 3), activation='relu', padding='same', name='block5_conv1')(x)\n",
        "x = Conv2D(512, (3, 3), activation='relu', padding='same', name='block5_conv2')(x)\n",
        "x = Conv2D(512, (3, 3), activation='relu', padding='same', name='block5_conv3')(x)\n",
        "x = MaxPooling2D((2, 2), strides=(2, 2), name='block5_pool')(x)\n",
        "\n",
        "x = GlobalMaxPooling2D()(x)\n",
        "\n",
        "model = Model(img_input, x, name='vgg16')"
      ],
      "metadata": {
        "id": "_-Fza8nQW_VH"
      },
      "execution_count": 63,
      "outputs": []
    },
    {
      "cell_type": "code",
      "source": [
        "from keras.utils.data_utils import get_file\n",
        "\n",
        "WEIGHTS_PATH_NO_TOP = 'https://github.com/fchollet/deep-learning-models/releases/download/v0.1/vgg16_weights_tf_dim_ordering_tf_kernels_notop.h5'\n",
        "\n",
        "weights_path = get_file('vgg16_weights_tf_dim_ordering_tf_kernels_notop.h5',\n",
        "                        WEIGHTS_PATH_NO_TOP,\n",
        "                        cache_subdir='models')"
      ],
      "metadata": {
        "id": "ZtFcBDKurUw9"
      },
      "execution_count": 65,
      "outputs": []
    },
    {
      "cell_type": "code",
      "source": [
        "model.load_weights(weights_path)"
      ],
      "metadata": {
        "id": "n2J-FsVXsLB6"
      },
      "execution_count": 67,
      "outputs": []
    },
    {
      "cell_type": "code",
      "source": [
        "from tensorflow.keras.preprocessing.image import img_to_array\n",
        "\n",
        "x_train=[]\n",
        "y_train=[]\n",
        "\n",
        "for images,labels in data_train.take(96):\n",
        "  n=0\n",
        "  for image in images:\n",
        "    img = img_to_array(images[n]/255)\n",
        "    n+=1\n",
        "    img=np.expand_dims(img,axis=0)\n",
        "    img_encode = model.predict(img)\n",
        "    x_train.append(np.squeeze(K.eval(img_encode)).tolist())\n",
        "  for label in labels:\n",
        "    lbl = label.numpy()\n",
        "    y_train.append([lbl])"
      ],
      "metadata": {
        "id": "dZ-G8V5NsPQR"
      },
      "execution_count": 72,
      "outputs": []
    },
    {
      "cell_type": "code",
      "source": [
        "x_train = np.asarray(x_train)\n",
        "y_train = np.asarray(y_train)"
      ],
      "metadata": {
        "id": "NQk3Cuxytr0Y"
      },
      "execution_count": 73,
      "outputs": []
    },
    {
      "cell_type": "code",
      "source": [
        "from tensorflow.keras.models import Sequential\n",
        "from tensorflow.keras.layers import Dense, Flatten, Conv2D, MaxPooling2D, Dropout, BatchNormalization\n",
        "\n",
        "def create_model(optimizer='adam',init_mode='uniform',activation='relu',neurons=128):\n",
        "  model = Sequential()\n",
        "\n",
        "  model.add(Flatten())\n",
        "\n",
        "  model.add(Dense(units=neurons, kernel_initializer=init_mode, activation=activation))\n",
        "  model.add(Dense(units=3, kernel_initializer=init_mode, activation = 'softmax'))\n",
        "\n",
        "  model.compile(optimizer = optimizer,loss = tf.keras.losses.SparseCategoricalCrossentropy(from_logits=True), metrics = ['accuracy'])\n",
        "  return model"
      ],
      "metadata": {
        "id": "l2rMDeNj7L0n"
      },
      "execution_count": 83,
      "outputs": []
    },
    {
      "cell_type": "code",
      "source": [
        "from keras.wrappers.scikit_learn import KerasClassifier\n",
        "\n",
        "tuning_model = KerasClassifier(build_fn=create_model)"
      ],
      "metadata": {
        "colab": {
          "base_uri": "https://localhost:8080/"
        },
        "id": "UU1hT1rY8_0d",
        "outputId": "338dcb63-d5ba-4894-b0d3-9a92bf56d239"
      },
      "execution_count": 84,
      "outputs": [
        {
          "output_type": "stream",
          "name": "stderr",
          "text": [
            "/usr/local/lib/python3.7/dist-packages/ipykernel_launcher.py:3: DeprecationWarning: KerasClassifier is deprecated, use Sci-Keras (https://github.com/adriangb/scikeras) instead. See https://www.adriangb.com/scikeras/stable/migration.html for help migrating.\n",
            "  This is separate from the ipykernel package so we can avoid doing imports until\n"
          ]
        }
      ]
    },
    {
      "cell_type": "code",
      "source": [
        "len(data_train)"
      ],
      "metadata": {
        "colab": {
          "base_uri": "https://localhost:8080/"
        },
        "id": "fZIfALX4FZgr",
        "outputId": "a8a7b9b1-b74d-4a7a-c990-1b509c2faf7d"
      },
      "execution_count": 22,
      "outputs": [
        {
          "output_type": "execute_result",
          "data": {
            "text/plain": [
              "96"
            ]
          },
          "metadata": {},
          "execution_count": 22
        }
      ]
    },
    {
      "cell_type": "code",
      "source": [
        "from sklearn.model_selection import GridSearchCV\n",
        "param_grid = dict(optimizer = ['SGD', 'RMSprop', 'Adagrad', 'Adadelta', 'Adam', 'Adamax', 'Nadam'],batch_size = [8,16,32],epochs=[5,10,15],init_mode = ['uniform', 'lecun_uniform', 'normal', 'zero', 'glorot_normal', 'glorot_uniform', 'he_normal', 'he_uniform'],activation=['softmax', 'softplus', 'softsign', 'relu', 'tanh', 'sigmoid', 'hard_sigmoid', 'linear'],neurons = [16,32,64,128,256])\n",
        "grid = GridSearchCV(estimator = tuning_model,param_grid=param_grid,cv=3) \n",
        "grid_result = grid.fit(x_train,y_train)\n",
        "print(\"Best: %f using %s\" % (grid_result.best_score_, grid_result.best_params_))"
      ],
      "metadata": {
        "colab": {
          "base_uri": "https://localhost:8080/"
        },
        "id": "gvatNBAi4NJF",
        "outputId": "2e26f135-cd15-42cc-8692-ff0c877a648d"
      },
      "execution_count": null,
      "outputs": [
        {
          "output_type": "stream",
          "name": "stdout",
          "text": [
            "Epoch 1/5\n"
          ]
        },
        {
          "output_type": "stream",
          "name": "stderr",
          "text": [
            "/usr/local/lib/python3.7/dist-packages/tensorflow/python/util/dispatch.py:1082: UserWarning: \"`sparse_categorical_crossentropy` received `from_logits=True`, but the `output` argument was produced by a sigmoid or softmax activation and thus does not represent logits. Was this intended?\"\n",
            "  return dispatch_target(*args, **kwargs)\n"
          ]
        },
        {
          "output_type": "stream",
          "name": "stdout",
          "text": [
            "64/64 [==============================] - 0s 2ms/step - loss: 1.0988 - accuracy: 0.3379\n",
            "Epoch 2/5\n",
            "64/64 [==============================] - 0s 2ms/step - loss: 1.0983 - accuracy: 0.3477\n",
            "Epoch 3/5\n",
            "64/64 [==============================] - 0s 2ms/step - loss: 1.0980 - accuracy: 0.3418\n",
            "Epoch 4/5\n",
            "64/64 [==============================] - 0s 2ms/step - loss: 1.0978 - accuracy: 0.3438\n",
            "Epoch 5/5\n",
            "64/64 [==============================] - 0s 2ms/step - loss: 1.0977 - accuracy: 0.3418\n",
            "32/32 [==============================] - 0s 2ms/step - loss: 1.0973 - accuracy: 0.3555\n",
            "Epoch 1/5\n"
          ]
        },
        {
          "output_type": "stream",
          "name": "stderr",
          "text": [
            "/usr/local/lib/python3.7/dist-packages/tensorflow/python/util/dispatch.py:1082: UserWarning: \"`sparse_categorical_crossentropy` received `from_logits=True`, but the `output` argument was produced by a sigmoid or softmax activation and thus does not represent logits. Was this intended?\"\n",
            "  return dispatch_target(*args, **kwargs)\n"
          ]
        },
        {
          "output_type": "stream",
          "name": "stdout",
          "text": [
            "64/64 [==============================] - 1s 2ms/step - loss: 1.0988 - accuracy: 0.2949\n",
            "Epoch 2/5\n",
            "64/64 [==============================] - 0s 2ms/step - loss: 1.0987 - accuracy: 0.3320\n",
            "Epoch 3/5\n",
            "64/64 [==============================] - 0s 2ms/step - loss: 1.0984 - accuracy: 0.3301\n",
            "Epoch 4/5\n",
            "64/64 [==============================] - 0s 2ms/step - loss: 1.0983 - accuracy: 0.3477\n",
            "Epoch 5/5\n",
            "64/64 [==============================] - 0s 2ms/step - loss: 1.0982 - accuracy: 0.3477\n",
            "32/32 [==============================] - 0s 2ms/step - loss: 1.0971 - accuracy: 0.3516\n",
            "Epoch 1/5\n"
          ]
        },
        {
          "output_type": "stream",
          "name": "stderr",
          "text": [
            "/usr/local/lib/python3.7/dist-packages/tensorflow/python/util/dispatch.py:1082: UserWarning: \"`sparse_categorical_crossentropy` received `from_logits=True`, but the `output` argument was produced by a sigmoid or softmax activation and thus does not represent logits. Was this intended?\"\n",
            "  return dispatch_target(*args, **kwargs)\n"
          ]
        },
        {
          "output_type": "stream",
          "name": "stdout",
          "text": [
            "64/64 [==============================] - 0s 2ms/step - loss: 1.0986 - accuracy: 0.3184\n",
            "Epoch 2/5\n",
            "64/64 [==============================] - 0s 2ms/step - loss: 1.0978 - accuracy: 0.3516\n",
            "Epoch 3/5\n",
            "64/64 [==============================] - 0s 2ms/step - loss: 1.0973 - accuracy: 0.3516\n",
            "Epoch 4/5\n",
            "64/64 [==============================] - 0s 2ms/step - loss: 1.0970 - accuracy: 0.3535\n",
            "Epoch 5/5\n",
            "64/64 [==============================] - 0s 2ms/step - loss: 1.0966 - accuracy: 0.3535\n",
            "32/32 [==============================] - 0s 2ms/step - loss: 1.0986 - accuracy: 0.3398\n",
            "Epoch 1/5\n"
          ]
        },
        {
          "output_type": "stream",
          "name": "stderr",
          "text": [
            "/usr/local/lib/python3.7/dist-packages/tensorflow/python/util/dispatch.py:1082: UserWarning: \"`sparse_categorical_crossentropy` received `from_logits=True`, but the `output` argument was produced by a sigmoid or softmax activation and thus does not represent logits. Was this intended?\"\n",
            "  return dispatch_target(*args, **kwargs)\n"
          ]
        },
        {
          "output_type": "stream",
          "name": "stdout",
          "text": [
            "64/64 [==============================] - 1s 3ms/step - loss: 1.0980 - accuracy: 0.3574\n",
            "Epoch 2/5\n",
            "64/64 [==============================] - 0s 2ms/step - loss: 1.0896 - accuracy: 0.4336\n",
            "Epoch 3/5\n",
            "64/64 [==============================] - 0s 2ms/step - loss: 1.0780 - accuracy: 0.5000\n",
            "Epoch 4/5\n",
            "64/64 [==============================] - 0s 2ms/step - loss: 1.0643 - accuracy: 0.5137\n",
            "Epoch 5/5\n",
            "64/64 [==============================] - 0s 2ms/step - loss: 1.0470 - accuracy: 0.5840\n",
            "32/32 [==============================] - 0s 2ms/step - loss: 1.0396 - accuracy: 0.5898\n",
            "Epoch 1/5\n"
          ]
        },
        {
          "output_type": "stream",
          "name": "stderr",
          "text": [
            "/usr/local/lib/python3.7/dist-packages/tensorflow/python/util/dispatch.py:1082: UserWarning: \"`sparse_categorical_crossentropy` received `from_logits=True`, but the `output` argument was produced by a sigmoid or softmax activation and thus does not represent logits. Was this intended?\"\n",
            "  return dispatch_target(*args, **kwargs)\n"
          ]
        },
        {
          "output_type": "stream",
          "name": "stdout",
          "text": [
            "64/64 [==============================] - 1s 2ms/step - loss: 1.0973 - accuracy: 0.3594\n",
            "Epoch 2/5\n",
            "64/64 [==============================] - 0s 2ms/step - loss: 1.0891 - accuracy: 0.4727\n",
            "Epoch 3/5\n",
            "64/64 [==============================] - 0s 2ms/step - loss: 1.0751 - accuracy: 0.5195\n",
            "Epoch 4/5\n",
            "64/64 [==============================] - 0s 2ms/step - loss: 1.0570 - accuracy: 0.5977\n",
            "Epoch 5/5\n",
            "64/64 [==============================] - 0s 2ms/step - loss: 1.0370 - accuracy: 0.6699\n",
            "32/32 [==============================] - 0s 2ms/step - loss: 1.0270 - accuracy: 0.6953\n",
            "Epoch 1/5\n"
          ]
        },
        {
          "output_type": "stream",
          "name": "stderr",
          "text": [
            "/usr/local/lib/python3.7/dist-packages/tensorflow/python/util/dispatch.py:1082: UserWarning: \"`sparse_categorical_crossentropy` received `from_logits=True`, but the `output` argument was produced by a sigmoid or softmax activation and thus does not represent logits. Was this intended?\"\n",
            "  return dispatch_target(*args, **kwargs)\n"
          ]
        },
        {
          "output_type": "stream",
          "name": "stdout",
          "text": [
            "64/64 [==============================] - 0s 2ms/step - loss: 1.0962 - accuracy: 0.3789\n",
            "Epoch 2/5\n",
            "64/64 [==============================] - 0s 2ms/step - loss: 1.0869 - accuracy: 0.4688\n",
            "Epoch 3/5\n",
            "64/64 [==============================] - 0s 2ms/step - loss: 1.0734 - accuracy: 0.5078\n",
            "Epoch 4/5\n",
            "64/64 [==============================] - 0s 2ms/step - loss: 1.0564 - accuracy: 0.5449\n",
            "Epoch 5/5\n",
            "64/64 [==============================] - 0s 2ms/step - loss: 1.0353 - accuracy: 0.5781\n",
            "32/32 [==============================] - 0s 2ms/step - loss: 1.0420 - accuracy: 0.5312\n",
            "Epoch 1/5\n"
          ]
        },
        {
          "output_type": "stream",
          "name": "stderr",
          "text": [
            "/usr/local/lib/python3.7/dist-packages/tensorflow/python/util/dispatch.py:1082: UserWarning: \"`sparse_categorical_crossentropy` received `from_logits=True`, but the `output` argument was produced by a sigmoid or softmax activation and thus does not represent logits. Was this intended?\"\n",
            "  return dispatch_target(*args, **kwargs)\n"
          ]
        },
        {
          "output_type": "stream",
          "name": "stdout",
          "text": [
            "64/64 [==============================] - 0s 2ms/step - loss: 1.0982 - accuracy: 0.3457\n",
            "Epoch 2/5\n",
            "64/64 [==============================] - 0s 2ms/step - loss: 1.0982 - accuracy: 0.3457\n",
            "Epoch 3/5\n",
            "64/64 [==============================] - 0s 2ms/step - loss: 1.0981 - accuracy: 0.3457\n",
            "Epoch 4/5\n",
            "64/64 [==============================] - 0s 2ms/step - loss: 1.0981 - accuracy: 0.3457\n",
            "Epoch 5/5\n",
            "64/64 [==============================] - 0s 2ms/step - loss: 1.0981 - accuracy: 0.3457\n",
            "32/32 [==============================] - 0s 2ms/step - loss: 1.0979 - accuracy: 0.3555\n",
            "Epoch 1/5\n"
          ]
        },
        {
          "output_type": "stream",
          "name": "stderr",
          "text": [
            "/usr/local/lib/python3.7/dist-packages/tensorflow/python/util/dispatch.py:1082: UserWarning: \"`sparse_categorical_crossentropy` received `from_logits=True`, but the `output` argument was produced by a sigmoid or softmax activation and thus does not represent logits. Was this intended?\"\n",
            "  return dispatch_target(*args, **kwargs)\n"
          ]
        },
        {
          "output_type": "stream",
          "name": "stdout",
          "text": [
            "64/64 [==============================] - 0s 2ms/step - loss: 1.0986 - accuracy: 0.3477\n",
            "Epoch 2/5\n",
            "64/64 [==============================] - 0s 2ms/step - loss: 1.0985 - accuracy: 0.3477\n",
            "Epoch 3/5\n",
            "64/64 [==============================] - 0s 2ms/step - loss: 1.0985 - accuracy: 0.3477\n",
            "Epoch 4/5\n",
            "64/64 [==============================] - 0s 2ms/step - loss: 1.0985 - accuracy: 0.3477\n",
            "Epoch 5/5\n",
            "64/64 [==============================] - 0s 2ms/step - loss: 1.0984 - accuracy: 0.3477\n",
            "32/32 [==============================] - 0s 2ms/step - loss: 1.0983 - accuracy: 0.3516\n",
            "Epoch 1/5\n"
          ]
        },
        {
          "output_type": "stream",
          "name": "stderr",
          "text": [
            "/usr/local/lib/python3.7/dist-packages/tensorflow/python/util/dispatch.py:1082: UserWarning: \"`sparse_categorical_crossentropy` received `from_logits=True`, but the `output` argument was produced by a sigmoid or softmax activation and thus does not represent logits. Was this intended?\"\n",
            "  return dispatch_target(*args, **kwargs)\n"
          ]
        },
        {
          "output_type": "stream",
          "name": "stdout",
          "text": [
            "64/64 [==============================] - 0s 2ms/step - loss: 1.0981 - accuracy: 0.3535\n",
            "Epoch 2/5\n",
            "64/64 [==============================] - 0s 2ms/step - loss: 1.0980 - accuracy: 0.3535\n",
            "Epoch 3/5\n",
            "64/64 [==============================] - 0s 2ms/step - loss: 1.0979 - accuracy: 0.3535\n",
            "Epoch 4/5\n",
            "64/64 [==============================] - 0s 2ms/step - loss: 1.0979 - accuracy: 0.3535\n",
            "Epoch 5/5\n",
            "64/64 [==============================] - 0s 2ms/step - loss: 1.0978 - accuracy: 0.3535\n",
            "32/32 [==============================] - 0s 2ms/step - loss: 1.0984 - accuracy: 0.3398\n",
            "Epoch 1/5\n"
          ]
        },
        {
          "output_type": "stream",
          "name": "stderr",
          "text": [
            "/usr/local/lib/python3.7/dist-packages/tensorflow/python/util/dispatch.py:1082: UserWarning: \"`sparse_categorical_crossentropy` received `from_logits=True`, but the `output` argument was produced by a sigmoid or softmax activation and thus does not represent logits. Was this intended?\"\n",
            "  return dispatch_target(*args, **kwargs)\n"
          ]
        },
        {
          "output_type": "stream",
          "name": "stdout",
          "text": [
            "64/64 [==============================] - 0s 2ms/step - loss: 1.0987 - accuracy: 0.3223\n",
            "Epoch 2/5\n",
            "64/64 [==============================] - 0s 2ms/step - loss: 1.0987 - accuracy: 0.3203\n",
            "Epoch 3/5\n",
            "64/64 [==============================] - 0s 2ms/step - loss: 1.0987 - accuracy: 0.3223\n",
            "Epoch 4/5\n",
            "64/64 [==============================] - 0s 2ms/step - loss: 1.0987 - accuracy: 0.3262\n",
            "Epoch 5/5\n",
            "64/64 [==============================] - 0s 2ms/step - loss: 1.0987 - accuracy: 0.3281\n",
            "32/32 [==============================] - 0s 2ms/step - loss: 1.0985 - accuracy: 0.3008\n",
            "Epoch 1/5\n"
          ]
        },
        {
          "output_type": "stream",
          "name": "stderr",
          "text": [
            "/usr/local/lib/python3.7/dist-packages/tensorflow/python/util/dispatch.py:1082: UserWarning: \"`sparse_categorical_crossentropy` received `from_logits=True`, but the `output` argument was produced by a sigmoid or softmax activation and thus does not represent logits. Was this intended?\"\n",
            "  return dispatch_target(*args, **kwargs)\n"
          ]
        },
        {
          "output_type": "stream",
          "name": "stdout",
          "text": [
            "64/64 [==============================] - 0s 2ms/step - loss: 1.0987 - accuracy: 0.3359\n",
            "Epoch 2/5\n",
            "64/64 [==============================] - 0s 2ms/step - loss: 1.0987 - accuracy: 0.3359\n",
            "Epoch 3/5\n",
            "64/64 [==============================] - 0s 2ms/step - loss: 1.0986 - accuracy: 0.3359\n",
            "Epoch 4/5\n",
            "64/64 [==============================] - 0s 2ms/step - loss: 1.0986 - accuracy: 0.3359\n",
            "Epoch 5/5\n",
            "64/64 [==============================] - 0s 2ms/step - loss: 1.0986 - accuracy: 0.3359\n",
            "32/32 [==============================] - 0s 2ms/step - loss: 1.0984 - accuracy: 0.3672\n",
            "Epoch 1/5\n"
          ]
        },
        {
          "output_type": "stream",
          "name": "stderr",
          "text": [
            "/usr/local/lib/python3.7/dist-packages/tensorflow/python/util/dispatch.py:1082: UserWarning: \"`sparse_categorical_crossentropy` received `from_logits=True`, but the `output` argument was produced by a sigmoid or softmax activation and thus does not represent logits. Was this intended?\"\n",
            "  return dispatch_target(*args, **kwargs)\n"
          ]
        },
        {
          "output_type": "stream",
          "name": "stdout",
          "text": [
            "64/64 [==============================] - 0s 2ms/step - loss: 1.0989 - accuracy: 0.3047\n",
            "Epoch 2/5\n",
            "64/64 [==============================] - 0s 2ms/step - loss: 1.0989 - accuracy: 0.3047\n",
            "Epoch 3/5\n",
            "64/64 [==============================] - 0s 2ms/step - loss: 1.0989 - accuracy: 0.3047\n",
            "Epoch 4/5\n",
            "64/64 [==============================] - 0s 2ms/step - loss: 1.0989 - accuracy: 0.3047\n",
            "Epoch 5/5\n",
            "64/64 [==============================] - 0s 2ms/step - loss: 1.0989 - accuracy: 0.3047\n",
            "32/32 [==============================] - 0s 2ms/step - loss: 1.0986 - accuracy: 0.3281\n",
            "Epoch 1/5\n"
          ]
        },
        {
          "output_type": "stream",
          "name": "stderr",
          "text": [
            "/usr/local/lib/python3.7/dist-packages/tensorflow/python/util/dispatch.py:1082: UserWarning: \"`sparse_categorical_crossentropy` received `from_logits=True`, but the `output` argument was produced by a sigmoid or softmax activation and thus does not represent logits. Was this intended?\"\n",
            "  return dispatch_target(*args, **kwargs)\n"
          ]
        },
        {
          "output_type": "stream",
          "name": "stdout",
          "text": [
            "64/64 [==============================] - 0s 2ms/step - loss: 1.0979 - accuracy: 0.3496\n",
            "Epoch 2/5\n",
            "64/64 [==============================] - 0s 2ms/step - loss: 1.0892 - accuracy: 0.4707\n",
            "Epoch 3/5\n",
            "64/64 [==============================] - 0s 2ms/step - loss: 1.0740 - accuracy: 0.5371\n",
            "Epoch 4/5\n",
            "64/64 [==============================] - 0s 2ms/step - loss: 1.0558 - accuracy: 0.5234\n",
            "Epoch 5/5\n",
            "64/64 [==============================] - 0s 2ms/step - loss: 1.0354 - accuracy: 0.5586\n",
            "32/32 [==============================] - 0s 2ms/step - loss: 1.0419 - accuracy: 0.5117\n",
            "Epoch 1/5\n"
          ]
        },
        {
          "output_type": "stream",
          "name": "stderr",
          "text": [
            "/usr/local/lib/python3.7/dist-packages/tensorflow/python/util/dispatch.py:1082: UserWarning: \"`sparse_categorical_crossentropy` received `from_logits=True`, but the `output` argument was produced by a sigmoid or softmax activation and thus does not represent logits. Was this intended?\"\n",
            "  return dispatch_target(*args, **kwargs)\n"
          ]
        },
        {
          "output_type": "stream",
          "name": "stdout",
          "text": [
            "64/64 [==============================] - 0s 2ms/step - loss: 1.0993 - accuracy: 0.3027\n",
            "Epoch 2/5\n",
            "64/64 [==============================] - 0s 2ms/step - loss: 1.0928 - accuracy: 0.4766\n",
            "Epoch 3/5\n",
            "64/64 [==============================] - 0s 2ms/step - loss: 1.0757 - accuracy: 0.5547\n",
            "Epoch 4/5\n",
            "64/64 [==============================] - 0s 2ms/step - loss: 1.0529 - accuracy: 0.6094\n",
            "Epoch 5/5\n",
            "64/64 [==============================] - 0s 2ms/step - loss: 1.0199 - accuracy: 0.6621\n",
            "32/32 [==============================] - 0s 2ms/step - loss: 1.0120 - accuracy: 0.6992\n",
            "Epoch 1/5\n"
          ]
        },
        {
          "output_type": "stream",
          "name": "stderr",
          "text": [
            "/usr/local/lib/python3.7/dist-packages/tensorflow/python/util/dispatch.py:1082: UserWarning: \"`sparse_categorical_crossentropy` received `from_logits=True`, but the `output` argument was produced by a sigmoid or softmax activation and thus does not represent logits. Was this intended?\"\n",
            "  return dispatch_target(*args, **kwargs)\n"
          ]
        },
        {
          "output_type": "stream",
          "name": "stdout",
          "text": [
            "64/64 [==============================] - 0s 2ms/step - loss: 1.0966 - accuracy: 0.3945\n",
            "Epoch 2/5\n",
            "64/64 [==============================] - 0s 2ms/step - loss: 1.0845 - accuracy: 0.5000\n",
            "Epoch 3/5\n",
            "64/64 [==============================] - 0s 2ms/step - loss: 1.0643 - accuracy: 0.5234\n",
            "Epoch 4/5\n",
            "64/64 [==============================] - 0s 2ms/step - loss: 1.0431 - accuracy: 0.5391\n",
            "Epoch 5/5\n",
            "64/64 [==============================] - 0s 2ms/step - loss: 1.0116 - accuracy: 0.6035\n",
            "32/32 [==============================] - 0s 2ms/step - loss: 1.0204 - accuracy: 0.5039\n",
            "Epoch 1/5\n"
          ]
        },
        {
          "output_type": "stream",
          "name": "stderr",
          "text": [
            "/usr/local/lib/python3.7/dist-packages/tensorflow/python/util/dispatch.py:1082: UserWarning: \"`sparse_categorical_crossentropy` received `from_logits=True`, but the `output` argument was produced by a sigmoid or softmax activation and thus does not represent logits. Was this intended?\"\n",
            "  return dispatch_target(*args, **kwargs)\n"
          ]
        },
        {
          "output_type": "stream",
          "name": "stdout",
          "text": [
            "64/64 [==============================] - 0s 2ms/step - loss: 1.0980 - accuracy: 0.3418\n",
            "Epoch 2/5\n",
            "64/64 [==============================] - 0s 2ms/step - loss: 1.0952 - accuracy: 0.4043\n",
            "Epoch 3/5\n",
            "64/64 [==============================] - 0s 2ms/step - loss: 1.0916 - accuracy: 0.4609\n",
            "Epoch 4/5\n",
            "64/64 [==============================] - 0s 2ms/step - loss: 1.0869 - accuracy: 0.4453\n",
            "Epoch 5/5\n",
            "64/64 [==============================] - 0s 2ms/step - loss: 1.0816 - accuracy: 0.4688\n",
            "32/32 [==============================] - 0s 2ms/step - loss: 1.0786 - accuracy: 0.5312\n",
            "Epoch 1/5\n"
          ]
        },
        {
          "output_type": "stream",
          "name": "stderr",
          "text": [
            "/usr/local/lib/python3.7/dist-packages/tensorflow/python/util/dispatch.py:1082: UserWarning: \"`sparse_categorical_crossentropy` received `from_logits=True`, but the `output` argument was produced by a sigmoid or softmax activation and thus does not represent logits. Was this intended?\"\n",
            "  return dispatch_target(*args, **kwargs)\n"
          ]
        },
        {
          "output_type": "stream",
          "name": "stdout",
          "text": [
            "64/64 [==============================] - 0s 2ms/step - loss: 1.0983 - accuracy: 0.3594\n",
            "Epoch 2/5\n",
            "64/64 [==============================] - 0s 2ms/step - loss: 1.0955 - accuracy: 0.3887\n",
            "Epoch 3/5\n",
            "64/64 [==============================] - 0s 2ms/step - loss: 1.0913 - accuracy: 0.4688\n",
            "Epoch 4/5\n",
            "64/64 [==============================] - 0s 2ms/step - loss: 1.0860 - accuracy: 0.5352\n",
            "Epoch 5/5\n",
            "64/64 [==============================] - 0s 2ms/step - loss: 1.0805 - accuracy: 0.5605\n",
            "32/32 [==============================] - 0s 2ms/step - loss: 1.0789 - accuracy: 0.5156\n",
            "Epoch 1/5\n"
          ]
        },
        {
          "output_type": "stream",
          "name": "stderr",
          "text": [
            "/usr/local/lib/python3.7/dist-packages/tensorflow/python/util/dispatch.py:1082: UserWarning: \"`sparse_categorical_crossentropy` received `from_logits=True`, but the `output` argument was produced by a sigmoid or softmax activation and thus does not represent logits. Was this intended?\"\n",
            "  return dispatch_target(*args, **kwargs)\n"
          ]
        },
        {
          "output_type": "stream",
          "name": "stdout",
          "text": [
            "64/64 [==============================] - 0s 2ms/step - loss: 1.0985 - accuracy: 0.3516\n",
            "Epoch 2/5\n",
            "64/64 [==============================] - 0s 2ms/step - loss: 1.0951 - accuracy: 0.3535\n",
            "Epoch 3/5\n",
            "64/64 [==============================] - 0s 2ms/step - loss: 1.0920 - accuracy: 0.3672\n",
            "Epoch 4/5\n",
            "64/64 [==============================] - 0s 2ms/step - loss: 1.0874 - accuracy: 0.3984\n",
            "Epoch 5/5\n",
            "64/64 [==============================] - 0s 2ms/step - loss: 1.0817 - accuracy: 0.4473\n",
            "32/32 [==============================] - 0s 2ms/step - loss: 1.0847 - accuracy: 0.5469\n",
            "Epoch 1/5\n"
          ]
        },
        {
          "output_type": "stream",
          "name": "stderr",
          "text": [
            "/usr/local/lib/python3.7/dist-packages/tensorflow/python/util/dispatch.py:1082: UserWarning: \"`sparse_categorical_crossentropy` received `from_logits=True`, but the `output` argument was produced by a sigmoid or softmax activation and thus does not represent logits. Was this intended?\"\n",
            "  return dispatch_target(*args, **kwargs)\n"
          ]
        },
        {
          "output_type": "stream",
          "name": "stdout",
          "text": [
            "64/64 [==============================] - 1s 3ms/step - loss: 1.0984 - accuracy: 0.3633\n",
            "Epoch 2/5\n",
            "64/64 [==============================] - 0s 3ms/step - loss: 1.0898 - accuracy: 0.4004\n",
            "Epoch 3/5\n",
            "64/64 [==============================] - 0s 3ms/step - loss: 1.0727 - accuracy: 0.5039\n",
            "Epoch 4/5\n",
            "64/64 [==============================] - 0s 3ms/step - loss: 1.0454 - accuracy: 0.6328\n",
            "Epoch 5/5\n",
            "64/64 [==============================] - 0s 3ms/step - loss: 1.0088 - accuracy: 0.7188\n",
            "32/32 [==============================] - 0s 2ms/step - loss: 0.9950 - accuracy: 0.6641\n",
            "Epoch 1/5\n"
          ]
        },
        {
          "output_type": "stream",
          "name": "stderr",
          "text": [
            "/usr/local/lib/python3.7/dist-packages/tensorflow/python/util/dispatch.py:1082: UserWarning: \"`sparse_categorical_crossentropy` received `from_logits=True`, but the `output` argument was produced by a sigmoid or softmax activation and thus does not represent logits. Was this intended?\"\n",
            "  return dispatch_target(*args, **kwargs)\n"
          ]
        },
        {
          "output_type": "stream",
          "name": "stdout",
          "text": [
            "64/64 [==============================] - 1s 3ms/step - loss: 1.0986 - accuracy: 0.3379\n",
            "Epoch 2/5\n",
            "64/64 [==============================] - 0s 3ms/step - loss: 1.0851 - accuracy: 0.4902\n",
            "Epoch 3/5\n",
            "64/64 [==============================] - 0s 3ms/step - loss: 1.0576 - accuracy: 0.5742\n",
            "Epoch 4/5\n",
            "64/64 [==============================] - 0s 3ms/step - loss: 1.0322 - accuracy: 0.5781\n",
            "Epoch 5/5\n",
            "64/64 [==============================] - 0s 3ms/step - loss: 1.0074 - accuracy: 0.5879\n",
            "32/32 [==============================] - 0s 2ms/step - loss: 1.0064 - accuracy: 0.5625\n",
            "Epoch 1/5\n"
          ]
        },
        {
          "output_type": "stream",
          "name": "stderr",
          "text": [
            "/usr/local/lib/python3.7/dist-packages/tensorflow/python/util/dispatch.py:1082: UserWarning: \"`sparse_categorical_crossentropy` received `from_logits=True`, but the `output` argument was produced by a sigmoid or softmax activation and thus does not represent logits. Was this intended?\"\n",
            "  return dispatch_target(*args, **kwargs)\n"
          ]
        },
        {
          "output_type": "stream",
          "name": "stdout",
          "text": [
            "64/64 [==============================] - 1s 3ms/step - loss: 1.0973 - accuracy: 0.3574\n",
            "Epoch 2/5\n",
            "64/64 [==============================] - 0s 3ms/step - loss: 1.0877 - accuracy: 0.4453\n",
            "Epoch 3/5\n",
            "64/64 [==============================] - 0s 3ms/step - loss: 1.0653 - accuracy: 0.6055\n",
            "Epoch 4/5\n",
            "64/64 [==============================] - 0s 3ms/step - loss: 1.0357 - accuracy: 0.5996\n",
            "Epoch 5/5\n",
            "64/64 [==============================] - 0s 3ms/step - loss: 1.0074 - accuracy: 0.6074\n",
            "32/32 [==============================] - 0s 2ms/step - loss: 1.0072 - accuracy: 0.5820\n",
            "Epoch 1/5\n"
          ]
        },
        {
          "output_type": "stream",
          "name": "stderr",
          "text": [
            "/usr/local/lib/python3.7/dist-packages/tensorflow/python/util/dispatch.py:1082: UserWarning: \"`sparse_categorical_crossentropy` received `from_logits=True`, but the `output` argument was produced by a sigmoid or softmax activation and thus does not represent logits. Was this intended?\"\n",
            "  return dispatch_target(*args, **kwargs)\n"
          ]
        },
        {
          "output_type": "stream",
          "name": "stdout",
          "text": [
            "64/64 [==============================] - 0s 2ms/step - loss: 1.0989 - accuracy: 0.3320\n",
            "Epoch 2/5\n",
            "64/64 [==============================] - 0s 2ms/step - loss: 1.0985 - accuracy: 0.3438\n",
            "Epoch 3/5\n",
            "64/64 [==============================] - 0s 2ms/step - loss: 1.0982 - accuracy: 0.3105\n",
            "Epoch 4/5\n",
            "64/64 [==============================] - 0s 2ms/step - loss: 1.0979 - accuracy: 0.3457\n",
            "Epoch 5/5\n",
            "64/64 [==============================] - 0s 2ms/step - loss: 1.0980 - accuracy: 0.3457\n",
            "32/32 [==============================] - 0s 2ms/step - loss: 1.0978 - accuracy: 0.3555\n",
            "Epoch 1/5\n"
          ]
        },
        {
          "output_type": "stream",
          "name": "stderr",
          "text": [
            "/usr/local/lib/python3.7/dist-packages/tensorflow/python/util/dispatch.py:1082: UserWarning: \"`sparse_categorical_crossentropy` received `from_logits=True`, but the `output` argument was produced by a sigmoid or softmax activation and thus does not represent logits. Was this intended?\"\n",
            "  return dispatch_target(*args, **kwargs)\n"
          ]
        },
        {
          "output_type": "stream",
          "name": "stdout",
          "text": [
            "64/64 [==============================] - 0s 2ms/step - loss: 1.0991 - accuracy: 0.3242\n",
            "Epoch 2/5\n",
            "64/64 [==============================] - 0s 2ms/step - loss: 1.0988 - accuracy: 0.3477\n",
            "Epoch 3/5\n",
            "64/64 [==============================] - 0s 2ms/step - loss: 1.0986 - accuracy: 0.3477\n",
            "Epoch 4/5\n",
            "64/64 [==============================] - 0s 2ms/step - loss: 1.0986 - accuracy: 0.3477\n",
            "Epoch 5/5\n",
            "64/64 [==============================] - 0s 2ms/step - loss: 1.0986 - accuracy: 0.3477\n",
            "32/32 [==============================] - 0s 2ms/step - loss: 1.0978 - accuracy: 0.3516\n",
            "Epoch 1/5\n"
          ]
        },
        {
          "output_type": "stream",
          "name": "stderr",
          "text": [
            "/usr/local/lib/python3.7/dist-packages/tensorflow/python/util/dispatch.py:1082: UserWarning: \"`sparse_categorical_crossentropy` received `from_logits=True`, but the `output` argument was produced by a sigmoid or softmax activation and thus does not represent logits. Was this intended?\"\n",
            "  return dispatch_target(*args, **kwargs)\n"
          ]
        },
        {
          "output_type": "stream",
          "name": "stdout",
          "text": [
            "64/64 [==============================] - 0s 2ms/step - loss: 1.0986 - accuracy: 0.3438\n",
            "Epoch 2/5\n",
            "64/64 [==============================] - 0s 2ms/step - loss: 1.0978 - accuracy: 0.3359\n",
            "Epoch 3/5\n",
            "64/64 [==============================] - 0s 2ms/step - loss: 1.0975 - accuracy: 0.3535\n",
            "Epoch 4/5\n",
            "64/64 [==============================] - 0s 2ms/step - loss: 1.0973 - accuracy: 0.3379\n",
            "Epoch 5/5\n",
            "64/64 [==============================] - 0s 2ms/step - loss: 1.0971 - accuracy: 0.3535\n",
            "32/32 [==============================] - 0s 2ms/step - loss: 1.0987 - accuracy: 0.3398\n",
            "Epoch 1/5\n"
          ]
        },
        {
          "output_type": "stream",
          "name": "stderr",
          "text": [
            "/usr/local/lib/python3.7/dist-packages/tensorflow/python/util/dispatch.py:1082: UserWarning: \"`sparse_categorical_crossentropy` received `from_logits=True`, but the `output` argument was produced by a sigmoid or softmax activation and thus does not represent logits. Was this intended?\"\n",
            "  return dispatch_target(*args, **kwargs)\n"
          ]
        },
        {
          "output_type": "stream",
          "name": "stdout",
          "text": [
            "64/64 [==============================] - 0s 2ms/step - loss: 1.0978 - accuracy: 0.3496\n",
            "Epoch 2/5\n",
            "64/64 [==============================] - 0s 2ms/step - loss: 1.0896 - accuracy: 0.4336\n",
            "Epoch 3/5\n",
            "64/64 [==============================] - 0s 2ms/step - loss: 1.0763 - accuracy: 0.5742\n",
            "Epoch 4/5\n",
            "64/64 [==============================] - 0s 2ms/step - loss: 1.0584 - accuracy: 0.6113\n",
            "Epoch 5/5\n",
            "64/64 [==============================] - 0s 2ms/step - loss: 1.0382 - accuracy: 0.6602\n",
            "32/32 [==============================] - 0s 2ms/step - loss: 1.0278 - accuracy: 0.6875\n",
            "Epoch 1/5\n"
          ]
        },
        {
          "output_type": "stream",
          "name": "stderr",
          "text": [
            "/usr/local/lib/python3.7/dist-packages/tensorflow/python/util/dispatch.py:1082: UserWarning: \"`sparse_categorical_crossentropy` received `from_logits=True`, but the `output` argument was produced by a sigmoid or softmax activation and thus does not represent logits. Was this intended?\"\n",
            "  return dispatch_target(*args, **kwargs)\n"
          ]
        },
        {
          "output_type": "stream",
          "name": "stdout",
          "text": [
            "64/64 [==============================] - 1s 2ms/step - loss: 1.0974 - accuracy: 0.3633\n",
            "Epoch 2/5\n",
            "64/64 [==============================] - 0s 2ms/step - loss: 1.0870 - accuracy: 0.4570\n",
            "Epoch 3/5\n",
            "64/64 [==============================] - 0s 2ms/step - loss: 1.0722 - accuracy: 0.5605\n",
            "Epoch 4/5\n",
            "64/64 [==============================] - 0s 2ms/step - loss: 1.0543 - accuracy: 0.6016\n",
            "Epoch 5/5\n",
            "64/64 [==============================] - 0s 2ms/step - loss: 1.0346 - accuracy: 0.6230\n",
            "32/32 [==============================] - 0s 2ms/step - loss: 1.0297 - accuracy: 0.6719\n",
            "Epoch 1/5\n"
          ]
        },
        {
          "output_type": "stream",
          "name": "stderr",
          "text": [
            "/usr/local/lib/python3.7/dist-packages/tensorflow/python/util/dispatch.py:1082: UserWarning: \"`sparse_categorical_crossentropy` received `from_logits=True`, but the `output` argument was produced by a sigmoid or softmax activation and thus does not represent logits. Was this intended?\"\n",
            "  return dispatch_target(*args, **kwargs)\n"
          ]
        },
        {
          "output_type": "stream",
          "name": "stdout",
          "text": [
            "64/64 [==============================] - 0s 2ms/step - loss: 1.0962 - accuracy: 0.3535\n",
            "Epoch 2/5\n",
            "64/64 [==============================] - 0s 2ms/step - loss: 1.0840 - accuracy: 0.4531\n",
            "Epoch 3/5\n",
            "64/64 [==============================] - 0s 2ms/step - loss: 1.0685 - accuracy: 0.5586\n",
            "Epoch 4/5\n",
            "64/64 [==============================] - 0s 2ms/step - loss: 1.0472 - accuracy: 0.6621\n",
            "Epoch 5/5\n",
            "64/64 [==============================] - 0s 2ms/step - loss: 1.0260 - accuracy: 0.6758\n",
            "32/32 [==============================] - 0s 2ms/step - loss: 1.0367 - accuracy: 0.5469\n",
            "Epoch 1/5\n"
          ]
        },
        {
          "output_type": "stream",
          "name": "stderr",
          "text": [
            "/usr/local/lib/python3.7/dist-packages/tensorflow/python/util/dispatch.py:1082: UserWarning: \"`sparse_categorical_crossentropy` received `from_logits=True`, but the `output` argument was produced by a sigmoid or softmax activation and thus does not represent logits. Was this intended?\"\n",
            "  return dispatch_target(*args, **kwargs)\n"
          ]
        },
        {
          "output_type": "stream",
          "name": "stdout",
          "text": [
            "64/64 [==============================] - 0s 2ms/step - loss: 1.0987 - accuracy: 0.3438\n",
            "Epoch 2/5\n",
            "64/64 [==============================] - 0s 2ms/step - loss: 1.0986 - accuracy: 0.3438\n",
            "Epoch 3/5\n",
            "64/64 [==============================] - 0s 2ms/step - loss: 1.0986 - accuracy: 0.3438\n",
            "Epoch 4/5\n",
            "64/64 [==============================] - 0s 2ms/step - loss: 1.0986 - accuracy: 0.3438\n",
            "Epoch 5/5\n",
            "64/64 [==============================] - 0s 2ms/step - loss: 1.0985 - accuracy: 0.3438\n",
            "32/32 [==============================] - 0s 2ms/step - loss: 1.0987 - accuracy: 0.3281\n",
            "Epoch 1/5\n"
          ]
        },
        {
          "output_type": "stream",
          "name": "stderr",
          "text": [
            "/usr/local/lib/python3.7/dist-packages/tensorflow/python/util/dispatch.py:1082: UserWarning: \"`sparse_categorical_crossentropy` received `from_logits=True`, but the `output` argument was produced by a sigmoid or softmax activation and thus does not represent logits. Was this intended?\"\n",
            "  return dispatch_target(*args, **kwargs)\n"
          ]
        },
        {
          "output_type": "stream",
          "name": "stdout",
          "text": [
            "64/64 [==============================] - 0s 2ms/step - loss: 1.0988 - accuracy: 0.3262\n",
            "Epoch 2/5\n",
            "64/64 [==============================] - 0s 2ms/step - loss: 1.0987 - accuracy: 0.3477\n",
            "Epoch 3/5\n",
            "64/64 [==============================] - 0s 2ms/step - loss: 1.0987 - accuracy: 0.3477\n",
            "Epoch 4/5\n",
            "64/64 [==============================] - 0s 2ms/step - loss: 1.0987 - accuracy: 0.3477\n",
            "Epoch 5/5\n",
            "64/64 [==============================] - 0s 2ms/step - loss: 1.0987 - accuracy: 0.3477\n",
            "32/32 [==============================] - 0s 2ms/step - loss: 1.0986 - accuracy: 0.3516\n",
            "Epoch 1/5\n"
          ]
        },
        {
          "output_type": "stream",
          "name": "stderr",
          "text": [
            "/usr/local/lib/python3.7/dist-packages/tensorflow/python/util/dispatch.py:1082: UserWarning: \"`sparse_categorical_crossentropy` received `from_logits=True`, but the `output` argument was produced by a sigmoid or softmax activation and thus does not represent logits. Was this intended?\"\n",
            "  return dispatch_target(*args, **kwargs)\n"
          ]
        },
        {
          "output_type": "stream",
          "name": "stdout",
          "text": [
            "64/64 [==============================] - 0s 2ms/step - loss: 1.0987 - accuracy: 0.3535\n",
            "Epoch 2/5\n",
            "64/64 [==============================] - 0s 2ms/step - loss: 1.0986 - accuracy: 0.3535\n",
            "Epoch 3/5\n",
            "64/64 [==============================] - 0s 2ms/step - loss: 1.0985 - accuracy: 0.3535\n",
            "Epoch 4/5\n",
            "64/64 [==============================] - 0s 2ms/step - loss: 1.0984 - accuracy: 0.3535\n",
            "Epoch 5/5\n",
            "64/64 [==============================] - 0s 2ms/step - loss: 1.0984 - accuracy: 0.3535\n",
            "32/32 [==============================] - 0s 2ms/step - loss: 1.0987 - accuracy: 0.3398\n",
            "Epoch 1/5\n"
          ]
        },
        {
          "output_type": "stream",
          "name": "stderr",
          "text": [
            "/usr/local/lib/python3.7/dist-packages/tensorflow/python/util/dispatch.py:1082: UserWarning: \"`sparse_categorical_crossentropy` received `from_logits=True`, but the `output` argument was produced by a sigmoid or softmax activation and thus does not represent logits. Was this intended?\"\n",
            "  return dispatch_target(*args, **kwargs)\n"
          ]
        },
        {
          "output_type": "stream",
          "name": "stdout",
          "text": [
            "64/64 [==============================] - 0s 2ms/step - loss: 1.0989 - accuracy: 0.3105\n",
            "Epoch 2/5\n",
            "64/64 [==============================] - 0s 2ms/step - loss: 1.0989 - accuracy: 0.3105\n",
            "Epoch 3/5\n",
            "64/64 [==============================] - 0s 2ms/step - loss: 1.0989 - accuracy: 0.3105\n",
            "Epoch 4/5\n",
            "64/64 [==============================] - 0s 2ms/step - loss: 1.0989 - accuracy: 0.3105\n",
            "Epoch 5/5\n",
            "64/64 [==============================] - 0s 2ms/step - loss: 1.0989 - accuracy: 0.3105\n",
            "32/32 [==============================] - 0s 2ms/step - loss: 1.0987 - accuracy: 0.3164\n",
            "Epoch 1/5\n"
          ]
        },
        {
          "output_type": "stream",
          "name": "stderr",
          "text": [
            "/usr/local/lib/python3.7/dist-packages/tensorflow/python/util/dispatch.py:1082: UserWarning: \"`sparse_categorical_crossentropy` received `from_logits=True`, but the `output` argument was produced by a sigmoid or softmax activation and thus does not represent logits. Was this intended?\"\n",
            "  return dispatch_target(*args, **kwargs)\n"
          ]
        },
        {
          "output_type": "stream",
          "name": "stdout",
          "text": [
            "64/64 [==============================] - 0s 3ms/step - loss: 1.0986 - accuracy: 0.3457\n",
            "Epoch 2/5\n",
            "64/64 [==============================] - 0s 2ms/step - loss: 1.0986 - accuracy: 0.3438\n",
            "Epoch 3/5\n",
            "64/64 [==============================] - 0s 2ms/step - loss: 1.0986 - accuracy: 0.3457\n",
            "Epoch 4/5\n",
            "64/64 [==============================] - 0s 2ms/step - loss: 1.0986 - accuracy: 0.3457\n",
            "Epoch 5/5\n",
            "64/64 [==============================] - 0s 2ms/step - loss: 1.0986 - accuracy: 0.3477\n",
            "32/32 [==============================] - 0s 2ms/step - loss: 1.0984 - accuracy: 0.3594\n",
            "Epoch 1/5\n"
          ]
        },
        {
          "output_type": "stream",
          "name": "stderr",
          "text": [
            "/usr/local/lib/python3.7/dist-packages/tensorflow/python/util/dispatch.py:1082: UserWarning: \"`sparse_categorical_crossentropy` received `from_logits=True`, but the `output` argument was produced by a sigmoid or softmax activation and thus does not represent logits. Was this intended?\"\n",
            "  return dispatch_target(*args, **kwargs)\n"
          ]
        },
        {
          "output_type": "stream",
          "name": "stdout",
          "text": [
            "64/64 [==============================] - 0s 2ms/step - loss: 1.0985 - accuracy: 0.3359\n",
            "Epoch 2/5\n",
            "64/64 [==============================] - 0s 2ms/step - loss: 1.0985 - accuracy: 0.3379\n",
            "Epoch 3/5\n",
            "64/64 [==============================] - 0s 2ms/step - loss: 1.0985 - accuracy: 0.3379\n",
            "Epoch 4/5\n",
            "64/64 [==============================] - 0s 2ms/step - loss: 1.0985 - accuracy: 0.3340\n",
            "Epoch 5/5\n",
            "64/64 [==============================] - 0s 2ms/step - loss: 1.0985 - accuracy: 0.3379\n",
            "32/32 [==============================] - 0s 2ms/step - loss: 1.0986 - accuracy: 0.3281\n",
            "Epoch 1/5\n"
          ]
        },
        {
          "output_type": "stream",
          "name": "stderr",
          "text": [
            "/usr/local/lib/python3.7/dist-packages/tensorflow/python/util/dispatch.py:1082: UserWarning: \"`sparse_categorical_crossentropy` received `from_logits=True`, but the `output` argument was produced by a sigmoid or softmax activation and thus does not represent logits. Was this intended?\"\n",
            "  return dispatch_target(*args, **kwargs)\n"
          ]
        },
        {
          "output_type": "stream",
          "name": "stdout",
          "text": [
            "64/64 [==============================] - 0s 2ms/step - loss: 1.0978 - accuracy: 0.3359\n",
            "Epoch 2/5\n",
            "64/64 [==============================] - 0s 2ms/step - loss: 1.0874 - accuracy: 0.4395\n",
            "Epoch 3/5\n",
            "64/64 [==============================] - 0s 2ms/step - loss: 1.0678 - accuracy: 0.5020\n",
            "Epoch 4/5\n",
            "64/64 [==============================] - 0s 2ms/step - loss: 1.0468 - accuracy: 0.5352\n",
            "Epoch 5/5\n",
            "64/64 [==============================] - 0s 2ms/step - loss: 1.0245 - accuracy: 0.5391\n",
            "32/32 [==============================] - 0s 2ms/step - loss: 1.0129 - accuracy: 0.5156\n",
            "Epoch 1/5\n"
          ]
        },
        {
          "output_type": "stream",
          "name": "stderr",
          "text": [
            "/usr/local/lib/python3.7/dist-packages/tensorflow/python/util/dispatch.py:1082: UserWarning: \"`sparse_categorical_crossentropy` received `from_logits=True`, but the `output` argument was produced by a sigmoid or softmax activation and thus does not represent logits. Was this intended?\"\n",
            "  return dispatch_target(*args, **kwargs)\n"
          ]
        },
        {
          "output_type": "stream",
          "name": "stdout",
          "text": [
            "64/64 [==============================] - 0s 2ms/step - loss: 1.0970 - accuracy: 0.3535\n",
            "Epoch 2/5\n",
            "64/64 [==============================] - 0s 2ms/step - loss: 1.0858 - accuracy: 0.4648\n",
            "Epoch 3/5\n",
            "64/64 [==============================] - 0s 2ms/step - loss: 1.0639 - accuracy: 0.5781\n",
            "Epoch 4/5\n",
            "64/64 [==============================] - 0s 2ms/step - loss: 1.0373 - accuracy: 0.5859\n",
            "Epoch 5/5\n",
            "64/64 [==============================] - 0s 2ms/step - loss: 1.0111 - accuracy: 0.6113\n",
            "32/32 [==============================] - 0s 2ms/step - loss: 1.0050 - accuracy: 0.6680\n",
            "Epoch 1/5\n"
          ]
        },
        {
          "output_type": "stream",
          "name": "stderr",
          "text": [
            "/usr/local/lib/python3.7/dist-packages/tensorflow/python/util/dispatch.py:1082: UserWarning: \"`sparse_categorical_crossentropy` received `from_logits=True`, but the `output` argument was produced by a sigmoid or softmax activation and thus does not represent logits. Was this intended?\"\n",
            "  return dispatch_target(*args, **kwargs)\n"
          ]
        },
        {
          "output_type": "stream",
          "name": "stdout",
          "text": [
            "64/64 [==============================] - 0s 2ms/step - loss: 1.0985 - accuracy: 0.3652\n",
            "Epoch 2/5\n",
            "64/64 [==============================] - 0s 2ms/step - loss: 1.0805 - accuracy: 0.5078\n",
            "Epoch 3/5\n",
            "64/64 [==============================] - 0s 2ms/step - loss: 1.0514 - accuracy: 0.6055\n",
            "Epoch 4/5\n",
            "64/64 [==============================] - 0s 2ms/step - loss: 1.0183 - accuracy: 0.6602\n",
            "Epoch 5/5\n",
            "64/64 [==============================] - 0s 2ms/step - loss: 0.9838 - accuracy: 0.7402\n",
            "32/32 [==============================] - 0s 2ms/step - loss: 1.0008 - accuracy: 0.6055\n",
            "Epoch 1/5\n"
          ]
        },
        {
          "output_type": "stream",
          "name": "stderr",
          "text": [
            "/usr/local/lib/python3.7/dist-packages/tensorflow/python/util/dispatch.py:1082: UserWarning: \"`sparse_categorical_crossentropy` received `from_logits=True`, but the `output` argument was produced by a sigmoid or softmax activation and thus does not represent logits. Was this intended?\"\n",
            "  return dispatch_target(*args, **kwargs)\n"
          ]
        },
        {
          "output_type": "stream",
          "name": "stdout",
          "text": [
            "64/64 [==============================] - 1s 2ms/step - loss: 1.0987 - accuracy: 0.3418\n",
            "Epoch 2/5\n",
            "64/64 [==============================] - 0s 2ms/step - loss: 1.0962 - accuracy: 0.3555\n",
            "Epoch 3/5\n",
            "64/64 [==============================] - 0s 2ms/step - loss: 1.0929 - accuracy: 0.4883\n",
            "Epoch 4/5\n",
            "64/64 [==============================] - 0s 2ms/step - loss: 1.0893 - accuracy: 0.5352\n",
            "Epoch 5/5\n",
            "64/64 [==============================] - 0s 2ms/step - loss: 1.0861 - accuracy: 0.5020\n",
            "32/32 [==============================] - 0s 2ms/step - loss: 1.0840 - accuracy: 0.4727\n",
            "Epoch 1/5\n"
          ]
        },
        {
          "output_type": "stream",
          "name": "stderr",
          "text": [
            "/usr/local/lib/python3.7/dist-packages/tensorflow/python/util/dispatch.py:1082: UserWarning: \"`sparse_categorical_crossentropy` received `from_logits=True`, but the `output` argument was produced by a sigmoid or softmax activation and thus does not represent logits. Was this intended?\"\n",
            "  return dispatch_target(*args, **kwargs)\n"
          ]
        },
        {
          "output_type": "stream",
          "name": "stdout",
          "text": [
            "64/64 [==============================] - 0s 2ms/step - loss: 1.0983 - accuracy: 0.3281\n",
            "Epoch 2/5\n",
            "64/64 [==============================] - 0s 2ms/step - loss: 1.0947 - accuracy: 0.4277\n",
            "Epoch 3/5\n",
            "64/64 [==============================] - 0s 2ms/step - loss: 1.0906 - accuracy: 0.5664\n",
            "Epoch 4/5\n",
            "64/64 [==============================] - 0s 2ms/step - loss: 1.0851 - accuracy: 0.5000\n",
            "Epoch 5/5\n",
            "64/64 [==============================] - 0s 2ms/step - loss: 1.0793 - accuracy: 0.5410\n",
            "32/32 [==============================] - 0s 2ms/step - loss: 1.0777 - accuracy: 0.5234\n",
            "Epoch 1/5\n"
          ]
        },
        {
          "output_type": "stream",
          "name": "stderr",
          "text": [
            "/usr/local/lib/python3.7/dist-packages/tensorflow/python/util/dispatch.py:1082: UserWarning: \"`sparse_categorical_crossentropy` received `from_logits=True`, but the `output` argument was produced by a sigmoid or softmax activation and thus does not represent logits. Was this intended?\"\n",
            "  return dispatch_target(*args, **kwargs)\n"
          ]
        },
        {
          "output_type": "stream",
          "name": "stdout",
          "text": [
            "64/64 [==============================] - 0s 2ms/step - loss: 1.0985 - accuracy: 0.3730\n",
            "Epoch 2/5\n",
            "64/64 [==============================] - 0s 2ms/step - loss: 1.0950 - accuracy: 0.4082\n",
            "Epoch 3/5\n",
            "64/64 [==============================] - 0s 2ms/step - loss: 1.0906 - accuracy: 0.4395\n",
            "Epoch 4/5\n",
            "64/64 [==============================] - 0s 2ms/step - loss: 1.0855 - accuracy: 0.5352\n",
            "Epoch 5/5\n",
            "64/64 [==============================] - 0s 2ms/step - loss: 1.0791 - accuracy: 0.6367\n",
            "32/32 [==============================] - 0s 2ms/step - loss: 1.0803 - accuracy: 0.5586\n",
            "Epoch 1/5\n"
          ]
        },
        {
          "output_type": "stream",
          "name": "stderr",
          "text": [
            "/usr/local/lib/python3.7/dist-packages/tensorflow/python/util/dispatch.py:1082: UserWarning: \"`sparse_categorical_crossentropy` received `from_logits=True`, but the `output` argument was produced by a sigmoid or softmax activation and thus does not represent logits. Was this intended?\"\n",
            "  return dispatch_target(*args, **kwargs)\n"
          ]
        },
        {
          "output_type": "stream",
          "name": "stdout",
          "text": [
            "64/64 [==============================] - 1s 3ms/step - loss: 1.0974 - accuracy: 0.3418\n",
            "Epoch 2/5\n",
            "64/64 [==============================] - 0s 3ms/step - loss: 1.0852 - accuracy: 0.4570\n",
            "Epoch 3/5\n",
            "64/64 [==============================] - 0s 3ms/step - loss: 1.0647 - accuracy: 0.5527\n",
            "Epoch 4/5\n",
            "64/64 [==============================] - 0s 3ms/step - loss: 1.0430 - accuracy: 0.5742\n",
            "Epoch 5/5\n",
            "64/64 [==============================] - 0s 3ms/step - loss: 1.0207 - accuracy: 0.5762\n",
            "32/32 [==============================] - 0s 2ms/step - loss: 1.0076 - accuracy: 0.5977\n",
            "Epoch 1/5\n"
          ]
        },
        {
          "output_type": "stream",
          "name": "stderr",
          "text": [
            "/usr/local/lib/python3.7/dist-packages/tensorflow/python/util/dispatch.py:1082: UserWarning: \"`sparse_categorical_crossentropy` received `from_logits=True`, but the `output` argument was produced by a sigmoid or softmax activation and thus does not represent logits. Was this intended?\"\n",
            "  return dispatch_target(*args, **kwargs)\n"
          ]
        },
        {
          "output_type": "stream",
          "name": "stdout",
          "text": [
            "64/64 [==============================] - 1s 3ms/step - loss: 1.0975 - accuracy: 0.3438\n",
            "Epoch 2/5\n",
            "64/64 [==============================] - 0s 3ms/step - loss: 1.0853 - accuracy: 0.4922\n",
            "Epoch 3/5\n",
            "64/64 [==============================] - 0s 3ms/step - loss: 1.0613 - accuracy: 0.5566\n",
            "Epoch 4/5\n",
            "64/64 [==============================] - 0s 3ms/step - loss: 1.0335 - accuracy: 0.5781\n",
            "Epoch 5/5\n",
            "64/64 [==============================] - 0s 3ms/step - loss: 1.0065 - accuracy: 0.6211\n",
            "32/32 [==============================] - 0s 2ms/step - loss: 1.0134 - accuracy: 0.5977\n",
            "Epoch 1/5\n"
          ]
        },
        {
          "output_type": "stream",
          "name": "stderr",
          "text": [
            "/usr/local/lib/python3.7/dist-packages/tensorflow/python/util/dispatch.py:1082: UserWarning: \"`sparse_categorical_crossentropy` received `from_logits=True`, but the `output` argument was produced by a sigmoid or softmax activation and thus does not represent logits. Was this intended?\"\n",
            "  return dispatch_target(*args, **kwargs)\n"
          ]
        },
        {
          "output_type": "stream",
          "name": "stdout",
          "text": [
            "64/64 [==============================] - 1s 3ms/step - loss: 1.0971 - accuracy: 0.3770\n",
            "Epoch 2/5\n",
            "64/64 [==============================] - 0s 3ms/step - loss: 1.0855 - accuracy: 0.4609\n",
            "Epoch 3/5\n",
            "64/64 [==============================] - 0s 3ms/step - loss: 1.0579 - accuracy: 0.5527\n",
            "Epoch 4/5\n",
            "64/64 [==============================] - 0s 3ms/step - loss: 1.0311 - accuracy: 0.6035\n",
            "Epoch 5/5\n",
            "64/64 [==============================] - 0s 3ms/step - loss: 1.0070 - accuracy: 0.6113\n",
            "32/32 [==============================] - 0s 2ms/step - loss: 1.0154 - accuracy: 0.5781\n",
            "Epoch 1/5\n",
            " 1/64 [..............................] - ETA: 14s - loss: 1.0984 - accuracy: 0.5000"
          ]
        },
        {
          "output_type": "stream",
          "name": "stderr",
          "text": [
            "/usr/local/lib/python3.7/dist-packages/tensorflow/python/util/dispatch.py:1082: UserWarning: \"`sparse_categorical_crossentropy` received `from_logits=True`, but the `output` argument was produced by a sigmoid or softmax activation and thus does not represent logits. Was this intended?\"\n",
            "  return dispatch_target(*args, **kwargs)\n"
          ]
        },
        {
          "output_type": "stream",
          "name": "stdout",
          "text": [
            "64/64 [==============================] - 0s 2ms/step - loss: 1.0988 - accuracy: 0.3340\n",
            "Epoch 2/5\n",
            "64/64 [==============================] - 0s 2ms/step - loss: 1.0984 - accuracy: 0.3145\n",
            "Epoch 3/5\n",
            "64/64 [==============================] - 0s 2ms/step - loss: 1.0982 - accuracy: 0.3359\n",
            "Epoch 4/5\n",
            "64/64 [==============================] - 0s 2ms/step - loss: 1.0980 - accuracy: 0.3203\n",
            "Epoch 5/5\n",
            "64/64 [==============================] - 0s 2ms/step - loss: 1.0980 - accuracy: 0.3184\n",
            "32/32 [==============================] - 0s 2ms/step - loss: 1.0978 - accuracy: 0.3555\n",
            "Epoch 1/5\n"
          ]
        },
        {
          "output_type": "stream",
          "name": "stderr",
          "text": [
            "/usr/local/lib/python3.7/dist-packages/tensorflow/python/util/dispatch.py:1082: UserWarning: \"`sparse_categorical_crossentropy` received `from_logits=True`, but the `output` argument was produced by a sigmoid or softmax activation and thus does not represent logits. Was this intended?\"\n",
            "  return dispatch_target(*args, **kwargs)\n"
          ]
        },
        {
          "output_type": "stream",
          "name": "stdout",
          "text": [
            "64/64 [==============================] - 0s 2ms/step - loss: 1.0988 - accuracy: 0.3477\n",
            "Epoch 2/5\n",
            "64/64 [==============================] - 0s 2ms/step - loss: 1.0987 - accuracy: 0.3477\n",
            "Epoch 3/5\n",
            "64/64 [==============================] - 0s 2ms/step - loss: 1.0987 - accuracy: 0.3477\n",
            "Epoch 4/5\n",
            "64/64 [==============================] - 0s 2ms/step - loss: 1.0986 - accuracy: 0.3477\n",
            "Epoch 5/5\n",
            "64/64 [==============================] - 0s 2ms/step - loss: 1.0986 - accuracy: 0.3477\n",
            "32/32 [==============================] - 0s 2ms/step - loss: 1.0977 - accuracy: 0.3516\n",
            "Epoch 1/5\n"
          ]
        },
        {
          "output_type": "stream",
          "name": "stderr",
          "text": [
            "/usr/local/lib/python3.7/dist-packages/tensorflow/python/util/dispatch.py:1082: UserWarning: \"`sparse_categorical_crossentropy` received `from_logits=True`, but the `output` argument was produced by a sigmoid or softmax activation and thus does not represent logits. Was this intended?\"\n",
            "  return dispatch_target(*args, **kwargs)\n"
          ]
        },
        {
          "output_type": "stream",
          "name": "stdout",
          "text": [
            "64/64 [==============================] - 0s 2ms/step - loss: 1.0986 - accuracy: 0.3105\n",
            "Epoch 2/5\n",
            "64/64 [==============================] - 0s 2ms/step - loss: 1.0981 - accuracy: 0.3438\n",
            "Epoch 3/5\n",
            "64/64 [==============================] - 0s 2ms/step - loss: 1.0977 - accuracy: 0.3535\n",
            "Epoch 4/5\n",
            "64/64 [==============================] - 0s 2ms/step - loss: 1.0975 - accuracy: 0.3535\n",
            "Epoch 5/5\n",
            "64/64 [==============================] - 0s 2ms/step - loss: 1.0972 - accuracy: 0.3457\n",
            "32/32 [==============================] - 0s 2ms/step - loss: 1.0990 - accuracy: 0.3398\n",
            "Epoch 1/5\n"
          ]
        },
        {
          "output_type": "stream",
          "name": "stderr",
          "text": [
            "/usr/local/lib/python3.7/dist-packages/tensorflow/python/util/dispatch.py:1082: UserWarning: \"`sparse_categorical_crossentropy` received `from_logits=True`, but the `output` argument was produced by a sigmoid or softmax activation and thus does not represent logits. Was this intended?\"\n",
            "  return dispatch_target(*args, **kwargs)\n"
          ]
        },
        {
          "output_type": "stream",
          "name": "stdout",
          "text": [
            "64/64 [==============================] - 1s 2ms/step - loss: 1.0973 - accuracy: 0.3574\n",
            "Epoch 2/5\n",
            "64/64 [==============================] - 0s 2ms/step - loss: 1.0832 - accuracy: 0.4688\n",
            "Epoch 3/5\n",
            "64/64 [==============================] - 0s 2ms/step - loss: 1.0708 - accuracy: 0.5195\n",
            "Epoch 4/5\n",
            "64/64 [==============================] - 0s 2ms/step - loss: 1.0572 - accuracy: 0.5781\n",
            "Epoch 5/5\n",
            "64/64 [==============================] - 0s 2ms/step - loss: 1.0420 - accuracy: 0.5723\n",
            "32/32 [==============================] - 0s 2ms/step - loss: 1.0314 - accuracy: 0.5898\n",
            "Epoch 1/5\n"
          ]
        },
        {
          "output_type": "stream",
          "name": "stderr",
          "text": [
            "/usr/local/lib/python3.7/dist-packages/tensorflow/python/util/dispatch.py:1082: UserWarning: \"`sparse_categorical_crossentropy` received `from_logits=True`, but the `output` argument was produced by a sigmoid or softmax activation and thus does not represent logits. Was this intended?\"\n",
            "  return dispatch_target(*args, **kwargs)\n"
          ]
        },
        {
          "output_type": "stream",
          "name": "stdout",
          "text": [
            "64/64 [==============================] - 1s 2ms/step - loss: 1.0980 - accuracy: 0.3613\n",
            "Epoch 2/5\n",
            "64/64 [==============================] - 0s 2ms/step - loss: 1.0879 - accuracy: 0.4766\n",
            "Epoch 3/5\n",
            "64/64 [==============================] - 0s 2ms/step - loss: 1.0729 - accuracy: 0.5605\n",
            "Epoch 4/5\n",
            "64/64 [==============================] - 0s 2ms/step - loss: 1.0535 - accuracy: 0.6387\n",
            "Epoch 5/5\n",
            "64/64 [==============================] - 0s 3ms/step - loss: 1.0316 - accuracy: 0.6680\n",
            "32/32 [==============================] - 0s 2ms/step - loss: 1.0239 - accuracy: 0.6445\n",
            "Epoch 1/5\n"
          ]
        },
        {
          "output_type": "stream",
          "name": "stderr",
          "text": [
            "/usr/local/lib/python3.7/dist-packages/tensorflow/python/util/dispatch.py:1082: UserWarning: \"`sparse_categorical_crossentropy` received `from_logits=True`, but the `output` argument was produced by a sigmoid or softmax activation and thus does not represent logits. Was this intended?\"\n",
            "  return dispatch_target(*args, **kwargs)\n"
          ]
        },
        {
          "output_type": "stream",
          "name": "stdout",
          "text": [
            "64/64 [==============================] - 0s 2ms/step - loss: 1.0972 - accuracy: 0.3691\n",
            "Epoch 2/5\n",
            "64/64 [==============================] - 0s 2ms/step - loss: 1.0835 - accuracy: 0.4941\n",
            "Epoch 3/5\n",
            "64/64 [==============================] - 0s 3ms/step - loss: 1.0652 - accuracy: 0.6055\n",
            "Epoch 4/5\n",
            "64/64 [==============================] - 0s 2ms/step - loss: 1.0446 - accuracy: 0.6641\n",
            "Epoch 5/5\n",
            "64/64 [==============================] - 0s 2ms/step - loss: 1.0211 - accuracy: 0.6797\n",
            "32/32 [==============================] - 0s 2ms/step - loss: 1.0260 - accuracy: 0.6211\n",
            "Epoch 1/5\n"
          ]
        },
        {
          "output_type": "stream",
          "name": "stderr",
          "text": [
            "/usr/local/lib/python3.7/dist-packages/tensorflow/python/util/dispatch.py:1082: UserWarning: \"`sparse_categorical_crossentropy` received `from_logits=True`, but the `output` argument was produced by a sigmoid or softmax activation and thus does not represent logits. Was this intended?\"\n",
            "  return dispatch_target(*args, **kwargs)\n"
          ]
        },
        {
          "output_type": "stream",
          "name": "stdout",
          "text": [
            "64/64 [==============================] - 0s 2ms/step - loss: 1.0988 - accuracy: 0.3301\n",
            "Epoch 2/5\n",
            "64/64 [==============================] - 0s 2ms/step - loss: 1.0987 - accuracy: 0.3457\n",
            "Epoch 3/5\n",
            "64/64 [==============================] - 0s 2ms/step - loss: 1.0987 - accuracy: 0.3457\n",
            "Epoch 4/5\n",
            "64/64 [==============================] - 0s 2ms/step - loss: 1.0987 - accuracy: 0.3457\n",
            "Epoch 5/5\n",
            "64/64 [==============================] - 0s 2ms/step - loss: 1.0986 - accuracy: 0.3457\n",
            "32/32 [==============================] - 0s 2ms/step - loss: 1.0985 - accuracy: 0.3555\n",
            "Epoch 1/5\n"
          ]
        },
        {
          "output_type": "stream",
          "name": "stderr",
          "text": [
            "/usr/local/lib/python3.7/dist-packages/tensorflow/python/util/dispatch.py:1082: UserWarning: \"`sparse_categorical_crossentropy` received `from_logits=True`, but the `output` argument was produced by a sigmoid or softmax activation and thus does not represent logits. Was this intended?\"\n",
            "  return dispatch_target(*args, **kwargs)\n"
          ]
        },
        {
          "output_type": "stream",
          "name": "stdout",
          "text": [
            "64/64 [==============================] - 0s 2ms/step - loss: 1.0986 - accuracy: 0.3457\n",
            "Epoch 2/5\n",
            "64/64 [==============================] - 0s 2ms/step - loss: 1.0986 - accuracy: 0.3809\n",
            "Epoch 3/5\n",
            "64/64 [==============================] - 0s 2ms/step - loss: 1.0986 - accuracy: 0.3613\n",
            "Epoch 4/5\n",
            "64/64 [==============================] - 0s 2ms/step - loss: 1.0985 - accuracy: 0.3477\n",
            "Epoch 5/5\n",
            "64/64 [==============================] - 0s 2ms/step - loss: 1.0985 - accuracy: 0.3496\n",
            "32/32 [==============================] - 0s 2ms/step - loss: 1.0984 - accuracy: 0.3516\n",
            "Epoch 1/5\n"
          ]
        },
        {
          "output_type": "stream",
          "name": "stderr",
          "text": [
            "/usr/local/lib/python3.7/dist-packages/tensorflow/python/util/dispatch.py:1082: UserWarning: \"`sparse_categorical_crossentropy` received `from_logits=True`, but the `output` argument was produced by a sigmoid or softmax activation and thus does not represent logits. Was this intended?\"\n",
            "  return dispatch_target(*args, **kwargs)\n"
          ]
        },
        {
          "output_type": "stream",
          "name": "stdout",
          "text": [
            "64/64 [==============================] - 0s 2ms/step - loss: 1.0986 - accuracy: 0.3418\n",
            "Epoch 2/5\n",
            "64/64 [==============================] - 0s 2ms/step - loss: 1.0985 - accuracy: 0.3418\n",
            "Epoch 3/5\n",
            "64/64 [==============================] - 0s 2ms/step - loss: 1.0984 - accuracy: 0.3418\n",
            "Epoch 4/5\n",
            "64/64 [==============================] - 0s 2ms/step - loss: 1.0984 - accuracy: 0.3418\n",
            "Epoch 5/5\n",
            "64/64 [==============================] - 0s 2ms/step - loss: 1.0984 - accuracy: 0.3418\n",
            "32/32 [==============================] - 0s 2ms/step - loss: 1.0986 - accuracy: 0.3320\n",
            "Epoch 1/5\n"
          ]
        },
        {
          "output_type": "stream",
          "name": "stderr",
          "text": [
            "/usr/local/lib/python3.7/dist-packages/tensorflow/python/util/dispatch.py:1082: UserWarning: \"`sparse_categorical_crossentropy` received `from_logits=True`, but the `output` argument was produced by a sigmoid or softmax activation and thus does not represent logits. Was this intended?\"\n",
            "  return dispatch_target(*args, **kwargs)\n"
          ]
        },
        {
          "output_type": "stream",
          "name": "stdout",
          "text": [
            "64/64 [==============================] - 0s 2ms/step - loss: 1.0985 - accuracy: 0.3457\n",
            "Epoch 2/5\n",
            "64/64 [==============================] - 0s 3ms/step - loss: 1.0985 - accuracy: 0.3457\n",
            "Epoch 3/5\n",
            "64/64 [==============================] - 0s 2ms/step - loss: 1.0985 - accuracy: 0.3457\n",
            "Epoch 4/5\n",
            "64/64 [==============================] - 0s 2ms/step - loss: 1.0985 - accuracy: 0.3457\n",
            "Epoch 5/5\n",
            "64/64 [==============================] - 0s 2ms/step - loss: 1.0985 - accuracy: 0.3457\n",
            "32/32 [==============================] - 0s 2ms/step - loss: 1.0984 - accuracy: 0.3555\n",
            "Epoch 1/5\n"
          ]
        },
        {
          "output_type": "stream",
          "name": "stderr",
          "text": [
            "/usr/local/lib/python3.7/dist-packages/tensorflow/python/util/dispatch.py:1082: UserWarning: \"`sparse_categorical_crossentropy` received `from_logits=True`, but the `output` argument was produced by a sigmoid or softmax activation and thus does not represent logits. Was this intended?\"\n",
            "  return dispatch_target(*args, **kwargs)\n"
          ]
        },
        {
          "output_type": "stream",
          "name": "stdout",
          "text": [
            "64/64 [==============================] - 0s 2ms/step - loss: 1.0987 - accuracy: 0.2617\n",
            "Epoch 2/5\n",
            "64/64 [==============================] - 0s 2ms/step - loss: 1.0987 - accuracy: 0.2656\n",
            "Epoch 3/5\n",
            "64/64 [==============================] - 0s 2ms/step - loss: 1.0987 - accuracy: 0.2617\n",
            "Epoch 4/5\n",
            "64/64 [==============================] - 0s 2ms/step - loss: 1.0987 - accuracy: 0.2754\n",
            "Epoch 5/5\n",
            "64/64 [==============================] - 0s 2ms/step - loss: 1.0987 - accuracy: 0.2793\n",
            "32/32 [==============================] - 0s 2ms/step - loss: 1.0990 - accuracy: 0.2578\n",
            "Epoch 1/5\n"
          ]
        },
        {
          "output_type": "stream",
          "name": "stderr",
          "text": [
            "/usr/local/lib/python3.7/dist-packages/tensorflow/python/util/dispatch.py:1082: UserWarning: \"`sparse_categorical_crossentropy` received `from_logits=True`, but the `output` argument was produced by a sigmoid or softmax activation and thus does not represent logits. Was this intended?\"\n",
            "  return dispatch_target(*args, **kwargs)\n"
          ]
        },
        {
          "output_type": "stream",
          "name": "stdout",
          "text": [
            "64/64 [==============================] - 0s 2ms/step - loss: 1.0987 - accuracy: 0.3926\n",
            "Epoch 2/5\n",
            "64/64 [==============================] - 0s 2ms/step - loss: 1.0987 - accuracy: 0.3984\n",
            "Epoch 3/5\n",
            "64/64 [==============================] - 0s 2ms/step - loss: 1.0987 - accuracy: 0.4023\n",
            "Epoch 4/5\n",
            "64/64 [==============================] - 0s 2ms/step - loss: 1.0987 - accuracy: 0.4043\n",
            "Epoch 5/5\n",
            "64/64 [==============================] - 0s 2ms/step - loss: 1.0987 - accuracy: 0.4043\n",
            "32/32 [==============================] - 0s 2ms/step - loss: 1.0986 - accuracy: 0.3398\n",
            "Epoch 1/5\n"
          ]
        },
        {
          "output_type": "stream",
          "name": "stderr",
          "text": [
            "/usr/local/lib/python3.7/dist-packages/tensorflow/python/util/dispatch.py:1082: UserWarning: \"`sparse_categorical_crossentropy` received `from_logits=True`, but the `output` argument was produced by a sigmoid or softmax activation and thus does not represent logits. Was this intended?\"\n",
            "  return dispatch_target(*args, **kwargs)\n"
          ]
        },
        {
          "output_type": "stream",
          "name": "stdout",
          "text": [
            "64/64 [==============================] - 1s 2ms/step - loss: 1.0978 - accuracy: 0.3457\n",
            "Epoch 2/5\n",
            "64/64 [==============================] - 0s 2ms/step - loss: 1.0862 - accuracy: 0.4707\n",
            "Epoch 3/5\n",
            "64/64 [==============================] - 0s 2ms/step - loss: 1.0611 - accuracy: 0.5762\n",
            "Epoch 4/5\n",
            "64/64 [==============================] - 0s 2ms/step - loss: 1.0366 - accuracy: 0.5859\n",
            "Epoch 5/5\n",
            "64/64 [==============================] - 0s 2ms/step - loss: 1.0159 - accuracy: 0.5977\n",
            "32/32 [==============================] - 0s 2ms/step - loss: 1.0022 - accuracy: 0.6484\n",
            "Epoch 1/5\n"
          ]
        },
        {
          "output_type": "stream",
          "name": "stderr",
          "text": [
            "/usr/local/lib/python3.7/dist-packages/tensorflow/python/util/dispatch.py:1082: UserWarning: \"`sparse_categorical_crossentropy` received `from_logits=True`, but the `output` argument was produced by a sigmoid or softmax activation and thus does not represent logits. Was this intended?\"\n",
            "  return dispatch_target(*args, **kwargs)\n"
          ]
        },
        {
          "output_type": "stream",
          "name": "stdout",
          "text": [
            "64/64 [==============================] - 0s 2ms/step - loss: 1.0978 - accuracy: 0.3457\n",
            "Epoch 2/5\n",
            "64/64 [==============================] - 0s 2ms/step - loss: 1.0819 - accuracy: 0.5137\n",
            "Epoch 3/5\n",
            "64/64 [==============================] - 0s 2ms/step - loss: 1.0601 - accuracy: 0.5645\n",
            "Epoch 4/5\n",
            "64/64 [==============================] - 0s 2ms/step - loss: 1.0329 - accuracy: 0.5898\n",
            "Epoch 5/5\n",
            "64/64 [==============================] - 0s 2ms/step - loss: 1.0084 - accuracy: 0.5859\n",
            "32/32 [==============================] - 0s 2ms/step - loss: 1.0073 - accuracy: 0.5703\n",
            "Epoch 1/5\n"
          ]
        },
        {
          "output_type": "stream",
          "name": "stderr",
          "text": [
            "/usr/local/lib/python3.7/dist-packages/tensorflow/python/util/dispatch.py:1082: UserWarning: \"`sparse_categorical_crossentropy` received `from_logits=True`, but the `output` argument was produced by a sigmoid or softmax activation and thus does not represent logits. Was this intended?\"\n",
            "  return dispatch_target(*args, **kwargs)\n"
          ]
        },
        {
          "output_type": "stream",
          "name": "stdout",
          "text": [
            "64/64 [==============================] - 0s 2ms/step - loss: 1.0967 - accuracy: 0.3594\n",
            "Epoch 2/5\n",
            "64/64 [==============================] - 0s 2ms/step - loss: 1.0832 - accuracy: 0.4727\n",
            "Epoch 3/5\n",
            "64/64 [==============================] - 0s 2ms/step - loss: 1.0583 - accuracy: 0.5625\n",
            "Epoch 4/5\n",
            "64/64 [==============================] - 0s 2ms/step - loss: 1.0247 - accuracy: 0.5957\n",
            "Epoch 5/5\n",
            "64/64 [==============================] - 0s 2ms/step - loss: 0.9986 - accuracy: 0.6172\n",
            "32/32 [==============================] - 0s 2ms/step - loss: 1.0101 - accuracy: 0.5312\n",
            "Epoch 1/5\n"
          ]
        },
        {
          "output_type": "stream",
          "name": "stderr",
          "text": [
            "/usr/local/lib/python3.7/dist-packages/tensorflow/python/util/dispatch.py:1082: UserWarning: \"`sparse_categorical_crossentropy` received `from_logits=True`, but the `output` argument was produced by a sigmoid or softmax activation and thus does not represent logits. Was this intended?\"\n",
            "  return dispatch_target(*args, **kwargs)\n"
          ]
        },
        {
          "output_type": "stream",
          "name": "stdout",
          "text": [
            "64/64 [==============================] - 0s 2ms/step - loss: 1.0989 - accuracy: 0.3281\n",
            "Epoch 2/5\n",
            "64/64 [==============================] - 0s 2ms/step - loss: 1.0966 - accuracy: 0.3691\n",
            "Epoch 3/5\n",
            "64/64 [==============================] - 0s 2ms/step - loss: 1.0934 - accuracy: 0.4004\n",
            "Epoch 4/5\n",
            "64/64 [==============================] - 0s 2ms/step - loss: 1.0881 - accuracy: 0.5332\n",
            "Epoch 5/5\n",
            "64/64 [==============================] - 0s 2ms/step - loss: 1.0818 - accuracy: 0.5957\n",
            "32/32 [==============================] - 0s 2ms/step - loss: 1.0789 - accuracy: 0.5391\n",
            "Epoch 1/5\n"
          ]
        },
        {
          "output_type": "stream",
          "name": "stderr",
          "text": [
            "/usr/local/lib/python3.7/dist-packages/tensorflow/python/util/dispatch.py:1082: UserWarning: \"`sparse_categorical_crossentropy` received `from_logits=True`, but the `output` argument was produced by a sigmoid or softmax activation and thus does not represent logits. Was this intended?\"\n",
            "  return dispatch_target(*args, **kwargs)\n"
          ]
        },
        {
          "output_type": "stream",
          "name": "stdout",
          "text": [
            "64/64 [==============================] - 0s 2ms/step - loss: 1.0980 - accuracy: 0.3398\n",
            "Epoch 2/5\n",
            "64/64 [==============================] - 0s 2ms/step - loss: 1.0956 - accuracy: 0.3711\n",
            "Epoch 3/5\n",
            "64/64 [==============================] - 0s 3ms/step - loss: 1.0917 - accuracy: 0.5508\n",
            "Epoch 4/5\n",
            "64/64 [==============================] - 0s 2ms/step - loss: 1.0859 - accuracy: 0.5156\n",
            "Epoch 5/5\n",
            "64/64 [==============================] - 0s 2ms/step - loss: 1.0797 - accuracy: 0.6133\n",
            "32/32 [==============================] - 0s 2ms/step - loss: 1.0766 - accuracy: 0.6016\n",
            "Epoch 1/5\n"
          ]
        },
        {
          "output_type": "stream",
          "name": "stderr",
          "text": [
            "/usr/local/lib/python3.7/dist-packages/tensorflow/python/util/dispatch.py:1082: UserWarning: \"`sparse_categorical_crossentropy` received `from_logits=True`, but the `output` argument was produced by a sigmoid or softmax activation and thus does not represent logits. Was this intended?\"\n",
            "  return dispatch_target(*args, **kwargs)\n"
          ]
        },
        {
          "output_type": "stream",
          "name": "stdout",
          "text": [
            "64/64 [==============================] - 0s 2ms/step - loss: 1.0983 - accuracy: 0.3535\n",
            "Epoch 2/5\n",
            "64/64 [==============================] - 0s 2ms/step - loss: 1.0945 - accuracy: 0.3535\n",
            "Epoch 3/5\n",
            "64/64 [==============================] - 0s 2ms/step - loss: 1.0900 - accuracy: 0.3730\n",
            "Epoch 4/5\n",
            "64/64 [==============================] - 0s 2ms/step - loss: 1.0840 - accuracy: 0.4609\n",
            "Epoch 5/5\n",
            "64/64 [==============================] - 0s 2ms/step - loss: 1.0778 - accuracy: 0.5508\n",
            "32/32 [==============================] - 0s 2ms/step - loss: 1.0808 - accuracy: 0.4492\n",
            "Epoch 1/5\n"
          ]
        },
        {
          "output_type": "stream",
          "name": "stderr",
          "text": [
            "/usr/local/lib/python3.7/dist-packages/tensorflow/python/util/dispatch.py:1082: UserWarning: \"`sparse_categorical_crossentropy` received `from_logits=True`, but the `output` argument was produced by a sigmoid or softmax activation and thus does not represent logits. Was this intended?\"\n",
            "  return dispatch_target(*args, **kwargs)\n"
          ]
        },
        {
          "output_type": "stream",
          "name": "stdout",
          "text": [
            "64/64 [==============================] - 1s 3ms/step - loss: 1.0979 - accuracy: 0.3379\n",
            "Epoch 2/5\n",
            "64/64 [==============================] - 0s 3ms/step - loss: 1.0879 - accuracy: 0.4473\n",
            "Epoch 3/5\n",
            "64/64 [==============================] - 0s 3ms/step - loss: 1.0618 - accuracy: 0.5645\n",
            "Epoch 4/5\n",
            "64/64 [==============================] - 0s 3ms/step - loss: 1.0372 - accuracy: 0.6055\n",
            "Epoch 5/5\n",
            "64/64 [==============================] - 0s 3ms/step - loss: 1.0140 - accuracy: 0.6348\n",
            "32/32 [==============================] - 0s 2ms/step - loss: 0.9996 - accuracy: 0.6562\n",
            "Epoch 1/5\n"
          ]
        },
        {
          "output_type": "stream",
          "name": "stderr",
          "text": [
            "/usr/local/lib/python3.7/dist-packages/tensorflow/python/util/dispatch.py:1082: UserWarning: \"`sparse_categorical_crossentropy` received `from_logits=True`, but the `output` argument was produced by a sigmoid or softmax activation and thus does not represent logits. Was this intended?\"\n",
            "  return dispatch_target(*args, **kwargs)\n"
          ]
        },
        {
          "output_type": "stream",
          "name": "stdout",
          "text": [
            "64/64 [==============================] - 1s 3ms/step - loss: 1.0973 - accuracy: 0.3691\n",
            "Epoch 2/5\n",
            "64/64 [==============================] - 0s 3ms/step - loss: 1.0811 - accuracy: 0.5098\n",
            "Epoch 3/5\n",
            "64/64 [==============================] - 0s 3ms/step - loss: 1.0567 - accuracy: 0.5703\n",
            "Epoch 4/5\n",
            "64/64 [==============================] - 0s 3ms/step - loss: 1.0336 - accuracy: 0.5879\n",
            "Epoch 5/5\n",
            "64/64 [==============================] - 0s 3ms/step - loss: 1.0105 - accuracy: 0.5938\n",
            "32/32 [==============================] - 0s 2ms/step - loss: 1.0179 - accuracy: 0.5156\n",
            "Epoch 1/5\n"
          ]
        },
        {
          "output_type": "stream",
          "name": "stderr",
          "text": [
            "/usr/local/lib/python3.7/dist-packages/tensorflow/python/util/dispatch.py:1082: UserWarning: \"`sparse_categorical_crossentropy` received `from_logits=True`, but the `output` argument was produced by a sigmoid or softmax activation and thus does not represent logits. Was this intended?\"\n",
            "  return dispatch_target(*args, **kwargs)\n"
          ]
        },
        {
          "output_type": "stream",
          "name": "stdout",
          "text": [
            "64/64 [==============================] - 1s 3ms/step - loss: 1.0971 - accuracy: 0.3418\n",
            "Epoch 2/5\n",
            "64/64 [==============================] - 0s 3ms/step - loss: 1.0812 - accuracy: 0.4805\n",
            "Epoch 3/5\n",
            "64/64 [==============================] - 0s 3ms/step - loss: 1.0509 - accuracy: 0.6250\n",
            "Epoch 4/5\n",
            "64/64 [==============================] - 0s 3ms/step - loss: 1.0117 - accuracy: 0.6738\n",
            "Epoch 5/5\n",
            "64/64 [==============================] - 0s 3ms/step - loss: 0.9716 - accuracy: 0.7168\n",
            "32/32 [==============================] - 0s 2ms/step - loss: 0.9813 - accuracy: 0.6289\n",
            "Epoch 1/5\n",
            " 1/64 [..............................] - ETA: 14s - loss: 1.0992 - accuracy: 0.5000"
          ]
        },
        {
          "output_type": "stream",
          "name": "stderr",
          "text": [
            "/usr/local/lib/python3.7/dist-packages/tensorflow/python/util/dispatch.py:1082: UserWarning: \"`sparse_categorical_crossentropy` received `from_logits=True`, but the `output` argument was produced by a sigmoid or softmax activation and thus does not represent logits. Was this intended?\"\n",
            "  return dispatch_target(*args, **kwargs)\n"
          ]
        },
        {
          "output_type": "stream",
          "name": "stdout",
          "text": [
            "64/64 [==============================] - 0s 2ms/step - loss: 1.0987 - accuracy: 0.3262\n",
            "Epoch 2/5\n",
            "64/64 [==============================] - 0s 2ms/step - loss: 1.0983 - accuracy: 0.3379\n",
            "Epoch 3/5\n",
            "64/64 [==============================] - 0s 2ms/step - loss: 1.0981 - accuracy: 0.3359\n",
            "Epoch 4/5\n",
            "64/64 [==============================] - 0s 2ms/step - loss: 1.0979 - accuracy: 0.3477\n",
            "Epoch 5/5\n",
            "64/64 [==============================] - 0s 2ms/step - loss: 1.0979 - accuracy: 0.3359\n",
            "32/32 [==============================] - 0s 2ms/step - loss: 1.0978 - accuracy: 0.3555\n",
            "Epoch 1/5\n"
          ]
        },
        {
          "output_type": "stream",
          "name": "stderr",
          "text": [
            "/usr/local/lib/python3.7/dist-packages/tensorflow/python/util/dispatch.py:1082: UserWarning: \"`sparse_categorical_crossentropy` received `from_logits=True`, but the `output` argument was produced by a sigmoid or softmax activation and thus does not represent logits. Was this intended?\"\n",
            "  return dispatch_target(*args, **kwargs)\n"
          ]
        },
        {
          "output_type": "stream",
          "name": "stdout",
          "text": [
            "64/64 [==============================] - 0s 2ms/step - loss: 1.0989 - accuracy: 0.3184\n",
            "Epoch 2/5\n",
            "64/64 [==============================] - 0s 2ms/step - loss: 1.0988 - accuracy: 0.3223\n",
            "Epoch 3/5\n",
            "64/64 [==============================] - 0s 2ms/step - loss: 1.0986 - accuracy: 0.3477\n",
            "Epoch 4/5\n",
            "64/64 [==============================] - 0s 2ms/step - loss: 1.0986 - accuracy: 0.3477\n",
            "Epoch 5/5\n",
            "64/64 [==============================] - 0s 2ms/step - loss: 1.0985 - accuracy: 0.3477\n",
            "32/32 [==============================] - 0s 2ms/step - loss: 1.0975 - accuracy: 0.3516\n",
            "Epoch 1/5\n"
          ]
        },
        {
          "output_type": "stream",
          "name": "stderr",
          "text": [
            "/usr/local/lib/python3.7/dist-packages/tensorflow/python/util/dispatch.py:1082: UserWarning: \"`sparse_categorical_crossentropy` received `from_logits=True`, but the `output` argument was produced by a sigmoid or softmax activation and thus does not represent logits. Was this intended?\"\n",
            "  return dispatch_target(*args, **kwargs)\n"
          ]
        },
        {
          "output_type": "stream",
          "name": "stdout",
          "text": [
            "64/64 [==============================] - 0s 2ms/step - loss: 1.0988 - accuracy: 0.3301\n",
            "Epoch 2/5\n",
            "64/64 [==============================] - 0s 2ms/step - loss: 1.0982 - accuracy: 0.3359\n",
            "Epoch 3/5\n",
            "64/64 [==============================] - 0s 2ms/step - loss: 1.0978 - accuracy: 0.3535\n",
            "Epoch 4/5\n",
            "64/64 [==============================] - 0s 2ms/step - loss: 1.0977 - accuracy: 0.3418\n",
            "Epoch 5/5\n",
            "64/64 [==============================] - 0s 2ms/step - loss: 1.0974 - accuracy: 0.3535\n",
            "32/32 [==============================] - 0s 2ms/step - loss: 1.0990 - accuracy: 0.3398\n",
            "Epoch 1/5\n"
          ]
        },
        {
          "output_type": "stream",
          "name": "stderr",
          "text": [
            "/usr/local/lib/python3.7/dist-packages/tensorflow/python/util/dispatch.py:1082: UserWarning: \"`sparse_categorical_crossentropy` received `from_logits=True`, but the `output` argument was produced by a sigmoid or softmax activation and thus does not represent logits. Was this intended?\"\n",
            "  return dispatch_target(*args, **kwargs)\n"
          ]
        },
        {
          "output_type": "stream",
          "name": "stdout",
          "text": [
            "64/64 [==============================] - 1s 2ms/step - loss: 1.0977 - accuracy: 0.3496\n",
            "Epoch 2/5\n",
            "64/64 [==============================] - 0s 2ms/step - loss: 1.0883 - accuracy: 0.4395\n",
            "Epoch 3/5\n",
            "64/64 [==============================] - 0s 2ms/step - loss: 1.0781 - accuracy: 0.4688\n",
            "Epoch 4/5\n",
            "64/64 [==============================] - 0s 2ms/step - loss: 1.0648 - accuracy: 0.5039\n",
            "Epoch 5/5\n",
            "64/64 [==============================] - 0s 2ms/step - loss: 1.0489 - accuracy: 0.5703\n",
            "32/32 [==============================] - 0s 2ms/step - loss: 1.0430 - accuracy: 0.6289\n",
            "Epoch 1/5\n"
          ]
        },
        {
          "output_type": "stream",
          "name": "stderr",
          "text": [
            "/usr/local/lib/python3.7/dist-packages/tensorflow/python/util/dispatch.py:1082: UserWarning: \"`sparse_categorical_crossentropy` received `from_logits=True`, but the `output` argument was produced by a sigmoid or softmax activation and thus does not represent logits. Was this intended?\"\n",
            "  return dispatch_target(*args, **kwargs)\n"
          ]
        },
        {
          "output_type": "stream",
          "name": "stdout",
          "text": [
            "64/64 [==============================] - 1s 2ms/step - loss: 1.0977 - accuracy: 0.3496\n",
            "Epoch 2/5\n",
            "64/64 [==============================] - 0s 2ms/step - loss: 1.0869 - accuracy: 0.4512\n",
            "Epoch 3/5\n",
            "64/64 [==============================] - 0s 3ms/step - loss: 1.0719 - accuracy: 0.5898\n",
            "Epoch 4/5\n",
            "64/64 [==============================] - 0s 2ms/step - loss: 1.0559 - accuracy: 0.5840\n",
            "Epoch 5/5\n",
            "64/64 [==============================] - 0s 2ms/step - loss: 1.0368 - accuracy: 0.6191\n",
            "32/32 [==============================] - 0s 2ms/step - loss: 1.0305 - accuracy: 0.6328\n",
            "Epoch 1/5\n"
          ]
        },
        {
          "output_type": "stream",
          "name": "stderr",
          "text": [
            "/usr/local/lib/python3.7/dist-packages/tensorflow/python/util/dispatch.py:1082: UserWarning: \"`sparse_categorical_crossentropy` received `from_logits=True`, but the `output` argument was produced by a sigmoid or softmax activation and thus does not represent logits. Was this intended?\"\n",
            "  return dispatch_target(*args, **kwargs)\n"
          ]
        },
        {
          "output_type": "stream",
          "name": "stdout",
          "text": [
            "64/64 [==============================] - 0s 2ms/step - loss: 1.0973 - accuracy: 0.3594\n",
            "Epoch 2/5\n",
            "64/64 [==============================] - 0s 2ms/step - loss: 1.0850 - accuracy: 0.4648\n",
            "Epoch 3/5\n",
            "64/64 [==============================] - 0s 2ms/step - loss: 1.0659 - accuracy: 0.5020\n",
            "Epoch 4/5\n",
            "64/64 [==============================] - 0s 3ms/step - loss: 1.0486 - accuracy: 0.5586\n",
            "Epoch 5/5\n",
            "64/64 [==============================] - 0s 2ms/step - loss: 1.0274 - accuracy: 0.6309\n",
            "32/32 [==============================] - 0s 2ms/step - loss: 1.0323 - accuracy: 0.5664\n",
            "Epoch 1/5\n"
          ]
        },
        {
          "output_type": "stream",
          "name": "stderr",
          "text": [
            "/usr/local/lib/python3.7/dist-packages/tensorflow/python/util/dispatch.py:1082: UserWarning: \"`sparse_categorical_crossentropy` received `from_logits=True`, but the `output` argument was produced by a sigmoid or softmax activation and thus does not represent logits. Was this intended?\"\n",
            "  return dispatch_target(*args, **kwargs)\n"
          ]
        },
        {
          "output_type": "stream",
          "name": "stdout",
          "text": [
            "64/64 [==============================] - 0s 2ms/step - loss: 1.0987 - accuracy: 0.2910\n",
            "Epoch 2/5\n",
            "64/64 [==============================] - 0s 2ms/step - loss: 1.0986 - accuracy: 0.3359\n",
            "Epoch 3/5\n",
            "64/64 [==============================] - 0s 2ms/step - loss: 1.0986 - accuracy: 0.3477\n",
            "Epoch 4/5\n",
            "64/64 [==============================] - 0s 2ms/step - loss: 1.0986 - accuracy: 0.3574\n",
            "Epoch 5/5\n",
            "64/64 [==============================] - 0s 2ms/step - loss: 1.0985 - accuracy: 0.3555\n",
            "32/32 [==============================] - 0s 2ms/step - loss: 1.0986 - accuracy: 0.3555\n",
            "Epoch 1/5\n"
          ]
        },
        {
          "output_type": "stream",
          "name": "stderr",
          "text": [
            "/usr/local/lib/python3.7/dist-packages/tensorflow/python/util/dispatch.py:1082: UserWarning: \"`sparse_categorical_crossentropy` received `from_logits=True`, but the `output` argument was produced by a sigmoid or softmax activation and thus does not represent logits. Was this intended?\"\n",
            "  return dispatch_target(*args, **kwargs)\n"
          ]
        },
        {
          "output_type": "stream",
          "name": "stdout",
          "text": [
            "64/64 [==============================] - 0s 2ms/step - loss: 1.0986 - accuracy: 0.3477\n",
            "Epoch 2/5\n",
            "64/64 [==============================] - 0s 2ms/step - loss: 1.0985 - accuracy: 0.3477\n",
            "Epoch 3/5\n",
            "64/64 [==============================] - 0s 2ms/step - loss: 1.0985 - accuracy: 0.3477\n",
            "Epoch 4/5\n",
            "64/64 [==============================] - 0s 2ms/step - loss: 1.0985 - accuracy: 0.3477\n",
            "Epoch 5/5\n",
            "64/64 [==============================] - 0s 2ms/step - loss: 1.0985 - accuracy: 0.3477\n",
            "32/32 [==============================] - 0s 2ms/step - loss: 1.0983 - accuracy: 0.3516\n",
            "Epoch 1/5\n"
          ]
        },
        {
          "output_type": "stream",
          "name": "stderr",
          "text": [
            "/usr/local/lib/python3.7/dist-packages/tensorflow/python/util/dispatch.py:1082: UserWarning: \"`sparse_categorical_crossentropy` received `from_logits=True`, but the `output` argument was produced by a sigmoid or softmax activation and thus does not represent logits. Was this intended?\"\n",
            "  return dispatch_target(*args, **kwargs)\n"
          ]
        },
        {
          "output_type": "stream",
          "name": "stdout",
          "text": [
            "64/64 [==============================] - 0s 2ms/step - loss: 1.0987 - accuracy: 0.3281\n",
            "Epoch 2/5\n",
            "64/64 [==============================] - 0s 2ms/step - loss: 1.0986 - accuracy: 0.3047\n",
            "Epoch 3/5\n",
            "64/64 [==============================] - 0s 2ms/step - loss: 1.0986 - accuracy: 0.3105\n",
            "Epoch 4/5\n",
            "64/64 [==============================] - 0s 2ms/step - loss: 1.0985 - accuracy: 0.2988\n",
            "Epoch 5/5\n",
            "64/64 [==============================] - 0s 2ms/step - loss: 1.0985 - accuracy: 0.3164\n",
            "32/32 [==============================] - 0s 2ms/step - loss: 1.0986 - accuracy: 0.3359\n",
            "Epoch 1/5\n"
          ]
        },
        {
          "output_type": "stream",
          "name": "stderr",
          "text": [
            "/usr/local/lib/python3.7/dist-packages/tensorflow/python/util/dispatch.py:1082: UserWarning: \"`sparse_categorical_crossentropy` received `from_logits=True`, but the `output` argument was produced by a sigmoid or softmax activation and thus does not represent logits. Was this intended?\"\n",
            "  return dispatch_target(*args, **kwargs)\n"
          ]
        },
        {
          "output_type": "stream",
          "name": "stdout",
          "text": [
            "64/64 [==============================] - 1s 2ms/step - loss: 1.0986 - accuracy: 0.3281\n",
            "Epoch 2/5\n",
            "64/64 [==============================] - 0s 2ms/step - loss: 1.0986 - accuracy: 0.3301\n",
            "Epoch 3/5\n",
            "64/64 [==============================] - 0s 2ms/step - loss: 1.0986 - accuracy: 0.3301\n",
            "Epoch 4/5\n",
            "64/64 [==============================] - 0s 2ms/step - loss: 1.0986 - accuracy: 0.3281\n",
            "Epoch 5/5\n",
            "64/64 [==============================] - 0s 2ms/step - loss: 1.0986 - accuracy: 0.3301\n",
            "32/32 [==============================] - 0s 2ms/step - loss: 1.0986 - accuracy: 0.3320\n",
            "Epoch 1/5\n"
          ]
        },
        {
          "output_type": "stream",
          "name": "stderr",
          "text": [
            "/usr/local/lib/python3.7/dist-packages/tensorflow/python/util/dispatch.py:1082: UserWarning: \"`sparse_categorical_crossentropy` received `from_logits=True`, but the `output` argument was produced by a sigmoid or softmax activation and thus does not represent logits. Was this intended?\"\n",
            "  return dispatch_target(*args, **kwargs)\n"
          ]
        },
        {
          "output_type": "stream",
          "name": "stdout",
          "text": [
            "64/64 [==============================] - 0s 2ms/step - loss: 1.0985 - accuracy: 0.3477\n",
            "Epoch 2/5\n",
            "64/64 [==============================] - 0s 2ms/step - loss: 1.0985 - accuracy: 0.3477\n",
            "Epoch 3/5\n",
            "64/64 [==============================] - 0s 2ms/step - loss: 1.0985 - accuracy: 0.3477\n",
            "Epoch 4/5\n",
            "64/64 [==============================] - 0s 2ms/step - loss: 1.0985 - accuracy: 0.3477\n",
            "Epoch 5/5\n",
            "64/64 [==============================] - 0s 2ms/step - loss: 1.0985 - accuracy: 0.3477\n",
            "32/32 [==============================] - 0s 2ms/step - loss: 1.0984 - accuracy: 0.3516\n",
            "Epoch 1/5\n"
          ]
        },
        {
          "output_type": "stream",
          "name": "stderr",
          "text": [
            "/usr/local/lib/python3.7/dist-packages/tensorflow/python/util/dispatch.py:1082: UserWarning: \"`sparse_categorical_crossentropy` received `from_logits=True`, but the `output` argument was produced by a sigmoid or softmax activation and thus does not represent logits. Was this intended?\"\n",
            "  return dispatch_target(*args, **kwargs)\n"
          ]
        },
        {
          "output_type": "stream",
          "name": "stdout",
          "text": [
            "64/64 [==============================] - 0s 2ms/step - loss: 1.0985 - accuracy: 0.3535\n",
            "Epoch 2/5\n",
            "64/64 [==============================] - 0s 2ms/step - loss: 1.0985 - accuracy: 0.3535\n",
            "Epoch 3/5\n",
            "64/64 [==============================] - 0s 2ms/step - loss: 1.0985 - accuracy: 0.3535\n",
            "Epoch 4/5\n",
            "64/64 [==============================] - 0s 2ms/step - loss: 1.0985 - accuracy: 0.3535\n",
            "Epoch 5/5\n",
            "64/64 [==============================] - 0s 2ms/step - loss: 1.0985 - accuracy: 0.3535\n",
            "32/32 [==============================] - 0s 2ms/step - loss: 1.0986 - accuracy: 0.3398\n",
            "Epoch 1/5\n"
          ]
        },
        {
          "output_type": "stream",
          "name": "stderr",
          "text": [
            "/usr/local/lib/python3.7/dist-packages/tensorflow/python/util/dispatch.py:1082: UserWarning: \"`sparse_categorical_crossentropy` received `from_logits=True`, but the `output` argument was produced by a sigmoid or softmax activation and thus does not represent logits. Was this intended?\"\n",
            "  return dispatch_target(*args, **kwargs)\n"
          ]
        },
        {
          "output_type": "stream",
          "name": "stdout",
          "text": [
            "64/64 [==============================] - 0s 2ms/step - loss: 1.0971 - accuracy: 0.3770\n",
            "Epoch 2/5\n",
            "64/64 [==============================] - 0s 2ms/step - loss: 1.0872 - accuracy: 0.4297\n",
            "Epoch 3/5\n",
            "64/64 [==============================] - 0s 2ms/step - loss: 1.0666 - accuracy: 0.4961\n",
            "Epoch 4/5\n",
            "64/64 [==============================] - 0s 2ms/step - loss: 1.0379 - accuracy: 0.5195\n",
            "Epoch 5/5\n",
            "64/64 [==============================] - 0s 2ms/step - loss: 1.0075 - accuracy: 0.5527\n",
            "32/32 [==============================] - 0s 2ms/step - loss: 0.9931 - accuracy: 0.5312\n",
            "Epoch 1/5\n"
          ]
        },
        {
          "output_type": "stream",
          "name": "stderr",
          "text": [
            "/usr/local/lib/python3.7/dist-packages/tensorflow/python/util/dispatch.py:1082: UserWarning: \"`sparse_categorical_crossentropy` received `from_logits=True`, but the `output` argument was produced by a sigmoid or softmax activation and thus does not represent logits. Was this intended?\"\n",
            "  return dispatch_target(*args, **kwargs)\n"
          ]
        },
        {
          "output_type": "stream",
          "name": "stdout",
          "text": [
            "64/64 [==============================] - 0s 2ms/step - loss: 1.0982 - accuracy: 0.3457\n",
            "Epoch 2/5\n",
            "64/64 [==============================] - 0s 2ms/step - loss: 1.0883 - accuracy: 0.4590\n",
            "Epoch 3/5\n",
            "64/64 [==============================] - 0s 2ms/step - loss: 1.0641 - accuracy: 0.5332\n",
            "Epoch 4/5\n",
            "64/64 [==============================] - 0s 2ms/step - loss: 1.0325 - accuracy: 0.5801\n",
            "Epoch 5/5\n",
            "64/64 [==============================] - 0s 2ms/step - loss: 1.0093 - accuracy: 0.5742\n",
            "32/32 [==============================] - 0s 2ms/step - loss: 1.0077 - accuracy: 0.5430\n",
            "Epoch 1/5\n"
          ]
        },
        {
          "output_type": "stream",
          "name": "stderr",
          "text": [
            "/usr/local/lib/python3.7/dist-packages/tensorflow/python/util/dispatch.py:1082: UserWarning: \"`sparse_categorical_crossentropy` received `from_logits=True`, but the `output` argument was produced by a sigmoid or softmax activation and thus does not represent logits. Was this intended?\"\n",
            "  return dispatch_target(*args, **kwargs)\n"
          ]
        },
        {
          "output_type": "stream",
          "name": "stdout",
          "text": [
            "64/64 [==============================] - 0s 2ms/step - loss: 1.0974 - accuracy: 0.3516\n",
            "Epoch 2/5\n",
            "64/64 [==============================] - 0s 2ms/step - loss: 1.0803 - accuracy: 0.5039\n",
            "Epoch 3/5\n",
            "64/64 [==============================] - 0s 2ms/step - loss: 1.0471 - accuracy: 0.6270\n",
            "Epoch 4/5\n",
            "64/64 [==============================] - 0s 2ms/step - loss: 1.0173 - accuracy: 0.6680\n",
            "Epoch 5/5\n",
            "64/64 [==============================] - 0s 2ms/step - loss: 0.9766 - accuracy: 0.6973\n",
            "32/32 [==============================] - 0s 2ms/step - loss: 0.9871 - accuracy: 0.6523\n",
            "Epoch 1/5\n"
          ]
        },
        {
          "output_type": "stream",
          "name": "stderr",
          "text": [
            "/usr/local/lib/python3.7/dist-packages/tensorflow/python/util/dispatch.py:1082: UserWarning: \"`sparse_categorical_crossentropy` received `from_logits=True`, but the `output` argument was produced by a sigmoid or softmax activation and thus does not represent logits. Was this intended?\"\n",
            "  return dispatch_target(*args, **kwargs)\n"
          ]
        },
        {
          "output_type": "stream",
          "name": "stdout",
          "text": [
            "64/64 [==============================] - 0s 3ms/step - loss: 1.0984 - accuracy: 0.3320\n",
            "Epoch 2/5\n",
            "64/64 [==============================] - 0s 2ms/step - loss: 1.0963 - accuracy: 0.3496\n",
            "Epoch 3/5\n",
            "64/64 [==============================] - 0s 2ms/step - loss: 1.0927 - accuracy: 0.3594\n",
            "Epoch 4/5\n",
            "64/64 [==============================] - 0s 2ms/step - loss: 1.0881 - accuracy: 0.3965\n",
            "Epoch 5/5\n",
            "64/64 [==============================] - 0s 2ms/step - loss: 1.0830 - accuracy: 0.5449\n",
            "32/32 [==============================] - 0s 2ms/step - loss: 1.0786 - accuracy: 0.5859\n",
            "Epoch 1/5\n"
          ]
        },
        {
          "output_type": "stream",
          "name": "stderr",
          "text": [
            "/usr/local/lib/python3.7/dist-packages/tensorflow/python/util/dispatch.py:1082: UserWarning: \"`sparse_categorical_crossentropy` received `from_logits=True`, but the `output` argument was produced by a sigmoid or softmax activation and thus does not represent logits. Was this intended?\"\n",
            "  return dispatch_target(*args, **kwargs)\n"
          ]
        },
        {
          "output_type": "stream",
          "name": "stdout",
          "text": [
            "64/64 [==============================] - 0s 2ms/step - loss: 1.0990 - accuracy: 0.3281\n",
            "Epoch 2/5\n",
            "64/64 [==============================] - 0s 2ms/step - loss: 1.0962 - accuracy: 0.4531\n",
            "Epoch 3/5\n",
            "64/64 [==============================] - 0s 2ms/step - loss: 1.0929 - accuracy: 0.4980\n",
            "Epoch 4/5\n",
            "64/64 [==============================] - 0s 2ms/step - loss: 1.0876 - accuracy: 0.5020\n",
            "Epoch 5/5\n",
            "64/64 [==============================] - 0s 2ms/step - loss: 1.0820 - accuracy: 0.5488\n",
            "32/32 [==============================] - 0s 2ms/step - loss: 1.0799 - accuracy: 0.4883\n",
            "Epoch 1/5\n"
          ]
        },
        {
          "output_type": "stream",
          "name": "stderr",
          "text": [
            "/usr/local/lib/python3.7/dist-packages/tensorflow/python/util/dispatch.py:1082: UserWarning: \"`sparse_categorical_crossentropy` received `from_logits=True`, but the `output` argument was produced by a sigmoid or softmax activation and thus does not represent logits. Was this intended?\"\n",
            "  return dispatch_target(*args, **kwargs)\n"
          ]
        },
        {
          "output_type": "stream",
          "name": "stdout",
          "text": [
            "64/64 [==============================] - 0s 2ms/step - loss: 1.0975 - accuracy: 0.3320\n",
            "Epoch 2/5\n",
            "64/64 [==============================] - 0s 2ms/step - loss: 1.0947 - accuracy: 0.4180\n",
            "Epoch 3/5\n",
            "64/64 [==============================] - 0s 2ms/step - loss: 1.0905 - accuracy: 0.4668\n",
            "Epoch 4/5\n",
            "64/64 [==============================] - 0s 2ms/step - loss: 1.0843 - accuracy: 0.4844\n",
            "Epoch 5/5\n",
            "64/64 [==============================] - 0s 2ms/step - loss: 1.0780 - accuracy: 0.5059\n",
            "32/32 [==============================] - 0s 2ms/step - loss: 1.0799 - accuracy: 0.4336\n",
            "Epoch 1/5\n"
          ]
        },
        {
          "output_type": "stream",
          "name": "stderr",
          "text": [
            "/usr/local/lib/python3.7/dist-packages/tensorflow/python/util/dispatch.py:1082: UserWarning: \"`sparse_categorical_crossentropy` received `from_logits=True`, but the `output` argument was produced by a sigmoid or softmax activation and thus does not represent logits. Was this intended?\"\n",
            "  return dispatch_target(*args, **kwargs)\n"
          ]
        },
        {
          "output_type": "stream",
          "name": "stdout",
          "text": [
            "64/64 [==============================] - 1s 3ms/step - loss: 1.0974 - accuracy: 0.3535\n",
            "Epoch 2/5\n",
            "64/64 [==============================] - 0s 3ms/step - loss: 1.0805 - accuracy: 0.5039\n",
            "Epoch 3/5\n",
            "64/64 [==============================] - 0s 3ms/step - loss: 1.0531 - accuracy: 0.5938\n",
            "Epoch 4/5\n",
            "64/64 [==============================] - 0s 3ms/step - loss: 1.0190 - accuracy: 0.6562\n",
            "Epoch 5/5\n",
            "64/64 [==============================] - 0s 3ms/step - loss: 0.9792 - accuracy: 0.6836\n",
            "32/32 [==============================] - 0s 2ms/step - loss: 0.9614 - accuracy: 0.7266\n",
            "Epoch 1/5\n"
          ]
        },
        {
          "output_type": "stream",
          "name": "stderr",
          "text": [
            "/usr/local/lib/python3.7/dist-packages/tensorflow/python/util/dispatch.py:1082: UserWarning: \"`sparse_categorical_crossentropy` received `from_logits=True`, but the `output` argument was produced by a sigmoid or softmax activation and thus does not represent logits. Was this intended?\"\n",
            "  return dispatch_target(*args, **kwargs)\n"
          ]
        },
        {
          "output_type": "stream",
          "name": "stdout",
          "text": [
            "64/64 [==============================] - 1s 3ms/step - loss: 1.0978 - accuracy: 0.3398\n",
            "Epoch 2/5\n",
            "64/64 [==============================] - 0s 3ms/step - loss: 1.0834 - accuracy: 0.5000\n",
            "Epoch 3/5\n",
            "64/64 [==============================] - 0s 3ms/step - loss: 1.0547 - accuracy: 0.5977\n",
            "Epoch 4/5\n",
            "64/64 [==============================] - 0s 3ms/step - loss: 1.0206 - accuracy: 0.6484\n",
            "Epoch 5/5\n",
            "64/64 [==============================] - 0s 3ms/step - loss: 0.9820 - accuracy: 0.6953\n",
            "32/32 [==============================] - 0s 2ms/step - loss: 0.9809 - accuracy: 0.6367\n",
            "Epoch 1/5\n"
          ]
        },
        {
          "output_type": "stream",
          "name": "stderr",
          "text": [
            "/usr/local/lib/python3.7/dist-packages/tensorflow/python/util/dispatch.py:1082: UserWarning: \"`sparse_categorical_crossentropy` received `from_logits=True`, but the `output` argument was produced by a sigmoid or softmax activation and thus does not represent logits. Was this intended?\"\n",
            "  return dispatch_target(*args, **kwargs)\n"
          ]
        },
        {
          "output_type": "stream",
          "name": "stdout",
          "text": [
            "64/64 [==============================] - 1s 3ms/step - loss: 1.0960 - accuracy: 0.3887\n",
            "Epoch 2/5\n",
            "64/64 [==============================] - 0s 3ms/step - loss: 1.0757 - accuracy: 0.5020\n",
            "Epoch 3/5\n",
            "64/64 [==============================] - 0s 3ms/step - loss: 1.0496 - accuracy: 0.5176\n",
            "Epoch 4/5\n",
            "64/64 [==============================] - 0s 3ms/step - loss: 1.0247 - accuracy: 0.6152\n",
            "Epoch 5/5\n",
            "64/64 [==============================] - 0s 3ms/step - loss: 1.0009 - accuracy: 0.5840\n",
            "32/32 [==============================] - 0s 2ms/step - loss: 1.0159 - accuracy: 0.5156\n",
            "Epoch 1/5\n"
          ]
        },
        {
          "output_type": "stream",
          "name": "stderr",
          "text": [
            "/usr/local/lib/python3.7/dist-packages/tensorflow/python/util/dispatch.py:1082: UserWarning: \"`sparse_categorical_crossentropy` received `from_logits=True`, but the `output` argument was produced by a sigmoid or softmax activation and thus does not represent logits. Was this intended?\"\n",
            "  return dispatch_target(*args, **kwargs)\n"
          ]
        },
        {
          "output_type": "stream",
          "name": "stdout",
          "text": [
            "64/64 [==============================] - 0s 2ms/step - loss: 1.0988 - accuracy: 0.3145\n",
            "Epoch 2/5\n",
            "64/64 [==============================] - 0s 2ms/step - loss: 1.0985 - accuracy: 0.3340\n",
            "Epoch 3/5\n",
            "64/64 [==============================] - 0s 2ms/step - loss: 1.0982 - accuracy: 0.3281\n",
            "Epoch 4/5\n",
            "64/64 [==============================] - 0s 2ms/step - loss: 1.0980 - accuracy: 0.3301\n",
            "Epoch 5/5\n",
            "64/64 [==============================] - 0s 2ms/step - loss: 1.0981 - accuracy: 0.3457\n",
            "32/32 [==============================] - 0s 2ms/step - loss: 1.0979 - accuracy: 0.3555\n",
            "Epoch 1/5\n"
          ]
        },
        {
          "output_type": "stream",
          "name": "stderr",
          "text": [
            "/usr/local/lib/python3.7/dist-packages/tensorflow/python/util/dispatch.py:1082: UserWarning: \"`sparse_categorical_crossentropy` received `from_logits=True`, but the `output` argument was produced by a sigmoid or softmax activation and thus does not represent logits. Was this intended?\"\n",
            "  return dispatch_target(*args, **kwargs)\n"
          ]
        },
        {
          "output_type": "stream",
          "name": "stdout",
          "text": [
            "64/64 [==============================] - 0s 2ms/step - loss: 1.0989 - accuracy: 0.3242\n",
            "Epoch 2/5\n",
            "64/64 [==============================] - 0s 2ms/step - loss: 1.0988 - accuracy: 0.3398\n",
            "Epoch 3/5\n",
            "64/64 [==============================] - 0s 2ms/step - loss: 1.0987 - accuracy: 0.3477\n",
            "Epoch 4/5\n",
            "64/64 [==============================] - 0s 2ms/step - loss: 1.0986 - accuracy: 0.3477\n",
            "Epoch 5/5\n",
            "64/64 [==============================] - 0s 2ms/step - loss: 1.0985 - accuracy: 0.3477\n",
            "32/32 [==============================] - 0s 2ms/step - loss: 1.0976 - accuracy: 0.3516\n",
            "Epoch 1/5\n"
          ]
        },
        {
          "output_type": "stream",
          "name": "stderr",
          "text": [
            "/usr/local/lib/python3.7/dist-packages/tensorflow/python/util/dispatch.py:1082: UserWarning: \"`sparse_categorical_crossentropy` received `from_logits=True`, but the `output` argument was produced by a sigmoid or softmax activation and thus does not represent logits. Was this intended?\"\n",
            "  return dispatch_target(*args, **kwargs)\n"
          ]
        },
        {
          "output_type": "stream",
          "name": "stdout",
          "text": [
            "64/64 [==============================] - 0s 2ms/step - loss: 1.0988 - accuracy: 0.3496\n",
            "Epoch 2/5\n",
            "64/64 [==============================] - 0s 2ms/step - loss: 1.0982 - accuracy: 0.3457\n",
            "Epoch 3/5\n",
            "64/64 [==============================] - 0s 2ms/step - loss: 1.0978 - accuracy: 0.3164\n",
            "Epoch 4/5\n",
            "64/64 [==============================] - 0s 2ms/step - loss: 1.0976 - accuracy: 0.3535\n",
            "Epoch 5/5\n",
            "64/64 [==============================] - 0s 2ms/step - loss: 1.0975 - accuracy: 0.3535\n",
            "32/32 [==============================] - 0s 2ms/step - loss: 1.0990 - accuracy: 0.3398\n",
            "Epoch 1/5\n"
          ]
        },
        {
          "output_type": "stream",
          "name": "stderr",
          "text": [
            "/usr/local/lib/python3.7/dist-packages/tensorflow/python/util/dispatch.py:1082: UserWarning: \"`sparse_categorical_crossentropy` received `from_logits=True`, but the `output` argument was produced by a sigmoid or softmax activation and thus does not represent logits. Was this intended?\"\n",
            "  return dispatch_target(*args, **kwargs)\n"
          ]
        },
        {
          "output_type": "stream",
          "name": "stdout",
          "text": [
            "64/64 [==============================] - 1s 2ms/step - loss: 1.0977 - accuracy: 0.3359\n",
            "Epoch 2/5\n",
            "64/64 [==============================] - 0s 2ms/step - loss: 1.0863 - accuracy: 0.4336\n",
            "Epoch 3/5\n",
            "64/64 [==============================] - 0s 2ms/step - loss: 1.0724 - accuracy: 0.4980\n",
            "Epoch 4/5\n",
            "64/64 [==============================] - 0s 2ms/step - loss: 1.0574 - accuracy: 0.5781\n",
            "Epoch 5/5\n",
            "64/64 [==============================] - 0s 3ms/step - loss: 1.0368 - accuracy: 0.6133\n",
            "32/32 [==============================] - 0s 2ms/step - loss: 1.0242 - accuracy: 0.6953\n",
            "Epoch 1/5\n"
          ]
        },
        {
          "output_type": "stream",
          "name": "stderr",
          "text": [
            "/usr/local/lib/python3.7/dist-packages/tensorflow/python/util/dispatch.py:1082: UserWarning: \"`sparse_categorical_crossentropy` received `from_logits=True`, but the `output` argument was produced by a sigmoid or softmax activation and thus does not represent logits. Was this intended?\"\n",
            "  return dispatch_target(*args, **kwargs)\n"
          ]
        },
        {
          "output_type": "stream",
          "name": "stdout",
          "text": [
            "64/64 [==============================] - 1s 2ms/step - loss: 1.0979 - accuracy: 0.3320\n",
            "Epoch 2/5\n",
            "64/64 [==============================] - 0s 3ms/step - loss: 1.0865 - accuracy: 0.4863\n",
            "Epoch 3/5\n",
            "64/64 [==============================] - 0s 2ms/step - loss: 1.0721 - accuracy: 0.5430\n",
            "Epoch 4/5\n",
            "64/64 [==============================] - 0s 2ms/step - loss: 1.0544 - accuracy: 0.5742\n",
            "Epoch 5/5\n",
            "64/64 [==============================] - 0s 2ms/step - loss: 1.0336 - accuracy: 0.6582\n",
            "32/32 [==============================] - 0s 2ms/step - loss: 1.0258 - accuracy: 0.6367\n",
            "Epoch 1/5\n"
          ]
        },
        {
          "output_type": "stream",
          "name": "stderr",
          "text": [
            "/usr/local/lib/python3.7/dist-packages/tensorflow/python/util/dispatch.py:1082: UserWarning: \"`sparse_categorical_crossentropy` received `from_logits=True`, but the `output` argument was produced by a sigmoid or softmax activation and thus does not represent logits. Was this intended?\"\n",
            "  return dispatch_target(*args, **kwargs)\n"
          ]
        },
        {
          "output_type": "stream",
          "name": "stdout",
          "text": [
            "64/64 [==============================] - 1s 2ms/step - loss: 1.0967 - accuracy: 0.3770\n",
            "Epoch 2/5\n",
            "64/64 [==============================] - 0s 2ms/step - loss: 1.0805 - accuracy: 0.5215\n",
            "Epoch 3/5\n",
            "64/64 [==============================] - 0s 2ms/step - loss: 1.0598 - accuracy: 0.5664\n",
            "Epoch 4/5\n",
            "64/64 [==============================] - 0s 2ms/step - loss: 1.0423 - accuracy: 0.6230\n",
            "Epoch 5/5\n",
            "64/64 [==============================] - 0s 2ms/step - loss: 1.0190 - accuracy: 0.6543\n",
            "32/32 [==============================] - 0s 2ms/step - loss: 1.0261 - accuracy: 0.5703\n",
            "Epoch 1/5\n"
          ]
        },
        {
          "output_type": "stream",
          "name": "stderr",
          "text": [
            "/usr/local/lib/python3.7/dist-packages/tensorflow/python/util/dispatch.py:1082: UserWarning: \"`sparse_categorical_crossentropy` received `from_logits=True`, but the `output` argument was produced by a sigmoid or softmax activation and thus does not represent logits. Was this intended?\"\n",
            "  return dispatch_target(*args, **kwargs)\n"
          ]
        },
        {
          "output_type": "stream",
          "name": "stdout",
          "text": [
            "64/64 [==============================] - 0s 2ms/step - loss: 1.0986 - accuracy: 0.3281\n",
            "Epoch 2/5\n",
            "64/64 [==============================] - 0s 2ms/step - loss: 1.0985 - accuracy: 0.3398\n",
            "Epoch 3/5\n",
            "64/64 [==============================] - 0s 2ms/step - loss: 1.0985 - accuracy: 0.3418\n",
            "Epoch 4/5\n",
            "64/64 [==============================] - 0s 2ms/step - loss: 1.0985 - accuracy: 0.3379\n",
            "Epoch 5/5\n",
            "64/64 [==============================] - 0s 2ms/step - loss: 1.0985 - accuracy: 0.3457\n",
            "32/32 [==============================] - 0s 2ms/step - loss: 1.0985 - accuracy: 0.3516\n",
            "Epoch 1/5\n"
          ]
        },
        {
          "output_type": "stream",
          "name": "stderr",
          "text": [
            "/usr/local/lib/python3.7/dist-packages/tensorflow/python/util/dispatch.py:1082: UserWarning: \"`sparse_categorical_crossentropy` received `from_logits=True`, but the `output` argument was produced by a sigmoid or softmax activation and thus does not represent logits. Was this intended?\"\n",
            "  return dispatch_target(*args, **kwargs)\n"
          ]
        },
        {
          "output_type": "stream",
          "name": "stdout",
          "text": [
            "64/64 [==============================] - 0s 2ms/step - loss: 1.0986 - accuracy: 0.3457\n",
            "Epoch 2/5\n",
            "64/64 [==============================] - 0s 2ms/step - loss: 1.0985 - accuracy: 0.3477\n",
            "Epoch 3/5\n",
            "64/64 [==============================] - 0s 2ms/step - loss: 1.0985 - accuracy: 0.3477\n",
            "Epoch 4/5\n",
            "64/64 [==============================] - 0s 2ms/step - loss: 1.0985 - accuracy: 0.3477\n",
            "Epoch 5/5\n",
            "64/64 [==============================] - 0s 2ms/step - loss: 1.0985 - accuracy: 0.3477\n",
            "32/32 [==============================] - 0s 2ms/step - loss: 1.0985 - accuracy: 0.3516\n",
            "Epoch 1/5\n"
          ]
        },
        {
          "output_type": "stream",
          "name": "stderr",
          "text": [
            "/usr/local/lib/python3.7/dist-packages/tensorflow/python/util/dispatch.py:1082: UserWarning: \"`sparse_categorical_crossentropy` received `from_logits=True`, but the `output` argument was produced by a sigmoid or softmax activation and thus does not represent logits. Was this intended?\"\n",
            "  return dispatch_target(*args, **kwargs)\n"
          ]
        },
        {
          "output_type": "stream",
          "name": "stdout",
          "text": [
            "64/64 [==============================] - 0s 2ms/step - loss: 1.0986 - accuracy: 0.3535\n",
            "Epoch 2/5\n",
            "64/64 [==============================] - 0s 2ms/step - loss: 1.0985 - accuracy: 0.3535\n",
            "Epoch 3/5\n",
            "64/64 [==============================] - 0s 2ms/step - loss: 1.0984 - accuracy: 0.3535\n",
            "Epoch 4/5\n",
            "64/64 [==============================] - 0s 2ms/step - loss: 1.0984 - accuracy: 0.3535\n",
            "Epoch 5/5\n",
            "64/64 [==============================] - 0s 2ms/step - loss: 1.0983 - accuracy: 0.3535\n",
            "32/32 [==============================] - 0s 2ms/step - loss: 1.0986 - accuracy: 0.3398\n",
            "Epoch 1/5\n"
          ]
        },
        {
          "output_type": "stream",
          "name": "stderr",
          "text": [
            "/usr/local/lib/python3.7/dist-packages/tensorflow/python/util/dispatch.py:1082: UserWarning: \"`sparse_categorical_crossentropy` received `from_logits=True`, but the `output` argument was produced by a sigmoid or softmax activation and thus does not represent logits. Was this intended?\"\n",
            "  return dispatch_target(*args, **kwargs)\n"
          ]
        },
        {
          "output_type": "stream",
          "name": "stdout",
          "text": [
            "64/64 [==============================] - 0s 2ms/step - loss: 1.0987 - accuracy: 0.3105\n",
            "Epoch 2/5\n",
            "64/64 [==============================] - 0s 2ms/step - loss: 1.0987 - accuracy: 0.3105\n",
            "Epoch 3/5\n",
            "64/64 [==============================] - 0s 2ms/step - loss: 1.0987 - accuracy: 0.3105\n",
            "Epoch 4/5\n",
            "64/64 [==============================] - 0s 2ms/step - loss: 1.0987 - accuracy: 0.3105\n",
            "Epoch 5/5\n",
            "64/64 [==============================] - 0s 2ms/step - loss: 1.0987 - accuracy: 0.3105\n",
            "32/32 [==============================] - 0s 2ms/step - loss: 1.0986 - accuracy: 0.3164\n",
            "Epoch 1/5\n"
          ]
        },
        {
          "output_type": "stream",
          "name": "stderr",
          "text": [
            "/usr/local/lib/python3.7/dist-packages/tensorflow/python/util/dispatch.py:1082: UserWarning: \"`sparse_categorical_crossentropy` received `from_logits=True`, but the `output` argument was produced by a sigmoid or softmax activation and thus does not represent logits. Was this intended?\"\n",
            "  return dispatch_target(*args, **kwargs)\n"
          ]
        },
        {
          "output_type": "stream",
          "name": "stdout",
          "text": [
            "64/64 [==============================] - 0s 2ms/step - loss: 1.0986 - accuracy: 0.3535\n",
            "Epoch 2/5\n",
            "64/64 [==============================] - 0s 2ms/step - loss: 1.0986 - accuracy: 0.3535\n",
            "Epoch 3/5\n",
            "64/64 [==============================] - 0s 2ms/step - loss: 1.0986 - accuracy: 0.3574\n",
            "Epoch 4/5\n",
            "64/64 [==============================] - 0s 2ms/step - loss: 1.0986 - accuracy: 0.3535\n",
            "Epoch 5/5\n",
            "64/64 [==============================] - 0s 2ms/step - loss: 1.0986 - accuracy: 0.3535\n",
            "32/32 [==============================] - 0s 2ms/step - loss: 1.0985 - accuracy: 0.3711\n",
            "Epoch 1/5\n"
          ]
        },
        {
          "output_type": "stream",
          "name": "stderr",
          "text": [
            "/usr/local/lib/python3.7/dist-packages/tensorflow/python/util/dispatch.py:1082: UserWarning: \"`sparse_categorical_crossentropy` received `from_logits=True`, but the `output` argument was produced by a sigmoid or softmax activation and thus does not represent logits. Was this intended?\"\n",
            "  return dispatch_target(*args, **kwargs)\n"
          ]
        },
        {
          "output_type": "stream",
          "name": "stdout",
          "text": [
            "64/64 [==============================] - 0s 2ms/step - loss: 1.0986 - accuracy: 0.3418\n",
            "Epoch 2/5\n",
            "64/64 [==============================] - 0s 2ms/step - loss: 1.0986 - accuracy: 0.3418\n",
            "Epoch 3/5\n",
            "64/64 [==============================] - 0s 2ms/step - loss: 1.0986 - accuracy: 0.3418\n",
            "Epoch 4/5\n",
            "64/64 [==============================] - 0s 2ms/step - loss: 1.0986 - accuracy: 0.3418\n",
            "Epoch 5/5\n",
            "64/64 [==============================] - 0s 2ms/step - loss: 1.0986 - accuracy: 0.3418\n",
            "32/32 [==============================] - 0s 2ms/step - loss: 1.0987 - accuracy: 0.3320\n",
            "Epoch 1/5\n"
          ]
        },
        {
          "output_type": "stream",
          "name": "stderr",
          "text": [
            "/usr/local/lib/python3.7/dist-packages/tensorflow/python/util/dispatch.py:1082: UserWarning: \"`sparse_categorical_crossentropy` received `from_logits=True`, but the `output` argument was produced by a sigmoid or softmax activation and thus does not represent logits. Was this intended?\"\n",
            "  return dispatch_target(*args, **kwargs)\n"
          ]
        },
        {
          "output_type": "stream",
          "name": "stdout",
          "text": [
            "64/64 [==============================] - 0s 2ms/step - loss: 1.0980 - accuracy: 0.3164\n",
            "Epoch 2/5\n",
            "64/64 [==============================] - 0s 2ms/step - loss: 1.0857 - accuracy: 0.5059\n",
            "Epoch 3/5\n",
            "64/64 [==============================] - 0s 2ms/step - loss: 1.0601 - accuracy: 0.5430\n",
            "Epoch 4/5\n",
            "64/64 [==============================] - 0s 2ms/step - loss: 1.0295 - accuracy: 0.6328\n",
            "Epoch 5/5\n",
            "64/64 [==============================] - 0s 2ms/step - loss: 1.0006 - accuracy: 0.6523\n",
            "32/32 [==============================] - 0s 2ms/step - loss: 0.9853 - accuracy: 0.6875\n",
            "Epoch 1/5\n"
          ]
        },
        {
          "output_type": "stream",
          "name": "stderr",
          "text": [
            "/usr/local/lib/python3.7/dist-packages/tensorflow/python/util/dispatch.py:1082: UserWarning: \"`sparse_categorical_crossentropy` received `from_logits=True`, but the `output` argument was produced by a sigmoid or softmax activation and thus does not represent logits. Was this intended?\"\n",
            "  return dispatch_target(*args, **kwargs)\n"
          ]
        },
        {
          "output_type": "stream",
          "name": "stdout",
          "text": [
            "64/64 [==============================] - 0s 2ms/step - loss: 1.0988 - accuracy: 0.3457\n",
            "Epoch 2/5\n",
            "64/64 [==============================] - 0s 2ms/step - loss: 1.0875 - accuracy: 0.4844\n",
            "Epoch 3/5\n",
            "64/64 [==============================] - 0s 2ms/step - loss: 1.0602 - accuracy: 0.5840\n",
            "Epoch 4/5\n",
            "64/64 [==============================] - 0s 2ms/step - loss: 1.0271 - accuracy: 0.6641\n",
            "Epoch 5/5\n",
            "64/64 [==============================] - 0s 2ms/step - loss: 0.9952 - accuracy: 0.6875\n",
            "32/32 [==============================] - 0s 2ms/step - loss: 0.9913 - accuracy: 0.6328\n",
            "Epoch 1/5\n"
          ]
        },
        {
          "output_type": "stream",
          "name": "stderr",
          "text": [
            "/usr/local/lib/python3.7/dist-packages/tensorflow/python/util/dispatch.py:1082: UserWarning: \"`sparse_categorical_crossentropy` received `from_logits=True`, but the `output` argument was produced by a sigmoid or softmax activation and thus does not represent logits. Was this intended?\"\n",
            "  return dispatch_target(*args, **kwargs)\n"
          ]
        },
        {
          "output_type": "stream",
          "name": "stdout",
          "text": [
            "64/64 [==============================] - 0s 3ms/step - loss: 1.0963 - accuracy: 0.3633\n",
            "Epoch 2/5\n",
            "64/64 [==============================] - 0s 2ms/step - loss: 1.0805 - accuracy: 0.4902\n",
            "Epoch 3/5\n",
            "64/64 [==============================] - 0s 2ms/step - loss: 1.0474 - accuracy: 0.5625\n",
            "Epoch 4/5\n",
            "64/64 [==============================] - 0s 2ms/step - loss: 1.0056 - accuracy: 0.6816\n",
            "Epoch 5/5\n",
            "64/64 [==============================] - 0s 2ms/step - loss: 0.9597 - accuracy: 0.7246\n",
            "32/32 [==============================] - 0s 2ms/step - loss: 0.9788 - accuracy: 0.6367\n",
            "Epoch 1/5\n"
          ]
        },
        {
          "output_type": "stream",
          "name": "stderr",
          "text": [
            "/usr/local/lib/python3.7/dist-packages/tensorflow/python/util/dispatch.py:1082: UserWarning: \"`sparse_categorical_crossentropy` received `from_logits=True`, but the `output` argument was produced by a sigmoid or softmax activation and thus does not represent logits. Was this intended?\"\n",
            "  return dispatch_target(*args, **kwargs)\n"
          ]
        },
        {
          "output_type": "stream",
          "name": "stdout",
          "text": [
            "64/64 [==============================] - 0s 2ms/step - loss: 1.0986 - accuracy: 0.3281\n",
            "Epoch 2/5\n",
            "64/64 [==============================] - 0s 2ms/step - loss: 1.0961 - accuracy: 0.4238\n",
            "Epoch 3/5\n",
            "64/64 [==============================] - 0s 2ms/step - loss: 1.0923 - accuracy: 0.4727\n",
            "Epoch 4/5\n",
            "64/64 [==============================] - 0s 2ms/step - loss: 1.0863 - accuracy: 0.5430\n",
            "Epoch 5/5\n",
            "64/64 [==============================] - 0s 2ms/step - loss: 1.0812 - accuracy: 0.5918\n",
            "32/32 [==============================] - 0s 2ms/step - loss: 1.0769 - accuracy: 0.5391\n",
            "Epoch 1/5\n"
          ]
        },
        {
          "output_type": "stream",
          "name": "stderr",
          "text": [
            "/usr/local/lib/python3.7/dist-packages/tensorflow/python/util/dispatch.py:1082: UserWarning: \"`sparse_categorical_crossentropy` received `from_logits=True`, but the `output` argument was produced by a sigmoid or softmax activation and thus does not represent logits. Was this intended?\"\n",
            "  return dispatch_target(*args, **kwargs)\n"
          ]
        },
        {
          "output_type": "stream",
          "name": "stdout",
          "text": [
            "64/64 [==============================] - 0s 2ms/step - loss: 1.0985 - accuracy: 0.3398\n",
            "Epoch 2/5\n",
            "64/64 [==============================] - 0s 2ms/step - loss: 1.0959 - accuracy: 0.4492\n",
            "Epoch 3/5\n",
            "64/64 [==============================] - 0s 2ms/step - loss: 1.0925 - accuracy: 0.4180\n",
            "Epoch 4/5\n",
            "64/64 [==============================] - 0s 2ms/step - loss: 1.0871 - accuracy: 0.5410\n",
            "Epoch 5/5\n",
            "64/64 [==============================] - 0s 2ms/step - loss: 1.0807 - accuracy: 0.5840\n",
            "32/32 [==============================] - 0s 2ms/step - loss: 1.0782 - accuracy: 0.5703\n",
            "Epoch 1/5\n"
          ]
        },
        {
          "output_type": "stream",
          "name": "stderr",
          "text": [
            "/usr/local/lib/python3.7/dist-packages/tensorflow/python/util/dispatch.py:1082: UserWarning: \"`sparse_categorical_crossentropy` received `from_logits=True`, but the `output` argument was produced by a sigmoid or softmax activation and thus does not represent logits. Was this intended?\"\n",
            "  return dispatch_target(*args, **kwargs)\n"
          ]
        },
        {
          "output_type": "stream",
          "name": "stdout",
          "text": [
            "64/64 [==============================] - 0s 2ms/step - loss: 1.0974 - accuracy: 0.3535\n",
            "Epoch 2/5\n",
            "64/64 [==============================] - 0s 2ms/step - loss: 1.0939 - accuracy: 0.3555\n",
            "Epoch 3/5\n",
            "64/64 [==============================] - 0s 2ms/step - loss: 1.0887 - accuracy: 0.4570\n",
            "Epoch 4/5\n",
            "64/64 [==============================] - 0s 2ms/step - loss: 1.0821 - accuracy: 0.4922\n",
            "Epoch 5/5\n",
            "64/64 [==============================] - 0s 2ms/step - loss: 1.0744 - accuracy: 0.5684\n",
            "32/32 [==============================] - 0s 2ms/step - loss: 1.0777 - accuracy: 0.4688\n",
            "Epoch 1/5\n"
          ]
        },
        {
          "output_type": "stream",
          "name": "stderr",
          "text": [
            "/usr/local/lib/python3.7/dist-packages/tensorflow/python/util/dispatch.py:1082: UserWarning: \"`sparse_categorical_crossentropy` received `from_logits=True`, but the `output` argument was produced by a sigmoid or softmax activation and thus does not represent logits. Was this intended?\"\n",
            "  return dispatch_target(*args, **kwargs)\n"
          ]
        },
        {
          "output_type": "stream",
          "name": "stdout",
          "text": [
            "64/64 [==============================] - 1s 3ms/step - loss: 1.0977 - accuracy: 0.3594\n",
            "Epoch 2/5\n",
            "64/64 [==============================] - 0s 3ms/step - loss: 1.0801 - accuracy: 0.5254\n",
            "Epoch 3/5\n",
            "64/64 [==============================] - 0s 3ms/step - loss: 1.0520 - accuracy: 0.5898\n",
            "Epoch 4/5\n",
            "64/64 [==============================] - 0s 3ms/step - loss: 1.0160 - accuracy: 0.6582\n",
            "Epoch 5/5\n",
            "64/64 [==============================] - 0s 3ms/step - loss: 0.9798 - accuracy: 0.7109\n",
            "32/32 [==============================] - 0s 2ms/step - loss: 0.9656 - accuracy: 0.7578\n",
            "Epoch 1/5\n"
          ]
        },
        {
          "output_type": "stream",
          "name": "stderr",
          "text": [
            "/usr/local/lib/python3.7/dist-packages/tensorflow/python/util/dispatch.py:1082: UserWarning: \"`sparse_categorical_crossentropy` received `from_logits=True`, but the `output` argument was produced by a sigmoid or softmax activation and thus does not represent logits. Was this intended?\"\n",
            "  return dispatch_target(*args, **kwargs)\n"
          ]
        },
        {
          "output_type": "stream",
          "name": "stdout",
          "text": [
            "64/64 [==============================] - 1s 3ms/step - loss: 1.0977 - accuracy: 0.3496\n",
            "Epoch 2/5\n",
            "64/64 [==============================] - 0s 3ms/step - loss: 1.0805 - accuracy: 0.5137\n",
            "Epoch 3/5\n",
            "64/64 [==============================] - 0s 3ms/step - loss: 1.0509 - accuracy: 0.5820\n",
            "Epoch 4/5\n",
            "64/64 [==============================] - 0s 3ms/step - loss: 1.0220 - accuracy: 0.5977\n",
            "Epoch 5/5\n",
            "64/64 [==============================] - 0s 3ms/step - loss: 0.9934 - accuracy: 0.6250\n",
            "32/32 [==============================] - 0s 2ms/step - loss: 1.0014 - accuracy: 0.5625\n",
            "Epoch 1/5\n"
          ]
        },
        {
          "output_type": "stream",
          "name": "stderr",
          "text": [
            "/usr/local/lib/python3.7/dist-packages/tensorflow/python/util/dispatch.py:1082: UserWarning: \"`sparse_categorical_crossentropy` received `from_logits=True`, but the `output` argument was produced by a sigmoid or softmax activation and thus does not represent logits. Was this intended?\"\n",
            "  return dispatch_target(*args, **kwargs)\n"
          ]
        },
        {
          "output_type": "stream",
          "name": "stdout",
          "text": [
            "64/64 [==============================] - 1s 3ms/step - loss: 1.0971 - accuracy: 0.3594\n",
            "Epoch 2/5\n",
            "64/64 [==============================] - 0s 3ms/step - loss: 1.0795 - accuracy: 0.4590\n",
            "Epoch 3/5\n",
            "64/64 [==============================] - 0s 3ms/step - loss: 1.0489 - accuracy: 0.5781\n",
            "Epoch 4/5\n",
            "64/64 [==============================] - 0s 3ms/step - loss: 1.0173 - accuracy: 0.6211\n",
            "Epoch 5/5\n",
            "64/64 [==============================] - 0s 3ms/step - loss: 0.9791 - accuracy: 0.7051\n",
            "32/32 [==============================] - 0s 2ms/step - loss: 0.9917 - accuracy: 0.6172\n",
            "Epoch 1/5\n"
          ]
        },
        {
          "output_type": "stream",
          "name": "stderr",
          "text": [
            "/usr/local/lib/python3.7/dist-packages/tensorflow/python/util/dispatch.py:1082: UserWarning: \"`sparse_categorical_crossentropy` received `from_logits=True`, but the `output` argument was produced by a sigmoid or softmax activation and thus does not represent logits. Was this intended?\"\n",
            "  return dispatch_target(*args, **kwargs)\n"
          ]
        },
        {
          "output_type": "stream",
          "name": "stdout",
          "text": [
            "64/64 [==============================] - 0s 2ms/step - loss: 1.0995 - accuracy: 0.3477\n",
            "Epoch 2/5\n",
            "64/64 [==============================] - 0s 2ms/step - loss: 1.0962 - accuracy: 0.3711\n",
            "Epoch 3/5\n",
            "64/64 [==============================] - 0s 2ms/step - loss: 1.0945 - accuracy: 0.3945\n",
            "Epoch 4/5\n",
            "64/64 [==============================] - 0s 2ms/step - loss: 1.0930 - accuracy: 0.3848\n",
            "Epoch 5/5\n",
            "64/64 [==============================] - 0s 2ms/step - loss: 1.0908 - accuracy: 0.4258\n",
            "32/32 [==============================] - 0s 2ms/step - loss: 1.0884 - accuracy: 0.4102\n",
            "Epoch 1/5\n"
          ]
        },
        {
          "output_type": "stream",
          "name": "stderr",
          "text": [
            "/usr/local/lib/python3.7/dist-packages/tensorflow/python/util/dispatch.py:1082: UserWarning: \"`sparse_categorical_crossentropy` received `from_logits=True`, but the `output` argument was produced by a sigmoid or softmax activation and thus does not represent logits. Was this intended?\"\n",
            "  return dispatch_target(*args, **kwargs)\n"
          ]
        },
        {
          "output_type": "stream",
          "name": "stdout",
          "text": [
            "64/64 [==============================] - 0s 2ms/step - loss: 1.1039 - accuracy: 0.2871\n",
            "Epoch 2/5\n",
            "64/64 [==============================] - 0s 2ms/step - loss: 1.0999 - accuracy: 0.3105\n",
            "Epoch 3/5\n",
            "64/64 [==============================] - 0s 2ms/step - loss: 1.0970 - accuracy: 0.3516\n",
            "Epoch 4/5\n",
            "64/64 [==============================] - 0s 2ms/step - loss: 1.0930 - accuracy: 0.3809\n",
            "Epoch 5/5\n",
            "64/64 [==============================] - 0s 2ms/step - loss: 1.0847 - accuracy: 0.4297\n",
            "32/32 [==============================] - 0s 2ms/step - loss: 1.0845 - accuracy: 0.3750\n",
            "Epoch 1/5\n"
          ]
        },
        {
          "output_type": "stream",
          "name": "stderr",
          "text": [
            "/usr/local/lib/python3.7/dist-packages/tensorflow/python/util/dispatch.py:1082: UserWarning: \"`sparse_categorical_crossentropy` received `from_logits=True`, but the `output` argument was produced by a sigmoid or softmax activation and thus does not represent logits. Was this intended?\"\n",
            "  return dispatch_target(*args, **kwargs)\n"
          ]
        },
        {
          "output_type": "stream",
          "name": "stdout",
          "text": [
            "64/64 [==============================] - 1s 2ms/step - loss: 1.0986 - accuracy: 0.3535\n",
            "Epoch 2/5\n",
            "64/64 [==============================] - 0s 2ms/step - loss: 1.0929 - accuracy: 0.4082\n",
            "Epoch 3/5\n",
            "64/64 [==============================] - 0s 2ms/step - loss: 1.0887 - accuracy: 0.3945\n",
            "Epoch 4/5\n",
            "64/64 [==============================] - 0s 2ms/step - loss: 1.0829 - accuracy: 0.4512\n",
            "Epoch 5/5\n",
            "64/64 [==============================] - 0s 2ms/step - loss: 1.0775 - accuracy: 0.4434\n",
            "32/32 [==============================] - 0s 2ms/step - loss: 1.0763 - accuracy: 0.4336\n",
            "Epoch 1/5\n"
          ]
        },
        {
          "output_type": "stream",
          "name": "stderr",
          "text": [
            "/usr/local/lib/python3.7/dist-packages/tensorflow/python/util/dispatch.py:1082: UserWarning: \"`sparse_categorical_crossentropy` received `from_logits=True`, but the `output` argument was produced by a sigmoid or softmax activation and thus does not represent logits. Was this intended?\"\n",
            "  return dispatch_target(*args, **kwargs)\n"
          ]
        },
        {
          "output_type": "stream",
          "name": "stdout",
          "text": [
            "64/64 [==============================] - 1s 2ms/step - loss: 1.0874 - accuracy: 0.3984\n",
            "Epoch 2/5\n",
            "64/64 [==============================] - 0s 2ms/step - loss: 1.0484 - accuracy: 0.5352\n",
            "Epoch 3/5\n",
            "64/64 [==============================] - 0s 2ms/step - loss: 1.0156 - accuracy: 0.5957\n",
            "Epoch 4/5\n",
            "64/64 [==============================] - 0s 3ms/step - loss: 0.9876 - accuracy: 0.6387\n",
            "Epoch 5/5\n",
            "64/64 [==============================] - 0s 2ms/step - loss: 0.9526 - accuracy: 0.7090\n",
            "32/32 [==============================] - 0s 2ms/step - loss: 0.9574 - accuracy: 0.6094\n",
            "Epoch 1/5\n"
          ]
        },
        {
          "output_type": "stream",
          "name": "stderr",
          "text": [
            "/usr/local/lib/python3.7/dist-packages/tensorflow/python/util/dispatch.py:1082: UserWarning: \"`sparse_categorical_crossentropy` received `from_logits=True`, but the `output` argument was produced by a sigmoid or softmax activation and thus does not represent logits. Was this intended?\"\n",
            "  return dispatch_target(*args, **kwargs)\n"
          ]
        },
        {
          "output_type": "stream",
          "name": "stdout",
          "text": [
            "64/64 [==============================] - 0s 2ms/step - loss: 1.0837 - accuracy: 0.4395\n",
            "Epoch 2/5\n",
            "64/64 [==============================] - 0s 2ms/step - loss: 1.0480 - accuracy: 0.5430\n",
            "Epoch 3/5\n",
            "64/64 [==============================] - 0s 2ms/step - loss: 1.0204 - accuracy: 0.5664\n",
            "Epoch 4/5\n",
            "64/64 [==============================] - 0s 3ms/step - loss: 0.9987 - accuracy: 0.6094\n",
            "Epoch 5/5\n",
            "64/64 [==============================] - 0s 2ms/step - loss: 0.9747 - accuracy: 0.6484\n",
            "32/32 [==============================] - 0s 2ms/step - loss: 0.9690 - accuracy: 0.6523\n",
            "Epoch 1/5\n"
          ]
        },
        {
          "output_type": "stream",
          "name": "stderr",
          "text": [
            "/usr/local/lib/python3.7/dist-packages/tensorflow/python/util/dispatch.py:1082: UserWarning: \"`sparse_categorical_crossentropy` received `from_logits=True`, but the `output` argument was produced by a sigmoid or softmax activation and thus does not represent logits. Was this intended?\"\n",
            "  return dispatch_target(*args, **kwargs)\n"
          ]
        },
        {
          "output_type": "stream",
          "name": "stdout",
          "text": [
            "64/64 [==============================] - 1s 2ms/step - loss: 1.0789 - accuracy: 0.4453\n",
            "Epoch 2/5\n",
            "64/64 [==============================] - 0s 2ms/step - loss: 1.0359 - accuracy: 0.5508\n",
            "Epoch 3/5\n",
            "64/64 [==============================] - 0s 2ms/step - loss: 1.0050 - accuracy: 0.5957\n",
            "Epoch 4/5\n",
            "64/64 [==============================] - 0s 2ms/step - loss: 0.9678 - accuracy: 0.6582\n",
            "Epoch 5/5\n",
            "64/64 [==============================] - 0s 3ms/step - loss: 0.9373 - accuracy: 0.6934\n",
            "32/32 [==============================] - 0s 2ms/step - loss: 0.9645 - accuracy: 0.6094\n",
            "Epoch 1/5\n"
          ]
        },
        {
          "output_type": "stream",
          "name": "stderr",
          "text": [
            "/usr/local/lib/python3.7/dist-packages/tensorflow/python/util/dispatch.py:1082: UserWarning: \"`sparse_categorical_crossentropy` received `from_logits=True`, but the `output` argument was produced by a sigmoid or softmax activation and thus does not represent logits. Was this intended?\"\n",
            "  return dispatch_target(*args, **kwargs)\n"
          ]
        },
        {
          "output_type": "stream",
          "name": "stdout",
          "text": [
            "64/64 [==============================] - 0s 2ms/step - loss: 1.1009 - accuracy: 0.3242\n",
            "Epoch 2/5\n",
            "64/64 [==============================] - 0s 2ms/step - loss: 1.0995 - accuracy: 0.3496\n",
            "Epoch 3/5\n",
            "64/64 [==============================] - 0s 2ms/step - loss: 1.0985 - accuracy: 0.3828\n",
            "Epoch 4/5\n",
            "64/64 [==============================] - 0s 2ms/step - loss: 1.0974 - accuracy: 0.4141\n",
            "Epoch 5/5\n",
            "64/64 [==============================] - 0s 2ms/step - loss: 1.0964 - accuracy: 0.4180\n",
            "32/32 [==============================] - 0s 2ms/step - loss: 1.0939 - accuracy: 0.4219\n",
            "Epoch 1/5\n"
          ]
        },
        {
          "output_type": "stream",
          "name": "stderr",
          "text": [
            "/usr/local/lib/python3.7/dist-packages/tensorflow/python/util/dispatch.py:1082: UserWarning: \"`sparse_categorical_crossentropy` received `from_logits=True`, but the `output` argument was produced by a sigmoid or softmax activation and thus does not represent logits. Was this intended?\"\n",
            "  return dispatch_target(*args, **kwargs)\n"
          ]
        },
        {
          "output_type": "stream",
          "name": "stdout",
          "text": [
            "64/64 [==============================] - 0s 2ms/step - loss: 1.1007 - accuracy: 0.3066\n",
            "Epoch 2/5\n",
            "64/64 [==============================] - 0s 2ms/step - loss: 1.0989 - accuracy: 0.3203\n",
            "Epoch 3/5\n",
            "64/64 [==============================] - 0s 2ms/step - loss: 1.0973 - accuracy: 0.3379\n",
            "Epoch 4/5\n",
            "64/64 [==============================] - 0s 2ms/step - loss: 1.0958 - accuracy: 0.3633\n",
            "Epoch 5/5\n",
            "64/64 [==============================] - 0s 2ms/step - loss: 1.0943 - accuracy: 0.4082\n",
            "32/32 [==============================] - 0s 2ms/step - loss: 1.0917 - accuracy: 0.4375\n",
            "Epoch 1/5\n"
          ]
        },
        {
          "output_type": "stream",
          "name": "stderr",
          "text": [
            "/usr/local/lib/python3.7/dist-packages/tensorflow/python/util/dispatch.py:1082: UserWarning: \"`sparse_categorical_crossentropy` received `from_logits=True`, but the `output` argument was produced by a sigmoid or softmax activation and thus does not represent logits. Was this intended?\"\n",
            "  return dispatch_target(*args, **kwargs)\n"
          ]
        },
        {
          "output_type": "stream",
          "name": "stdout",
          "text": [
            "64/64 [==============================] - 0s 2ms/step - loss: 1.0987 - accuracy: 0.3301\n",
            "Epoch 2/5\n",
            "64/64 [==============================] - 0s 2ms/step - loss: 1.0975 - accuracy: 0.3379\n",
            "Epoch 3/5\n",
            "64/64 [==============================] - 0s 2ms/step - loss: 1.0966 - accuracy: 0.3555\n",
            "Epoch 4/5\n",
            "64/64 [==============================] - 0s 2ms/step - loss: 1.0957 - accuracy: 0.3867\n",
            "Epoch 5/5\n",
            "64/64 [==============================] - 0s 2ms/step - loss: 1.0950 - accuracy: 0.3906\n",
            "32/32 [==============================] - 0s 2ms/step - loss: 1.0983 - accuracy: 0.3359\n",
            "Epoch 1/5\n"
          ]
        },
        {
          "output_type": "stream",
          "name": "stderr",
          "text": [
            "/usr/local/lib/python3.7/dist-packages/tensorflow/python/util/dispatch.py:1082: UserWarning: \"`sparse_categorical_crossentropy` received `from_logits=True`, but the `output` argument was produced by a sigmoid or softmax activation and thus does not represent logits. Was this intended?\"\n",
            "  return dispatch_target(*args, **kwargs)\n"
          ]
        },
        {
          "output_type": "stream",
          "name": "stdout",
          "text": [
            "64/64 [==============================] - 0s 2ms/step - loss: 1.1203 - accuracy: 0.3105\n",
            "Epoch 2/5\n",
            "64/64 [==============================] - 0s 2ms/step - loss: 1.1201 - accuracy: 0.3105\n",
            "Epoch 3/5\n",
            "64/64 [==============================] - 0s 2ms/step - loss: 1.1199 - accuracy: 0.3105\n",
            "Epoch 4/5\n",
            "64/64 [==============================] - 0s 2ms/step - loss: 1.1196 - accuracy: 0.3105\n",
            "Epoch 5/5\n",
            "64/64 [==============================] - 0s 2ms/step - loss: 1.1194 - accuracy: 0.3105\n",
            "32/32 [==============================] - 0s 2ms/step - loss: 1.1153 - accuracy: 0.3164\n",
            "Epoch 1/5\n"
          ]
        },
        {
          "output_type": "stream",
          "name": "stderr",
          "text": [
            "/usr/local/lib/python3.7/dist-packages/tensorflow/python/util/dispatch.py:1082: UserWarning: \"`sparse_categorical_crossentropy` received `from_logits=True`, but the `output` argument was produced by a sigmoid or softmax activation and thus does not represent logits. Was this intended?\"\n",
            "  return dispatch_target(*args, **kwargs)\n"
          ]
        },
        {
          "output_type": "stream",
          "name": "stdout",
          "text": [
            "64/64 [==============================] - 0s 2ms/step - loss: 1.1076 - accuracy: 0.3262\n",
            "Epoch 2/5\n",
            "64/64 [==============================] - 0s 2ms/step - loss: 1.1074 - accuracy: 0.3281\n",
            "Epoch 3/5\n",
            "64/64 [==============================] - 0s 2ms/step - loss: 1.1073 - accuracy: 0.3301\n",
            "Epoch 4/5\n",
            "64/64 [==============================] - 0s 2ms/step - loss: 1.1071 - accuracy: 0.3281\n",
            "Epoch 5/5\n",
            "64/64 [==============================] - 0s 2ms/step - loss: 1.1070 - accuracy: 0.3301\n",
            "32/32 [==============================] - 0s 2ms/step - loss: 1.1078 - accuracy: 0.3164\n",
            "Epoch 1/5\n"
          ]
        },
        {
          "output_type": "stream",
          "name": "stderr",
          "text": [
            "/usr/local/lib/python3.7/dist-packages/tensorflow/python/util/dispatch.py:1082: UserWarning: \"`sparse_categorical_crossentropy` received `from_logits=True`, but the `output` argument was produced by a sigmoid or softmax activation and thus does not represent logits. Was this intended?\"\n",
            "  return dispatch_target(*args, **kwargs)\n"
          ]
        },
        {
          "output_type": "stream",
          "name": "stdout",
          "text": [
            "64/64 [==============================] - 0s 2ms/step - loss: 1.0954 - accuracy: 0.3691\n",
            "Epoch 2/5\n",
            "64/64 [==============================] - 0s 2ms/step - loss: 1.0953 - accuracy: 0.3711\n",
            "Epoch 3/5\n",
            "64/64 [==============================] - 0s 2ms/step - loss: 1.0953 - accuracy: 0.3730\n",
            "Epoch 4/5\n",
            "64/64 [==============================] - 0s 2ms/step - loss: 1.0952 - accuracy: 0.3672\n",
            "Epoch 5/5\n",
            "64/64 [==============================] - 0s 2ms/step - loss: 1.0952 - accuracy: 0.3633\n",
            "32/32 [==============================] - 0s 2ms/step - loss: 1.0962 - accuracy: 0.3594\n",
            "Epoch 1/5\n"
          ]
        },
        {
          "output_type": "stream",
          "name": "stderr",
          "text": [
            "/usr/local/lib/python3.7/dist-packages/tensorflow/python/util/dispatch.py:1082: UserWarning: \"`sparse_categorical_crossentropy` received `from_logits=True`, but the `output` argument was produced by a sigmoid or softmax activation and thus does not represent logits. Was this intended?\"\n",
            "  return dispatch_target(*args, **kwargs)\n"
          ]
        },
        {
          "output_type": "stream",
          "name": "stdout",
          "text": [
            "64/64 [==============================] - 0s 2ms/step - loss: 1.0974 - accuracy: 0.3594\n",
            "Epoch 2/5\n",
            "64/64 [==============================] - 0s 2ms/step - loss: 1.0447 - accuracy: 0.4863\n",
            "Epoch 3/5\n",
            "64/64 [==============================] - 0s 2ms/step - loss: 0.9993 - accuracy: 0.5762\n",
            "Epoch 4/5\n",
            "64/64 [==============================] - 0s 2ms/step - loss: 0.9819 - accuracy: 0.5586\n",
            "Epoch 5/5\n",
            "64/64 [==============================] - 0s 2ms/step - loss: 0.9583 - accuracy: 0.5840\n",
            "32/32 [==============================] - 0s 2ms/step - loss: 0.9733 - accuracy: 0.5234\n",
            "Epoch 1/5\n"
          ]
        },
        {
          "output_type": "stream",
          "name": "stderr",
          "text": [
            "/usr/local/lib/python3.7/dist-packages/tensorflow/python/util/dispatch.py:1082: UserWarning: \"`sparse_categorical_crossentropy` received `from_logits=True`, but the `output` argument was produced by a sigmoid or softmax activation and thus does not represent logits. Was this intended?\"\n",
            "  return dispatch_target(*args, **kwargs)\n"
          ]
        },
        {
          "output_type": "stream",
          "name": "stdout",
          "text": [
            "64/64 [==============================] - 0s 2ms/step - loss: 1.0894 - accuracy: 0.3789\n",
            "Epoch 2/5\n",
            "64/64 [==============================] - 0s 2ms/step - loss: 1.0551 - accuracy: 0.5645\n",
            "Epoch 3/5\n",
            "64/64 [==============================] - 0s 2ms/step - loss: 1.0309 - accuracy: 0.5840\n",
            "Epoch 4/5\n",
            "64/64 [==============================] - 0s 2ms/step - loss: 1.0095 - accuracy: 0.5938\n",
            "Epoch 5/5\n",
            "64/64 [==============================] - 0s 2ms/step - loss: 0.9846 - accuracy: 0.5977\n",
            "32/32 [==============================] - 0s 2ms/step - loss: 0.9888 - accuracy: 0.5742\n",
            "Epoch 1/5\n"
          ]
        },
        {
          "output_type": "stream",
          "name": "stderr",
          "text": [
            "/usr/local/lib/python3.7/dist-packages/tensorflow/python/util/dispatch.py:1082: UserWarning: \"`sparse_categorical_crossentropy` received `from_logits=True`, but the `output` argument was produced by a sigmoid or softmax activation and thus does not represent logits. Was this intended?\"\n",
            "  return dispatch_target(*args, **kwargs)\n"
          ]
        },
        {
          "output_type": "stream",
          "name": "stdout",
          "text": [
            "64/64 [==============================] - 0s 2ms/step - loss: 1.0900 - accuracy: 0.4141\n",
            "Epoch 2/5\n",
            "64/64 [==============================] - 0s 3ms/step - loss: 1.0494 - accuracy: 0.5020\n",
            "Epoch 3/5\n",
            "64/64 [==============================] - 0s 2ms/step - loss: 1.0181 - accuracy: 0.5938\n",
            "Epoch 4/5\n",
            "64/64 [==============================] - 0s 2ms/step - loss: 0.9808 - accuracy: 0.6152\n",
            "Epoch 5/5\n",
            "64/64 [==============================] - 0s 2ms/step - loss: 0.9274 - accuracy: 0.7188\n",
            "32/32 [==============================] - 0s 2ms/step - loss: 0.9431 - accuracy: 0.6484\n",
            "Epoch 1/5\n"
          ]
        },
        {
          "output_type": "stream",
          "name": "stderr",
          "text": [
            "/usr/local/lib/python3.7/dist-packages/tensorflow/python/util/dispatch.py:1082: UserWarning: \"`sparse_categorical_crossentropy` received `from_logits=True`, but the `output` argument was produced by a sigmoid or softmax activation and thus does not represent logits. Was this intended?\"\n",
            "  return dispatch_target(*args, **kwargs)\n"
          ]
        },
        {
          "output_type": "stream",
          "name": "stdout",
          "text": [
            "64/64 [==============================] - 0s 2ms/step - loss: 1.0959 - accuracy: 0.3652\n",
            "Epoch 2/5\n",
            "64/64 [==============================] - 0s 2ms/step - loss: 1.0808 - accuracy: 0.4141\n",
            "Epoch 3/5\n",
            "64/64 [==============================] - 0s 2ms/step - loss: 1.0709 - accuracy: 0.4414\n",
            "Epoch 4/5\n",
            "64/64 [==============================] - 0s 2ms/step - loss: 1.0614 - accuracy: 0.4863\n",
            "Epoch 5/5\n",
            "64/64 [==============================] - 0s 2ms/step - loss: 1.0507 - accuracy: 0.4922\n",
            "32/32 [==============================] - 0s 2ms/step - loss: 1.0472 - accuracy: 0.5039\n",
            "Epoch 1/5\n"
          ]
        },
        {
          "output_type": "stream",
          "name": "stderr",
          "text": [
            "/usr/local/lib/python3.7/dist-packages/tensorflow/python/util/dispatch.py:1082: UserWarning: \"`sparse_categorical_crossentropy` received `from_logits=True`, but the `output` argument was produced by a sigmoid or softmax activation and thus does not represent logits. Was this intended?\"\n",
            "  return dispatch_target(*args, **kwargs)\n"
          ]
        },
        {
          "output_type": "stream",
          "name": "stdout",
          "text": [
            "64/64 [==============================] - 0s 2ms/step - loss: 1.0961 - accuracy: 0.3711\n",
            "Epoch 2/5\n",
            "64/64 [==============================] - 0s 2ms/step - loss: 1.0808 - accuracy: 0.5254\n",
            "Epoch 3/5\n",
            "64/64 [==============================] - 0s 2ms/step - loss: 1.0677 - accuracy: 0.5645\n",
            "Epoch 4/5\n",
            "64/64 [==============================] - 0s 2ms/step - loss: 1.0541 - accuracy: 0.5898\n",
            "Epoch 5/5\n",
            "64/64 [==============================] - 0s 2ms/step - loss: 1.0405 - accuracy: 0.5449\n",
            "32/32 [==============================] - 0s 2ms/step - loss: 1.0377 - accuracy: 0.6484\n",
            "Epoch 1/5\n"
          ]
        },
        {
          "output_type": "stream",
          "name": "stderr",
          "text": [
            "/usr/local/lib/python3.7/dist-packages/tensorflow/python/util/dispatch.py:1082: UserWarning: \"`sparse_categorical_crossentropy` received `from_logits=True`, but the `output` argument was produced by a sigmoid or softmax activation and thus does not represent logits. Was this intended?\"\n",
            "  return dispatch_target(*args, **kwargs)\n"
          ]
        },
        {
          "output_type": "stream",
          "name": "stdout",
          "text": [
            "64/64 [==============================] - 0s 2ms/step - loss: 1.0974 - accuracy: 0.3594\n",
            "Epoch 2/5\n",
            "64/64 [==============================] - 0s 2ms/step - loss: 1.0853 - accuracy: 0.3691\n",
            "Epoch 3/5\n",
            "64/64 [==============================] - 0s 2ms/step - loss: 1.0715 - accuracy: 0.4922\n",
            "Epoch 4/5\n",
            "64/64 [==============================] - 0s 2ms/step - loss: 1.0527 - accuracy: 0.5938\n",
            "Epoch 5/5\n",
            "64/64 [==============================] - 0s 2ms/step - loss: 1.0370 - accuracy: 0.6270\n",
            "32/32 [==============================] - 0s 2ms/step - loss: 1.0474 - accuracy: 0.5703\n",
            "Epoch 1/5\n"
          ]
        },
        {
          "output_type": "stream",
          "name": "stderr",
          "text": [
            "/usr/local/lib/python3.7/dist-packages/tensorflow/python/util/dispatch.py:1082: UserWarning: \"`sparse_categorical_crossentropy` received `from_logits=True`, but the `output` argument was produced by a sigmoid or softmax activation and thus does not represent logits. Was this intended?\"\n",
            "  return dispatch_target(*args, **kwargs)\n"
          ]
        },
        {
          "output_type": "stream",
          "name": "stdout",
          "text": [
            "64/64 [==============================] - 1s 3ms/step - loss: 1.0977 - accuracy: 0.3594\n",
            "Epoch 2/5\n",
            "64/64 [==============================] - 0s 3ms/step - loss: 1.0556 - accuracy: 0.5000\n",
            "Epoch 3/5\n",
            "64/64 [==============================] - 0s 3ms/step - loss: 1.0124 - accuracy: 0.5801\n",
            "Epoch 4/5\n",
            "64/64 [==============================] - 0s 3ms/step - loss: 0.9752 - accuracy: 0.6211\n",
            "Epoch 5/5\n",
            "64/64 [==============================] - 0s 3ms/step - loss: 0.9374 - accuracy: 0.6777\n",
            "32/32 [==============================] - 0s 2ms/step - loss: 0.9089 - accuracy: 0.7500\n",
            "Epoch 1/5\n"
          ]
        },
        {
          "output_type": "stream",
          "name": "stderr",
          "text": [
            "/usr/local/lib/python3.7/dist-packages/tensorflow/python/util/dispatch.py:1082: UserWarning: \"`sparse_categorical_crossentropy` received `from_logits=True`, but the `output` argument was produced by a sigmoid or softmax activation and thus does not represent logits. Was this intended?\"\n",
            "  return dispatch_target(*args, **kwargs)\n"
          ]
        },
        {
          "output_type": "stream",
          "name": "stdout",
          "text": [
            "64/64 [==============================] - 1s 3ms/step - loss: 1.0944 - accuracy: 0.3770\n",
            "Epoch 2/5\n",
            "64/64 [==============================] - 0s 3ms/step - loss: 1.0520 - accuracy: 0.5137\n",
            "Epoch 3/5\n",
            "64/64 [==============================] - 0s 3ms/step - loss: 1.0129 - accuracy: 0.5957\n",
            "Epoch 4/5\n",
            "64/64 [==============================] - 0s 3ms/step - loss: 0.9809 - accuracy: 0.5918\n",
            "Epoch 5/5\n",
            "64/64 [==============================] - 0s 3ms/step - loss: 0.9502 - accuracy: 0.6191\n",
            "32/32 [==============================] - 0s 2ms/step - loss: 0.9543 - accuracy: 0.6133\n",
            "Epoch 1/5\n"
          ]
        },
        {
          "output_type": "stream",
          "name": "stderr",
          "text": [
            "/usr/local/lib/python3.7/dist-packages/tensorflow/python/util/dispatch.py:1082: UserWarning: \"`sparse_categorical_crossentropy` received `from_logits=True`, but the `output` argument was produced by a sigmoid or softmax activation and thus does not represent logits. Was this intended?\"\n",
            "  return dispatch_target(*args, **kwargs)\n"
          ]
        },
        {
          "output_type": "stream",
          "name": "stdout",
          "text": [
            "64/64 [==============================] - 1s 3ms/step - loss: 1.0807 - accuracy: 0.4043\n",
            "Epoch 2/5\n",
            "64/64 [==============================] - 0s 3ms/step - loss: 1.0324 - accuracy: 0.5469\n",
            "Epoch 3/5\n",
            "64/64 [==============================] - 0s 3ms/step - loss: 0.9896 - accuracy: 0.6328\n",
            "Epoch 4/5\n",
            "64/64 [==============================] - 0s 3ms/step - loss: 0.9449 - accuracy: 0.7090\n",
            "Epoch 5/5\n",
            "64/64 [==============================] - 0s 3ms/step - loss: 0.9049 - accuracy: 0.7500\n",
            "32/32 [==============================] - 0s 2ms/step - loss: 0.9357 - accuracy: 0.6758\n",
            "Epoch 1/5\n"
          ]
        },
        {
          "output_type": "stream",
          "name": "stderr",
          "text": [
            "/usr/local/lib/python3.7/dist-packages/tensorflow/python/util/dispatch.py:1082: UserWarning: \"`sparse_categorical_crossentropy` received `from_logits=True`, but the `output` argument was produced by a sigmoid or softmax activation and thus does not represent logits. Was this intended?\"\n",
            "  return dispatch_target(*args, **kwargs)\n"
          ]
        },
        {
          "output_type": "stream",
          "name": "stdout",
          "text": [
            "64/64 [==============================] - 0s 2ms/step - loss: 1.0977 - accuracy: 0.3164\n",
            "Epoch 2/5\n",
            "64/64 [==============================] - 0s 2ms/step - loss: 1.0973 - accuracy: 0.3203\n",
            "Epoch 3/5\n",
            "64/64 [==============================] - 0s 2ms/step - loss: 1.0967 - accuracy: 0.3281\n",
            "Epoch 4/5\n",
            "64/64 [==============================] - 0s 2ms/step - loss: 1.0964 - accuracy: 0.3496\n",
            "Epoch 5/5\n",
            "64/64 [==============================] - 0s 2ms/step - loss: 1.0958 - accuracy: 0.3516\n",
            "32/32 [==============================] - 0s 2ms/step - loss: 1.0944 - accuracy: 0.3672\n",
            "Epoch 1/5\n"
          ]
        },
        {
          "output_type": "stream",
          "name": "stderr",
          "text": [
            "/usr/local/lib/python3.7/dist-packages/tensorflow/python/util/dispatch.py:1082: UserWarning: \"`sparse_categorical_crossentropy` received `from_logits=True`, but the `output` argument was produced by a sigmoid or softmax activation and thus does not represent logits. Was this intended?\"\n",
            "  return dispatch_target(*args, **kwargs)\n"
          ]
        },
        {
          "output_type": "stream",
          "name": "stdout",
          "text": [
            "64/64 [==============================] - 0s 2ms/step - loss: 1.0993 - accuracy: 0.3203\n",
            "Epoch 2/5\n",
            "64/64 [==============================] - 0s 2ms/step - loss: 1.0980 - accuracy: 0.3594\n",
            "Epoch 3/5\n",
            "64/64 [==============================] - 0s 2ms/step - loss: 1.0971 - accuracy: 0.4336\n",
            "Epoch 4/5\n",
            "64/64 [==============================] - 0s 2ms/step - loss: 1.0964 - accuracy: 0.3730\n",
            "Epoch 5/5\n",
            "64/64 [==============================] - 0s 2ms/step - loss: 1.0955 - accuracy: 0.3477\n",
            "32/32 [==============================] - 0s 2ms/step - loss: 1.0957 - accuracy: 0.3555\n",
            "Epoch 1/5\n"
          ]
        },
        {
          "output_type": "stream",
          "name": "stderr",
          "text": [
            "/usr/local/lib/python3.7/dist-packages/tensorflow/python/util/dispatch.py:1082: UserWarning: \"`sparse_categorical_crossentropy` received `from_logits=True`, but the `output` argument was produced by a sigmoid or softmax activation and thus does not represent logits. Was this intended?\"\n",
            "  return dispatch_target(*args, **kwargs)\n"
          ]
        },
        {
          "output_type": "stream",
          "name": "stdout",
          "text": [
            "64/64 [==============================] - 0s 3ms/step - loss: 1.0957 - accuracy: 0.3711\n",
            "Epoch 2/5\n",
            "64/64 [==============================] - 0s 2ms/step - loss: 1.0937 - accuracy: 0.4004\n",
            "Epoch 3/5\n",
            "64/64 [==============================] - 0s 2ms/step - loss: 1.0916 - accuracy: 0.3965\n",
            "Epoch 4/5\n",
            "64/64 [==============================] - 0s 2ms/step - loss: 1.0891 - accuracy: 0.4219\n",
            "Epoch 5/5\n",
            "64/64 [==============================] - 0s 2ms/step - loss: 1.0860 - accuracy: 0.4473\n",
            "32/32 [==============================] - 0s 2ms/step - loss: 1.0886 - accuracy: 0.4062\n",
            "Epoch 1/5\n"
          ]
        },
        {
          "output_type": "stream",
          "name": "stderr",
          "text": [
            "/usr/local/lib/python3.7/dist-packages/tensorflow/python/util/dispatch.py:1082: UserWarning: \"`sparse_categorical_crossentropy` received `from_logits=True`, but the `output` argument was produced by a sigmoid or softmax activation and thus does not represent logits. Was this intended?\"\n",
            "  return dispatch_target(*args, **kwargs)\n"
          ]
        },
        {
          "output_type": "stream",
          "name": "stdout",
          "text": [
            "64/64 [==============================] - 1s 3ms/step - loss: 1.0934 - accuracy: 0.3535\n",
            "Epoch 2/5\n",
            "64/64 [==============================] - 0s 2ms/step - loss: 1.0637 - accuracy: 0.5000\n",
            "Epoch 3/5\n",
            "64/64 [==============================] - 0s 2ms/step - loss: 1.0373 - accuracy: 0.5840\n",
            "Epoch 4/5\n",
            "64/64 [==============================] - 0s 2ms/step - loss: 1.0163 - accuracy: 0.5977\n",
            "Epoch 5/5\n",
            "64/64 [==============================] - 0s 3ms/step - loss: 0.9911 - accuracy: 0.6133\n",
            "32/32 [==============================] - 0s 2ms/step - loss: 0.9813 - accuracy: 0.6641\n",
            "Epoch 1/5\n"
          ]
        },
        {
          "output_type": "stream",
          "name": "stderr",
          "text": [
            "/usr/local/lib/python3.7/dist-packages/tensorflow/python/util/dispatch.py:1082: UserWarning: \"`sparse_categorical_crossentropy` received `from_logits=True`, but the `output` argument was produced by a sigmoid or softmax activation and thus does not represent logits. Was this intended?\"\n",
            "  return dispatch_target(*args, **kwargs)\n"
          ]
        },
        {
          "output_type": "stream",
          "name": "stdout",
          "text": [
            "64/64 [==============================] - 1s 3ms/step - loss: 1.0946 - accuracy: 0.3965\n",
            "Epoch 2/5\n",
            "64/64 [==============================] - 0s 2ms/step - loss: 1.0597 - accuracy: 0.5312\n",
            "Epoch 3/5\n",
            "64/64 [==============================] - 0s 2ms/step - loss: 1.0313 - accuracy: 0.5762\n",
            "Epoch 4/5\n",
            "64/64 [==============================] - 0s 2ms/step - loss: 1.0081 - accuracy: 0.6133\n",
            "Epoch 5/5\n",
            "64/64 [==============================] - 0s 3ms/step - loss: 0.9843 - accuracy: 0.6562\n",
            "32/32 [==============================] - 0s 2ms/step - loss: 0.9740 - accuracy: 0.6484\n",
            "Epoch 1/5\n"
          ]
        },
        {
          "output_type": "stream",
          "name": "stderr",
          "text": [
            "/usr/local/lib/python3.7/dist-packages/tensorflow/python/util/dispatch.py:1082: UserWarning: \"`sparse_categorical_crossentropy` received `from_logits=True`, but the `output` argument was produced by a sigmoid or softmax activation and thus does not represent logits. Was this intended?\"\n",
            "  return dispatch_target(*args, **kwargs)\n"
          ]
        },
        {
          "output_type": "stream",
          "name": "stdout",
          "text": [
            "64/64 [==============================] - 1s 3ms/step - loss: 1.0893 - accuracy: 0.3887\n",
            "Epoch 2/5\n",
            "64/64 [==============================] - 0s 3ms/step - loss: 1.0443 - accuracy: 0.5723\n",
            "Epoch 3/5\n",
            "64/64 [==============================] - 0s 2ms/step - loss: 1.0105 - accuracy: 0.6074\n",
            "Epoch 4/5\n",
            "64/64 [==============================] - 0s 2ms/step - loss: 0.9854 - accuracy: 0.6562\n",
            "Epoch 5/5\n",
            "64/64 [==============================] - 0s 2ms/step - loss: 0.9584 - accuracy: 0.7051\n",
            "32/32 [==============================] - 0s 2ms/step - loss: 0.9770 - accuracy: 0.6289\n",
            "Epoch 1/5\n"
          ]
        },
        {
          "output_type": "stream",
          "name": "stderr",
          "text": [
            "/usr/local/lib/python3.7/dist-packages/tensorflow/python/util/dispatch.py:1082: UserWarning: \"`sparse_categorical_crossentropy` received `from_logits=True`, but the `output` argument was produced by a sigmoid or softmax activation and thus does not represent logits. Was this intended?\"\n",
            "  return dispatch_target(*args, **kwargs)\n"
          ]
        },
        {
          "output_type": "stream",
          "name": "stdout",
          "text": [
            "64/64 [==============================] - 0s 2ms/step - loss: 1.1002 - accuracy: 0.3496\n",
            "Epoch 2/5\n",
            "64/64 [==============================] - 0s 2ms/step - loss: 1.0999 - accuracy: 0.3418\n",
            "Epoch 3/5\n",
            "64/64 [==============================] - 0s 2ms/step - loss: 1.0996 - accuracy: 0.3418\n",
            "Epoch 4/5\n",
            "64/64 [==============================] - 0s 2ms/step - loss: 1.0993 - accuracy: 0.3457\n",
            "Epoch 5/5\n",
            "64/64 [==============================] - 0s 2ms/step - loss: 1.0991 - accuracy: 0.3457\n",
            "32/32 [==============================] - 0s 2ms/step - loss: 1.0979 - accuracy: 0.3555\n",
            "Epoch 1/5\n"
          ]
        },
        {
          "output_type": "stream",
          "name": "stderr",
          "text": [
            "/usr/local/lib/python3.7/dist-packages/tensorflow/python/util/dispatch.py:1082: UserWarning: \"`sparse_categorical_crossentropy` received `from_logits=True`, but the `output` argument was produced by a sigmoid or softmax activation and thus does not represent logits. Was this intended?\"\n",
            "  return dispatch_target(*args, **kwargs)\n"
          ]
        },
        {
          "output_type": "stream",
          "name": "stdout",
          "text": [
            "64/64 [==============================] - 0s 2ms/step - loss: 1.1017 - accuracy: 0.2910\n",
            "Epoch 2/5\n",
            "64/64 [==============================] - 0s 2ms/step - loss: 1.1012 - accuracy: 0.2715\n",
            "Epoch 3/5\n",
            "64/64 [==============================] - 0s 2ms/step - loss: 1.1008 - accuracy: 0.2656\n",
            "Epoch 4/5\n",
            "64/64 [==============================] - 0s 2ms/step - loss: 1.1004 - accuracy: 0.2832\n",
            "Epoch 5/5\n",
            "64/64 [==============================] - 0s 2ms/step - loss: 1.1001 - accuracy: 0.2695\n",
            "32/32 [==============================] - 0s 2ms/step - loss: 1.1011 - accuracy: 0.2422\n",
            "Epoch 1/5\n"
          ]
        },
        {
          "output_type": "stream",
          "name": "stderr",
          "text": [
            "/usr/local/lib/python3.7/dist-packages/tensorflow/python/util/dispatch.py:1082: UserWarning: \"`sparse_categorical_crossentropy` received `from_logits=True`, but the `output` argument was produced by a sigmoid or softmax activation and thus does not represent logits. Was this intended?\"\n",
            "  return dispatch_target(*args, **kwargs)\n"
          ]
        },
        {
          "output_type": "stream",
          "name": "stdout",
          "text": [
            "64/64 [==============================] - 0s 2ms/step - loss: 1.0998 - accuracy: 0.3418\n",
            "Epoch 2/5\n",
            "64/64 [==============================] - 0s 2ms/step - loss: 1.0989 - accuracy: 0.3574\n",
            "Epoch 3/5\n",
            "64/64 [==============================] - 0s 2ms/step - loss: 1.0982 - accuracy: 0.3652\n",
            "Epoch 4/5\n",
            "64/64 [==============================] - 0s 2ms/step - loss: 1.0975 - accuracy: 0.3887\n",
            "Epoch 5/5\n",
            "64/64 [==============================] - 0s 2ms/step - loss: 1.0969 - accuracy: 0.3828\n",
            "32/32 [==============================] - 0s 2ms/step - loss: 1.0974 - accuracy: 0.3828\n",
            "Epoch 1/5\n"
          ]
        },
        {
          "output_type": "stream",
          "name": "stderr",
          "text": [
            "/usr/local/lib/python3.7/dist-packages/tensorflow/python/util/dispatch.py:1082: UserWarning: \"`sparse_categorical_crossentropy` received `from_logits=True`, but the `output` argument was produced by a sigmoid or softmax activation and thus does not represent logits. Was this intended?\"\n",
            "  return dispatch_target(*args, **kwargs)\n"
          ]
        },
        {
          "output_type": "stream",
          "name": "stdout",
          "text": [
            "64/64 [==============================] - 0s 2ms/step - loss: 1.0979 - accuracy: 0.3691\n",
            "Epoch 2/5\n",
            "64/64 [==============================] - 0s 2ms/step - loss: 1.0978 - accuracy: 0.3730\n",
            "Epoch 3/5\n",
            "64/64 [==============================] - 0s 2ms/step - loss: 1.0978 - accuracy: 0.3730\n",
            "Epoch 4/5\n",
            "64/64 [==============================] - 0s 2ms/step - loss: 1.0978 - accuracy: 0.3750\n",
            "Epoch 5/5\n",
            "64/64 [==============================] - 0s 2ms/step - loss: 1.0978 - accuracy: 0.3770\n",
            "32/32 [==============================] - 0s 2ms/step - loss: 1.0977 - accuracy: 0.3945\n",
            "Epoch 1/5\n"
          ]
        },
        {
          "output_type": "stream",
          "name": "stderr",
          "text": [
            "/usr/local/lib/python3.7/dist-packages/tensorflow/python/util/dispatch.py:1082: UserWarning: \"`sparse_categorical_crossentropy` received `from_logits=True`, but the `output` argument was produced by a sigmoid or softmax activation and thus does not represent logits. Was this intended?\"\n",
            "  return dispatch_target(*args, **kwargs)\n"
          ]
        },
        {
          "output_type": "stream",
          "name": "stdout",
          "text": [
            "64/64 [==============================] - 0s 2ms/step - loss: 1.0998 - accuracy: 0.3320\n",
            "Epoch 2/5\n",
            "64/64 [==============================] - 0s 2ms/step - loss: 1.0998 - accuracy: 0.3320\n",
            "Epoch 3/5\n",
            "64/64 [==============================] - 0s 2ms/step - loss: 1.0998 - accuracy: 0.3320\n",
            "Epoch 4/5\n",
            "64/64 [==============================] - 0s 2ms/step - loss: 1.0997 - accuracy: 0.3320\n",
            "Epoch 5/5\n",
            "64/64 [==============================] - 0s 2ms/step - loss: 1.0997 - accuracy: 0.3320\n",
            "32/32 [==============================] - 0s 2ms/step - loss: 1.0981 - accuracy: 0.3555\n",
            "Epoch 1/5\n"
          ]
        },
        {
          "output_type": "stream",
          "name": "stderr",
          "text": [
            "/usr/local/lib/python3.7/dist-packages/tensorflow/python/util/dispatch.py:1082: UserWarning: \"`sparse_categorical_crossentropy` received `from_logits=True`, but the `output` argument was produced by a sigmoid or softmax activation and thus does not represent logits. Was this intended?\"\n",
            "  return dispatch_target(*args, **kwargs)\n"
          ]
        },
        {
          "output_type": "stream",
          "name": "stdout",
          "text": [
            "64/64 [==============================] - 0s 2ms/step - loss: 1.0996 - accuracy: 0.2949\n",
            "Epoch 2/5\n",
            "64/64 [==============================] - 0s 2ms/step - loss: 1.0996 - accuracy: 0.2930\n",
            "Epoch 3/5\n",
            "64/64 [==============================] - 0s 2ms/step - loss: 1.0995 - accuracy: 0.2910\n",
            "Epoch 4/5\n",
            "64/64 [==============================] - 0s 2ms/step - loss: 1.0995 - accuracy: 0.2891\n",
            "Epoch 5/5\n",
            "64/64 [==============================] - 0s 2ms/step - loss: 1.0995 - accuracy: 0.2891\n",
            "32/32 [==============================] - 0s 2ms/step - loss: 1.0988 - accuracy: 0.3359\n",
            "Epoch 1/5\n"
          ]
        },
        {
          "output_type": "stream",
          "name": "stderr",
          "text": [
            "/usr/local/lib/python3.7/dist-packages/tensorflow/python/util/dispatch.py:1082: UserWarning: \"`sparse_categorical_crossentropy` received `from_logits=True`, but the `output` argument was produced by a sigmoid or softmax activation and thus does not represent logits. Was this intended?\"\n",
            "  return dispatch_target(*args, **kwargs)\n"
          ]
        },
        {
          "output_type": "stream",
          "name": "stdout",
          "text": [
            "64/64 [==============================] - 0s 2ms/step - loss: 1.0916 - accuracy: 0.3379\n",
            "Epoch 2/5\n",
            "64/64 [==============================] - 0s 2ms/step - loss: 1.0709 - accuracy: 0.4219\n",
            "Epoch 3/5\n",
            "64/64 [==============================] - 0s 2ms/step - loss: 1.0318 - accuracy: 0.6250\n",
            "Epoch 4/5\n",
            "64/64 [==============================] - 0s 2ms/step - loss: 0.9997 - accuracy: 0.6426\n",
            "Epoch 5/5\n",
            "64/64 [==============================] - 0s 2ms/step - loss: 0.9665 - accuracy: 0.6855\n",
            "32/32 [==============================] - 0s 2ms/step - loss: 0.9512 - accuracy: 0.7109\n",
            "Epoch 1/5\n"
          ]
        },
        {
          "output_type": "stream",
          "name": "stderr",
          "text": [
            "/usr/local/lib/python3.7/dist-packages/tensorflow/python/util/dispatch.py:1082: UserWarning: \"`sparse_categorical_crossentropy` received `from_logits=True`, but the `output` argument was produced by a sigmoid or softmax activation and thus does not represent logits. Was this intended?\"\n",
            "  return dispatch_target(*args, **kwargs)\n"
          ]
        },
        {
          "output_type": "stream",
          "name": "stdout",
          "text": [
            "64/64 [==============================] - 0s 2ms/step - loss: 1.0904 - accuracy: 0.3711\n",
            "Epoch 2/5\n",
            "64/64 [==============================] - 0s 2ms/step - loss: 1.0607 - accuracy: 0.5254\n",
            "Epoch 3/5\n",
            "64/64 [==============================] - 0s 2ms/step - loss: 1.0286 - accuracy: 0.6250\n",
            "Epoch 4/5\n",
            "64/64 [==============================] - 0s 2ms/step - loss: 0.9823 - accuracy: 0.6914\n",
            "Epoch 5/5\n",
            "64/64 [==============================] - 0s 2ms/step - loss: 0.9519 - accuracy: 0.6816\n",
            "32/32 [==============================] - 0s 2ms/step - loss: 0.9317 - accuracy: 0.7227\n",
            "Epoch 1/5\n"
          ]
        },
        {
          "output_type": "stream",
          "name": "stderr",
          "text": [
            "/usr/local/lib/python3.7/dist-packages/tensorflow/python/util/dispatch.py:1082: UserWarning: \"`sparse_categorical_crossentropy` received `from_logits=True`, but the `output` argument was produced by a sigmoid or softmax activation and thus does not represent logits. Was this intended?\"\n",
            "  return dispatch_target(*args, **kwargs)\n"
          ]
        },
        {
          "output_type": "stream",
          "name": "stdout",
          "text": [
            "64/64 [==============================] - 0s 2ms/step - loss: 1.0974 - accuracy: 0.3457\n",
            "Epoch 2/5\n",
            "64/64 [==============================] - 0s 2ms/step - loss: 1.0802 - accuracy: 0.3691\n",
            "Epoch 3/5\n",
            "64/64 [==============================] - 0s 2ms/step - loss: 1.0404 - accuracy: 0.5117\n",
            "Epoch 4/5\n",
            "64/64 [==============================] - 0s 2ms/step - loss: 1.0005 - accuracy: 0.5469\n",
            "Epoch 5/5\n",
            "64/64 [==============================] - 0s 2ms/step - loss: 0.9722 - accuracy: 0.5625\n",
            "32/32 [==============================] - 0s 2ms/step - loss: 0.9890 - accuracy: 0.4961\n",
            "Epoch 1/5\n"
          ]
        },
        {
          "output_type": "stream",
          "name": "stderr",
          "text": [
            "/usr/local/lib/python3.7/dist-packages/tensorflow/python/util/dispatch.py:1082: UserWarning: \"`sparse_categorical_crossentropy` received `from_logits=True`, but the `output` argument was produced by a sigmoid or softmax activation and thus does not represent logits. Was this intended?\"\n",
            "  return dispatch_target(*args, **kwargs)\n"
          ]
        },
        {
          "output_type": "stream",
          "name": "stdout",
          "text": [
            "64/64 [==============================] - 0s 2ms/step - loss: 1.0946 - accuracy: 0.3594\n",
            "Epoch 2/5\n",
            "64/64 [==============================] - 0s 2ms/step - loss: 1.0827 - accuracy: 0.4453\n",
            "Epoch 3/5\n",
            "64/64 [==============================] - 0s 2ms/step - loss: 1.0701 - accuracy: 0.5020\n",
            "Epoch 4/5\n",
            "64/64 [==============================] - 0s 2ms/step - loss: 1.0593 - accuracy: 0.5312\n",
            "Epoch 5/5\n",
            "64/64 [==============================] - 0s 2ms/step - loss: 1.0498 - accuracy: 0.5488\n",
            "32/32 [==============================] - 0s 2ms/step - loss: 1.0395 - accuracy: 0.6250\n",
            "Epoch 1/5\n"
          ]
        },
        {
          "output_type": "stream",
          "name": "stderr",
          "text": [
            "/usr/local/lib/python3.7/dist-packages/tensorflow/python/util/dispatch.py:1082: UserWarning: \"`sparse_categorical_crossentropy` received `from_logits=True`, but the `output` argument was produced by a sigmoid or softmax activation and thus does not represent logits. Was this intended?\"\n",
            "  return dispatch_target(*args, **kwargs)\n"
          ]
        },
        {
          "output_type": "stream",
          "name": "stdout",
          "text": [
            "64/64 [==============================] - 0s 2ms/step - loss: 1.0957 - accuracy: 0.3633\n",
            "Epoch 2/5\n",
            "64/64 [==============================] - 0s 2ms/step - loss: 1.0835 - accuracy: 0.5195\n",
            "Epoch 3/5\n",
            "64/64 [==============================] - 0s 2ms/step - loss: 1.0670 - accuracy: 0.5488\n",
            "Epoch 4/5\n",
            "64/64 [==============================] - 0s 2ms/step - loss: 1.0555 - accuracy: 0.5781\n",
            "Epoch 5/5\n",
            "64/64 [==============================] - 0s 2ms/step - loss: 1.0418 - accuracy: 0.6016\n",
            "32/32 [==============================] - 0s 2ms/step - loss: 1.0395 - accuracy: 0.6133\n",
            "Epoch 1/5\n"
          ]
        },
        {
          "output_type": "stream",
          "name": "stderr",
          "text": [
            "/usr/local/lib/python3.7/dist-packages/tensorflow/python/util/dispatch.py:1082: UserWarning: \"`sparse_categorical_crossentropy` received `from_logits=True`, but the `output` argument was produced by a sigmoid or softmax activation and thus does not represent logits. Was this intended?\"\n",
            "  return dispatch_target(*args, **kwargs)\n"
          ]
        },
        {
          "output_type": "stream",
          "name": "stdout",
          "text": [
            "64/64 [==============================] - 1s 2ms/step - loss: 1.0970 - accuracy: 0.3594\n",
            "Epoch 2/5\n",
            "64/64 [==============================] - 0s 2ms/step - loss: 1.0814 - accuracy: 0.3633\n",
            "Epoch 3/5\n",
            "64/64 [==============================] - 0s 2ms/step - loss: 1.0676 - accuracy: 0.4902\n",
            "Epoch 4/5\n",
            "64/64 [==============================] - 0s 2ms/step - loss: 1.0556 - accuracy: 0.5703\n",
            "Epoch 5/5\n",
            "64/64 [==============================] - 0s 2ms/step - loss: 1.0436 - accuracy: 0.5781\n",
            "32/32 [==============================] - 0s 2ms/step - loss: 1.0543 - accuracy: 0.5000\n",
            "Epoch 1/5\n"
          ]
        },
        {
          "output_type": "stream",
          "name": "stderr",
          "text": [
            "/usr/local/lib/python3.7/dist-packages/tensorflow/python/util/dispatch.py:1082: UserWarning: \"`sparse_categorical_crossentropy` received `from_logits=True`, but the `output` argument was produced by a sigmoid or softmax activation and thus does not represent logits. Was this intended?\"\n",
            "  return dispatch_target(*args, **kwargs)\n"
          ]
        },
        {
          "output_type": "stream",
          "name": "stdout",
          "text": [
            "64/64 [==============================] - 1s 3ms/step - loss: 1.0908 - accuracy: 0.4219\n",
            "Epoch 2/5\n",
            "64/64 [==============================] - 0s 3ms/step - loss: 1.0562 - accuracy: 0.5332\n",
            "Epoch 3/5\n",
            "64/64 [==============================] - 0s 3ms/step - loss: 1.0248 - accuracy: 0.6133\n",
            "Epoch 4/5\n",
            "64/64 [==============================] - 0s 3ms/step - loss: 0.9989 - accuracy: 0.6562\n",
            "Epoch 5/5\n",
            "64/64 [==============================] - 0s 3ms/step - loss: 0.9729 - accuracy: 0.6543\n",
            "32/32 [==============================] - 0s 2ms/step - loss: 0.9695 - accuracy: 0.6992\n",
            "Epoch 1/5\n"
          ]
        },
        {
          "output_type": "stream",
          "name": "stderr",
          "text": [
            "/usr/local/lib/python3.7/dist-packages/tensorflow/python/util/dispatch.py:1082: UserWarning: \"`sparse_categorical_crossentropy` received `from_logits=True`, but the `output` argument was produced by a sigmoid or softmax activation and thus does not represent logits. Was this intended?\"\n",
            "  return dispatch_target(*args, **kwargs)\n"
          ]
        },
        {
          "output_type": "stream",
          "name": "stdout",
          "text": [
            "64/64 [==============================] - 1s 3ms/step - loss: 1.0930 - accuracy: 0.3789\n",
            "Epoch 2/5\n",
            "64/64 [==============================] - 0s 3ms/step - loss: 1.0689 - accuracy: 0.5273\n",
            "Epoch 3/5\n",
            "64/64 [==============================] - 0s 3ms/step - loss: 1.0345 - accuracy: 0.5488\n",
            "Epoch 4/5\n",
            "64/64 [==============================] - 0s 3ms/step - loss: 0.9973 - accuracy: 0.6543\n",
            "Epoch 5/5\n",
            "64/64 [==============================] - 0s 3ms/step - loss: 0.9631 - accuracy: 0.6699\n",
            "32/32 [==============================] - 0s 2ms/step - loss: 0.9456 - accuracy: 0.6992\n",
            "Epoch 1/5\n"
          ]
        },
        {
          "output_type": "stream",
          "name": "stderr",
          "text": [
            "/usr/local/lib/python3.7/dist-packages/tensorflow/python/util/dispatch.py:1082: UserWarning: \"`sparse_categorical_crossentropy` received `from_logits=True`, but the `output` argument was produced by a sigmoid or softmax activation and thus does not represent logits. Was this intended?\"\n",
            "  return dispatch_target(*args, **kwargs)\n"
          ]
        },
        {
          "output_type": "stream",
          "name": "stdout",
          "text": [
            "64/64 [==============================] - 1s 3ms/step - loss: 1.0922 - accuracy: 0.4043\n",
            "Epoch 2/5\n",
            "64/64 [==============================] - 0s 3ms/step - loss: 1.0510 - accuracy: 0.5312\n",
            "Epoch 3/5\n",
            "64/64 [==============================] - 0s 3ms/step - loss: 1.0095 - accuracy: 0.6328\n",
            "Epoch 4/5\n",
            "64/64 [==============================] - 0s 3ms/step - loss: 0.9772 - accuracy: 0.6465\n",
            "Epoch 5/5\n",
            "64/64 [==============================] - 0s 3ms/step - loss: 0.9436 - accuracy: 0.7051\n",
            "32/32 [==============================] - 0s 2ms/step - loss: 0.9646 - accuracy: 0.5781\n",
            "Epoch 1/5\n"
          ]
        },
        {
          "output_type": "stream",
          "name": "stderr",
          "text": [
            "/usr/local/lib/python3.7/dist-packages/tensorflow/python/util/dispatch.py:1082: UserWarning: \"`sparse_categorical_crossentropy` received `from_logits=True`, but the `output` argument was produced by a sigmoid or softmax activation and thus does not represent logits. Was this intended?\"\n",
            "  return dispatch_target(*args, **kwargs)\n"
          ]
        },
        {
          "output_type": "stream",
          "name": "stdout",
          "text": [
            "64/64 [==============================] - 0s 2ms/step - loss: 1.0988 - accuracy: 0.3379\n",
            "Epoch 2/5\n",
            "64/64 [==============================] - 0s 2ms/step - loss: 1.0981 - accuracy: 0.3828\n",
            "Epoch 3/5\n",
            "64/64 [==============================] - 0s 2ms/step - loss: 1.0978 - accuracy: 0.3730\n",
            "Epoch 4/5\n",
            "64/64 [==============================] - 0s 2ms/step - loss: 1.0974 - accuracy: 0.3965\n",
            "Epoch 5/5\n",
            "64/64 [==============================] - 0s 2ms/step - loss: 1.0973 - accuracy: 0.3672\n",
            "32/32 [==============================] - 0s 2ms/step - loss: 1.0968 - accuracy: 0.3867\n",
            "Epoch 1/5\n"
          ]
        },
        {
          "output_type": "stream",
          "name": "stderr",
          "text": [
            "/usr/local/lib/python3.7/dist-packages/tensorflow/python/util/dispatch.py:1082: UserWarning: \"`sparse_categorical_crossentropy` received `from_logits=True`, but the `output` argument was produced by a sigmoid or softmax activation and thus does not represent logits. Was this intended?\"\n",
            "  return dispatch_target(*args, **kwargs)\n"
          ]
        },
        {
          "output_type": "stream",
          "name": "stdout",
          "text": [
            "64/64 [==============================] - 0s 2ms/step - loss: 1.0986 - accuracy: 0.3477\n",
            "Epoch 2/5\n",
            "64/64 [==============================] - 0s 2ms/step - loss: 1.0983 - accuracy: 0.3574\n",
            "Epoch 3/5\n",
            "64/64 [==============================] - 0s 2ms/step - loss: 1.0979 - accuracy: 0.3496\n",
            "Epoch 4/5\n",
            "64/64 [==============================] - 0s 2ms/step - loss: 1.0976 - accuracy: 0.3535\n",
            "Epoch 5/5\n",
            "64/64 [==============================] - 0s 2ms/step - loss: 1.0973 - accuracy: 0.3477\n",
            "32/32 [==============================] - 0s 2ms/step - loss: 1.0952 - accuracy: 0.3516\n",
            "Epoch 1/5\n"
          ]
        },
        {
          "output_type": "stream",
          "name": "stderr",
          "text": [
            "/usr/local/lib/python3.7/dist-packages/tensorflow/python/util/dispatch.py:1082: UserWarning: \"`sparse_categorical_crossentropy` received `from_logits=True`, but the `output` argument was produced by a sigmoid or softmax activation and thus does not represent logits. Was this intended?\"\n",
            "  return dispatch_target(*args, **kwargs)\n"
          ]
        },
        {
          "output_type": "stream",
          "name": "stdout",
          "text": [
            "64/64 [==============================] - 0s 2ms/step - loss: 1.0998 - accuracy: 0.3398\n",
            "Epoch 2/5\n",
            "64/64 [==============================] - 0s 2ms/step - loss: 1.0985 - accuracy: 0.3418\n",
            "Epoch 3/5\n",
            "64/64 [==============================] - 0s 2ms/step - loss: 1.0975 - accuracy: 0.3418\n",
            "Epoch 4/5\n",
            "64/64 [==============================] - 0s 2ms/step - loss: 1.0969 - accuracy: 0.3887\n",
            "Epoch 5/5\n",
            "64/64 [==============================] - 0s 2ms/step - loss: 1.0964 - accuracy: 0.3848\n",
            "32/32 [==============================] - 0s 2ms/step - loss: 1.0981 - accuracy: 0.3555\n",
            "Epoch 1/5\n"
          ]
        },
        {
          "output_type": "stream",
          "name": "stderr",
          "text": [
            "/usr/local/lib/python3.7/dist-packages/tensorflow/python/util/dispatch.py:1082: UserWarning: \"`sparse_categorical_crossentropy` received `from_logits=True`, but the `output` argument was produced by a sigmoid or softmax activation and thus does not represent logits. Was this intended?\"\n",
            "  return dispatch_target(*args, **kwargs)\n"
          ]
        },
        {
          "output_type": "stream",
          "name": "stdout",
          "text": [
            "64/64 [==============================] - 1s 2ms/step - loss: 1.0937 - accuracy: 0.3945\n",
            "Epoch 2/5\n",
            "64/64 [==============================] - 0s 2ms/step - loss: 1.0681 - accuracy: 0.5195\n",
            "Epoch 3/5\n",
            "64/64 [==============================] - 0s 2ms/step - loss: 1.0454 - accuracy: 0.5840\n",
            "Epoch 4/5\n",
            "64/64 [==============================] - 0s 3ms/step - loss: 1.0219 - accuracy: 0.6387\n",
            "Epoch 5/5\n",
            "64/64 [==============================] - 0s 2ms/step - loss: 1.0003 - accuracy: 0.6621\n",
            "32/32 [==============================] - 0s 3ms/step - loss: 0.9903 - accuracy: 0.6250\n",
            "Epoch 1/5\n"
          ]
        },
        {
          "output_type": "stream",
          "name": "stderr",
          "text": [
            "/usr/local/lib/python3.7/dist-packages/tensorflow/python/util/dispatch.py:1082: UserWarning: \"`sparse_categorical_crossentropy` received `from_logits=True`, but the `output` argument was produced by a sigmoid or softmax activation and thus does not represent logits. Was this intended?\"\n",
            "  return dispatch_target(*args, **kwargs)\n"
          ]
        },
        {
          "output_type": "stream",
          "name": "stdout",
          "text": [
            "64/64 [==============================] - 1s 3ms/step - loss: 1.0921 - accuracy: 0.3809\n",
            "Epoch 2/5\n",
            "64/64 [==============================] - 0s 2ms/step - loss: 1.0618 - accuracy: 0.5488\n",
            "Epoch 3/5\n",
            "64/64 [==============================] - 0s 3ms/step - loss: 1.0358 - accuracy: 0.5781\n",
            "Epoch 4/5\n",
            "64/64 [==============================] - 0s 3ms/step - loss: 1.0136 - accuracy: 0.6113\n",
            "Epoch 5/5\n",
            "64/64 [==============================] - 0s 2ms/step - loss: 0.9946 - accuracy: 0.6504\n",
            "32/32 [==============================] - 0s 2ms/step - loss: 0.9897 - accuracy: 0.7031\n",
            "Epoch 1/5\n"
          ]
        },
        {
          "output_type": "stream",
          "name": "stderr",
          "text": [
            "/usr/local/lib/python3.7/dist-packages/tensorflow/python/util/dispatch.py:1082: UserWarning: \"`sparse_categorical_crossentropy` received `from_logits=True`, but the `output` argument was produced by a sigmoid or softmax activation and thus does not represent logits. Was this intended?\"\n",
            "  return dispatch_target(*args, **kwargs)\n"
          ]
        },
        {
          "output_type": "stream",
          "name": "stdout",
          "text": [
            "64/64 [==============================] - 0s 2ms/step - loss: 1.0910 - accuracy: 0.3711\n",
            "Epoch 2/5\n",
            "64/64 [==============================] - 0s 2ms/step - loss: 1.0676 - accuracy: 0.5039\n",
            "Epoch 3/5\n",
            "64/64 [==============================] - 0s 3ms/step - loss: 1.0430 - accuracy: 0.5801\n",
            "Epoch 4/5\n",
            "64/64 [==============================] - 0s 3ms/step - loss: 1.0169 - accuracy: 0.6211\n",
            "Epoch 5/5\n",
            "64/64 [==============================] - 0s 2ms/step - loss: 0.9861 - accuracy: 0.6602\n",
            "32/32 [==============================] - 0s 2ms/step - loss: 0.9994 - accuracy: 0.5859\n",
            "Epoch 1/5\n"
          ]
        },
        {
          "output_type": "stream",
          "name": "stderr",
          "text": [
            "/usr/local/lib/python3.7/dist-packages/tensorflow/python/util/dispatch.py:1082: UserWarning: \"`sparse_categorical_crossentropy` received `from_logits=True`, but the `output` argument was produced by a sigmoid or softmax activation and thus does not represent logits. Was this intended?\"\n",
            "  return dispatch_target(*args, **kwargs)\n"
          ]
        },
        {
          "output_type": "stream",
          "name": "stdout",
          "text": [
            "64/64 [==============================] - 0s 2ms/step - loss: 1.1000 - accuracy: 0.3066\n",
            "Epoch 2/5\n",
            "64/64 [==============================] - 0s 2ms/step - loss: 1.0998 - accuracy: 0.3047\n",
            "Epoch 3/5\n",
            "64/64 [==============================] - 0s 2ms/step - loss: 1.0996 - accuracy: 0.3027\n",
            "Epoch 4/5\n",
            "64/64 [==============================] - 0s 2ms/step - loss: 1.0995 - accuracy: 0.3066\n",
            "Epoch 5/5\n",
            "64/64 [==============================] - 0s 2ms/step - loss: 1.0994 - accuracy: 0.2910\n",
            "32/32 [==============================] - 0s 2ms/step - loss: 1.0995 - accuracy: 0.3203\n",
            "Epoch 1/5\n"
          ]
        },
        {
          "output_type": "stream",
          "name": "stderr",
          "text": [
            "/usr/local/lib/python3.7/dist-packages/tensorflow/python/util/dispatch.py:1082: UserWarning: \"`sparse_categorical_crossentropy` received `from_logits=True`, but the `output` argument was produced by a sigmoid or softmax activation and thus does not represent logits. Was this intended?\"\n",
            "  return dispatch_target(*args, **kwargs)\n"
          ]
        },
        {
          "output_type": "stream",
          "name": "stdout",
          "text": [
            "64/64 [==============================] - 0s 2ms/step - loss: 1.0983 - accuracy: 0.3477\n",
            "Epoch 2/5\n",
            "64/64 [==============================] - 0s 2ms/step - loss: 1.0982 - accuracy: 0.3496\n",
            "Epoch 3/5\n",
            "64/64 [==============================] - 0s 2ms/step - loss: 1.0981 - accuracy: 0.3496\n",
            "Epoch 4/5\n",
            "64/64 [==============================] - 0s 2ms/step - loss: 1.0980 - accuracy: 0.3516\n",
            "Epoch 5/5\n",
            "64/64 [==============================] - 0s 2ms/step - loss: 1.0979 - accuracy: 0.3496\n",
            "32/32 [==============================] - 0s 2ms/step - loss: 1.0976 - accuracy: 0.3594\n",
            "Epoch 1/5\n"
          ]
        },
        {
          "output_type": "stream",
          "name": "stderr",
          "text": [
            "/usr/local/lib/python3.7/dist-packages/tensorflow/python/util/dispatch.py:1082: UserWarning: \"`sparse_categorical_crossentropy` received `from_logits=True`, but the `output` argument was produced by a sigmoid or softmax activation and thus does not represent logits. Was this intended?\"\n",
            "  return dispatch_target(*args, **kwargs)\n"
          ]
        },
        {
          "output_type": "stream",
          "name": "stdout",
          "text": [
            "64/64 [==============================] - 0s 2ms/step - loss: 1.0989 - accuracy: 0.3477\n",
            "Epoch 2/5\n",
            "64/64 [==============================] - 0s 2ms/step - loss: 1.0987 - accuracy: 0.3535\n",
            "Epoch 3/5\n",
            "64/64 [==============================] - 0s 2ms/step - loss: 1.0986 - accuracy: 0.3535\n",
            "Epoch 4/5\n",
            "64/64 [==============================] - 0s 2ms/step - loss: 1.0984 - accuracy: 0.3535\n",
            "Epoch 5/5\n",
            "64/64 [==============================] - 0s 2ms/step - loss: 1.0983 - accuracy: 0.3535\n",
            "32/32 [==============================] - 0s 2ms/step - loss: 1.0980 - accuracy: 0.3398\n",
            "Epoch 1/5\n"
          ]
        },
        {
          "output_type": "stream",
          "name": "stderr",
          "text": [
            "/usr/local/lib/python3.7/dist-packages/tensorflow/python/util/dispatch.py:1082: UserWarning: \"`sparse_categorical_crossentropy` received `from_logits=True`, but the `output` argument was produced by a sigmoid or softmax activation and thus does not represent logits. Was this intended?\"\n",
            "  return dispatch_target(*args, **kwargs)\n"
          ]
        },
        {
          "output_type": "stream",
          "name": "stdout",
          "text": [
            "64/64 [==============================] - 0s 2ms/step - loss: 1.0990 - accuracy: 0.2832\n",
            "Epoch 2/5\n",
            "64/64 [==============================] - 0s 2ms/step - loss: 1.0990 - accuracy: 0.2812\n",
            "Epoch 3/5\n",
            "64/64 [==============================] - 0s 2ms/step - loss: 1.0990 - accuracy: 0.2793\n",
            "Epoch 4/5\n",
            "64/64 [==============================] - 0s 2ms/step - loss: 1.0990 - accuracy: 0.2852\n",
            "Epoch 5/5\n",
            "64/64 [==============================] - 0s 2ms/step - loss: 1.0989 - accuracy: 0.2852\n",
            "32/32 [==============================] - 0s 2ms/step - loss: 1.0989 - accuracy: 0.2930\n",
            "Epoch 1/5\n"
          ]
        },
        {
          "output_type": "stream",
          "name": "stderr",
          "text": [
            "/usr/local/lib/python3.7/dist-packages/tensorflow/python/util/dispatch.py:1082: UserWarning: \"`sparse_categorical_crossentropy` received `from_logits=True`, but the `output` argument was produced by a sigmoid or softmax activation and thus does not represent logits. Was this intended?\"\n",
            "  return dispatch_target(*args, **kwargs)\n"
          ]
        },
        {
          "output_type": "stream",
          "name": "stdout",
          "text": [
            "64/64 [==============================] - 0s 2ms/step - loss: 1.0994 - accuracy: 0.3223\n",
            "Epoch 2/5\n",
            "64/64 [==============================] - 0s 2ms/step - loss: 1.0994 - accuracy: 0.3223\n",
            "Epoch 3/5\n",
            "64/64 [==============================] - 0s 2ms/step - loss: 1.0994 - accuracy: 0.3223\n",
            "Epoch 4/5\n",
            "64/64 [==============================] - 0s 2ms/step - loss: 1.0994 - accuracy: 0.3223\n",
            "Epoch 5/5\n",
            "64/64 [==============================] - 0s 2ms/step - loss: 1.0994 - accuracy: 0.3223\n",
            "32/32 [==============================] - 0s 2ms/step - loss: 1.1008 - accuracy: 0.2930\n",
            "Epoch 1/5\n"
          ]
        },
        {
          "output_type": "stream",
          "name": "stderr",
          "text": [
            "/usr/local/lib/python3.7/dist-packages/tensorflow/python/util/dispatch.py:1082: UserWarning: \"`sparse_categorical_crossentropy` received `from_logits=True`, but the `output` argument was produced by a sigmoid or softmax activation and thus does not represent logits. Was this intended?\"\n",
            "  return dispatch_target(*args, **kwargs)\n"
          ]
        },
        {
          "output_type": "stream",
          "name": "stdout",
          "text": [
            "64/64 [==============================] - 0s 2ms/step - loss: 1.0975 - accuracy: 0.3535\n",
            "Epoch 2/5\n",
            "64/64 [==============================] - 0s 2ms/step - loss: 1.0975 - accuracy: 0.3535\n",
            "Epoch 3/5\n",
            "64/64 [==============================] - 0s 2ms/step - loss: 1.0975 - accuracy: 0.3535\n",
            "Epoch 4/5\n",
            "64/64 [==============================] - 0s 2ms/step - loss: 1.0975 - accuracy: 0.3535\n",
            "Epoch 5/5\n",
            "64/64 [==============================] - 0s 2ms/step - loss: 1.0975 - accuracy: 0.3535\n",
            "32/32 [==============================] - 0s 2ms/step - loss: 1.0986 - accuracy: 0.3398\n",
            "Epoch 1/5\n"
          ]
        },
        {
          "output_type": "stream",
          "name": "stderr",
          "text": [
            "/usr/local/lib/python3.7/dist-packages/tensorflow/python/util/dispatch.py:1082: UserWarning: \"`sparse_categorical_crossentropy` received `from_logits=True`, but the `output` argument was produced by a sigmoid or softmax activation and thus does not represent logits. Was this intended?\"\n",
            "  return dispatch_target(*args, **kwargs)\n"
          ]
        },
        {
          "output_type": "stream",
          "name": "stdout",
          "text": [
            "64/64 [==============================] - 0s 2ms/step - loss: 1.0909 - accuracy: 0.4023\n",
            "Epoch 2/5\n",
            "64/64 [==============================] - 0s 2ms/step - loss: 1.0551 - accuracy: 0.5566\n",
            "Epoch 3/5\n",
            "64/64 [==============================] - 0s 2ms/step - loss: 1.0196 - accuracy: 0.6367\n",
            "Epoch 4/5\n",
            "64/64 [==============================] - 0s 2ms/step - loss: 0.9805 - accuracy: 0.7090\n",
            "Epoch 5/5\n",
            "64/64 [==============================] - 0s 2ms/step - loss: 0.9438 - accuracy: 0.7266\n",
            "32/32 [==============================] - 0s 2ms/step - loss: 0.9255 - accuracy: 0.7461\n",
            "Epoch 1/5\n"
          ]
        },
        {
          "output_type": "stream",
          "name": "stderr",
          "text": [
            "/usr/local/lib/python3.7/dist-packages/tensorflow/python/util/dispatch.py:1082: UserWarning: \"`sparse_categorical_crossentropy` received `from_logits=True`, but the `output` argument was produced by a sigmoid or softmax activation and thus does not represent logits. Was this intended?\"\n",
            "  return dispatch_target(*args, **kwargs)\n"
          ]
        },
        {
          "output_type": "stream",
          "name": "stdout",
          "text": [
            "64/64 [==============================] - 0s 2ms/step - loss: 1.0965 - accuracy: 0.3672\n",
            "Epoch 2/5\n",
            "64/64 [==============================] - 0s 2ms/step - loss: 1.0631 - accuracy: 0.4805\n",
            "Epoch 3/5\n",
            "64/64 [==============================] - 0s 2ms/step - loss: 1.0382 - accuracy: 0.5020\n",
            "Epoch 4/5\n",
            "64/64 [==============================] - 0s 2ms/step - loss: 1.0125 - accuracy: 0.5176\n",
            "Epoch 5/5\n",
            "64/64 [==============================] - 0s 2ms/step - loss: 0.9865 - accuracy: 0.5820\n",
            "32/32 [==============================] - 0s 2ms/step - loss: 0.9842 - accuracy: 0.5781\n",
            "Epoch 1/5\n"
          ]
        },
        {
          "output_type": "stream",
          "name": "stderr",
          "text": [
            "/usr/local/lib/python3.7/dist-packages/tensorflow/python/util/dispatch.py:1082: UserWarning: \"`sparse_categorical_crossentropy` received `from_logits=True`, but the `output` argument was produced by a sigmoid or softmax activation and thus does not represent logits. Was this intended?\"\n",
            "  return dispatch_target(*args, **kwargs)\n"
          ]
        },
        {
          "output_type": "stream",
          "name": "stdout",
          "text": [
            "64/64 [==============================] - 1s 2ms/step - loss: 1.0873 - accuracy: 0.3984\n",
            "Epoch 2/5\n",
            "64/64 [==============================] - 0s 2ms/step - loss: 1.0592 - accuracy: 0.5332\n",
            "Epoch 3/5\n",
            "64/64 [==============================] - 0s 2ms/step - loss: 1.0245 - accuracy: 0.5762\n",
            "Epoch 4/5\n",
            "64/64 [==============================] - 0s 2ms/step - loss: 0.9869 - accuracy: 0.6641\n",
            "Epoch 5/5\n",
            "64/64 [==============================] - 0s 2ms/step - loss: 0.9494 - accuracy: 0.7051\n",
            "32/32 [==============================] - 0s 2ms/step - loss: 0.9768 - accuracy: 0.5625\n",
            "Epoch 1/5\n"
          ]
        },
        {
          "output_type": "stream",
          "name": "stderr",
          "text": [
            "/usr/local/lib/python3.7/dist-packages/tensorflow/python/util/dispatch.py:1082: UserWarning: \"`sparse_categorical_crossentropy` received `from_logits=True`, but the `output` argument was produced by a sigmoid or softmax activation and thus does not represent logits. Was this intended?\"\n",
            "  return dispatch_target(*args, **kwargs)\n"
          ]
        },
        {
          "output_type": "stream",
          "name": "stdout",
          "text": [
            "64/64 [==============================] - 0s 2ms/step - loss: 1.0956 - accuracy: 0.3730\n",
            "Epoch 2/5\n",
            "64/64 [==============================] - 0s 2ms/step - loss: 1.0854 - accuracy: 0.4746\n",
            "Epoch 3/5\n",
            "64/64 [==============================] - 0s 2ms/step - loss: 1.0728 - accuracy: 0.4590\n",
            "Epoch 4/5\n",
            "64/64 [==============================] - 0s 2ms/step - loss: 1.0600 - accuracy: 0.6074\n",
            "Epoch 5/5\n",
            "64/64 [==============================] - 0s 2ms/step - loss: 1.0485 - accuracy: 0.6035\n",
            "32/32 [==============================] - 0s 2ms/step - loss: 1.0447 - accuracy: 0.5938\n",
            "Epoch 1/5\n"
          ]
        },
        {
          "output_type": "stream",
          "name": "stderr",
          "text": [
            "/usr/local/lib/python3.7/dist-packages/tensorflow/python/util/dispatch.py:1082: UserWarning: \"`sparse_categorical_crossentropy` received `from_logits=True`, but the `output` argument was produced by a sigmoid or softmax activation and thus does not represent logits. Was this intended?\"\n",
            "  return dispatch_target(*args, **kwargs)\n"
          ]
        },
        {
          "output_type": "stream",
          "name": "stdout",
          "text": [
            "64/64 [==============================] - 0s 2ms/step - loss: 1.0979 - accuracy: 0.3496\n",
            "Epoch 2/5\n",
            "64/64 [==============================] - 0s 2ms/step - loss: 1.0863 - accuracy: 0.4883\n",
            "Epoch 3/5\n",
            "64/64 [==============================] - 0s 2ms/step - loss: 1.0726 - accuracy: 0.5430\n",
            "Epoch 4/5\n",
            "64/64 [==============================] - 0s 2ms/step - loss: 1.0570 - accuracy: 0.5977\n",
            "Epoch 5/5\n",
            "64/64 [==============================] - 0s 3ms/step - loss: 1.0465 - accuracy: 0.5684\n",
            "32/32 [==============================] - 0s 2ms/step - loss: 1.0476 - accuracy: 0.5234\n",
            "Epoch 1/5\n"
          ]
        },
        {
          "output_type": "stream",
          "name": "stderr",
          "text": [
            "/usr/local/lib/python3.7/dist-packages/tensorflow/python/util/dispatch.py:1082: UserWarning: \"`sparse_categorical_crossentropy` received `from_logits=True`, but the `output` argument was produced by a sigmoid or softmax activation and thus does not represent logits. Was this intended?\"\n",
            "  return dispatch_target(*args, **kwargs)\n"
          ]
        },
        {
          "output_type": "stream",
          "name": "stdout",
          "text": [
            "64/64 [==============================] - 0s 2ms/step - loss: 1.0995 - accuracy: 0.3770\n",
            "Epoch 2/5\n",
            "64/64 [==============================] - 0s 2ms/step - loss: 1.0896 - accuracy: 0.4082\n",
            "Epoch 3/5\n",
            "64/64 [==============================] - 0s 2ms/step - loss: 1.0772 - accuracy: 0.5371\n",
            "Epoch 4/5\n",
            "64/64 [==============================] - 0s 2ms/step - loss: 1.0629 - accuracy: 0.6191\n",
            "Epoch 5/5\n",
            "64/64 [==============================] - 0s 2ms/step - loss: 1.0522 - accuracy: 0.6035\n",
            "32/32 [==============================] - 0s 2ms/step - loss: 1.0565 - accuracy: 0.5469\n",
            "Epoch 1/5\n"
          ]
        },
        {
          "output_type": "stream",
          "name": "stderr",
          "text": [
            "/usr/local/lib/python3.7/dist-packages/tensorflow/python/util/dispatch.py:1082: UserWarning: \"`sparse_categorical_crossentropy` received `from_logits=True`, but the `output` argument was produced by a sigmoid or softmax activation and thus does not represent logits. Was this intended?\"\n",
            "  return dispatch_target(*args, **kwargs)\n"
          ]
        },
        {
          "output_type": "stream",
          "name": "stdout",
          "text": [
            "64/64 [==============================] - 1s 3ms/step - loss: 1.0958 - accuracy: 0.3613\n",
            "Epoch 2/5\n",
            "64/64 [==============================] - 0s 3ms/step - loss: 1.0666 - accuracy: 0.5195\n",
            "Epoch 3/5\n",
            "64/64 [==============================] - 0s 3ms/step - loss: 1.0290 - accuracy: 0.5781\n",
            "Epoch 4/5\n",
            "64/64 [==============================] - 0s 3ms/step - loss: 0.9972 - accuracy: 0.6250\n",
            "Epoch 5/5\n",
            "64/64 [==============================] - 0s 3ms/step - loss: 0.9721 - accuracy: 0.6484\n",
            "32/32 [==============================] - 0s 2ms/step - loss: 0.9665 - accuracy: 0.6680\n",
            "Epoch 1/5\n"
          ]
        },
        {
          "output_type": "stream",
          "name": "stderr",
          "text": [
            "/usr/local/lib/python3.7/dist-packages/tensorflow/python/util/dispatch.py:1082: UserWarning: \"`sparse_categorical_crossentropy` received `from_logits=True`, but the `output` argument was produced by a sigmoid or softmax activation and thus does not represent logits. Was this intended?\"\n",
            "  return dispatch_target(*args, **kwargs)\n"
          ]
        },
        {
          "output_type": "stream",
          "name": "stdout",
          "text": [
            "64/64 [==============================] - 1s 3ms/step - loss: 1.0912 - accuracy: 0.3906\n",
            "Epoch 2/5\n",
            "64/64 [==============================] - 0s 3ms/step - loss: 1.0632 - accuracy: 0.5430\n",
            "Epoch 3/5\n",
            "64/64 [==============================] - 0s 3ms/step - loss: 1.0370 - accuracy: 0.5781\n",
            "Epoch 4/5\n",
            "64/64 [==============================] - 0s 3ms/step - loss: 1.0086 - accuracy: 0.6445\n",
            "Epoch 5/5\n",
            "64/64 [==============================] - 0s 3ms/step - loss: 0.9654 - accuracy: 0.7051\n",
            "32/32 [==============================] - 0s 2ms/step - loss: 0.9422 - accuracy: 0.7227\n",
            "Epoch 1/5\n"
          ]
        },
        {
          "output_type": "stream",
          "name": "stderr",
          "text": [
            "/usr/local/lib/python3.7/dist-packages/tensorflow/python/util/dispatch.py:1082: UserWarning: \"`sparse_categorical_crossentropy` received `from_logits=True`, but the `output` argument was produced by a sigmoid or softmax activation and thus does not represent logits. Was this intended?\"\n",
            "  return dispatch_target(*args, **kwargs)\n"
          ]
        },
        {
          "output_type": "stream",
          "name": "stdout",
          "text": [
            "64/64 [==============================] - 1s 3ms/step - loss: 1.0934 - accuracy: 0.3965\n",
            "Epoch 2/5\n",
            "64/64 [==============================] - 0s 3ms/step - loss: 1.0625 - accuracy: 0.5352\n",
            "Epoch 3/5\n",
            "64/64 [==============================] - 0s 3ms/step - loss: 1.0271 - accuracy: 0.5957\n",
            "Epoch 4/5\n",
            "64/64 [==============================] - 0s 3ms/step - loss: 0.9962 - accuracy: 0.6094\n",
            "Epoch 5/5\n",
            "64/64 [==============================] - 0s 3ms/step - loss: 0.9637 - accuracy: 0.6250\n",
            "32/32 [==============================] - 0s 2ms/step - loss: 0.9780 - accuracy: 0.5938\n",
            "Epoch 1/5\n"
          ]
        },
        {
          "output_type": "stream",
          "name": "stderr",
          "text": [
            "/usr/local/lib/python3.7/dist-packages/tensorflow/python/util/dispatch.py:1082: UserWarning: \"`sparse_categorical_crossentropy` received `from_logits=True`, but the `output` argument was produced by a sigmoid or softmax activation and thus does not represent logits. Was this intended?\"\n",
            "  return dispatch_target(*args, **kwargs)\n"
          ]
        },
        {
          "output_type": "stream",
          "name": "stdout",
          "text": [
            "64/64 [==============================] - 0s 2ms/step - loss: 1.0984 - accuracy: 0.3477\n",
            "Epoch 2/5\n",
            "64/64 [==============================] - 0s 2ms/step - loss: 1.0980 - accuracy: 0.3438\n",
            "Epoch 3/5\n",
            "64/64 [==============================] - 0s 2ms/step - loss: 1.0978 - accuracy: 0.3301\n",
            "Epoch 4/5\n",
            "64/64 [==============================] - 0s 2ms/step - loss: 1.0977 - accuracy: 0.3418\n",
            "Epoch 5/5\n",
            "64/64 [==============================] - 0s 2ms/step - loss: 1.0977 - accuracy: 0.3398\n",
            "32/32 [==============================] - 0s 2ms/step - loss: 1.0978 - accuracy: 0.3594\n",
            "Epoch 1/5\n"
          ]
        },
        {
          "output_type": "stream",
          "name": "stderr",
          "text": [
            "/usr/local/lib/python3.7/dist-packages/tensorflow/python/util/dispatch.py:1082: UserWarning: \"`sparse_categorical_crossentropy` received `from_logits=True`, but the `output` argument was produced by a sigmoid or softmax activation and thus does not represent logits. Was this intended?\"\n",
            "  return dispatch_target(*args, **kwargs)\n"
          ]
        },
        {
          "output_type": "stream",
          "name": "stdout",
          "text": [
            "64/64 [==============================] - 0s 2ms/step - loss: 1.0994 - accuracy: 0.2930\n",
            "Epoch 2/5\n",
            "64/64 [==============================] - 0s 2ms/step - loss: 1.0993 - accuracy: 0.3418\n",
            "Epoch 3/5\n",
            "64/64 [==============================] - 0s 2ms/step - loss: 1.0990 - accuracy: 0.3223\n",
            "Epoch 4/5\n",
            "64/64 [==============================] - 0s 2ms/step - loss: 1.0990 - accuracy: 0.3438\n",
            "Epoch 5/5\n",
            "64/64 [==============================] - 0s 2ms/step - loss: 1.0988 - accuracy: 0.3477\n",
            "32/32 [==============================] - 0s 2ms/step - loss: 1.0980 - accuracy: 0.3516\n",
            "Epoch 1/5\n"
          ]
        },
        {
          "output_type": "stream",
          "name": "stderr",
          "text": [
            "/usr/local/lib/python3.7/dist-packages/tensorflow/python/util/dispatch.py:1082: UserWarning: \"`sparse_categorical_crossentropy` received `from_logits=True`, but the `output` argument was produced by a sigmoid or softmax activation and thus does not represent logits. Was this intended?\"\n",
            "  return dispatch_target(*args, **kwargs)\n"
          ]
        },
        {
          "output_type": "stream",
          "name": "stdout",
          "text": [
            "64/64 [==============================] - 0s 2ms/step - loss: 1.0981 - accuracy: 0.3535\n",
            "Epoch 2/5\n",
            "64/64 [==============================] - 0s 2ms/step - loss: 1.0975 - accuracy: 0.3516\n",
            "Epoch 3/5\n",
            "64/64 [==============================] - 0s 2ms/step - loss: 1.0971 - accuracy: 0.3535\n",
            "Epoch 4/5\n",
            "64/64 [==============================] - 0s 2ms/step - loss: 1.0970 - accuracy: 0.3535\n",
            "Epoch 5/5\n",
            "64/64 [==============================] - 0s 2ms/step - loss: 1.0967 - accuracy: 0.3535\n",
            "32/32 [==============================] - 0s 2ms/step - loss: 1.0985 - accuracy: 0.3398\n",
            "Epoch 1/5\n"
          ]
        },
        {
          "output_type": "stream",
          "name": "stderr",
          "text": [
            "/usr/local/lib/python3.7/dist-packages/tensorflow/python/util/dispatch.py:1082: UserWarning: \"`sparse_categorical_crossentropy` received `from_logits=True`, but the `output` argument was produced by a sigmoid or softmax activation and thus does not represent logits. Was this intended?\"\n",
            "  return dispatch_target(*args, **kwargs)\n"
          ]
        },
        {
          "output_type": "stream",
          "name": "stdout",
          "text": [
            "64/64 [==============================] - 1s 3ms/step - loss: 1.0941 - accuracy: 0.3613\n",
            "Epoch 2/5\n",
            "64/64 [==============================] - 0s 4ms/step - loss: 1.0756 - accuracy: 0.4863\n",
            "Epoch 3/5\n",
            "64/64 [==============================] - 0s 3ms/step - loss: 1.0541 - accuracy: 0.5371\n",
            "Epoch 4/5\n",
            "64/64 [==============================] - 0s 3ms/step - loss: 1.0348 - accuracy: 0.5938\n",
            "Epoch 5/5\n",
            "64/64 [==============================] - 0s 3ms/step - loss: 1.0162 - accuracy: 0.6387\n",
            "32/32 [==============================] - 0s 4ms/step - loss: 1.0049 - accuracy: 0.6992\n",
            "Epoch 1/5\n"
          ]
        },
        {
          "output_type": "stream",
          "name": "stderr",
          "text": [
            "/usr/local/lib/python3.7/dist-packages/tensorflow/python/util/dispatch.py:1082: UserWarning: \"`sparse_categorical_crossentropy` received `from_logits=True`, but the `output` argument was produced by a sigmoid or softmax activation and thus does not represent logits. Was this intended?\"\n",
            "  return dispatch_target(*args, **kwargs)\n"
          ]
        },
        {
          "output_type": "stream",
          "name": "stdout",
          "text": [
            "64/64 [==============================] - 1s 4ms/step - loss: 1.0935 - accuracy: 0.3887\n",
            "Epoch 2/5\n",
            "64/64 [==============================] - 0s 4ms/step - loss: 1.0720 - accuracy: 0.5469\n",
            "Epoch 3/5\n",
            "64/64 [==============================] - 0s 3ms/step - loss: 1.0501 - accuracy: 0.6016\n",
            "Epoch 4/5\n",
            "64/64 [==============================] - 0s 3ms/step - loss: 1.0289 - accuracy: 0.6621\n",
            "Epoch 5/5\n",
            "64/64 [==============================] - 0s 4ms/step - loss: 1.0042 - accuracy: 0.7109\n",
            "32/32 [==============================] - 0s 2ms/step - loss: 0.9974 - accuracy: 0.7188\n",
            "Epoch 1/5\n"
          ]
        },
        {
          "output_type": "stream",
          "name": "stderr",
          "text": [
            "/usr/local/lib/python3.7/dist-packages/tensorflow/python/util/dispatch.py:1082: UserWarning: \"`sparse_categorical_crossentropy` received `from_logits=True`, but the `output` argument was produced by a sigmoid or softmax activation and thus does not represent logits. Was this intended?\"\n",
            "  return dispatch_target(*args, **kwargs)\n"
          ]
        },
        {
          "output_type": "stream",
          "name": "stdout",
          "text": [
            "64/64 [==============================] - 1s 2ms/step - loss: 1.0952 - accuracy: 0.3770\n",
            "Epoch 2/5\n",
            "64/64 [==============================] - 0s 2ms/step - loss: 1.0716 - accuracy: 0.4766\n",
            "Epoch 3/5\n",
            "64/64 [==============================] - 0s 2ms/step - loss: 1.0518 - accuracy: 0.5195\n",
            "Epoch 4/5\n",
            "64/64 [==============================] - 0s 3ms/step - loss: 1.0280 - accuracy: 0.5859\n",
            "Epoch 5/5\n",
            "64/64 [==============================] - 0s 2ms/step - loss: 1.0026 - accuracy: 0.6602\n",
            "32/32 [==============================] - 0s 2ms/step - loss: 1.0213 - accuracy: 0.5430\n",
            "Epoch 1/5\n"
          ]
        },
        {
          "output_type": "stream",
          "name": "stderr",
          "text": [
            "/usr/local/lib/python3.7/dist-packages/tensorflow/python/util/dispatch.py:1082: UserWarning: \"`sparse_categorical_crossentropy` received `from_logits=True`, but the `output` argument was produced by a sigmoid or softmax activation and thus does not represent logits. Was this intended?\"\n",
            "  return dispatch_target(*args, **kwargs)\n"
          ]
        },
        {
          "output_type": "stream",
          "name": "stdout",
          "text": [
            "64/64 [==============================] - 0s 2ms/step - loss: 1.0998 - accuracy: 0.2695\n",
            "Epoch 2/5\n",
            "64/64 [==============================] - 0s 2ms/step - loss: 1.0997 - accuracy: 0.2891\n",
            "Epoch 3/5\n",
            "64/64 [==============================] - 0s 2ms/step - loss: 1.0996 - accuracy: 0.2852\n",
            "Epoch 4/5\n",
            "64/64 [==============================] - 0s 2ms/step - loss: 1.0996 - accuracy: 0.2617\n",
            "Epoch 5/5\n",
            "64/64 [==============================] - 0s 2ms/step - loss: 1.0995 - accuracy: 0.2695\n",
            "32/32 [==============================] - 0s 2ms/step - loss: 1.0994 - accuracy: 0.2812\n",
            "Epoch 1/5\n"
          ]
        },
        {
          "output_type": "stream",
          "name": "stderr",
          "text": [
            "/usr/local/lib/python3.7/dist-packages/tensorflow/python/util/dispatch.py:1082: UserWarning: \"`sparse_categorical_crossentropy` received `from_logits=True`, but the `output` argument was produced by a sigmoid or softmax activation and thus does not represent logits. Was this intended?\"\n",
            "  return dispatch_target(*args, **kwargs)\n"
          ]
        },
        {
          "output_type": "stream",
          "name": "stdout",
          "text": [
            "64/64 [==============================] - 0s 2ms/step - loss: 1.0992 - accuracy: 0.2773\n",
            "Epoch 2/5\n",
            "64/64 [==============================] - 0s 2ms/step - loss: 1.0991 - accuracy: 0.2793\n",
            "Epoch 3/5\n",
            "64/64 [==============================] - 0s 2ms/step - loss: 1.0990 - accuracy: 0.2754\n",
            "Epoch 4/5\n",
            "64/64 [==============================] - 0s 2ms/step - loss: 1.0990 - accuracy: 0.2637\n",
            "Epoch 5/5\n",
            "64/64 [==============================] - 0s 2ms/step - loss: 1.0990 - accuracy: 0.2793\n",
            "32/32 [==============================] - 0s 2ms/step - loss: 1.0990 - accuracy: 0.2305\n",
            "Epoch 1/5\n"
          ]
        },
        {
          "output_type": "stream",
          "name": "stderr",
          "text": [
            "/usr/local/lib/python3.7/dist-packages/tensorflow/python/util/dispatch.py:1082: UserWarning: \"`sparse_categorical_crossentropy` received `from_logits=True`, but the `output` argument was produced by a sigmoid or softmax activation and thus does not represent logits. Was this intended?\"\n",
            "  return dispatch_target(*args, **kwargs)\n"
          ]
        },
        {
          "output_type": "stream",
          "name": "stdout",
          "text": [
            "64/64 [==============================] - 0s 2ms/step - loss: 1.0988 - accuracy: 0.3418\n",
            "Epoch 2/5\n",
            "64/64 [==============================] - 0s 2ms/step - loss: 1.0987 - accuracy: 0.3418\n",
            "Epoch 3/5\n",
            "64/64 [==============================] - 0s 2ms/step - loss: 1.0986 - accuracy: 0.3418\n",
            "Epoch 4/5\n",
            "64/64 [==============================] - 0s 2ms/step - loss: 1.0985 - accuracy: 0.3418\n",
            "Epoch 5/5\n",
            "64/64 [==============================] - 0s 2ms/step - loss: 1.0984 - accuracy: 0.3418\n",
            "32/32 [==============================] - 0s 2ms/step - loss: 1.0986 - accuracy: 0.3320\n",
            "Epoch 1/5\n"
          ]
        },
        {
          "output_type": "stream",
          "name": "stderr",
          "text": [
            "/usr/local/lib/python3.7/dist-packages/tensorflow/python/util/dispatch.py:1082: UserWarning: \"`sparse_categorical_crossentropy` received `from_logits=True`, but the `output` argument was produced by a sigmoid or softmax activation and thus does not represent logits. Was this intended?\"\n",
            "  return dispatch_target(*args, **kwargs)\n"
          ]
        },
        {
          "output_type": "stream",
          "name": "stdout",
          "text": [
            "64/64 [==============================] - 0s 2ms/step - loss: 1.0989 - accuracy: 0.3145\n",
            "Epoch 2/5\n",
            "64/64 [==============================] - 0s 2ms/step - loss: 1.0989 - accuracy: 0.3145\n",
            "Epoch 3/5\n",
            "64/64 [==============================] - 0s 2ms/step - loss: 1.0988 - accuracy: 0.3145\n",
            "Epoch 4/5\n",
            "64/64 [==============================] - 0s 2ms/step - loss: 1.0988 - accuracy: 0.3145\n",
            "Epoch 5/5\n",
            "64/64 [==============================] - 0s 2ms/step - loss: 1.0988 - accuracy: 0.3125\n",
            "32/32 [==============================] - 0s 2ms/step - loss: 1.0988 - accuracy: 0.3242\n",
            "Epoch 1/5\n"
          ]
        },
        {
          "output_type": "stream",
          "name": "stderr",
          "text": [
            "/usr/local/lib/python3.7/dist-packages/tensorflow/python/util/dispatch.py:1082: UserWarning: \"`sparse_categorical_crossentropy` received `from_logits=True`, but the `output` argument was produced by a sigmoid or softmax activation and thus does not represent logits. Was this intended?\"\n",
            "  return dispatch_target(*args, **kwargs)\n"
          ]
        },
        {
          "output_type": "stream",
          "name": "stdout",
          "text": [
            "64/64 [==============================] - 1s 2ms/step - loss: 1.0990 - accuracy: 0.3359\n",
            "Epoch 2/5\n",
            "64/64 [==============================] - 0s 2ms/step - loss: 1.0990 - accuracy: 0.3359\n",
            "Epoch 3/5\n",
            "64/64 [==============================] - 0s 2ms/step - loss: 1.0990 - accuracy: 0.3359\n",
            "Epoch 4/5\n",
            "64/64 [==============================] - 0s 2ms/step - loss: 1.0990 - accuracy: 0.3359\n",
            "Epoch 5/5\n",
            "64/64 [==============================] - 0s 2ms/step - loss: 1.0990 - accuracy: 0.3359\n",
            "32/32 [==============================] - 0s 2ms/step - loss: 1.0988 - accuracy: 0.3438\n",
            "Epoch 1/5\n"
          ]
        },
        {
          "output_type": "stream",
          "name": "stderr",
          "text": [
            "/usr/local/lib/python3.7/dist-packages/tensorflow/python/util/dispatch.py:1082: UserWarning: \"`sparse_categorical_crossentropy` received `from_logits=True`, but the `output` argument was produced by a sigmoid or softmax activation and thus does not represent logits. Was this intended?\"\n",
            "  return dispatch_target(*args, **kwargs)\n"
          ]
        },
        {
          "output_type": "stream",
          "name": "stdout",
          "text": [
            "64/64 [==============================] - 0s 2ms/step - loss: 1.0981 - accuracy: 0.4238\n",
            "Epoch 2/5\n",
            "64/64 [==============================] - 0s 2ms/step - loss: 1.0981 - accuracy: 0.4258\n",
            "Epoch 3/5\n",
            "64/64 [==============================] - 0s 3ms/step - loss: 1.0981 - accuracy: 0.4258\n",
            "Epoch 4/5\n",
            "64/64 [==============================] - 0s 2ms/step - loss: 1.0981 - accuracy: 0.4199\n",
            "Epoch 5/5\n",
            "64/64 [==============================] - 0s 2ms/step - loss: 1.0981 - accuracy: 0.4219\n",
            "32/32 [==============================] - 0s 2ms/step - loss: 1.0982 - accuracy: 0.3398\n",
            "Epoch 1/5\n"
          ]
        },
        {
          "output_type": "stream",
          "name": "stderr",
          "text": [
            "/usr/local/lib/python3.7/dist-packages/tensorflow/python/util/dispatch.py:1082: UserWarning: \"`sparse_categorical_crossentropy` received `from_logits=True`, but the `output` argument was produced by a sigmoid or softmax activation and thus does not represent logits. Was this intended?\"\n",
            "  return dispatch_target(*args, **kwargs)\n"
          ]
        },
        {
          "output_type": "stream",
          "name": "stdout",
          "text": [
            "64/64 [==============================] - 0s 2ms/step - loss: 1.0949 - accuracy: 0.3691\n",
            "Epoch 2/5\n",
            "64/64 [==============================] - 0s 3ms/step - loss: 1.0733 - accuracy: 0.5449\n",
            "Epoch 3/5\n",
            "64/64 [==============================] - 0s 2ms/step - loss: 1.0346 - accuracy: 0.6582\n",
            "Epoch 4/5\n",
            "64/64 [==============================] - 0s 2ms/step - loss: 0.9970 - accuracy: 0.7070\n",
            "Epoch 5/5\n",
            "64/64 [==============================] - 0s 2ms/step - loss: 0.9771 - accuracy: 0.6543\n",
            "32/32 [==============================] - 0s 2ms/step - loss: 0.9503 - accuracy: 0.7422\n",
            "Epoch 1/5\n"
          ]
        },
        {
          "output_type": "stream",
          "name": "stderr",
          "text": [
            "/usr/local/lib/python3.7/dist-packages/tensorflow/python/util/dispatch.py:1082: UserWarning: \"`sparse_categorical_crossentropy` received `from_logits=True`, but the `output` argument was produced by a sigmoid or softmax activation and thus does not represent logits. Was this intended?\"\n",
            "  return dispatch_target(*args, **kwargs)\n"
          ]
        },
        {
          "output_type": "stream",
          "name": "stdout",
          "text": [
            "64/64 [==============================] - 0s 2ms/step - loss: 1.0983 - accuracy: 0.3496\n",
            "Epoch 2/5\n",
            "64/64 [==============================] - 0s 2ms/step - loss: 1.0710 - accuracy: 0.5254\n",
            "Epoch 3/5\n",
            "64/64 [==============================] - 0s 2ms/step - loss: 1.0415 - accuracy: 0.5762\n",
            "Epoch 4/5\n",
            "64/64 [==============================] - 0s 2ms/step - loss: 1.0061 - accuracy: 0.6387\n",
            "Epoch 5/5\n",
            "64/64 [==============================] - 0s 2ms/step - loss: 0.9732 - accuracy: 0.6738\n",
            "32/32 [==============================] - 0s 2ms/step - loss: 0.9582 - accuracy: 0.7070\n",
            "Epoch 1/5\n"
          ]
        },
        {
          "output_type": "stream",
          "name": "stderr",
          "text": [
            "/usr/local/lib/python3.7/dist-packages/tensorflow/python/util/dispatch.py:1082: UserWarning: \"`sparse_categorical_crossentropy` received `from_logits=True`, but the `output` argument was produced by a sigmoid or softmax activation and thus does not represent logits. Was this intended?\"\n",
            "  return dispatch_target(*args, **kwargs)\n"
          ]
        },
        {
          "output_type": "stream",
          "name": "stdout",
          "text": [
            "64/64 [==============================] - 0s 2ms/step - loss: 1.0941 - accuracy: 0.3652\n",
            "Epoch 2/5\n",
            "64/64 [==============================] - 0s 2ms/step - loss: 1.0662 - accuracy: 0.5801\n",
            "Epoch 3/5\n",
            "64/64 [==============================] - 0s 2ms/step - loss: 1.0310 - accuracy: 0.6289\n",
            "Epoch 4/5\n",
            "64/64 [==============================] - 0s 2ms/step - loss: 0.9861 - accuracy: 0.7051\n",
            "Epoch 5/5\n",
            "64/64 [==============================] - 0s 2ms/step - loss: 0.9419 - accuracy: 0.7402\n",
            "32/32 [==============================] - 0s 2ms/step - loss: 0.9620 - accuracy: 0.6602\n",
            "Epoch 1/5\n"
          ]
        },
        {
          "output_type": "stream",
          "name": "stderr",
          "text": [
            "/usr/local/lib/python3.7/dist-packages/tensorflow/python/util/dispatch.py:1082: UserWarning: \"`sparse_categorical_crossentropy` received `from_logits=True`, but the `output` argument was produced by a sigmoid or softmax activation and thus does not represent logits. Was this intended?\"\n",
            "  return dispatch_target(*args, **kwargs)\n"
          ]
        },
        {
          "output_type": "stream",
          "name": "stdout",
          "text": [
            "64/64 [==============================] - 0s 2ms/step - loss: 1.0978 - accuracy: 0.3418\n",
            "Epoch 2/5\n",
            "64/64 [==============================] - 0s 2ms/step - loss: 1.0893 - accuracy: 0.4746\n",
            "Epoch 3/5\n",
            "64/64 [==============================] - 0s 2ms/step - loss: 1.0789 - accuracy: 0.5820\n",
            "Epoch 4/5\n",
            "64/64 [==============================] - 0s 2ms/step - loss: 1.0693 - accuracy: 0.6035\n",
            "Epoch 5/5\n",
            "64/64 [==============================] - 0s 2ms/step - loss: 1.0628 - accuracy: 0.6172\n",
            "32/32 [==============================] - 0s 2ms/step - loss: 1.0561 - accuracy: 0.6211\n",
            "Epoch 1/5\n"
          ]
        },
        {
          "output_type": "stream",
          "name": "stderr",
          "text": [
            "/usr/local/lib/python3.7/dist-packages/tensorflow/python/util/dispatch.py:1082: UserWarning: \"`sparse_categorical_crossentropy` received `from_logits=True`, but the `output` argument was produced by a sigmoid or softmax activation and thus does not represent logits. Was this intended?\"\n",
            "  return dispatch_target(*args, **kwargs)\n"
          ]
        },
        {
          "output_type": "stream",
          "name": "stdout",
          "text": [
            "64/64 [==============================] - 0s 2ms/step - loss: 1.0967 - accuracy: 0.3770\n",
            "Epoch 2/5\n",
            "64/64 [==============================] - 0s 2ms/step - loss: 1.0876 - accuracy: 0.5410\n",
            "Epoch 3/5\n",
            "64/64 [==============================] - 0s 2ms/step - loss: 1.0793 - accuracy: 0.5332\n",
            "Epoch 4/5\n",
            "64/64 [==============================] - 0s 2ms/step - loss: 1.0691 - accuracy: 0.5801\n",
            "Epoch 5/5\n",
            "64/64 [==============================] - 0s 2ms/step - loss: 1.0609 - accuracy: 0.5430\n",
            "32/32 [==============================] - 0s 2ms/step - loss: 1.0584 - accuracy: 0.5312\n",
            "Epoch 1/5\n"
          ]
        },
        {
          "output_type": "stream",
          "name": "stderr",
          "text": [
            "/usr/local/lib/python3.7/dist-packages/tensorflow/python/util/dispatch.py:1082: UserWarning: \"`sparse_categorical_crossentropy` received `from_logits=True`, but the `output` argument was produced by a sigmoid or softmax activation and thus does not represent logits. Was this intended?\"\n",
            "  return dispatch_target(*args, **kwargs)\n"
          ]
        },
        {
          "output_type": "stream",
          "name": "stdout",
          "text": [
            "64/64 [==============================] - 0s 2ms/step - loss: 1.0971 - accuracy: 0.3789\n",
            "Epoch 2/5\n",
            "64/64 [==============================] - 0s 2ms/step - loss: 1.0899 - accuracy: 0.4492\n",
            "Epoch 3/5\n",
            "64/64 [==============================] - 0s 2ms/step - loss: 1.0802 - accuracy: 0.5156\n",
            "Epoch 4/5\n",
            "64/64 [==============================] - 0s 2ms/step - loss: 1.0689 - accuracy: 0.5820\n",
            "Epoch 5/5\n",
            "64/64 [==============================] - 0s 2ms/step - loss: 1.0574 - accuracy: 0.6328\n",
            "32/32 [==============================] - 0s 2ms/step - loss: 1.0650 - accuracy: 0.4883\n",
            "Epoch 1/5\n"
          ]
        },
        {
          "output_type": "stream",
          "name": "stderr",
          "text": [
            "/usr/local/lib/python3.7/dist-packages/tensorflow/python/util/dispatch.py:1082: UserWarning: \"`sparse_categorical_crossentropy` received `from_logits=True`, but the `output` argument was produced by a sigmoid or softmax activation and thus does not represent logits. Was this intended?\"\n",
            "  return dispatch_target(*args, **kwargs)\n"
          ]
        },
        {
          "output_type": "stream",
          "name": "stdout",
          "text": [
            "64/64 [==============================] - 1s 3ms/step - loss: 1.0941 - accuracy: 0.3828\n",
            "Epoch 2/5\n",
            "64/64 [==============================] - 0s 3ms/step - loss: 1.0692 - accuracy: 0.4883\n",
            "Epoch 3/5\n",
            "64/64 [==============================] - 0s 3ms/step - loss: 1.0375 - accuracy: 0.5469\n",
            "Epoch 4/5\n",
            "64/64 [==============================] - 0s 3ms/step - loss: 1.0060 - accuracy: 0.6309\n",
            "Epoch 5/5\n",
            "64/64 [==============================] - 0s 3ms/step - loss: 0.9767 - accuracy: 0.6543\n",
            "32/32 [==============================] - 0s 3ms/step - loss: 0.9636 - accuracy: 0.6875\n",
            "Epoch 1/5\n"
          ]
        },
        {
          "output_type": "stream",
          "name": "stderr",
          "text": [
            "/usr/local/lib/python3.7/dist-packages/tensorflow/python/util/dispatch.py:1082: UserWarning: \"`sparse_categorical_crossentropy` received `from_logits=True`, but the `output` argument was produced by a sigmoid or softmax activation and thus does not represent logits. Was this intended?\"\n",
            "  return dispatch_target(*args, **kwargs)\n"
          ]
        },
        {
          "output_type": "stream",
          "name": "stdout",
          "text": [
            "64/64 [==============================] - 1s 3ms/step - loss: 1.0938 - accuracy: 0.3535\n",
            "Epoch 2/5\n",
            "64/64 [==============================] - 0s 3ms/step - loss: 1.0631 - accuracy: 0.4746\n",
            "Epoch 3/5\n",
            "64/64 [==============================] - 0s 3ms/step - loss: 1.0365 - accuracy: 0.5449\n",
            "Epoch 4/5\n",
            "64/64 [==============================] - 0s 3ms/step - loss: 1.0117 - accuracy: 0.5918\n",
            "Epoch 5/5\n",
            "64/64 [==============================] - 0s 3ms/step - loss: 0.9784 - accuracy: 0.6660\n",
            "32/32 [==============================] - 0s 2ms/step - loss: 0.9689 - accuracy: 0.6914\n",
            "Epoch 1/5\n"
          ]
        },
        {
          "output_type": "stream",
          "name": "stderr",
          "text": [
            "/usr/local/lib/python3.7/dist-packages/tensorflow/python/util/dispatch.py:1082: UserWarning: \"`sparse_categorical_crossentropy` received `from_logits=True`, but the `output` argument was produced by a sigmoid or softmax activation and thus does not represent logits. Was this intended?\"\n",
            "  return dispatch_target(*args, **kwargs)\n"
          ]
        },
        {
          "output_type": "stream",
          "name": "stdout",
          "text": [
            "64/64 [==============================] - 1s 3ms/step - loss: 1.0932 - accuracy: 0.3574\n",
            "Epoch 2/5\n",
            "64/64 [==============================] - 0s 3ms/step - loss: 1.0616 - accuracy: 0.5547\n",
            "Epoch 3/5\n",
            "64/64 [==============================] - 0s 3ms/step - loss: 1.0216 - accuracy: 0.5762\n",
            "Epoch 4/5\n",
            "64/64 [==============================] - 0s 3ms/step - loss: 0.9904 - accuracy: 0.6367\n",
            "Epoch 5/5\n",
            "64/64 [==============================] - 0s 3ms/step - loss: 0.9620 - accuracy: 0.6680\n",
            "32/32 [==============================] - 0s 2ms/step - loss: 0.9726 - accuracy: 0.5859\n",
            "Epoch 1/5\n"
          ]
        },
        {
          "output_type": "stream",
          "name": "stderr",
          "text": [
            "/usr/local/lib/python3.7/dist-packages/tensorflow/python/util/dispatch.py:1082: UserWarning: \"`sparse_categorical_crossentropy` received `from_logits=True`, but the `output` argument was produced by a sigmoid or softmax activation and thus does not represent logits. Was this intended?\"\n",
            "  return dispatch_target(*args, **kwargs)\n"
          ]
        },
        {
          "output_type": "stream",
          "name": "stdout",
          "text": [
            "64/64 [==============================] - 0s 2ms/step - loss: 1.0986 - accuracy: 0.3457\n",
            "Epoch 2/5\n",
            "64/64 [==============================] - 0s 2ms/step - loss: 1.0983 - accuracy: 0.3418\n",
            "Epoch 3/5\n",
            "64/64 [==============================] - 0s 2ms/step - loss: 1.0981 - accuracy: 0.3398\n",
            "Epoch 4/5\n",
            "64/64 [==============================] - 0s 2ms/step - loss: 1.0979 - accuracy: 0.3379\n",
            "Epoch 5/5\n",
            "64/64 [==============================] - 0s 2ms/step - loss: 1.0977 - accuracy: 0.3398\n",
            "32/32 [==============================] - 0s 2ms/step - loss: 1.0977 - accuracy: 0.3555\n",
            "Epoch 1/5\n",
            " 1/64 [..............................] - ETA: 14s - loss: 1.0999 - accuracy: 0.2500"
          ]
        },
        {
          "output_type": "stream",
          "name": "stderr",
          "text": [
            "/usr/local/lib/python3.7/dist-packages/tensorflow/python/util/dispatch.py:1082: UserWarning: \"`sparse_categorical_crossentropy` received `from_logits=True`, but the `output` argument was produced by a sigmoid or softmax activation and thus does not represent logits. Was this intended?\"\n",
            "  return dispatch_target(*args, **kwargs)\n"
          ]
        },
        {
          "output_type": "stream",
          "name": "stdout",
          "text": [
            "64/64 [==============================] - 0s 2ms/step - loss: 1.0991 - accuracy: 0.3105\n",
            "Epoch 2/5\n",
            "64/64 [==============================] - 0s 2ms/step - loss: 1.0988 - accuracy: 0.3281\n",
            "Epoch 3/5\n",
            "64/64 [==============================] - 0s 2ms/step - loss: 1.0987 - accuracy: 0.3477\n",
            "Epoch 4/5\n",
            "64/64 [==============================] - 0s 2ms/step - loss: 1.0987 - accuracy: 0.3477\n",
            "Epoch 5/5\n",
            "64/64 [==============================] - 0s 2ms/step - loss: 1.0985 - accuracy: 0.3477\n",
            "32/32 [==============================] - 0s 2ms/step - loss: 1.0976 - accuracy: 0.3516\n",
            "Epoch 1/5\n"
          ]
        },
        {
          "output_type": "stream",
          "name": "stderr",
          "text": [
            "/usr/local/lib/python3.7/dist-packages/tensorflow/python/util/dispatch.py:1082: UserWarning: \"`sparse_categorical_crossentropy` received `from_logits=True`, but the `output` argument was produced by a sigmoid or softmax activation and thus does not represent logits. Was this intended?\"\n",
            "  return dispatch_target(*args, **kwargs)\n"
          ]
        },
        {
          "output_type": "stream",
          "name": "stdout",
          "text": [
            "64/64 [==============================] - 0s 2ms/step - loss: 1.0989 - accuracy: 0.3477\n",
            "Epoch 2/5\n",
            "64/64 [==============================] - 0s 2ms/step - loss: 1.0984 - accuracy: 0.3262\n",
            "Epoch 3/5\n",
            "64/64 [==============================] - 0s 2ms/step - loss: 1.0980 - accuracy: 0.3379\n",
            "Epoch 4/5\n",
            "64/64 [==============================] - 0s 2ms/step - loss: 1.0977 - accuracy: 0.3535\n",
            "Epoch 5/5\n",
            "64/64 [==============================] - 0s 2ms/step - loss: 1.0975 - accuracy: 0.3535\n",
            "32/32 [==============================] - 0s 2ms/step - loss: 1.0991 - accuracy: 0.3398\n",
            "Epoch 1/5\n"
          ]
        },
        {
          "output_type": "stream",
          "name": "stderr",
          "text": [
            "/usr/local/lib/python3.7/dist-packages/tensorflow/python/util/dispatch.py:1082: UserWarning: \"`sparse_categorical_crossentropy` received `from_logits=True`, but the `output` argument was produced by a sigmoid or softmax activation and thus does not represent logits. Was this intended?\"\n",
            "  return dispatch_target(*args, **kwargs)\n"
          ]
        },
        {
          "output_type": "stream",
          "name": "stdout",
          "text": [
            "64/64 [==============================] - 1s 3ms/step - loss: 1.0938 - accuracy: 0.3672\n",
            "Epoch 2/5\n",
            "64/64 [==============================] - 0s 2ms/step - loss: 1.0778 - accuracy: 0.4609\n",
            "Epoch 3/5\n",
            "64/64 [==============================] - 0s 2ms/step - loss: 1.0619 - accuracy: 0.5508\n",
            "Epoch 4/5\n",
            "64/64 [==============================] - 0s 3ms/step - loss: 1.0421 - accuracy: 0.6113\n",
            "Epoch 5/5\n",
            "64/64 [==============================] - 0s 3ms/step - loss: 1.0190 - accuracy: 0.6602\n",
            "32/32 [==============================] - 0s 2ms/step - loss: 1.0108 - accuracy: 0.6641\n",
            "Epoch 1/5\n"
          ]
        },
        {
          "output_type": "stream",
          "name": "stderr",
          "text": [
            "/usr/local/lib/python3.7/dist-packages/tensorflow/python/util/dispatch.py:1082: UserWarning: \"`sparse_categorical_crossentropy` received `from_logits=True`, but the `output` argument was produced by a sigmoid or softmax activation and thus does not represent logits. Was this intended?\"\n",
            "  return dispatch_target(*args, **kwargs)\n"
          ]
        },
        {
          "output_type": "stream",
          "name": "stdout",
          "text": [
            "64/64 [==============================] - 1s 2ms/step - loss: 1.0945 - accuracy: 0.3652\n",
            "Epoch 2/5\n",
            "64/64 [==============================] - 0s 2ms/step - loss: 1.0761 - accuracy: 0.5039\n",
            "Epoch 3/5\n",
            "64/64 [==============================] - 0s 2ms/step - loss: 1.0576 - accuracy: 0.5762\n",
            "Epoch 4/5\n",
            "64/64 [==============================] - 0s 3ms/step - loss: 1.0381 - accuracy: 0.6055\n",
            "Epoch 5/5\n",
            "64/64 [==============================] - 0s 3ms/step - loss: 1.0163 - accuracy: 0.6621\n",
            "32/32 [==============================] - 0s 2ms/step - loss: 1.0094 - accuracy: 0.6758\n",
            "Epoch 1/5\n"
          ]
        },
        {
          "output_type": "stream",
          "name": "stderr",
          "text": [
            "/usr/local/lib/python3.7/dist-packages/tensorflow/python/util/dispatch.py:1082: UserWarning: \"`sparse_categorical_crossentropy` received `from_logits=True`, but the `output` argument was produced by a sigmoid or softmax activation and thus does not represent logits. Was this intended?\"\n",
            "  return dispatch_target(*args, **kwargs)\n"
          ]
        },
        {
          "output_type": "stream",
          "name": "stdout",
          "text": [
            "64/64 [==============================] - 1s 3ms/step - loss: 1.0927 - accuracy: 0.3984\n",
            "Epoch 2/5\n",
            "64/64 [==============================] - 0s 2ms/step - loss: 1.0717 - accuracy: 0.5820\n",
            "Epoch 3/5\n",
            "64/64 [==============================] - 0s 3ms/step - loss: 1.0480 - accuracy: 0.6250\n",
            "Epoch 4/5\n",
            "64/64 [==============================] - 0s 3ms/step - loss: 1.0242 - accuracy: 0.6543\n",
            "Epoch 5/5\n",
            "64/64 [==============================] - 0s 2ms/step - loss: 0.9994 - accuracy: 0.7109\n",
            "32/32 [==============================] - 0s 2ms/step - loss: 1.0100 - accuracy: 0.6562\n",
            "Epoch 1/5\n"
          ]
        },
        {
          "output_type": "stream",
          "name": "stderr",
          "text": [
            "/usr/local/lib/python3.7/dist-packages/tensorflow/python/util/dispatch.py:1082: UserWarning: \"`sparse_categorical_crossentropy` received `from_logits=True`, but the `output` argument was produced by a sigmoid or softmax activation and thus does not represent logits. Was this intended?\"\n",
            "  return dispatch_target(*args, **kwargs)\n"
          ]
        },
        {
          "output_type": "stream",
          "name": "stdout",
          "text": [
            "64/64 [==============================] - 1s 2ms/step - loss: 1.0985 - accuracy: 0.3438\n",
            "Epoch 2/5\n",
            "64/64 [==============================] - 0s 2ms/step - loss: 1.0984 - accuracy: 0.3457\n",
            "Epoch 3/5\n",
            "64/64 [==============================] - 0s 2ms/step - loss: 1.0984 - accuracy: 0.3418\n",
            "Epoch 4/5\n",
            "64/64 [==============================] - 0s 2ms/step - loss: 1.0984 - accuracy: 0.3438\n",
            "Epoch 5/5\n",
            "64/64 [==============================] - 0s 2ms/step - loss: 1.0983 - accuracy: 0.3418\n",
            "32/32 [==============================] - 0s 2ms/step - loss: 1.0986 - accuracy: 0.3320\n",
            "Epoch 1/5\n"
          ]
        },
        {
          "output_type": "stream",
          "name": "stderr",
          "text": [
            "/usr/local/lib/python3.7/dist-packages/tensorflow/python/util/dispatch.py:1082: UserWarning: \"`sparse_categorical_crossentropy` received `from_logits=True`, but the `output` argument was produced by a sigmoid or softmax activation and thus does not represent logits. Was this intended?\"\n",
            "  return dispatch_target(*args, **kwargs)\n"
          ]
        },
        {
          "output_type": "stream",
          "name": "stdout",
          "text": [
            "64/64 [==============================] - 0s 2ms/step - loss: 1.0988 - accuracy: 0.2930\n",
            "Epoch 2/5\n",
            "64/64 [==============================] - 0s 2ms/step - loss: 1.0988 - accuracy: 0.2812\n",
            "Epoch 3/5\n",
            "64/64 [==============================] - 0s 2ms/step - loss: 1.0988 - accuracy: 0.2891\n",
            "Epoch 4/5\n",
            "64/64 [==============================] - 0s 2ms/step - loss: 1.0987 - accuracy: 0.2891\n",
            "Epoch 5/5\n",
            "64/64 [==============================] - 0s 2ms/step - loss: 1.0987 - accuracy: 0.3047\n",
            "32/32 [==============================] - 0s 2ms/step - loss: 1.0987 - accuracy: 0.3281\n",
            "Epoch 1/5\n"
          ]
        },
        {
          "output_type": "stream",
          "name": "stderr",
          "text": [
            "/usr/local/lib/python3.7/dist-packages/tensorflow/python/util/dispatch.py:1082: UserWarning: \"`sparse_categorical_crossentropy` received `from_logits=True`, but the `output` argument was produced by a sigmoid or softmax activation and thus does not represent logits. Was this intended?\"\n",
            "  return dispatch_target(*args, **kwargs)\n"
          ]
        },
        {
          "output_type": "stream",
          "name": "stdout",
          "text": [
            "64/64 [==============================] - 0s 2ms/step - loss: 1.0987 - accuracy: 0.3359\n",
            "Epoch 2/5\n",
            "64/64 [==============================] - 0s 2ms/step - loss: 1.0986 - accuracy: 0.3301\n",
            "Epoch 3/5\n",
            "64/64 [==============================] - 0s 2ms/step - loss: 1.0986 - accuracy: 0.3320\n",
            "Epoch 4/5\n",
            "64/64 [==============================] - 0s 2ms/step - loss: 1.0985 - accuracy: 0.3242\n",
            "Epoch 5/5\n",
            "64/64 [==============================] - 0s 2ms/step - loss: 1.0985 - accuracy: 0.3340\n",
            "32/32 [==============================] - 0s 2ms/step - loss: 1.0986 - accuracy: 0.3008\n",
            "Epoch 1/5\n"
          ]
        },
        {
          "output_type": "stream",
          "name": "stderr",
          "text": [
            "/usr/local/lib/python3.7/dist-packages/tensorflow/python/util/dispatch.py:1082: UserWarning: \"`sparse_categorical_crossentropy` received `from_logits=True`, but the `output` argument was produced by a sigmoid or softmax activation and thus does not represent logits. Was this intended?\"\n",
            "  return dispatch_target(*args, **kwargs)\n"
          ]
        },
        {
          "output_type": "stream",
          "name": "stdout",
          "text": [
            "64/64 [==============================] - 0s 2ms/step - loss: 1.0989 - accuracy: 0.3105\n",
            "Epoch 2/5\n",
            "64/64 [==============================] - 0s 2ms/step - loss: 1.0989 - accuracy: 0.3105\n",
            "Epoch 3/5\n",
            "64/64 [==============================] - 0s 2ms/step - loss: 1.0989 - accuracy: 0.3105\n",
            "Epoch 4/5\n",
            "64/64 [==============================] - 0s 2ms/step - loss: 1.0989 - accuracy: 0.3105\n",
            "Epoch 5/5\n",
            "64/64 [==============================] - 0s 2ms/step - loss: 1.0989 - accuracy: 0.3105\n",
            "32/32 [==============================] - 0s 2ms/step - loss: 1.0988 - accuracy: 0.3164\n",
            "Epoch 1/5\n"
          ]
        },
        {
          "output_type": "stream",
          "name": "stderr",
          "text": [
            "/usr/local/lib/python3.7/dist-packages/tensorflow/python/util/dispatch.py:1082: UserWarning: \"`sparse_categorical_crossentropy` received `from_logits=True`, but the `output` argument was produced by a sigmoid or softmax activation and thus does not represent logits. Was this intended?\"\n",
            "  return dispatch_target(*args, **kwargs)\n"
          ]
        },
        {
          "output_type": "stream",
          "name": "stdout",
          "text": [
            "64/64 [==============================] - 0s 2ms/step - loss: 1.0985 - accuracy: 0.3828\n",
            "Epoch 2/5\n",
            "64/64 [==============================] - 0s 2ms/step - loss: 1.0985 - accuracy: 0.3848\n",
            "Epoch 3/5\n",
            "64/64 [==============================] - 0s 2ms/step - loss: 1.0985 - accuracy: 0.3828\n",
            "Epoch 4/5\n",
            "64/64 [==============================] - 0s 2ms/step - loss: 1.0985 - accuracy: 0.3770\n",
            "Epoch 5/5\n",
            "64/64 [==============================] - 0s 2ms/step - loss: 1.0985 - accuracy: 0.3789\n",
            "32/32 [==============================] - 0s 2ms/step - loss: 1.0986 - accuracy: 0.3477\n",
            "Epoch 1/5\n"
          ]
        },
        {
          "output_type": "stream",
          "name": "stderr",
          "text": [
            "/usr/local/lib/python3.7/dist-packages/tensorflow/python/util/dispatch.py:1082: UserWarning: \"`sparse_categorical_crossentropy` received `from_logits=True`, but the `output` argument was produced by a sigmoid or softmax activation and thus does not represent logits. Was this intended?\"\n",
            "  return dispatch_target(*args, **kwargs)\n"
          ]
        },
        {
          "output_type": "stream",
          "name": "stdout",
          "text": [
            "64/64 [==============================] - 0s 2ms/step - loss: 1.0982 - accuracy: 0.3477\n",
            "Epoch 2/5\n",
            "64/64 [==============================] - 0s 2ms/step - loss: 1.0982 - accuracy: 0.3477\n",
            "Epoch 3/5\n",
            "64/64 [==============================] - 0s 2ms/step - loss: 1.0982 - accuracy: 0.3477\n",
            "Epoch 4/5\n",
            "64/64 [==============================] - 0s 2ms/step - loss: 1.0982 - accuracy: 0.3477\n",
            "Epoch 5/5\n",
            "64/64 [==============================] - 0s 3ms/step - loss: 1.0982 - accuracy: 0.3496\n",
            "32/32 [==============================] - 0s 2ms/step - loss: 1.0985 - accuracy: 0.3320\n",
            "Epoch 1/5\n"
          ]
        },
        {
          "output_type": "stream",
          "name": "stderr",
          "text": [
            "/usr/local/lib/python3.7/dist-packages/tensorflow/python/util/dispatch.py:1082: UserWarning: \"`sparse_categorical_crossentropy` received `from_logits=True`, but the `output` argument was produced by a sigmoid or softmax activation and thus does not represent logits. Was this intended?\"\n",
            "  return dispatch_target(*args, **kwargs)\n"
          ]
        },
        {
          "output_type": "stream",
          "name": "stdout",
          "text": [
            "64/64 [==============================] - 0s 2ms/step - loss: 1.0965 - accuracy: 0.3262\n",
            "Epoch 2/5\n",
            "64/64 [==============================] - 0s 2ms/step - loss: 1.0716 - accuracy: 0.5391\n",
            "Epoch 3/5\n",
            "64/64 [==============================] - 0s 2ms/step - loss: 1.0447 - accuracy: 0.6055\n",
            "Epoch 4/5\n",
            "64/64 [==============================] - 0s 2ms/step - loss: 1.0227 - accuracy: 0.6152\n",
            "Epoch 5/5\n",
            "64/64 [==============================] - 0s 2ms/step - loss: 1.0012 - accuracy: 0.6309\n",
            "32/32 [==============================] - 0s 3ms/step - loss: 1.0039 - accuracy: 0.5312\n",
            "Epoch 1/5\n"
          ]
        },
        {
          "output_type": "stream",
          "name": "stderr",
          "text": [
            "/usr/local/lib/python3.7/dist-packages/tensorflow/python/util/dispatch.py:1082: UserWarning: \"`sparse_categorical_crossentropy` received `from_logits=True`, but the `output` argument was produced by a sigmoid or softmax activation and thus does not represent logits. Was this intended?\"\n",
            "  return dispatch_target(*args, **kwargs)\n"
          ]
        },
        {
          "output_type": "stream",
          "name": "stdout",
          "text": [
            "64/64 [==============================] - 0s 2ms/step - loss: 1.0968 - accuracy: 0.3496\n",
            "Epoch 2/5\n",
            "64/64 [==============================] - 0s 2ms/step - loss: 1.0777 - accuracy: 0.5039\n",
            "Epoch 3/5\n",
            "64/64 [==============================] - 0s 2ms/step - loss: 1.0448 - accuracy: 0.5859\n",
            "Epoch 4/5\n",
            "64/64 [==============================] - 0s 2ms/step - loss: 1.0094 - accuracy: 0.6602\n",
            "Epoch 5/5\n",
            "64/64 [==============================] - 0s 2ms/step - loss: 0.9788 - accuracy: 0.6641\n",
            "32/32 [==============================] - 0s 2ms/step - loss: 0.9617 - accuracy: 0.6992\n",
            "Epoch 1/5\n"
          ]
        },
        {
          "output_type": "stream",
          "name": "stderr",
          "text": [
            "/usr/local/lib/python3.7/dist-packages/tensorflow/python/util/dispatch.py:1082: UserWarning: \"`sparse_categorical_crossentropy` received `from_logits=True`, but the `output` argument was produced by a sigmoid or softmax activation and thus does not represent logits. Was this intended?\"\n",
            "  return dispatch_target(*args, **kwargs)\n"
          ]
        },
        {
          "output_type": "stream",
          "name": "stdout",
          "text": [
            "64/64 [==============================] - 0s 3ms/step - loss: 1.0950 - accuracy: 0.3652\n",
            "Epoch 2/5\n",
            "64/64 [==============================] - 0s 2ms/step - loss: 1.0664 - accuracy: 0.5254\n",
            "Epoch 3/5\n",
            "64/64 [==============================] - 0s 2ms/step - loss: 1.0313 - accuracy: 0.5801\n",
            "Epoch 4/5\n",
            "64/64 [==============================] - 0s 2ms/step - loss: 0.9990 - accuracy: 0.6465\n",
            "Epoch 5/5\n",
            "64/64 [==============================] - 0s 2ms/step - loss: 0.9484 - accuracy: 0.7285\n",
            "32/32 [==============================] - 0s 2ms/step - loss: 0.9701 - accuracy: 0.6484\n",
            "Epoch 1/5\n"
          ]
        },
        {
          "output_type": "stream",
          "name": "stderr",
          "text": [
            "/usr/local/lib/python3.7/dist-packages/tensorflow/python/util/dispatch.py:1082: UserWarning: \"`sparse_categorical_crossentropy` received `from_logits=True`, but the `output` argument was produced by a sigmoid or softmax activation and thus does not represent logits. Was this intended?\"\n",
            "  return dispatch_target(*args, **kwargs)\n"
          ]
        },
        {
          "output_type": "stream",
          "name": "stdout",
          "text": [
            "64/64 [==============================] - 0s 2ms/step - loss: 1.0976 - accuracy: 0.3438\n",
            "Epoch 2/5\n",
            "64/64 [==============================] - 0s 2ms/step - loss: 1.0922 - accuracy: 0.4043\n",
            "Epoch 3/5\n",
            "64/64 [==============================] - 0s 2ms/step - loss: 1.0845 - accuracy: 0.4648\n",
            "Epoch 4/5\n",
            "64/64 [==============================] - 0s 2ms/step - loss: 1.0763 - accuracy: 0.5176\n",
            "Epoch 5/5\n",
            "64/64 [==============================] - 0s 2ms/step - loss: 1.0690 - accuracy: 0.5547\n",
            "32/32 [==============================] - 0s 2ms/step - loss: 1.0642 - accuracy: 0.5391\n",
            "Epoch 1/5\n"
          ]
        },
        {
          "output_type": "stream",
          "name": "stderr",
          "text": [
            "/usr/local/lib/python3.7/dist-packages/tensorflow/python/util/dispatch.py:1082: UserWarning: \"`sparse_categorical_crossentropy` received `from_logits=True`, but the `output` argument was produced by a sigmoid or softmax activation and thus does not represent logits. Was this intended?\"\n",
            "  return dispatch_target(*args, **kwargs)\n"
          ]
        },
        {
          "output_type": "stream",
          "name": "stdout",
          "text": [
            "64/64 [==============================] - 0s 2ms/step - loss: 1.0987 - accuracy: 0.3203\n",
            "Epoch 2/5\n",
            "64/64 [==============================] - 0s 2ms/step - loss: 1.0935 - accuracy: 0.3926\n",
            "Epoch 3/5\n",
            "64/64 [==============================] - 0s 2ms/step - loss: 1.0858 - accuracy: 0.5430\n",
            "Epoch 4/5\n",
            "64/64 [==============================] - 0s 2ms/step - loss: 1.0784 - accuracy: 0.6113\n",
            "Epoch 5/5\n",
            "64/64 [==============================] - 0s 2ms/step - loss: 1.0712 - accuracy: 0.5625\n",
            "32/32 [==============================] - 0s 2ms/step - loss: 1.0697 - accuracy: 0.5898\n",
            "Epoch 1/5\n"
          ]
        },
        {
          "output_type": "stream",
          "name": "stderr",
          "text": [
            "/usr/local/lib/python3.7/dist-packages/tensorflow/python/util/dispatch.py:1082: UserWarning: \"`sparse_categorical_crossentropy` received `from_logits=True`, but the `output` argument was produced by a sigmoid or softmax activation and thus does not represent logits. Was this intended?\"\n",
            "  return dispatch_target(*args, **kwargs)\n"
          ]
        },
        {
          "output_type": "stream",
          "name": "stdout",
          "text": [
            "64/64 [==============================] - 0s 2ms/step - loss: 1.0975 - accuracy: 0.3457\n",
            "Epoch 2/5\n",
            "64/64 [==============================] - 0s 2ms/step - loss: 1.0908 - accuracy: 0.3887\n",
            "Epoch 3/5\n",
            "64/64 [==============================] - 0s 2ms/step - loss: 1.0823 - accuracy: 0.4805\n",
            "Epoch 4/5\n",
            "64/64 [==============================] - 0s 2ms/step - loss: 1.0757 - accuracy: 0.5664\n",
            "Epoch 5/5\n",
            "64/64 [==============================] - 0s 2ms/step - loss: 1.0640 - accuracy: 0.6152\n",
            "32/32 [==============================] - 0s 2ms/step - loss: 1.0693 - accuracy: 0.4883\n",
            "Epoch 1/5\n"
          ]
        },
        {
          "output_type": "stream",
          "name": "stderr",
          "text": [
            "/usr/local/lib/python3.7/dist-packages/tensorflow/python/util/dispatch.py:1082: UserWarning: \"`sparse_categorical_crossentropy` received `from_logits=True`, but the `output` argument was produced by a sigmoid or softmax activation and thus does not represent logits. Was this intended?\"\n",
            "  return dispatch_target(*args, **kwargs)\n"
          ]
        },
        {
          "output_type": "stream",
          "name": "stdout",
          "text": [
            "64/64 [==============================] - 1s 3ms/step - loss: 1.0959 - accuracy: 0.3633\n",
            "Epoch 2/5\n",
            "64/64 [==============================] - 0s 3ms/step - loss: 1.0725 - accuracy: 0.5273\n",
            "Epoch 3/5\n",
            "64/64 [==============================] - 0s 3ms/step - loss: 1.0397 - accuracy: 0.5820\n",
            "Epoch 4/5\n",
            "64/64 [==============================] - 0s 3ms/step - loss: 0.9948 - accuracy: 0.6445\n",
            "Epoch 5/5\n",
            "64/64 [==============================] - 0s 3ms/step - loss: 0.9491 - accuracy: 0.7168\n",
            "32/32 [==============================] - 0s 2ms/step - loss: 0.9594 - accuracy: 0.6562\n",
            "Epoch 1/5\n"
          ]
        },
        {
          "output_type": "stream",
          "name": "stderr",
          "text": [
            "/usr/local/lib/python3.7/dist-packages/tensorflow/python/util/dispatch.py:1082: UserWarning: \"`sparse_categorical_crossentropy` received `from_logits=True`, but the `output` argument was produced by a sigmoid or softmax activation and thus does not represent logits. Was this intended?\"\n",
            "  return dispatch_target(*args, **kwargs)\n"
          ]
        },
        {
          "output_type": "stream",
          "name": "stdout",
          "text": [
            "64/64 [==============================] - 1s 3ms/step - loss: 1.0968 - accuracy: 0.3652\n",
            "Epoch 2/5\n",
            "64/64 [==============================] - 0s 3ms/step - loss: 1.0719 - accuracy: 0.5293\n",
            "Epoch 3/5\n",
            "64/64 [==============================] - 0s 3ms/step - loss: 1.0317 - accuracy: 0.5820\n",
            "Epoch 4/5\n",
            "64/64 [==============================] - 0s 3ms/step - loss: 0.9978 - accuracy: 0.6465\n",
            "Epoch 5/5\n",
            "64/64 [==============================] - 0s 3ms/step - loss: 0.9558 - accuracy: 0.6895\n",
            "32/32 [==============================] - 0s 2ms/step - loss: 0.9515 - accuracy: 0.6797\n",
            "Epoch 1/5\n"
          ]
        },
        {
          "output_type": "stream",
          "name": "stderr",
          "text": [
            "/usr/local/lib/python3.7/dist-packages/tensorflow/python/util/dispatch.py:1082: UserWarning: \"`sparse_categorical_crossentropy` received `from_logits=True`, but the `output` argument was produced by a sigmoid or softmax activation and thus does not represent logits. Was this intended?\"\n",
            "  return dispatch_target(*args, **kwargs)\n"
          ]
        },
        {
          "output_type": "stream",
          "name": "stdout",
          "text": [
            "64/64 [==============================] - 1s 3ms/step - loss: 1.0928 - accuracy: 0.3828\n",
            "Epoch 2/5\n",
            "64/64 [==============================] - 0s 3ms/step - loss: 1.0640 - accuracy: 0.4785\n",
            "Epoch 3/5\n",
            "64/64 [==============================] - 0s 3ms/step - loss: 1.0326 - accuracy: 0.5176\n",
            "Epoch 4/5\n",
            "64/64 [==============================] - 0s 3ms/step - loss: 0.9929 - accuracy: 0.5918\n",
            "Epoch 5/5\n",
            "64/64 [==============================] - 0s 3ms/step - loss: 0.9483 - accuracy: 0.6777\n",
            "32/32 [==============================] - 0s 2ms/step - loss: 0.9855 - accuracy: 0.5859\n",
            "Epoch 1/5\n"
          ]
        },
        {
          "output_type": "stream",
          "name": "stderr",
          "text": [
            "/usr/local/lib/python3.7/dist-packages/tensorflow/python/util/dispatch.py:1082: UserWarning: \"`sparse_categorical_crossentropy` received `from_logits=True`, but the `output` argument was produced by a sigmoid or softmax activation and thus does not represent logits. Was this intended?\"\n",
            "  return dispatch_target(*args, **kwargs)\n"
          ]
        },
        {
          "output_type": "stream",
          "name": "stdout",
          "text": [
            "64/64 [==============================] - 0s 2ms/step - loss: 1.0995 - accuracy: 0.3242\n",
            "Epoch 2/5\n",
            "64/64 [==============================] - 0s 2ms/step - loss: 1.0990 - accuracy: 0.3301\n",
            "Epoch 3/5\n",
            "64/64 [==============================] - 0s 2ms/step - loss: 1.0986 - accuracy: 0.3457\n",
            "Epoch 4/5\n",
            "64/64 [==============================] - 0s 2ms/step - loss: 1.0983 - accuracy: 0.3242\n",
            "Epoch 5/5\n",
            "64/64 [==============================] - 0s 2ms/step - loss: 1.0980 - accuracy: 0.3418\n",
            "32/32 [==============================] - 0s 2ms/step - loss: 1.0980 - accuracy: 0.3398\n",
            "Epoch 1/5\n"
          ]
        },
        {
          "output_type": "stream",
          "name": "stderr",
          "text": [
            "/usr/local/lib/python3.7/dist-packages/tensorflow/python/util/dispatch.py:1082: UserWarning: \"`sparse_categorical_crossentropy` received `from_logits=True`, but the `output` argument was produced by a sigmoid or softmax activation and thus does not represent logits. Was this intended?\"\n",
            "  return dispatch_target(*args, **kwargs)\n"
          ]
        },
        {
          "output_type": "stream",
          "name": "stdout",
          "text": [
            "64/64 [==============================] - 0s 2ms/step - loss: 1.0990 - accuracy: 0.3027\n",
            "Epoch 2/5\n",
            "64/64 [==============================] - 0s 2ms/step - loss: 1.0988 - accuracy: 0.3477\n",
            "Epoch 3/5\n",
            "64/64 [==============================] - 0s 2ms/step - loss: 1.0986 - accuracy: 0.3477\n",
            "Epoch 4/5\n",
            "64/64 [==============================] - 0s 2ms/step - loss: 1.0985 - accuracy: 0.3477\n",
            "Epoch 5/5\n",
            "64/64 [==============================] - 0s 2ms/step - loss: 1.0984 - accuracy: 0.3477\n",
            "32/32 [==============================] - 0s 2ms/step - loss: 1.0973 - accuracy: 0.3516\n",
            "Epoch 1/5\n"
          ]
        },
        {
          "output_type": "stream",
          "name": "stderr",
          "text": [
            "/usr/local/lib/python3.7/dist-packages/tensorflow/python/util/dispatch.py:1082: UserWarning: \"`sparse_categorical_crossentropy` received `from_logits=True`, but the `output` argument was produced by a sigmoid or softmax activation and thus does not represent logits. Was this intended?\"\n",
            "  return dispatch_target(*args, **kwargs)\n"
          ]
        },
        {
          "output_type": "stream",
          "name": "stdout",
          "text": [
            "64/64 [==============================] - 1s 2ms/step - loss: 1.0986 - accuracy: 0.3516\n",
            "Epoch 2/5\n",
            "64/64 [==============================] - 0s 2ms/step - loss: 1.0979 - accuracy: 0.3477\n",
            "Epoch 3/5\n",
            "64/64 [==============================] - 0s 2ms/step - loss: 1.0974 - accuracy: 0.3477\n",
            "Epoch 4/5\n",
            "64/64 [==============================] - 0s 2ms/step - loss: 1.0971 - accuracy: 0.3535\n",
            "Epoch 5/5\n",
            "64/64 [==============================] - 0s 2ms/step - loss: 1.0968 - accuracy: 0.3535\n",
            "32/32 [==============================] - 0s 2ms/step - loss: 1.0988 - accuracy: 0.3398\n",
            "Epoch 1/5\n"
          ]
        },
        {
          "output_type": "stream",
          "name": "stderr",
          "text": [
            "/usr/local/lib/python3.7/dist-packages/tensorflow/python/util/dispatch.py:1082: UserWarning: \"`sparse_categorical_crossentropy` received `from_logits=True`, but the `output` argument was produced by a sigmoid or softmax activation and thus does not represent logits. Was this intended?\"\n",
            "  return dispatch_target(*args, **kwargs)\n"
          ]
        },
        {
          "output_type": "stream",
          "name": "stdout",
          "text": [
            "64/64 [==============================] - 1s 2ms/step - loss: 1.0948 - accuracy: 0.3965\n",
            "Epoch 2/5\n",
            "64/64 [==============================] - 0s 2ms/step - loss: 1.0818 - accuracy: 0.4727\n",
            "Epoch 3/5\n",
            "64/64 [==============================] - 0s 3ms/step - loss: 1.0659 - accuracy: 0.5156\n",
            "Epoch 4/5\n",
            "64/64 [==============================] - 0s 2ms/step - loss: 1.0485 - accuracy: 0.6543\n",
            "Epoch 5/5\n",
            "64/64 [==============================] - 0s 2ms/step - loss: 1.0288 - accuracy: 0.6602\n",
            "32/32 [==============================] - 0s 3ms/step - loss: 1.0150 - accuracy: 0.6875\n",
            "Epoch 1/5\n"
          ]
        },
        {
          "output_type": "stream",
          "name": "stderr",
          "text": [
            "/usr/local/lib/python3.7/dist-packages/tensorflow/python/util/dispatch.py:1082: UserWarning: \"`sparse_categorical_crossentropy` received `from_logits=True`, but the `output` argument was produced by a sigmoid or softmax activation and thus does not represent logits. Was this intended?\"\n",
            "  return dispatch_target(*args, **kwargs)\n"
          ]
        },
        {
          "output_type": "stream",
          "name": "stdout",
          "text": [
            "64/64 [==============================] - 1s 3ms/step - loss: 1.0951 - accuracy: 0.3848\n",
            "Epoch 2/5\n",
            "64/64 [==============================] - 0s 2ms/step - loss: 1.0845 - accuracy: 0.4805\n",
            "Epoch 3/5\n",
            "64/64 [==============================] - 0s 2ms/step - loss: 1.0678 - accuracy: 0.5742\n",
            "Epoch 4/5\n",
            "64/64 [==============================] - 0s 2ms/step - loss: 1.0504 - accuracy: 0.5977\n",
            "Epoch 5/5\n",
            "64/64 [==============================] - 0s 3ms/step - loss: 1.0282 - accuracy: 0.6602\n",
            "32/32 [==============================] - 0s 2ms/step - loss: 1.0191 - accuracy: 0.6602\n",
            "Epoch 1/5\n"
          ]
        },
        {
          "output_type": "stream",
          "name": "stderr",
          "text": [
            "/usr/local/lib/python3.7/dist-packages/tensorflow/python/util/dispatch.py:1082: UserWarning: \"`sparse_categorical_crossentropy` received `from_logits=True`, but the `output` argument was produced by a sigmoid or softmax activation and thus does not represent logits. Was this intended?\"\n",
            "  return dispatch_target(*args, **kwargs)\n"
          ]
        },
        {
          "output_type": "stream",
          "name": "stdout",
          "text": [
            "64/64 [==============================] - 1s 3ms/step - loss: 1.0951 - accuracy: 0.3672\n",
            "Epoch 2/5\n",
            "64/64 [==============================] - 0s 2ms/step - loss: 1.0809 - accuracy: 0.5273\n",
            "Epoch 3/5\n",
            "64/64 [==============================] - 0s 2ms/step - loss: 1.0599 - accuracy: 0.6172\n",
            "Epoch 4/5\n",
            "64/64 [==============================] - 0s 2ms/step - loss: 1.0406 - accuracy: 0.6387\n",
            "Epoch 5/5\n",
            "64/64 [==============================] - 0s 2ms/step - loss: 1.0170 - accuracy: 0.6738\n",
            "32/32 [==============================] - 0s 2ms/step - loss: 1.0262 - accuracy: 0.5898\n",
            "Epoch 1/5\n"
          ]
        },
        {
          "output_type": "stream",
          "name": "stderr",
          "text": [
            "/usr/local/lib/python3.7/dist-packages/tensorflow/python/util/dispatch.py:1082: UserWarning: \"`sparse_categorical_crossentropy` received `from_logits=True`, but the `output` argument was produced by a sigmoid or softmax activation and thus does not represent logits. Was this intended?\"\n",
            "  return dispatch_target(*args, **kwargs)\n"
          ]
        },
        {
          "output_type": "stream",
          "name": "stdout",
          "text": [
            "64/64 [==============================] - 0s 2ms/step - loss: 1.0980 - accuracy: 0.3262\n",
            "Epoch 2/5\n",
            "64/64 [==============================] - 0s 2ms/step - loss: 1.0978 - accuracy: 0.3457\n",
            "Epoch 3/5\n",
            "64/64 [==============================] - 0s 2ms/step - loss: 1.0977 - accuracy: 0.3496\n",
            "Epoch 4/5\n",
            "64/64 [==============================] - 0s 2ms/step - loss: 1.0975 - accuracy: 0.3555\n",
            "Epoch 5/5\n",
            "64/64 [==============================] - 0s 2ms/step - loss: 1.0974 - accuracy: 0.3555\n",
            "32/32 [==============================] - 0s 2ms/step - loss: 1.0976 - accuracy: 0.3320\n",
            "Epoch 1/5\n"
          ]
        },
        {
          "output_type": "stream",
          "name": "stderr",
          "text": [
            "/usr/local/lib/python3.7/dist-packages/tensorflow/python/util/dispatch.py:1082: UserWarning: \"`sparse_categorical_crossentropy` received `from_logits=True`, but the `output` argument was produced by a sigmoid or softmax activation and thus does not represent logits. Was this intended?\"\n",
            "  return dispatch_target(*args, **kwargs)\n"
          ]
        },
        {
          "output_type": "stream",
          "name": "stdout",
          "text": [
            "64/64 [==============================] - 0s 2ms/step - loss: 1.0989 - accuracy: 0.3457\n",
            "Epoch 2/5\n",
            "64/64 [==============================] - 0s 2ms/step - loss: 1.0988 - accuracy: 0.3457\n",
            "Epoch 3/5\n",
            "64/64 [==============================] - 0s 2ms/step - loss: 1.0987 - accuracy: 0.3457\n",
            "Epoch 4/5\n",
            "64/64 [==============================] - 0s 3ms/step - loss: 1.0986 - accuracy: 0.3457\n",
            "Epoch 5/5\n",
            "64/64 [==============================] - 0s 2ms/step - loss: 1.0986 - accuracy: 0.3457\n",
            "32/32 [==============================] - 0s 2ms/step - loss: 1.0978 - accuracy: 0.3516\n",
            "Epoch 1/5\n"
          ]
        },
        {
          "output_type": "stream",
          "name": "stderr",
          "text": [
            "/usr/local/lib/python3.7/dist-packages/tensorflow/python/util/dispatch.py:1082: UserWarning: \"`sparse_categorical_crossentropy` received `from_logits=True`, but the `output` argument was produced by a sigmoid or softmax activation and thus does not represent logits. Was this intended?\"\n",
            "  return dispatch_target(*args, **kwargs)\n"
          ]
        },
        {
          "output_type": "stream",
          "name": "stdout",
          "text": [
            "64/64 [==============================] - 0s 2ms/step - loss: 1.0985 - accuracy: 0.3516\n",
            "Epoch 2/5\n",
            "64/64 [==============================] - 0s 2ms/step - loss: 1.0984 - accuracy: 0.3535\n",
            "Epoch 3/5\n",
            "64/64 [==============================] - 0s 2ms/step - loss: 1.0983 - accuracy: 0.3535\n",
            "Epoch 4/5\n",
            "64/64 [==============================] - 0s 2ms/step - loss: 1.0982 - accuracy: 0.3535\n",
            "Epoch 5/5\n",
            "64/64 [==============================] - 0s 2ms/step - loss: 1.0981 - accuracy: 0.3535\n",
            "32/32 [==============================] - 0s 2ms/step - loss: 1.0987 - accuracy: 0.3398\n",
            "Epoch 1/5\n"
          ]
        },
        {
          "output_type": "stream",
          "name": "stderr",
          "text": [
            "/usr/local/lib/python3.7/dist-packages/tensorflow/python/util/dispatch.py:1082: UserWarning: \"`sparse_categorical_crossentropy` received `from_logits=True`, but the `output` argument was produced by a sigmoid or softmax activation and thus does not represent logits. Was this intended?\"\n",
            "  return dispatch_target(*args, **kwargs)\n"
          ]
        },
        {
          "output_type": "stream",
          "name": "stdout",
          "text": [
            "64/64 [==============================] - 0s 2ms/step - loss: 1.0992 - accuracy: 0.3242\n",
            "Epoch 2/5\n",
            "64/64 [==============================] - 0s 2ms/step - loss: 1.0992 - accuracy: 0.3262\n",
            "Epoch 3/5\n",
            "64/64 [==============================] - 0s 2ms/step - loss: 1.0992 - accuracy: 0.3242\n",
            "Epoch 4/5\n",
            "64/64 [==============================] - 0s 2ms/step - loss: 1.0992 - accuracy: 0.3223\n",
            "Epoch 5/5\n",
            "64/64 [==============================] - 0s 2ms/step - loss: 1.0992 - accuracy: 0.3203\n",
            "32/32 [==============================] - 0s 2ms/step - loss: 1.0997 - accuracy: 0.3125\n",
            "Epoch 1/5\n"
          ]
        },
        {
          "output_type": "stream",
          "name": "stderr",
          "text": [
            "/usr/local/lib/python3.7/dist-packages/tensorflow/python/util/dispatch.py:1082: UserWarning: \"`sparse_categorical_crossentropy` received `from_logits=True`, but the `output` argument was produced by a sigmoid or softmax activation and thus does not represent logits. Was this intended?\"\n",
            "  return dispatch_target(*args, **kwargs)\n"
          ]
        },
        {
          "output_type": "stream",
          "name": "stdout",
          "text": [
            "64/64 [==============================] - 0s 3ms/step - loss: 1.0980 - accuracy: 0.3613\n",
            "Epoch 2/5\n",
            "64/64 [==============================] - 0s 2ms/step - loss: 1.0980 - accuracy: 0.3594\n",
            "Epoch 3/5\n",
            "64/64 [==============================] - 0s 2ms/step - loss: 1.0980 - accuracy: 0.3594\n",
            "Epoch 4/5\n",
            "64/64 [==============================] - 0s 2ms/step - loss: 1.0980 - accuracy: 0.3613\n",
            "Epoch 5/5\n",
            "64/64 [==============================] - 0s 2ms/step - loss: 1.0979 - accuracy: 0.3594\n",
            "32/32 [==============================] - 0s 2ms/step - loss: 1.0980 - accuracy: 0.3125\n",
            "Epoch 1/5\n"
          ]
        },
        {
          "output_type": "stream",
          "name": "stderr",
          "text": [
            "/usr/local/lib/python3.7/dist-packages/tensorflow/python/util/dispatch.py:1082: UserWarning: \"`sparse_categorical_crossentropy` received `from_logits=True`, but the `output` argument was produced by a sigmoid or softmax activation and thus does not represent logits. Was this intended?\"\n",
            "  return dispatch_target(*args, **kwargs)\n"
          ]
        },
        {
          "output_type": "stream",
          "name": "stdout",
          "text": [
            "64/64 [==============================] - 0s 2ms/step - loss: 1.0990 - accuracy: 0.3047\n",
            "Epoch 2/5\n",
            "64/64 [==============================] - 0s 2ms/step - loss: 1.0990 - accuracy: 0.3066\n",
            "Epoch 3/5\n",
            "64/64 [==============================] - 0s 2ms/step - loss: 1.0990 - accuracy: 0.3066\n",
            "Epoch 4/5\n",
            "64/64 [==============================] - 0s 2ms/step - loss: 1.0990 - accuracy: 0.3066\n",
            "Epoch 5/5\n",
            "64/64 [==============================] - 0s 2ms/step - loss: 1.0990 - accuracy: 0.3086\n",
            "32/32 [==============================] - 0s 2ms/step - loss: 1.0986 - accuracy: 0.3281\n",
            "Epoch 1/5\n"
          ]
        },
        {
          "output_type": "stream",
          "name": "stderr",
          "text": [
            "/usr/local/lib/python3.7/dist-packages/tensorflow/python/util/dispatch.py:1082: UserWarning: \"`sparse_categorical_crossentropy` received `from_logits=True`, but the `output` argument was produced by a sigmoid or softmax activation and thus does not represent logits. Was this intended?\"\n",
            "  return dispatch_target(*args, **kwargs)\n"
          ]
        },
        {
          "output_type": "stream",
          "name": "stdout",
          "text": [
            "64/64 [==============================] - 0s 2ms/step - loss: 1.0972 - accuracy: 0.3516\n",
            "Epoch 2/5\n",
            "64/64 [==============================] - 0s 2ms/step - loss: 1.0841 - accuracy: 0.4902\n",
            "Epoch 3/5\n",
            "64/64 [==============================] - 0s 2ms/step - loss: 1.0653 - accuracy: 0.5156\n",
            "Epoch 4/5\n",
            "64/64 [==============================] - 0s 2ms/step - loss: 1.0397 - accuracy: 0.6426\n",
            "Epoch 5/5\n",
            "64/64 [==============================] - 0s 2ms/step - loss: 1.0125 - accuracy: 0.6758\n",
            "32/32 [==============================] - 0s 2ms/step - loss: 1.0034 - accuracy: 0.6523\n",
            "Epoch 1/5\n"
          ]
        },
        {
          "output_type": "stream",
          "name": "stderr",
          "text": [
            "/usr/local/lib/python3.7/dist-packages/tensorflow/python/util/dispatch.py:1082: UserWarning: \"`sparse_categorical_crossentropy` received `from_logits=True`, but the `output` argument was produced by a sigmoid or softmax activation and thus does not represent logits. Was this intended?\"\n",
            "  return dispatch_target(*args, **kwargs)\n"
          ]
        },
        {
          "output_type": "stream",
          "name": "stdout",
          "text": [
            "64/64 [==============================] - 0s 2ms/step - loss: 1.0943 - accuracy: 0.3320\n",
            "Epoch 2/5\n",
            "64/64 [==============================] - 0s 2ms/step - loss: 1.0791 - accuracy: 0.4688\n",
            "Epoch 3/5\n",
            "64/64 [==============================] - 0s 2ms/step - loss: 1.0525 - accuracy: 0.5508\n",
            "Epoch 4/5\n",
            "64/64 [==============================] - 0s 2ms/step - loss: 1.0307 - accuracy: 0.5664\n",
            "Epoch 5/5\n",
            "64/64 [==============================] - 0s 2ms/step - loss: 1.0044 - accuracy: 0.5840\n",
            "32/32 [==============================] - 0s 2ms/step - loss: 1.0021 - accuracy: 0.5508\n",
            "Epoch 1/5\n"
          ]
        },
        {
          "output_type": "stream",
          "name": "stderr",
          "text": [
            "/usr/local/lib/python3.7/dist-packages/tensorflow/python/util/dispatch.py:1082: UserWarning: \"`sparse_categorical_crossentropy` received `from_logits=True`, but the `output` argument was produced by a sigmoid or softmax activation and thus does not represent logits. Was this intended?\"\n",
            "  return dispatch_target(*args, **kwargs)\n"
          ]
        },
        {
          "output_type": "stream",
          "name": "stdout",
          "text": [
            "64/64 [==============================] - 0s 2ms/step - loss: 1.0982 - accuracy: 0.3789\n",
            "Epoch 2/5\n",
            "64/64 [==============================] - 0s 2ms/step - loss: 1.0892 - accuracy: 0.4727\n",
            "Epoch 3/5\n",
            "64/64 [==============================] - 0s 2ms/step - loss: 1.0746 - accuracy: 0.5078\n",
            "Epoch 4/5\n",
            "64/64 [==============================] - 0s 2ms/step - loss: 1.0516 - accuracy: 0.5820\n",
            "Epoch 5/5\n",
            "64/64 [==============================] - 0s 2ms/step - loss: 1.0248 - accuracy: 0.6367\n",
            "32/32 [==============================] - 0s 2ms/step - loss: 1.0318 - accuracy: 0.5664\n",
            "Epoch 1/5\n"
          ]
        },
        {
          "output_type": "stream",
          "name": "stderr",
          "text": [
            "/usr/local/lib/python3.7/dist-packages/tensorflow/python/util/dispatch.py:1082: UserWarning: \"`sparse_categorical_crossentropy` received `from_logits=True`, but the `output` argument was produced by a sigmoid or softmax activation and thus does not represent logits. Was this intended?\"\n",
            "  return dispatch_target(*args, **kwargs)\n"
          ]
        },
        {
          "output_type": "stream",
          "name": "stdout",
          "text": [
            "64/64 [==============================] - 0s 2ms/step - loss: 1.0987 - accuracy: 0.3496\n",
            "Epoch 2/5\n",
            "64/64 [==============================] - 0s 2ms/step - loss: 1.0957 - accuracy: 0.4121\n",
            "Epoch 3/5\n",
            "64/64 [==============================] - 0s 2ms/step - loss: 1.0901 - accuracy: 0.5000\n",
            "Epoch 4/5\n",
            "64/64 [==============================] - 0s 2ms/step - loss: 1.0825 - accuracy: 0.5332\n",
            "Epoch 5/5\n",
            "64/64 [==============================] - 0s 2ms/step - loss: 1.0767 - accuracy: 0.4883\n",
            "32/32 [==============================] - 0s 2ms/step - loss: 1.0739 - accuracy: 0.6289\n",
            "Epoch 1/5\n"
          ]
        },
        {
          "output_type": "stream",
          "name": "stderr",
          "text": [
            "/usr/local/lib/python3.7/dist-packages/tensorflow/python/util/dispatch.py:1082: UserWarning: \"`sparse_categorical_crossentropy` received `from_logits=True`, but the `output` argument was produced by a sigmoid or softmax activation and thus does not represent logits. Was this intended?\"\n",
            "  return dispatch_target(*args, **kwargs)\n"
          ]
        },
        {
          "output_type": "stream",
          "name": "stdout",
          "text": [
            "64/64 [==============================] - 0s 2ms/step - loss: 1.0981 - accuracy: 0.3301\n",
            "Epoch 2/5\n",
            "64/64 [==============================] - 0s 2ms/step - loss: 1.0946 - accuracy: 0.3398\n",
            "Epoch 3/5\n",
            "64/64 [==============================] - 0s 2ms/step - loss: 1.0907 - accuracy: 0.3730\n",
            "Epoch 4/5\n",
            "64/64 [==============================] - 0s 2ms/step - loss: 1.0852 - accuracy: 0.4199\n",
            "Epoch 5/5\n",
            "64/64 [==============================] - 0s 3ms/step - loss: 1.0791 - accuracy: 0.5371\n",
            "32/32 [==============================] - 0s 2ms/step - loss: 1.0763 - accuracy: 0.5977\n",
            "Epoch 1/5\n"
          ]
        },
        {
          "output_type": "stream",
          "name": "stderr",
          "text": [
            "/usr/local/lib/python3.7/dist-packages/tensorflow/python/util/dispatch.py:1082: UserWarning: \"`sparse_categorical_crossentropy` received `from_logits=True`, but the `output` argument was produced by a sigmoid or softmax activation and thus does not represent logits. Was this intended?\"\n",
            "  return dispatch_target(*args, **kwargs)\n"
          ]
        },
        {
          "output_type": "stream",
          "name": "stdout",
          "text": [
            "64/64 [==============================] - 0s 3ms/step - loss: 1.0973 - accuracy: 0.3379\n",
            "Epoch 2/5\n",
            "64/64 [==============================] - 0s 2ms/step - loss: 1.0937 - accuracy: 0.3984\n",
            "Epoch 3/5\n",
            "64/64 [==============================] - 0s 3ms/step - loss: 1.0890 - accuracy: 0.4707\n",
            "Epoch 4/5\n",
            "64/64 [==============================] - 0s 2ms/step - loss: 1.0837 - accuracy: 0.5020\n",
            "Epoch 5/5\n",
            "64/64 [==============================] - 0s 2ms/step - loss: 1.0775 - accuracy: 0.5137\n",
            "32/32 [==============================] - 0s 3ms/step - loss: 1.0836 - accuracy: 0.4414\n",
            "Epoch 1/5\n"
          ]
        },
        {
          "output_type": "stream",
          "name": "stderr",
          "text": [
            "/usr/local/lib/python3.7/dist-packages/tensorflow/python/util/dispatch.py:1082: UserWarning: \"`sparse_categorical_crossentropy` received `from_logits=True`, but the `output` argument was produced by a sigmoid or softmax activation and thus does not represent logits. Was this intended?\"\n",
            "  return dispatch_target(*args, **kwargs)\n"
          ]
        },
        {
          "output_type": "stream",
          "name": "stdout",
          "text": [
            "64/64 [==============================] - 1s 3ms/step - loss: 1.0978 - accuracy: 0.3438\n",
            "Epoch 2/5\n",
            "64/64 [==============================] - 0s 3ms/step - loss: 1.0860 - accuracy: 0.4668\n",
            "Epoch 3/5\n",
            "64/64 [==============================] - 0s 3ms/step - loss: 1.0649 - accuracy: 0.5645\n",
            "Epoch 4/5\n",
            "64/64 [==============================] - 0s 3ms/step - loss: 1.0407 - accuracy: 0.6348\n",
            "Epoch 5/5\n",
            "64/64 [==============================] - 0s 3ms/step - loss: 1.0111 - accuracy: 0.6680\n",
            "32/32 [==============================] - 0s 2ms/step - loss: 0.9926 - accuracy: 0.7070\n",
            "Epoch 1/5\n"
          ]
        },
        {
          "output_type": "stream",
          "name": "stderr",
          "text": [
            "/usr/local/lib/python3.7/dist-packages/tensorflow/python/util/dispatch.py:1082: UserWarning: \"`sparse_categorical_crossentropy` received `from_logits=True`, but the `output` argument was produced by a sigmoid or softmax activation and thus does not represent logits. Was this intended?\"\n",
            "  return dispatch_target(*args, **kwargs)\n"
          ]
        },
        {
          "output_type": "stream",
          "name": "stdout",
          "text": [
            "64/64 [==============================] - 1s 3ms/step - loss: 1.0973 - accuracy: 0.3516\n",
            "Epoch 2/5\n",
            "64/64 [==============================] - 0s 3ms/step - loss: 1.0783 - accuracy: 0.4980\n",
            "Epoch 3/5\n",
            "64/64 [==============================] - 0s 3ms/step - loss: 1.0566 - accuracy: 0.5527\n",
            "Epoch 4/5\n",
            "64/64 [==============================] - 0s 3ms/step - loss: 1.0342 - accuracy: 0.5586\n",
            "Epoch 5/5\n",
            "64/64 [==============================] - 0s 3ms/step - loss: 1.0122 - accuracy: 0.5781\n",
            "32/32 [==============================] - 0s 2ms/step - loss: 1.0143 - accuracy: 0.5273\n",
            "Epoch 1/5\n"
          ]
        },
        {
          "output_type": "stream",
          "name": "stderr",
          "text": [
            "/usr/local/lib/python3.7/dist-packages/tensorflow/python/util/dispatch.py:1082: UserWarning: \"`sparse_categorical_crossentropy` received `from_logits=True`, but the `output` argument was produced by a sigmoid or softmax activation and thus does not represent logits. Was this intended?\"\n",
            "  return dispatch_target(*args, **kwargs)\n"
          ]
        },
        {
          "output_type": "stream",
          "name": "stdout",
          "text": [
            "64/64 [==============================] - 1s 3ms/step - loss: 1.0984 - accuracy: 0.3496\n",
            "Epoch 2/5\n",
            "64/64 [==============================] - 0s 3ms/step - loss: 1.0849 - accuracy: 0.4609\n",
            "Epoch 3/5\n",
            "64/64 [==============================] - 0s 3ms/step - loss: 1.0589 - accuracy: 0.5039\n",
            "Epoch 4/5\n",
            "64/64 [==============================] - 0s 3ms/step - loss: 1.0338 - accuracy: 0.5977\n",
            "Epoch 5/5\n",
            "64/64 [==============================] - 0s 3ms/step - loss: 1.0091 - accuracy: 0.5781\n",
            "32/32 [==============================] - 0s 2ms/step - loss: 1.0142 - accuracy: 0.5469\n",
            "Epoch 1/5\n"
          ]
        },
        {
          "output_type": "stream",
          "name": "stderr",
          "text": [
            "/usr/local/lib/python3.7/dist-packages/tensorflow/python/util/dispatch.py:1082: UserWarning: \"`sparse_categorical_crossentropy` received `from_logits=True`, but the `output` argument was produced by a sigmoid or softmax activation and thus does not represent logits. Was this intended?\"\n",
            "  return dispatch_target(*args, **kwargs)\n"
          ]
        },
        {
          "output_type": "stream",
          "name": "stdout",
          "text": [
            "64/64 [==============================] - 0s 2ms/step - loss: 1.0989 - accuracy: 0.3203\n",
            "Epoch 2/5\n",
            "64/64 [==============================] - 0s 2ms/step - loss: 1.0987 - accuracy: 0.3281\n",
            "Epoch 3/5\n",
            "64/64 [==============================] - 0s 2ms/step - loss: 1.0983 - accuracy: 0.2949\n",
            "Epoch 4/5\n",
            "64/64 [==============================] - 0s 3ms/step - loss: 1.0981 - accuracy: 0.3145\n",
            "Epoch 5/5\n",
            "64/64 [==============================] - 0s 2ms/step - loss: 1.0979 - accuracy: 0.3223\n",
            "32/32 [==============================] - 0s 2ms/step - loss: 1.0976 - accuracy: 0.3359\n",
            "Epoch 1/5\n"
          ]
        },
        {
          "output_type": "stream",
          "name": "stderr",
          "text": [
            "/usr/local/lib/python3.7/dist-packages/tensorflow/python/util/dispatch.py:1082: UserWarning: \"`sparse_categorical_crossentropy` received `from_logits=True`, but the `output` argument was produced by a sigmoid or softmax activation and thus does not represent logits. Was this intended?\"\n",
            "  return dispatch_target(*args, **kwargs)\n"
          ]
        },
        {
          "output_type": "stream",
          "name": "stdout",
          "text": [
            "64/64 [==============================] - 0s 2ms/step - loss: 1.0987 - accuracy: 0.3535\n",
            "Epoch 2/5\n",
            "64/64 [==============================] - 0s 2ms/step - loss: 1.0986 - accuracy: 0.3516\n",
            "Epoch 3/5\n",
            "64/64 [==============================] - 0s 2ms/step - loss: 1.0984 - accuracy: 0.3477\n",
            "Epoch 4/5\n",
            "64/64 [==============================] - 0s 3ms/step - loss: 1.0983 - accuracy: 0.3496\n",
            "Epoch 5/5\n",
            "64/64 [==============================] - 0s 2ms/step - loss: 1.0981 - accuracy: 0.3477\n",
            "32/32 [==============================] - 0s 2ms/step - loss: 1.0970 - accuracy: 0.3516\n",
            "Epoch 1/5\n"
          ]
        },
        {
          "output_type": "stream",
          "name": "stderr",
          "text": [
            "/usr/local/lib/python3.7/dist-packages/tensorflow/python/util/dispatch.py:1082: UserWarning: \"`sparse_categorical_crossentropy` received `from_logits=True`, but the `output` argument was produced by a sigmoid or softmax activation and thus does not represent logits. Was this intended?\"\n",
            "  return dispatch_target(*args, **kwargs)\n"
          ]
        },
        {
          "output_type": "stream",
          "name": "stdout",
          "text": [
            "64/64 [==============================] - 0s 2ms/step - loss: 1.0993 - accuracy: 0.2891\n",
            "Epoch 2/5\n",
            "64/64 [==============================] - 0s 2ms/step - loss: 1.0986 - accuracy: 0.3535\n",
            "Epoch 3/5\n",
            "64/64 [==============================] - 0s 2ms/step - loss: 1.0981 - accuracy: 0.3535\n",
            "Epoch 4/5\n",
            "64/64 [==============================] - 0s 2ms/step - loss: 1.0977 - accuracy: 0.3535\n",
            "Epoch 5/5\n",
            "64/64 [==============================] - 0s 2ms/step - loss: 1.0974 - accuracy: 0.3535\n",
            "32/32 [==============================] - 0s 2ms/step - loss: 1.0988 - accuracy: 0.3398\n",
            "Epoch 1/5\n"
          ]
        },
        {
          "output_type": "stream",
          "name": "stderr",
          "text": [
            "/usr/local/lib/python3.7/dist-packages/tensorflow/python/util/dispatch.py:1082: UserWarning: \"`sparse_categorical_crossentropy` received `from_logits=True`, but the `output` argument was produced by a sigmoid or softmax activation and thus does not represent logits. Was this intended?\"\n",
            "  return dispatch_target(*args, **kwargs)\n"
          ]
        },
        {
          "output_type": "stream",
          "name": "stdout",
          "text": [
            "64/64 [==============================] - 1s 3ms/step - loss: 1.0973 - accuracy: 0.3652\n",
            "Epoch 2/5\n",
            "64/64 [==============================] - 0s 3ms/step - loss: 1.0869 - accuracy: 0.4590\n",
            "Epoch 3/5\n",
            "64/64 [==============================] - 0s 3ms/step - loss: 1.0729 - accuracy: 0.5098\n",
            "Epoch 4/5\n",
            "64/64 [==============================] - 0s 3ms/step - loss: 1.0571 - accuracy: 0.5098\n",
            "Epoch 5/5\n",
            "64/64 [==============================] - 0s 2ms/step - loss: 1.0416 - accuracy: 0.5273\n",
            "32/32 [==============================] - 0s 2ms/step - loss: 1.0278 - accuracy: 0.5703\n",
            "Epoch 1/5\n"
          ]
        },
        {
          "output_type": "stream",
          "name": "stderr",
          "text": [
            "/usr/local/lib/python3.7/dist-packages/tensorflow/python/util/dispatch.py:1082: UserWarning: \"`sparse_categorical_crossentropy` received `from_logits=True`, but the `output` argument was produced by a sigmoid or softmax activation and thus does not represent logits. Was this intended?\"\n",
            "  return dispatch_target(*args, **kwargs)\n"
          ]
        },
        {
          "output_type": "stream",
          "name": "stdout",
          "text": [
            "64/64 [==============================] - 1s 2ms/step - loss: 1.0938 - accuracy: 0.3809\n",
            "Epoch 2/5\n",
            "64/64 [==============================] - 0s 2ms/step - loss: 1.0757 - accuracy: 0.5430\n",
            "Epoch 3/5\n",
            "64/64 [==============================] - 0s 2ms/step - loss: 1.0597 - accuracy: 0.5664\n",
            "Epoch 4/5\n",
            "64/64 [==============================] - 0s 2ms/step - loss: 1.0446 - accuracy: 0.5781\n",
            "Epoch 5/5\n",
            "64/64 [==============================] - 0s 3ms/step - loss: 1.0242 - accuracy: 0.6484\n",
            "32/32 [==============================] - 0s 2ms/step - loss: 1.0258 - accuracy: 0.5781\n",
            "Epoch 1/5\n"
          ]
        },
        {
          "output_type": "stream",
          "name": "stderr",
          "text": [
            "/usr/local/lib/python3.7/dist-packages/tensorflow/python/util/dispatch.py:1082: UserWarning: \"`sparse_categorical_crossentropy` received `from_logits=True`, but the `output` argument was produced by a sigmoid or softmax activation and thus does not represent logits. Was this intended?\"\n",
            "  return dispatch_target(*args, **kwargs)\n"
          ]
        },
        {
          "output_type": "stream",
          "name": "stdout",
          "text": [
            "64/64 [==============================] - 1s 3ms/step - loss: 1.0939 - accuracy: 0.3613\n",
            "Epoch 2/5\n",
            "64/64 [==============================] - 0s 3ms/step - loss: 1.0764 - accuracy: 0.4668\n",
            "Epoch 3/5\n",
            "64/64 [==============================] - 0s 3ms/step - loss: 1.0576 - accuracy: 0.5938\n",
            "Epoch 4/5\n",
            "64/64 [==============================] - 0s 3ms/step - loss: 1.0379 - accuracy: 0.6289\n",
            "Epoch 5/5\n",
            "64/64 [==============================] - 0s 3ms/step - loss: 1.0162 - accuracy: 0.6660\n",
            "32/32 [==============================] - 0s 2ms/step - loss: 1.0225 - accuracy: 0.6172\n",
            "Epoch 1/5\n"
          ]
        },
        {
          "output_type": "stream",
          "name": "stderr",
          "text": [
            "/usr/local/lib/python3.7/dist-packages/tensorflow/python/util/dispatch.py:1082: UserWarning: \"`sparse_categorical_crossentropy` received `from_logits=True`, but the `output` argument was produced by a sigmoid or softmax activation and thus does not represent logits. Was this intended?\"\n",
            "  return dispatch_target(*args, **kwargs)\n"
          ]
        },
        {
          "output_type": "stream",
          "name": "stdout",
          "text": [
            "64/64 [==============================] - 0s 2ms/step - loss: 1.0983 - accuracy: 0.3457\n",
            "Epoch 2/5\n",
            "64/64 [==============================] - 0s 2ms/step - loss: 1.0982 - accuracy: 0.3574\n",
            "Epoch 3/5\n",
            "64/64 [==============================] - 0s 2ms/step - loss: 1.0981 - accuracy: 0.3672\n",
            "Epoch 4/5\n",
            "64/64 [==============================] - 0s 2ms/step - loss: 1.0980 - accuracy: 0.3887\n",
            "Epoch 5/5\n",
            "64/64 [==============================] - 0s 2ms/step - loss: 1.0979 - accuracy: 0.3711\n",
            "32/32 [==============================] - 0s 2ms/step - loss: 1.0978 - accuracy: 0.4062\n",
            "Epoch 1/5\n"
          ]
        },
        {
          "output_type": "stream",
          "name": "stderr",
          "text": [
            "/usr/local/lib/python3.7/dist-packages/tensorflow/python/util/dispatch.py:1082: UserWarning: \"`sparse_categorical_crossentropy` received `from_logits=True`, but the `output` argument was produced by a sigmoid or softmax activation and thus does not represent logits. Was this intended?\"\n",
            "  return dispatch_target(*args, **kwargs)\n"
          ]
        },
        {
          "output_type": "stream",
          "name": "stdout",
          "text": [
            "64/64 [==============================] - 0s 2ms/step - loss: 1.0994 - accuracy: 0.3320\n",
            "Epoch 2/5\n",
            "64/64 [==============================] - 0s 2ms/step - loss: 1.0992 - accuracy: 0.3320\n",
            "Epoch 3/5\n",
            "64/64 [==============================] - 0s 3ms/step - loss: 1.0991 - accuracy: 0.3320\n",
            "Epoch 4/5\n",
            "64/64 [==============================] - 0s 2ms/step - loss: 1.0990 - accuracy: 0.3320\n",
            "Epoch 5/5\n",
            "64/64 [==============================] - 0s 2ms/step - loss: 1.0989 - accuracy: 0.3320\n",
            "32/32 [==============================] - 0s 2ms/step - loss: 1.0982 - accuracy: 0.3477\n",
            "Epoch 1/5\n"
          ]
        },
        {
          "output_type": "stream",
          "name": "stderr",
          "text": [
            "/usr/local/lib/python3.7/dist-packages/tensorflow/python/util/dispatch.py:1082: UserWarning: \"`sparse_categorical_crossentropy` received `from_logits=True`, but the `output` argument was produced by a sigmoid or softmax activation and thus does not represent logits. Was this intended?\"\n",
            "  return dispatch_target(*args, **kwargs)\n"
          ]
        },
        {
          "output_type": "stream",
          "name": "stdout",
          "text": [
            "64/64 [==============================] - 0s 2ms/step - loss: 1.0983 - accuracy: 0.3203\n",
            "Epoch 2/5\n",
            "64/64 [==============================] - 0s 2ms/step - loss: 1.0981 - accuracy: 0.3496\n",
            "Epoch 3/5\n",
            "64/64 [==============================] - 0s 2ms/step - loss: 1.0980 - accuracy: 0.3965\n",
            "Epoch 4/5\n",
            "64/64 [==============================] - 0s 2ms/step - loss: 1.0979 - accuracy: 0.4043\n",
            "Epoch 5/5\n",
            "64/64 [==============================] - 0s 3ms/step - loss: 1.0979 - accuracy: 0.4238\n",
            "32/32 [==============================] - 0s 2ms/step - loss: 1.0982 - accuracy: 0.3750\n",
            "Epoch 1/5\n"
          ]
        },
        {
          "output_type": "stream",
          "name": "stderr",
          "text": [
            "/usr/local/lib/python3.7/dist-packages/tensorflow/python/util/dispatch.py:1082: UserWarning: \"`sparse_categorical_crossentropy` received `from_logits=True`, but the `output` argument was produced by a sigmoid or softmax activation and thus does not represent logits. Was this intended?\"\n",
            "  return dispatch_target(*args, **kwargs)\n"
          ]
        },
        {
          "output_type": "stream",
          "name": "stdout",
          "text": [
            "64/64 [==============================] - 0s 2ms/step - loss: 1.0979 - accuracy: 0.3555\n",
            "Epoch 2/5\n",
            "64/64 [==============================] - 0s 2ms/step - loss: 1.0979 - accuracy: 0.3535\n",
            "Epoch 3/5\n",
            "64/64 [==============================] - 0s 2ms/step - loss: 1.0979 - accuracy: 0.3535\n",
            "Epoch 4/5\n",
            "64/64 [==============================] - 0s 2ms/step - loss: 1.0979 - accuracy: 0.3535\n",
            "Epoch 5/5\n",
            "64/64 [==============================] - 0s 2ms/step - loss: 1.0979 - accuracy: 0.3516\n",
            "32/32 [==============================] - 0s 2ms/step - loss: 1.0981 - accuracy: 0.3555\n",
            "Epoch 1/5\n"
          ]
        },
        {
          "output_type": "stream",
          "name": "stderr",
          "text": [
            "/usr/local/lib/python3.7/dist-packages/tensorflow/python/util/dispatch.py:1082: UserWarning: \"`sparse_categorical_crossentropy` received `from_logits=True`, but the `output` argument was produced by a sigmoid or softmax activation and thus does not represent logits. Was this intended?\"\n",
            "  return dispatch_target(*args, **kwargs)\n"
          ]
        },
        {
          "output_type": "stream",
          "name": "stdout",
          "text": [
            "64/64 [==============================] - 0s 2ms/step - loss: 1.0993 - accuracy: 0.3379\n",
            "Epoch 2/5\n",
            "64/64 [==============================] - 0s 2ms/step - loss: 1.0993 - accuracy: 0.3418\n",
            "Epoch 3/5\n",
            "64/64 [==============================] - 0s 2ms/step - loss: 1.0993 - accuracy: 0.3398\n",
            "Epoch 4/5\n",
            "64/64 [==============================] - 0s 2ms/step - loss: 1.0993 - accuracy: 0.3418\n",
            "Epoch 5/5\n",
            "64/64 [==============================] - 0s 3ms/step - loss: 1.0993 - accuracy: 0.3418\n",
            "32/32 [==============================] - 0s 2ms/step - loss: 1.0999 - accuracy: 0.3320\n",
            "Epoch 1/5\n"
          ]
        },
        {
          "output_type": "stream",
          "name": "stderr",
          "text": [
            "/usr/local/lib/python3.7/dist-packages/tensorflow/python/util/dispatch.py:1082: UserWarning: \"`sparse_categorical_crossentropy` received `from_logits=True`, but the `output` argument was produced by a sigmoid or softmax activation and thus does not represent logits. Was this intended?\"\n",
            "  return dispatch_target(*args, **kwargs)\n"
          ]
        },
        {
          "output_type": "stream",
          "name": "stdout",
          "text": [
            "64/64 [==============================] - 0s 2ms/step - loss: 1.0992 - accuracy: 0.3145\n",
            "Epoch 2/5\n",
            "64/64 [==============================] - 0s 2ms/step - loss: 1.0992 - accuracy: 0.3125\n",
            "Epoch 3/5\n",
            "64/64 [==============================] - 0s 2ms/step - loss: 1.0992 - accuracy: 0.3145\n",
            "Epoch 4/5\n",
            "64/64 [==============================] - 0s 2ms/step - loss: 1.0992 - accuracy: 0.3164\n",
            "Epoch 5/5\n",
            "64/64 [==============================] - 0s 2ms/step - loss: 1.0992 - accuracy: 0.3164\n",
            "32/32 [==============================] - 0s 2ms/step - loss: 1.0987 - accuracy: 0.3242\n",
            "Epoch 1/5\n"
          ]
        },
        {
          "output_type": "stream",
          "name": "stderr",
          "text": [
            "/usr/local/lib/python3.7/dist-packages/tensorflow/python/util/dispatch.py:1082: UserWarning: \"`sparse_categorical_crossentropy` received `from_logits=True`, but the `output` argument was produced by a sigmoid or softmax activation and thus does not represent logits. Was this intended?\"\n",
            "  return dispatch_target(*args, **kwargs)\n"
          ]
        },
        {
          "output_type": "stream",
          "name": "stdout",
          "text": [
            "64/64 [==============================] - 0s 2ms/step - loss: 1.0947 - accuracy: 0.3691\n",
            "Epoch 2/5\n",
            "64/64 [==============================] - 0s 2ms/step - loss: 1.0800 - accuracy: 0.4395\n",
            "Epoch 3/5\n",
            "64/64 [==============================] - 0s 2ms/step - loss: 1.0622 - accuracy: 0.4688\n",
            "Epoch 4/5\n",
            "64/64 [==============================] - 0s 2ms/step - loss: 1.0341 - accuracy: 0.6191\n",
            "Epoch 5/5\n",
            "64/64 [==============================] - 0s 2ms/step - loss: 1.0093 - accuracy: 0.6387\n",
            "32/32 [==============================] - 0s 2ms/step - loss: 0.9953 - accuracy: 0.6367\n",
            "Epoch 1/5\n"
          ]
        },
        {
          "output_type": "stream",
          "name": "stderr",
          "text": [
            "/usr/local/lib/python3.7/dist-packages/tensorflow/python/util/dispatch.py:1082: UserWarning: \"`sparse_categorical_crossentropy` received `from_logits=True`, but the `output` argument was produced by a sigmoid or softmax activation and thus does not represent logits. Was this intended?\"\n",
            "  return dispatch_target(*args, **kwargs)\n"
          ]
        },
        {
          "output_type": "stream",
          "name": "stdout",
          "text": [
            "64/64 [==============================] - 0s 2ms/step - loss: 1.0962 - accuracy: 0.3750\n",
            "Epoch 2/5\n",
            "64/64 [==============================] - 0s 2ms/step - loss: 1.0797 - accuracy: 0.4922\n",
            "Epoch 3/5\n",
            "64/64 [==============================] - 0s 2ms/step - loss: 1.0509 - accuracy: 0.5723\n",
            "Epoch 4/5\n",
            "64/64 [==============================] - 0s 2ms/step - loss: 1.0276 - accuracy: 0.5723\n",
            "Epoch 5/5\n",
            "64/64 [==============================] - 0s 2ms/step - loss: 1.0041 - accuracy: 0.5859\n",
            "32/32 [==============================] - 0s 2ms/step - loss: 1.0093 - accuracy: 0.5234\n",
            "Epoch 1/5\n"
          ]
        },
        {
          "output_type": "stream",
          "name": "stderr",
          "text": [
            "/usr/local/lib/python3.7/dist-packages/tensorflow/python/util/dispatch.py:1082: UserWarning: \"`sparse_categorical_crossentropy` received `from_logits=True`, but the `output` argument was produced by a sigmoid or softmax activation and thus does not represent logits. Was this intended?\"\n",
            "  return dispatch_target(*args, **kwargs)\n"
          ]
        },
        {
          "output_type": "stream",
          "name": "stdout",
          "text": [
            "64/64 [==============================] - 0s 2ms/step - loss: 1.0944 - accuracy: 0.4043\n",
            "Epoch 2/5\n",
            "64/64 [==============================] - 0s 2ms/step - loss: 1.0718 - accuracy: 0.4980\n",
            "Epoch 3/5\n",
            "64/64 [==============================] - 0s 2ms/step - loss: 1.0421 - accuracy: 0.5488\n",
            "Epoch 4/5\n",
            "64/64 [==============================] - 0s 2ms/step - loss: 1.0135 - accuracy: 0.6289\n",
            "Epoch 5/5\n",
            "64/64 [==============================] - 0s 2ms/step - loss: 0.9798 - accuracy: 0.6953\n",
            "32/32 [==============================] - 0s 3ms/step - loss: 1.0024 - accuracy: 0.5781\n",
            "Epoch 1/5\n"
          ]
        },
        {
          "output_type": "stream",
          "name": "stderr",
          "text": [
            "/usr/local/lib/python3.7/dist-packages/tensorflow/python/util/dispatch.py:1082: UserWarning: \"`sparse_categorical_crossentropy` received `from_logits=True`, but the `output` argument was produced by a sigmoid or softmax activation and thus does not represent logits. Was this intended?\"\n",
            "  return dispatch_target(*args, **kwargs)\n"
          ]
        },
        {
          "output_type": "stream",
          "name": "stdout",
          "text": [
            "64/64 [==============================] - 0s 2ms/step - loss: 1.0994 - accuracy: 0.3281\n",
            "Epoch 2/5\n",
            "64/64 [==============================] - 0s 2ms/step - loss: 1.0937 - accuracy: 0.4102\n",
            "Epoch 3/5\n",
            "64/64 [==============================] - 0s 2ms/step - loss: 1.0862 - accuracy: 0.4238\n",
            "Epoch 4/5\n",
            "64/64 [==============================] - 0s 2ms/step - loss: 1.0794 - accuracy: 0.5820\n",
            "Epoch 5/5\n",
            "64/64 [==============================] - 0s 2ms/step - loss: 1.0738 - accuracy: 0.5879\n",
            "32/32 [==============================] - 0s 2ms/step - loss: 1.0689 - accuracy: 0.6289\n",
            "Epoch 1/5\n"
          ]
        },
        {
          "output_type": "stream",
          "name": "stderr",
          "text": [
            "/usr/local/lib/python3.7/dist-packages/tensorflow/python/util/dispatch.py:1082: UserWarning: \"`sparse_categorical_crossentropy` received `from_logits=True`, but the `output` argument was produced by a sigmoid or softmax activation and thus does not represent logits. Was this intended?\"\n",
            "  return dispatch_target(*args, **kwargs)\n"
          ]
        },
        {
          "output_type": "stream",
          "name": "stdout",
          "text": [
            "64/64 [==============================] - 1s 2ms/step - loss: 1.0973 - accuracy: 0.3516\n",
            "Epoch 2/5\n",
            "64/64 [==============================] - 0s 2ms/step - loss: 1.0933 - accuracy: 0.3750\n",
            "Epoch 3/5\n",
            "64/64 [==============================] - 0s 2ms/step - loss: 1.0869 - accuracy: 0.5137\n",
            "Epoch 4/5\n",
            "64/64 [==============================] - 0s 2ms/step - loss: 1.0806 - accuracy: 0.5566\n",
            "Epoch 5/5\n",
            "64/64 [==============================] - 0s 2ms/step - loss: 1.0732 - accuracy: 0.6250\n",
            "32/32 [==============================] - 0s 2ms/step - loss: 1.0675 - accuracy: 0.6172\n",
            "Epoch 1/5\n"
          ]
        },
        {
          "output_type": "stream",
          "name": "stderr",
          "text": [
            "/usr/local/lib/python3.7/dist-packages/tensorflow/python/util/dispatch.py:1082: UserWarning: \"`sparse_categorical_crossentropy` received `from_logits=True`, but the `output` argument was produced by a sigmoid or softmax activation and thus does not represent logits. Was this intended?\"\n",
            "  return dispatch_target(*args, **kwargs)\n"
          ]
        },
        {
          "output_type": "stream",
          "name": "stdout",
          "text": [
            "64/64 [==============================] - 0s 2ms/step - loss: 1.0968 - accuracy: 0.3457\n",
            "Epoch 2/5\n",
            "64/64 [==============================] - 0s 2ms/step - loss: 1.0923 - accuracy: 0.3984\n",
            "Epoch 3/5\n",
            "64/64 [==============================] - 0s 2ms/step - loss: 1.0868 - accuracy: 0.4551\n",
            "Epoch 4/5\n",
            "64/64 [==============================] - 0s 2ms/step - loss: 1.0804 - accuracy: 0.5938\n",
            "Epoch 5/5\n",
            "64/64 [==============================] - 0s 2ms/step - loss: 1.0710 - accuracy: 0.5938\n",
            "32/32 [==============================] - 0s 2ms/step - loss: 1.0752 - accuracy: 0.5000\n",
            "Epoch 1/5\n"
          ]
        },
        {
          "output_type": "stream",
          "name": "stderr",
          "text": [
            "/usr/local/lib/python3.7/dist-packages/tensorflow/python/util/dispatch.py:1082: UserWarning: \"`sparse_categorical_crossentropy` received `from_logits=True`, but the `output` argument was produced by a sigmoid or softmax activation and thus does not represent logits. Was this intended?\"\n",
            "  return dispatch_target(*args, **kwargs)\n"
          ]
        },
        {
          "output_type": "stream",
          "name": "stdout",
          "text": [
            "64/64 [==============================] - 1s 3ms/step - loss: 1.0971 - accuracy: 0.3594\n",
            "Epoch 2/5\n",
            "64/64 [==============================] - 0s 3ms/step - loss: 1.0834 - accuracy: 0.4824\n",
            "Epoch 3/5\n",
            "64/64 [==============================] - 0s 3ms/step - loss: 1.0628 - accuracy: 0.5801\n",
            "Epoch 4/5\n",
            "64/64 [==============================] - 0s 3ms/step - loss: 1.0381 - accuracy: 0.5781\n",
            "Epoch 5/5\n",
            "64/64 [==============================] - 0s 3ms/step - loss: 1.0123 - accuracy: 0.5938\n",
            "32/32 [==============================] - 0s 2ms/step - loss: 1.0019 - accuracy: 0.6016\n",
            "Epoch 1/5\n"
          ]
        },
        {
          "output_type": "stream",
          "name": "stderr",
          "text": [
            "/usr/local/lib/python3.7/dist-packages/tensorflow/python/util/dispatch.py:1082: UserWarning: \"`sparse_categorical_crossentropy` received `from_logits=True`, but the `output` argument was produced by a sigmoid or softmax activation and thus does not represent logits. Was this intended?\"\n",
            "  return dispatch_target(*args, **kwargs)\n"
          ]
        },
        {
          "output_type": "stream",
          "name": "stdout",
          "text": [
            "64/64 [==============================] - 1s 3ms/step - loss: 1.0972 - accuracy: 0.3867\n",
            "Epoch 2/5\n",
            "64/64 [==============================] - 0s 3ms/step - loss: 1.0800 - accuracy: 0.5059\n",
            "Epoch 3/5\n",
            "64/64 [==============================] - 0s 3ms/step - loss: 1.0558 - accuracy: 0.5488\n",
            "Epoch 4/5\n",
            "64/64 [==============================] - 0s 3ms/step - loss: 1.0258 - accuracy: 0.6328\n",
            "Epoch 5/5\n",
            "64/64 [==============================] - 0s 3ms/step - loss: 0.9948 - accuracy: 0.6777\n",
            "32/32 [==============================] - 0s 2ms/step - loss: 1.0006 - accuracy: 0.6328\n",
            "Epoch 1/5\n"
          ]
        },
        {
          "output_type": "stream",
          "name": "stderr",
          "text": [
            "/usr/local/lib/python3.7/dist-packages/tensorflow/python/util/dispatch.py:1082: UserWarning: \"`sparse_categorical_crossentropy` received `from_logits=True`, but the `output` argument was produced by a sigmoid or softmax activation and thus does not represent logits. Was this intended?\"\n",
            "  return dispatch_target(*args, **kwargs)\n"
          ]
        },
        {
          "output_type": "stream",
          "name": "stdout",
          "text": [
            "64/64 [==============================] - 1s 3ms/step - loss: 1.0946 - accuracy: 0.3770\n",
            "Epoch 2/5\n",
            "64/64 [==============================] - 0s 3ms/step - loss: 1.0747 - accuracy: 0.4766\n",
            "Epoch 3/5\n",
            "64/64 [==============================] - 0s 3ms/step - loss: 1.0533 - accuracy: 0.5195\n",
            "Epoch 4/5\n",
            "64/64 [==============================] - 0s 3ms/step - loss: 1.0298 - accuracy: 0.5352\n",
            "Epoch 5/5\n",
            "64/64 [==============================] - 0s 3ms/step - loss: 1.0073 - accuracy: 0.5664\n",
            "32/32 [==============================] - 0s 2ms/step - loss: 1.0154 - accuracy: 0.5078\n",
            "Epoch 1/5\n"
          ]
        },
        {
          "output_type": "stream",
          "name": "stderr",
          "text": [
            "/usr/local/lib/python3.7/dist-packages/tensorflow/python/util/dispatch.py:1082: UserWarning: \"`sparse_categorical_crossentropy` received `from_logits=True`, but the `output` argument was produced by a sigmoid or softmax activation and thus does not represent logits. Was this intended?\"\n",
            "  return dispatch_target(*args, **kwargs)\n"
          ]
        },
        {
          "output_type": "stream",
          "name": "stdout",
          "text": [
            "64/64 [==============================] - 0s 2ms/step - loss: 1.0988 - accuracy: 0.3438\n",
            "Epoch 2/5\n",
            "64/64 [==============================] - 0s 2ms/step - loss: 1.0985 - accuracy: 0.3359\n",
            "Epoch 3/5\n",
            "64/64 [==============================] - 0s 2ms/step - loss: 1.0984 - accuracy: 0.3340\n",
            "Epoch 4/5\n",
            "64/64 [==============================] - 0s 2ms/step - loss: 1.0982 - accuracy: 0.3066\n",
            "Epoch 5/5\n",
            "64/64 [==============================] - 0s 2ms/step - loss: 1.0981 - accuracy: 0.3281\n",
            "32/32 [==============================] - 0s 2ms/step - loss: 1.0980 - accuracy: 0.3320\n",
            "Epoch 1/5\n"
          ]
        },
        {
          "output_type": "stream",
          "name": "stderr",
          "text": [
            "/usr/local/lib/python3.7/dist-packages/tensorflow/python/util/dispatch.py:1082: UserWarning: \"`sparse_categorical_crossentropy` received `from_logits=True`, but the `output` argument was produced by a sigmoid or softmax activation and thus does not represent logits. Was this intended?\"\n",
            "  return dispatch_target(*args, **kwargs)\n"
          ]
        },
        {
          "output_type": "stream",
          "name": "stdout",
          "text": [
            "64/64 [==============================] - 0s 2ms/step - loss: 1.0987 - accuracy: 0.3242\n",
            "Epoch 2/5\n",
            "64/64 [==============================] - 0s 2ms/step - loss: 1.0983 - accuracy: 0.3848\n",
            "Epoch 3/5\n",
            "64/64 [==============================] - 0s 2ms/step - loss: 1.0982 - accuracy: 0.3477\n",
            "Epoch 4/5\n",
            "64/64 [==============================] - 0s 3ms/step - loss: 1.0981 - accuracy: 0.3477\n",
            "Epoch 5/5\n",
            "64/64 [==============================] - 0s 2ms/step - loss: 1.0979 - accuracy: 0.3477\n",
            "32/32 [==============================] - 0s 2ms/step - loss: 1.0971 - accuracy: 0.3516\n",
            "Epoch 1/5\n"
          ]
        },
        {
          "output_type": "stream",
          "name": "stderr",
          "text": [
            "/usr/local/lib/python3.7/dist-packages/tensorflow/python/util/dispatch.py:1082: UserWarning: \"`sparse_categorical_crossentropy` received `from_logits=True`, but the `output` argument was produced by a sigmoid or softmax activation and thus does not represent logits. Was this intended?\"\n",
            "  return dispatch_target(*args, **kwargs)\n"
          ]
        },
        {
          "output_type": "stream",
          "name": "stdout",
          "text": [
            "64/64 [==============================] - 0s 2ms/step - loss: 1.0988 - accuracy: 0.3223\n",
            "Epoch 2/5\n",
            "64/64 [==============================] - 0s 2ms/step - loss: 1.0982 - accuracy: 0.3359\n",
            "Epoch 3/5\n",
            "64/64 [==============================] - 0s 2ms/step - loss: 1.0977 - accuracy: 0.3477\n",
            "Epoch 4/5\n",
            "64/64 [==============================] - 0s 2ms/step - loss: 1.0974 - accuracy: 0.3379\n",
            "Epoch 5/5\n",
            "64/64 [==============================] - 0s 2ms/step - loss: 1.0972 - accuracy: 0.3594\n",
            "32/32 [==============================] - 0s 2ms/step - loss: 1.0985 - accuracy: 0.3398\n",
            "Epoch 1/5\n"
          ]
        },
        {
          "output_type": "stream",
          "name": "stderr",
          "text": [
            "/usr/local/lib/python3.7/dist-packages/tensorflow/python/util/dispatch.py:1082: UserWarning: \"`sparse_categorical_crossentropy` received `from_logits=True`, but the `output` argument was produced by a sigmoid or softmax activation and thus does not represent logits. Was this intended?\"\n",
            "  return dispatch_target(*args, **kwargs)\n"
          ]
        },
        {
          "output_type": "stream",
          "name": "stdout",
          "text": [
            "64/64 [==============================] - 1s 3ms/step - loss: 1.0947 - accuracy: 0.3730\n",
            "Epoch 2/5\n",
            "64/64 [==============================] - 0s 2ms/step - loss: 1.0817 - accuracy: 0.4902\n",
            "Epoch 3/5\n",
            "64/64 [==============================] - 0s 3ms/step - loss: 1.0656 - accuracy: 0.5684\n",
            "Epoch 4/5\n",
            "64/64 [==============================] - 0s 3ms/step - loss: 1.0484 - accuracy: 0.6172\n",
            "Epoch 5/5\n",
            "64/64 [==============================] - 0s 2ms/step - loss: 1.0288 - accuracy: 0.6230\n",
            "32/32 [==============================] - 0s 2ms/step - loss: 1.0175 - accuracy: 0.6836\n",
            "Epoch 1/5\n"
          ]
        },
        {
          "output_type": "stream",
          "name": "stderr",
          "text": [
            "/usr/local/lib/python3.7/dist-packages/tensorflow/python/util/dispatch.py:1082: UserWarning: \"`sparse_categorical_crossentropy` received `from_logits=True`, but the `output` argument was produced by a sigmoid or softmax activation and thus does not represent logits. Was this intended?\"\n",
            "  return dispatch_target(*args, **kwargs)\n"
          ]
        },
        {
          "output_type": "stream",
          "name": "stdout",
          "text": [
            "64/64 [==============================] - 1s 3ms/step - loss: 1.0947 - accuracy: 0.3848\n",
            "Epoch 2/5\n",
            "64/64 [==============================] - 0s 2ms/step - loss: 1.0792 - accuracy: 0.4980\n",
            "Epoch 3/5\n",
            "64/64 [==============================] - 0s 2ms/step - loss: 1.0638 - accuracy: 0.5996\n",
            "Epoch 4/5\n",
            "64/64 [==============================] - 0s 2ms/step - loss: 1.0441 - accuracy: 0.6309\n",
            "Epoch 5/5\n",
            "64/64 [==============================] - 0s 3ms/step - loss: 1.0221 - accuracy: 0.6738\n",
            "32/32 [==============================] - 0s 2ms/step - loss: 1.0126 - accuracy: 0.6797\n",
            "Epoch 1/5\n"
          ]
        },
        {
          "output_type": "stream",
          "name": "stderr",
          "text": [
            "/usr/local/lib/python3.7/dist-packages/tensorflow/python/util/dispatch.py:1082: UserWarning: \"`sparse_categorical_crossentropy` received `from_logits=True`, but the `output` argument was produced by a sigmoid or softmax activation and thus does not represent logits. Was this intended?\"\n",
            "  return dispatch_target(*args, **kwargs)\n"
          ]
        },
        {
          "output_type": "stream",
          "name": "stdout",
          "text": [
            "64/64 [==============================] - 1s 2ms/step - loss: 1.0943 - accuracy: 0.3984\n",
            "Epoch 2/5\n",
            "64/64 [==============================] - 0s 3ms/step - loss: 1.0720 - accuracy: 0.5137\n",
            "Epoch 3/5\n",
            "64/64 [==============================] - 0s 2ms/step - loss: 1.0545 - accuracy: 0.5508\n",
            "Epoch 4/5\n",
            "64/64 [==============================] - 0s 3ms/step - loss: 1.0319 - accuracy: 0.6211\n",
            "Epoch 5/5\n",
            "64/64 [==============================] - 0s 2ms/step - loss: 1.0088 - accuracy: 0.6953\n",
            "32/32 [==============================] - 0s 2ms/step - loss: 1.0208 - accuracy: 0.6055\n",
            "Epoch 1/5\n"
          ]
        },
        {
          "output_type": "stream",
          "name": "stderr",
          "text": [
            "/usr/local/lib/python3.7/dist-packages/tensorflow/python/util/dispatch.py:1082: UserWarning: \"`sparse_categorical_crossentropy` received `from_logits=True`, but the `output` argument was produced by a sigmoid or softmax activation and thus does not represent logits. Was this intended?\"\n",
            "  return dispatch_target(*args, **kwargs)\n"
          ]
        },
        {
          "output_type": "stream",
          "name": "stdout",
          "text": [
            "64/64 [==============================] - 0s 2ms/step - loss: 1.0992 - accuracy: 0.3105\n",
            "Epoch 2/5\n",
            "64/64 [==============================] - 0s 2ms/step - loss: 1.0991 - accuracy: 0.3145\n",
            "Epoch 3/5\n",
            "64/64 [==============================] - 0s 2ms/step - loss: 1.0990 - accuracy: 0.2969\n",
            "Epoch 4/5\n",
            "64/64 [==============================] - 0s 2ms/step - loss: 1.0990 - accuracy: 0.2930\n",
            "Epoch 5/5\n",
            "64/64 [==============================] - 0s 2ms/step - loss: 1.0989 - accuracy: 0.3047\n",
            "32/32 [==============================] - 0s 2ms/step - loss: 1.0990 - accuracy: 0.3359\n",
            "Epoch 1/5\n"
          ]
        },
        {
          "output_type": "stream",
          "name": "stderr",
          "text": [
            "/usr/local/lib/python3.7/dist-packages/tensorflow/python/util/dispatch.py:1082: UserWarning: \"`sparse_categorical_crossentropy` received `from_logits=True`, but the `output` argument was produced by a sigmoid or softmax activation and thus does not represent logits. Was this intended?\"\n",
            "  return dispatch_target(*args, **kwargs)\n"
          ]
        },
        {
          "output_type": "stream",
          "name": "stdout",
          "text": [
            "64/64 [==============================] - 0s 2ms/step - loss: 1.0983 - accuracy: 0.3398\n",
            "Epoch 2/5\n",
            "64/64 [==============================] - 0s 2ms/step - loss: 1.0982 - accuracy: 0.3516\n",
            "Epoch 3/5\n",
            "64/64 [==============================] - 0s 2ms/step - loss: 1.0982 - accuracy: 0.3730\n",
            "Epoch 4/5\n",
            "64/64 [==============================] - 0s 2ms/step - loss: 1.0981 - accuracy: 0.3730\n",
            "Epoch 5/5\n",
            "64/64 [==============================] - 0s 2ms/step - loss: 1.0981 - accuracy: 0.3887\n",
            "32/32 [==============================] - 0s 2ms/step - loss: 1.0978 - accuracy: 0.4062\n",
            "Epoch 1/5\n"
          ]
        },
        {
          "output_type": "stream",
          "name": "stderr",
          "text": [
            "/usr/local/lib/python3.7/dist-packages/tensorflow/python/util/dispatch.py:1082: UserWarning: \"`sparse_categorical_crossentropy` received `from_logits=True`, but the `output` argument was produced by a sigmoid or softmax activation and thus does not represent logits. Was this intended?\"\n",
            "  return dispatch_target(*args, **kwargs)\n"
          ]
        },
        {
          "output_type": "stream",
          "name": "stdout",
          "text": [
            "64/64 [==============================] - 0s 2ms/step - loss: 1.0991 - accuracy: 0.3008\n",
            "Epoch 2/5\n",
            "64/64 [==============================] - 0s 2ms/step - loss: 1.0990 - accuracy: 0.2910\n",
            "Epoch 3/5\n",
            "64/64 [==============================] - 0s 2ms/step - loss: 1.0989 - accuracy: 0.3027\n",
            "Epoch 4/5\n",
            "64/64 [==============================] - 0s 2ms/step - loss: 1.0988 - accuracy: 0.3008\n",
            "Epoch 5/5\n",
            "64/64 [==============================] - 0s 2ms/step - loss: 1.0988 - accuracy: 0.3105\n",
            "32/32 [==============================] - 0s 2ms/step - loss: 1.0985 - accuracy: 0.3359\n",
            "Epoch 1/5\n"
          ]
        },
        {
          "output_type": "stream",
          "name": "stderr",
          "text": [
            "/usr/local/lib/python3.7/dist-packages/tensorflow/python/util/dispatch.py:1082: UserWarning: \"`sparse_categorical_crossentropy` received `from_logits=True`, but the `output` argument was produced by a sigmoid or softmax activation and thus does not represent logits. Was this intended?\"\n",
            "  return dispatch_target(*args, **kwargs)\n"
          ]
        },
        {
          "output_type": "stream",
          "name": "stdout",
          "text": [
            "64/64 [==============================] - 0s 2ms/step - loss: 1.0992 - accuracy: 0.3105\n",
            "Epoch 2/5\n",
            "64/64 [==============================] - 0s 2ms/step - loss: 1.0992 - accuracy: 0.3105\n",
            "Epoch 3/5\n",
            "64/64 [==============================] - 0s 2ms/step - loss: 1.0992 - accuracy: 0.3105\n",
            "Epoch 4/5\n",
            "64/64 [==============================] - 0s 2ms/step - loss: 1.0992 - accuracy: 0.3105\n",
            "Epoch 5/5\n",
            "64/64 [==============================] - 0s 2ms/step - loss: 1.0992 - accuracy: 0.3105\n",
            "32/32 [==============================] - 0s 2ms/step - loss: 1.0993 - accuracy: 0.3164\n",
            "Epoch 1/5\n"
          ]
        },
        {
          "output_type": "stream",
          "name": "stderr",
          "text": [
            "/usr/local/lib/python3.7/dist-packages/tensorflow/python/util/dispatch.py:1082: UserWarning: \"`sparse_categorical_crossentropy` received `from_logits=True`, but the `output` argument was produced by a sigmoid or softmax activation and thus does not represent logits. Was this intended?\"\n",
            "  return dispatch_target(*args, **kwargs)\n"
          ]
        },
        {
          "output_type": "stream",
          "name": "stdout",
          "text": [
            "64/64 [==============================] - 0s 2ms/step - loss: 1.0985 - accuracy: 0.3262\n",
            "Epoch 2/5\n",
            "64/64 [==============================] - 0s 2ms/step - loss: 1.0985 - accuracy: 0.3262\n",
            "Epoch 3/5\n",
            "64/64 [==============================] - 0s 2ms/step - loss: 1.0985 - accuracy: 0.3281\n",
            "Epoch 4/5\n",
            "64/64 [==============================] - 0s 2ms/step - loss: 1.0985 - accuracy: 0.3262\n",
            "Epoch 5/5\n",
            "64/64 [==============================] - 0s 2ms/step - loss: 1.0985 - accuracy: 0.3281\n",
            "32/32 [==============================] - 0s 2ms/step - loss: 1.0983 - accuracy: 0.3555\n",
            "Epoch 1/5\n"
          ]
        },
        {
          "output_type": "stream",
          "name": "stderr",
          "text": [
            "/usr/local/lib/python3.7/dist-packages/tensorflow/python/util/dispatch.py:1082: UserWarning: \"`sparse_categorical_crossentropy` received `from_logits=True`, but the `output` argument was produced by a sigmoid or softmax activation and thus does not represent logits. Was this intended?\"\n",
            "  return dispatch_target(*args, **kwargs)\n"
          ]
        },
        {
          "output_type": "stream",
          "name": "stdout",
          "text": [
            "64/64 [==============================] - 0s 2ms/step - loss: 1.0984 - accuracy: 0.3418\n",
            "Epoch 2/5\n",
            "64/64 [==============================] - 0s 2ms/step - loss: 1.0984 - accuracy: 0.3418\n",
            "Epoch 3/5\n",
            "64/64 [==============================] - 0s 2ms/step - loss: 1.0984 - accuracy: 0.3418\n",
            "Epoch 4/5\n",
            "64/64 [==============================] - 0s 2ms/step - loss: 1.0984 - accuracy: 0.3418\n",
            "Epoch 5/5\n",
            "64/64 [==============================] - 0s 3ms/step - loss: 1.0984 - accuracy: 0.3418\n",
            "32/32 [==============================] - 0s 2ms/step - loss: 1.0990 - accuracy: 0.3320\n",
            "Epoch 1/5\n"
          ]
        },
        {
          "output_type": "stream",
          "name": "stderr",
          "text": [
            "/usr/local/lib/python3.7/dist-packages/tensorflow/python/util/dispatch.py:1082: UserWarning: \"`sparse_categorical_crossentropy` received `from_logits=True`, but the `output` argument was produced by a sigmoid or softmax activation and thus does not represent logits. Was this intended?\"\n",
            "  return dispatch_target(*args, **kwargs)\n"
          ]
        },
        {
          "output_type": "stream",
          "name": "stdout",
          "text": [
            "64/64 [==============================] - 1s 3ms/step - loss: 1.0963 - accuracy: 0.3711\n",
            "Epoch 2/5\n",
            "64/64 [==============================] - 0s 2ms/step - loss: 1.0800 - accuracy: 0.5430\n",
            "Epoch 3/5\n",
            "64/64 [==============================] - 0s 2ms/step - loss: 1.0492 - accuracy: 0.6289\n",
            "Epoch 4/5\n",
            "64/64 [==============================] - 0s 2ms/step - loss: 1.0117 - accuracy: 0.6758\n",
            "Epoch 5/5\n",
            "64/64 [==============================] - 0s 2ms/step - loss: 0.9755 - accuracy: 0.7031\n",
            "32/32 [==============================] - 0s 2ms/step - loss: 0.9632 - accuracy: 0.6953\n",
            "Epoch 1/5\n"
          ]
        },
        {
          "output_type": "stream",
          "name": "stderr",
          "text": [
            "/usr/local/lib/python3.7/dist-packages/tensorflow/python/util/dispatch.py:1082: UserWarning: \"`sparse_categorical_crossentropy` received `from_logits=True`, but the `output` argument was produced by a sigmoid or softmax activation and thus does not represent logits. Was this intended?\"\n",
            "  return dispatch_target(*args, **kwargs)\n"
          ]
        },
        {
          "output_type": "stream",
          "name": "stdout",
          "text": [
            "64/64 [==============================] - 0s 2ms/step - loss: 1.0982 - accuracy: 0.3516\n",
            "Epoch 2/5\n",
            "64/64 [==============================] - 0s 2ms/step - loss: 1.0835 - accuracy: 0.4980\n",
            "Epoch 3/5\n",
            "64/64 [==============================] - 0s 2ms/step - loss: 1.0555 - accuracy: 0.5488\n",
            "Epoch 4/5\n",
            "64/64 [==============================] - 0s 3ms/step - loss: 1.0257 - accuracy: 0.5586\n",
            "Epoch 5/5\n",
            "64/64 [==============================] - 0s 2ms/step - loss: 0.9983 - accuracy: 0.6094\n",
            "32/32 [==============================] - 0s 3ms/step - loss: 0.9951 - accuracy: 0.5664\n",
            "Epoch 1/5\n"
          ]
        },
        {
          "output_type": "stream",
          "name": "stderr",
          "text": [
            "/usr/local/lib/python3.7/dist-packages/tensorflow/python/util/dispatch.py:1082: UserWarning: \"`sparse_categorical_crossentropy` received `from_logits=True`, but the `output` argument was produced by a sigmoid or softmax activation and thus does not represent logits. Was this intended?\"\n",
            "  return dispatch_target(*args, **kwargs)\n"
          ]
        },
        {
          "output_type": "stream",
          "name": "stdout",
          "text": [
            "64/64 [==============================] - 0s 2ms/step - loss: 1.0938 - accuracy: 0.3926\n",
            "Epoch 2/5\n",
            "64/64 [==============================] - 0s 2ms/step - loss: 1.0806 - accuracy: 0.4512\n",
            "Epoch 3/5\n",
            "64/64 [==============================] - 0s 2ms/step - loss: 1.0500 - accuracy: 0.5605\n",
            "Epoch 4/5\n",
            "64/64 [==============================] - 0s 2ms/step - loss: 1.0216 - accuracy: 0.6113\n",
            "Epoch 5/5\n",
            "64/64 [==============================] - 0s 2ms/step - loss: 0.9958 - accuracy: 0.5977\n",
            "32/32 [==============================] - 0s 2ms/step - loss: 1.0103 - accuracy: 0.5312\n",
            "Epoch 1/5\n"
          ]
        },
        {
          "output_type": "stream",
          "name": "stderr",
          "text": [
            "/usr/local/lib/python3.7/dist-packages/tensorflow/python/util/dispatch.py:1082: UserWarning: \"`sparse_categorical_crossentropy` received `from_logits=True`, but the `output` argument was produced by a sigmoid or softmax activation and thus does not represent logits. Was this intended?\"\n",
            "  return dispatch_target(*args, **kwargs)\n"
          ]
        },
        {
          "output_type": "stream",
          "name": "stdout",
          "text": [
            "64/64 [==============================] - 0s 2ms/step - loss: 1.0980 - accuracy: 0.3457\n",
            "Epoch 2/5\n",
            "64/64 [==============================] - 0s 2ms/step - loss: 1.0933 - accuracy: 0.3496\n",
            "Epoch 3/5\n",
            "64/64 [==============================] - 0s 2ms/step - loss: 1.0882 - accuracy: 0.4336\n",
            "Epoch 4/5\n",
            "64/64 [==============================] - 0s 2ms/step - loss: 1.0794 - accuracy: 0.4219\n",
            "Epoch 5/5\n",
            "64/64 [==============================] - 0s 3ms/step - loss: 1.0705 - accuracy: 0.4941\n",
            "32/32 [==============================] - 0s 2ms/step - loss: 1.0670 - accuracy: 0.5312\n",
            "Epoch 1/5\n"
          ]
        },
        {
          "output_type": "stream",
          "name": "stderr",
          "text": [
            "/usr/local/lib/python3.7/dist-packages/tensorflow/python/util/dispatch.py:1082: UserWarning: \"`sparse_categorical_crossentropy` received `from_logits=True`, but the `output` argument was produced by a sigmoid or softmax activation and thus does not represent logits. Was this intended?\"\n",
            "  return dispatch_target(*args, **kwargs)\n"
          ]
        },
        {
          "output_type": "stream",
          "name": "stdout",
          "text": [
            "64/64 [==============================] - 0s 2ms/step - loss: 1.0978 - accuracy: 0.3516\n",
            "Epoch 2/5\n",
            "64/64 [==============================] - 0s 2ms/step - loss: 1.0941 - accuracy: 0.4121\n",
            "Epoch 3/5\n",
            "64/64 [==============================] - 0s 2ms/step - loss: 1.0897 - accuracy: 0.4395\n",
            "Epoch 4/5\n",
            "64/64 [==============================] - 0s 2ms/step - loss: 1.0847 - accuracy: 0.4609\n",
            "Epoch 5/5\n",
            "64/64 [==============================] - 0s 2ms/step - loss: 1.0781 - accuracy: 0.5332\n",
            "32/32 [==============================] - 0s 2ms/step - loss: 1.0733 - accuracy: 0.5742\n",
            "Epoch 1/5\n"
          ]
        },
        {
          "output_type": "stream",
          "name": "stderr",
          "text": [
            "/usr/local/lib/python3.7/dist-packages/tensorflow/python/util/dispatch.py:1082: UserWarning: \"`sparse_categorical_crossentropy` received `from_logits=True`, but the `output` argument was produced by a sigmoid or softmax activation and thus does not represent logits. Was this intended?\"\n",
            "  return dispatch_target(*args, **kwargs)\n"
          ]
        },
        {
          "output_type": "stream",
          "name": "stdout",
          "text": [
            "64/64 [==============================] - 0s 3ms/step - loss: 1.0970 - accuracy: 0.3457\n",
            "Epoch 2/5\n",
            "64/64 [==============================] - 0s 2ms/step - loss: 1.0927 - accuracy: 0.4023\n",
            "Epoch 3/5\n",
            "64/64 [==============================] - 0s 2ms/step - loss: 1.0864 - accuracy: 0.4883\n",
            "Epoch 4/5\n",
            "64/64 [==============================] - 0s 2ms/step - loss: 1.0783 - accuracy: 0.4922\n",
            "Epoch 5/5\n",
            "64/64 [==============================] - 0s 2ms/step - loss: 1.0710 - accuracy: 0.4941\n",
            "32/32 [==============================] - 0s 2ms/step - loss: 1.0732 - accuracy: 0.4609\n",
            "Epoch 1/5\n"
          ]
        },
        {
          "output_type": "stream",
          "name": "stderr",
          "text": [
            "/usr/local/lib/python3.7/dist-packages/tensorflow/python/util/dispatch.py:1082: UserWarning: \"`sparse_categorical_crossentropy` received `from_logits=True`, but the `output` argument was produced by a sigmoid or softmax activation and thus does not represent logits. Was this intended?\"\n",
            "  return dispatch_target(*args, **kwargs)\n"
          ]
        },
        {
          "output_type": "stream",
          "name": "stdout",
          "text": [
            "64/64 [==============================] - 1s 3ms/step - loss: 1.0967 - accuracy: 0.3691\n",
            "Epoch 2/5\n",
            "64/64 [==============================] - 0s 3ms/step - loss: 1.0800 - accuracy: 0.5000\n",
            "Epoch 3/5\n",
            "64/64 [==============================] - 0s 3ms/step - loss: 1.0536 - accuracy: 0.5840\n",
            "Epoch 4/5\n",
            "64/64 [==============================] - 0s 3ms/step - loss: 1.0223 - accuracy: 0.6523\n",
            "Epoch 5/5\n",
            "64/64 [==============================] - 0s 3ms/step - loss: 0.9892 - accuracy: 0.7012\n",
            "32/32 [==============================] - 0s 2ms/step - loss: 0.9719 - accuracy: 0.6914\n",
            "Epoch 1/5\n"
          ]
        },
        {
          "output_type": "stream",
          "name": "stderr",
          "text": [
            "/usr/local/lib/python3.7/dist-packages/tensorflow/python/util/dispatch.py:1082: UserWarning: \"`sparse_categorical_crossentropy` received `from_logits=True`, but the `output` argument was produced by a sigmoid or softmax activation and thus does not represent logits. Was this intended?\"\n",
            "  return dispatch_target(*args, **kwargs)\n"
          ]
        },
        {
          "output_type": "stream",
          "name": "stdout",
          "text": [
            "64/64 [==============================] - 1s 3ms/step - loss: 1.0968 - accuracy: 0.3594\n",
            "Epoch 2/5\n",
            "64/64 [==============================] - 0s 3ms/step - loss: 1.0736 - accuracy: 0.5176\n",
            "Epoch 3/5\n",
            "64/64 [==============================] - 0s 3ms/step - loss: 1.0367 - accuracy: 0.5527\n",
            "Epoch 4/5\n",
            "64/64 [==============================] - 0s 3ms/step - loss: 1.0109 - accuracy: 0.5664\n",
            "Epoch 5/5\n",
            "64/64 [==============================] - 0s 3ms/step - loss: 0.9856 - accuracy: 0.5879\n",
            "32/32 [==============================] - 0s 2ms/step - loss: 0.9889 - accuracy: 0.5469\n",
            "Epoch 1/5\n"
          ]
        },
        {
          "output_type": "stream",
          "name": "stderr",
          "text": [
            "/usr/local/lib/python3.7/dist-packages/tensorflow/python/util/dispatch.py:1082: UserWarning: \"`sparse_categorical_crossentropy` received `from_logits=True`, but the `output` argument was produced by a sigmoid or softmax activation and thus does not represent logits. Was this intended?\"\n",
            "  return dispatch_target(*args, **kwargs)\n"
          ]
        },
        {
          "output_type": "stream",
          "name": "stdout",
          "text": [
            "64/64 [==============================] - 1s 3ms/step - loss: 1.0957 - accuracy: 0.3828\n",
            "Epoch 2/5\n",
            "64/64 [==============================] - 0s 3ms/step - loss: 1.0696 - accuracy: 0.5352\n",
            "Epoch 3/5\n",
            "64/64 [==============================] - 0s 3ms/step - loss: 1.0379 - accuracy: 0.6270\n",
            "Epoch 4/5\n",
            "64/64 [==============================] - 0s 3ms/step - loss: 1.0076 - accuracy: 0.6660\n",
            "Epoch 5/5\n",
            "64/64 [==============================] - 0s 3ms/step - loss: 0.9728 - accuracy: 0.7031\n",
            "32/32 [==============================] - 0s 2ms/step - loss: 0.9785 - accuracy: 0.6602\n",
            "Epoch 1/5\n"
          ]
        },
        {
          "output_type": "stream",
          "name": "stderr",
          "text": [
            "/usr/local/lib/python3.7/dist-packages/tensorflow/python/util/dispatch.py:1082: UserWarning: \"`sparse_categorical_crossentropy` received `from_logits=True`, but the `output` argument was produced by a sigmoid or softmax activation and thus does not represent logits. Was this intended?\"\n",
            "  return dispatch_target(*args, **kwargs)\n"
          ]
        },
        {
          "output_type": "stream",
          "name": "stdout",
          "text": [
            "64/64 [==============================] - 0s 2ms/step - loss: 1.0986 - accuracy: 0.3359\n",
            "Epoch 2/5\n",
            "64/64 [==============================] - 0s 2ms/step - loss: 1.0982 - accuracy: 0.3398\n",
            "Epoch 3/5\n",
            "64/64 [==============================] - 0s 2ms/step - loss: 1.0980 - accuracy: 0.3457\n",
            "Epoch 4/5\n",
            "64/64 [==============================] - 0s 2ms/step - loss: 1.0977 - accuracy: 0.3418\n",
            "Epoch 5/5\n",
            "64/64 [==============================] - 0s 2ms/step - loss: 1.0977 - accuracy: 0.3477\n",
            "32/32 [==============================] - 0s 2ms/step - loss: 1.0976 - accuracy: 0.4141\n",
            "Epoch 1/5\n"
          ]
        },
        {
          "output_type": "stream",
          "name": "stderr",
          "text": [
            "/usr/local/lib/python3.7/dist-packages/tensorflow/python/util/dispatch.py:1082: UserWarning: \"`sparse_categorical_crossentropy` received `from_logits=True`, but the `output` argument was produced by a sigmoid or softmax activation and thus does not represent logits. Was this intended?\"\n",
            "  return dispatch_target(*args, **kwargs)\n"
          ]
        },
        {
          "output_type": "stream",
          "name": "stdout",
          "text": [
            "64/64 [==============================] - 0s 2ms/step - loss: 1.0991 - accuracy: 0.3262\n",
            "Epoch 2/5\n",
            "64/64 [==============================] - 0s 2ms/step - loss: 1.0990 - accuracy: 0.3477\n",
            "Epoch 3/5\n",
            "64/64 [==============================] - 0s 2ms/step - loss: 1.0989 - accuracy: 0.3477\n",
            "Epoch 4/5\n",
            "64/64 [==============================] - 0s 2ms/step - loss: 1.0987 - accuracy: 0.3477\n",
            "Epoch 5/5\n",
            "64/64 [==============================] - 0s 2ms/step - loss: 1.0987 - accuracy: 0.3477\n",
            "32/32 [==============================] - 0s 2ms/step - loss: 1.0977 - accuracy: 0.3516\n",
            "Epoch 1/5\n"
          ]
        },
        {
          "output_type": "stream",
          "name": "stderr",
          "text": [
            "/usr/local/lib/python3.7/dist-packages/tensorflow/python/util/dispatch.py:1082: UserWarning: \"`sparse_categorical_crossentropy` received `from_logits=True`, but the `output` argument was produced by a sigmoid or softmax activation and thus does not represent logits. Was this intended?\"\n",
            "  return dispatch_target(*args, **kwargs)\n"
          ]
        },
        {
          "output_type": "stream",
          "name": "stdout",
          "text": [
            "64/64 [==============================] - 0s 2ms/step - loss: 1.0988 - accuracy: 0.3359\n",
            "Epoch 2/5\n",
            "64/64 [==============================] - 0s 2ms/step - loss: 1.0981 - accuracy: 0.3242\n",
            "Epoch 3/5\n",
            "64/64 [==============================] - 0s 2ms/step - loss: 1.0977 - accuracy: 0.3535\n",
            "Epoch 4/5\n",
            "64/64 [==============================] - 0s 2ms/step - loss: 1.0974 - accuracy: 0.3516\n",
            "Epoch 5/5\n",
            "64/64 [==============================] - 0s 2ms/step - loss: 1.0972 - accuracy: 0.3398\n",
            "32/32 [==============================] - 0s 2ms/step - loss: 1.0991 - accuracy: 0.3398\n",
            "Epoch 1/5\n"
          ]
        },
        {
          "output_type": "stream",
          "name": "stderr",
          "text": [
            "/usr/local/lib/python3.7/dist-packages/tensorflow/python/util/dispatch.py:1082: UserWarning: \"`sparse_categorical_crossentropy` received `from_logits=True`, but the `output` argument was produced by a sigmoid or softmax activation and thus does not represent logits. Was this intended?\"\n",
            "  return dispatch_target(*args, **kwargs)\n"
          ]
        },
        {
          "output_type": "stream",
          "name": "stdout",
          "text": [
            "64/64 [==============================] - 1s 3ms/step - loss: 1.0947 - accuracy: 0.3770\n",
            "Epoch 2/5\n",
            "64/64 [==============================] - 0s 2ms/step - loss: 1.0778 - accuracy: 0.5137\n",
            "Epoch 3/5\n",
            "64/64 [==============================] - 0s 3ms/step - loss: 1.0613 - accuracy: 0.5859\n",
            "Epoch 4/5\n",
            "64/64 [==============================] - 0s 3ms/step - loss: 1.0390 - accuracy: 0.6582\n",
            "Epoch 5/5\n",
            "64/64 [==============================] - 0s 3ms/step - loss: 1.0168 - accuracy: 0.6621\n",
            "32/32 [==============================] - 0s 2ms/step - loss: 1.0056 - accuracy: 0.6641\n",
            "Epoch 1/5\n"
          ]
        },
        {
          "output_type": "stream",
          "name": "stderr",
          "text": [
            "/usr/local/lib/python3.7/dist-packages/tensorflow/python/util/dispatch.py:1082: UserWarning: \"`sparse_categorical_crossentropy` received `from_logits=True`, but the `output` argument was produced by a sigmoid or softmax activation and thus does not represent logits. Was this intended?\"\n",
            "  return dispatch_target(*args, **kwargs)\n"
          ]
        },
        {
          "output_type": "stream",
          "name": "stdout",
          "text": [
            "64/64 [==============================] - 1s 3ms/step - loss: 1.0963 - accuracy: 0.3730\n",
            "Epoch 2/5\n",
            "64/64 [==============================] - 0s 3ms/step - loss: 1.0783 - accuracy: 0.5176\n",
            "Epoch 3/5\n",
            "64/64 [==============================] - 0s 2ms/step - loss: 1.0591 - accuracy: 0.5879\n",
            "Epoch 4/5\n",
            "64/64 [==============================] - 0s 3ms/step - loss: 1.0395 - accuracy: 0.6465\n",
            "Epoch 5/5\n",
            "64/64 [==============================] - 0s 3ms/step - loss: 1.0137 - accuracy: 0.6719\n",
            "32/32 [==============================] - 0s 2ms/step - loss: 1.0365 - accuracy: 0.5117\n",
            "Epoch 1/5\n"
          ]
        },
        {
          "output_type": "stream",
          "name": "stderr",
          "text": [
            "/usr/local/lib/python3.7/dist-packages/tensorflow/python/util/dispatch.py:1082: UserWarning: \"`sparse_categorical_crossentropy` received `from_logits=True`, but the `output` argument was produced by a sigmoid or softmax activation and thus does not represent logits. Was this intended?\"\n",
            "  return dispatch_target(*args, **kwargs)\n"
          ]
        },
        {
          "output_type": "stream",
          "name": "stdout",
          "text": [
            "64/64 [==============================] - 1s 3ms/step - loss: 1.0938 - accuracy: 0.4277\n",
            "Epoch 2/5\n",
            "64/64 [==============================] - 0s 3ms/step - loss: 1.0735 - accuracy: 0.4727\n",
            "Epoch 3/5\n",
            "64/64 [==============================] - 0s 3ms/step - loss: 1.0526 - accuracy: 0.5547\n",
            "Epoch 4/5\n",
            "64/64 [==============================] - 0s 3ms/step - loss: 1.0304 - accuracy: 0.6582\n",
            "Epoch 5/5\n",
            "64/64 [==============================] - 0s 2ms/step - loss: 1.0067 - accuracy: 0.6660\n",
            "32/32 [==============================] - 0s 2ms/step - loss: 1.0190 - accuracy: 0.5977\n",
            "Epoch 1/5\n"
          ]
        },
        {
          "output_type": "stream",
          "name": "stderr",
          "text": [
            "/usr/local/lib/python3.7/dist-packages/tensorflow/python/util/dispatch.py:1082: UserWarning: \"`sparse_categorical_crossentropy` received `from_logits=True`, but the `output` argument was produced by a sigmoid or softmax activation and thus does not represent logits. Was this intended?\"\n",
            "  return dispatch_target(*args, **kwargs)\n"
          ]
        },
        {
          "output_type": "stream",
          "name": "stdout",
          "text": [
            "64/64 [==============================] - 0s 2ms/step - loss: 1.0988 - accuracy: 0.3457\n",
            "Epoch 2/5\n",
            "64/64 [==============================] - 0s 2ms/step - loss: 1.0988 - accuracy: 0.3457\n",
            "Epoch 3/5\n",
            "64/64 [==============================] - 0s 2ms/step - loss: 1.0987 - accuracy: 0.3457\n",
            "Epoch 4/5\n",
            "64/64 [==============================] - 0s 2ms/step - loss: 1.0987 - accuracy: 0.3457\n",
            "Epoch 5/5\n",
            "64/64 [==============================] - 0s 3ms/step - loss: 1.0986 - accuracy: 0.3457\n",
            "32/32 [==============================] - 0s 2ms/step - loss: 1.0986 - accuracy: 0.3555\n",
            "Epoch 1/5\n"
          ]
        },
        {
          "output_type": "stream",
          "name": "stderr",
          "text": [
            "/usr/local/lib/python3.7/dist-packages/tensorflow/python/util/dispatch.py:1082: UserWarning: \"`sparse_categorical_crossentropy` received `from_logits=True`, but the `output` argument was produced by a sigmoid or softmax activation and thus does not represent logits. Was this intended?\"\n",
            "  return dispatch_target(*args, **kwargs)\n"
          ]
        },
        {
          "output_type": "stream",
          "name": "stdout",
          "text": [
            "64/64 [==============================] - 0s 2ms/step - loss: 1.0987 - accuracy: 0.2832\n",
            "Epoch 2/5\n",
            "64/64 [==============================] - 0s 2ms/step - loss: 1.0987 - accuracy: 0.2637\n",
            "Epoch 3/5\n",
            "64/64 [==============================] - 0s 2ms/step - loss: 1.0987 - accuracy: 0.2656\n",
            "Epoch 4/5\n",
            "64/64 [==============================] - 0s 2ms/step - loss: 1.0986 - accuracy: 0.2656\n",
            "Epoch 5/5\n",
            "64/64 [==============================] - 0s 2ms/step - loss: 1.0986 - accuracy: 0.2754\n",
            "32/32 [==============================] - 0s 2ms/step - loss: 1.0986 - accuracy: 0.3125\n",
            "Epoch 1/5\n"
          ]
        },
        {
          "output_type": "stream",
          "name": "stderr",
          "text": [
            "/usr/local/lib/python3.7/dist-packages/tensorflow/python/util/dispatch.py:1082: UserWarning: \"`sparse_categorical_crossentropy` received `from_logits=True`, but the `output` argument was produced by a sigmoid or softmax activation and thus does not represent logits. Was this intended?\"\n",
            "  return dispatch_target(*args, **kwargs)\n"
          ]
        },
        {
          "output_type": "stream",
          "name": "stdout",
          "text": [
            "64/64 [==============================] - 1s 2ms/step - loss: 1.0991 - accuracy: 0.3184\n",
            "Epoch 2/5\n",
            "64/64 [==============================] - 0s 2ms/step - loss: 1.0989 - accuracy: 0.3535\n",
            "Epoch 3/5\n",
            "64/64 [==============================] - 0s 2ms/step - loss: 1.0989 - accuracy: 0.3535\n",
            "Epoch 4/5\n",
            "64/64 [==============================] - 0s 2ms/step - loss: 1.0988 - accuracy: 0.3535\n",
            "Epoch 5/5\n",
            "64/64 [==============================] - 0s 2ms/step - loss: 1.0988 - accuracy: 0.3535\n",
            "32/32 [==============================] - 0s 2ms/step - loss: 1.0990 - accuracy: 0.3398\n",
            "Epoch 1/5\n"
          ]
        },
        {
          "output_type": "stream",
          "name": "stderr",
          "text": [
            "/usr/local/lib/python3.7/dist-packages/tensorflow/python/util/dispatch.py:1082: UserWarning: \"`sparse_categorical_crossentropy` received `from_logits=True`, but the `output` argument was produced by a sigmoid or softmax activation and thus does not represent logits. Was this intended?\"\n",
            "  return dispatch_target(*args, **kwargs)\n"
          ]
        },
        {
          "output_type": "stream",
          "name": "stdout",
          "text": [
            "64/64 [==============================] - 0s 2ms/step - loss: 1.0986 - accuracy: 0.3438\n",
            "Epoch 2/5\n",
            "64/64 [==============================] - 0s 2ms/step - loss: 1.0986 - accuracy: 0.3438\n",
            "Epoch 3/5\n",
            "64/64 [==============================] - 0s 2ms/step - loss: 1.0986 - accuracy: 0.3438\n",
            "Epoch 4/5\n",
            "64/64 [==============================] - 0s 3ms/step - loss: 1.0986 - accuracy: 0.3438\n",
            "Epoch 5/5\n",
            "64/64 [==============================] - 0s 2ms/step - loss: 1.0986 - accuracy: 0.3438\n",
            "32/32 [==============================] - 0s 2ms/step - loss: 1.0991 - accuracy: 0.3281\n",
            "Epoch 1/5\n"
          ]
        },
        {
          "output_type": "stream",
          "name": "stderr",
          "text": [
            "/usr/local/lib/python3.7/dist-packages/tensorflow/python/util/dispatch.py:1082: UserWarning: \"`sparse_categorical_crossentropy` received `from_logits=True`, but the `output` argument was produced by a sigmoid or softmax activation and thus does not represent logits. Was this intended?\"\n",
            "  return dispatch_target(*args, **kwargs)\n"
          ]
        },
        {
          "output_type": "stream",
          "name": "stdout",
          "text": [
            "64/64 [==============================] - 0s 2ms/step - loss: 1.0985 - accuracy: 0.3379\n",
            "Epoch 2/5\n",
            "64/64 [==============================] - 0s 2ms/step - loss: 1.0985 - accuracy: 0.3398\n",
            "Epoch 3/5\n",
            "64/64 [==============================] - 0s 3ms/step - loss: 1.0984 - accuracy: 0.3438\n",
            "Epoch 4/5\n",
            "64/64 [==============================] - 0s 2ms/step - loss: 1.0984 - accuracy: 0.3418\n",
            "Epoch 5/5\n",
            "64/64 [==============================] - 0s 3ms/step - loss: 1.0984 - accuracy: 0.3379\n",
            "32/32 [==============================] - 0s 2ms/step - loss: 1.0986 - accuracy: 0.3164\n",
            "Epoch 1/5\n"
          ]
        },
        {
          "output_type": "stream",
          "name": "stderr",
          "text": [
            "/usr/local/lib/python3.7/dist-packages/tensorflow/python/util/dispatch.py:1082: UserWarning: \"`sparse_categorical_crossentropy` received `from_logits=True`, but the `output` argument was produced by a sigmoid or softmax activation and thus does not represent logits. Was this intended?\"\n",
            "  return dispatch_target(*args, **kwargs)\n"
          ]
        },
        {
          "output_type": "stream",
          "name": "stdout",
          "text": [
            "64/64 [==============================] - 0s 2ms/step - loss: 1.0986 - accuracy: 0.3184\n",
            "Epoch 2/5\n",
            "64/64 [==============================] - 0s 2ms/step - loss: 1.0986 - accuracy: 0.3203\n",
            "Epoch 3/5\n",
            "64/64 [==============================] - 0s 2ms/step - loss: 1.0986 - accuracy: 0.3223\n",
            "Epoch 4/5\n",
            "64/64 [==============================] - 0s 2ms/step - loss: 1.0986 - accuracy: 0.3223\n",
            "Epoch 5/5\n",
            "64/64 [==============================] - 0s 3ms/step - loss: 1.0986 - accuracy: 0.3262\n",
            "32/32 [==============================] - 0s 2ms/step - loss: 1.0984 - accuracy: 0.3047\n",
            "Epoch 1/5\n"
          ]
        },
        {
          "output_type": "stream",
          "name": "stderr",
          "text": [
            "/usr/local/lib/python3.7/dist-packages/tensorflow/python/util/dispatch.py:1082: UserWarning: \"`sparse_categorical_crossentropy` received `from_logits=True`, but the `output` argument was produced by a sigmoid or softmax activation and thus does not represent logits. Was this intended?\"\n",
            "  return dispatch_target(*args, **kwargs)\n"
          ]
        },
        {
          "output_type": "stream",
          "name": "stdout",
          "text": [
            "64/64 [==============================] - 0s 2ms/step - loss: 1.0945 - accuracy: 0.3770\n",
            "Epoch 2/5\n",
            "64/64 [==============================] - 0s 2ms/step - loss: 1.0733 - accuracy: 0.4863\n",
            "Epoch 3/5\n",
            "64/64 [==============================] - 0s 2ms/step - loss: 1.0498 - accuracy: 0.5762\n",
            "Epoch 4/5\n",
            "64/64 [==============================] - 0s 3ms/step - loss: 1.0275 - accuracy: 0.6289\n",
            "Epoch 5/5\n",
            "64/64 [==============================] - 0s 2ms/step - loss: 1.0039 - accuracy: 0.6133\n",
            "32/32 [==============================] - 0s 2ms/step - loss: 0.9873 - accuracy: 0.6328\n",
            "Epoch 1/5\n"
          ]
        },
        {
          "output_type": "stream",
          "name": "stderr",
          "text": [
            "/usr/local/lib/python3.7/dist-packages/tensorflow/python/util/dispatch.py:1082: UserWarning: \"`sparse_categorical_crossentropy` received `from_logits=True`, but the `output` argument was produced by a sigmoid or softmax activation and thus does not represent logits. Was this intended?\"\n",
            "  return dispatch_target(*args, **kwargs)\n"
          ]
        },
        {
          "output_type": "stream",
          "name": "stdout",
          "text": [
            "64/64 [==============================] - 0s 2ms/step - loss: 1.0960 - accuracy: 0.3535\n",
            "Epoch 2/5\n",
            "64/64 [==============================] - 0s 3ms/step - loss: 1.0760 - accuracy: 0.5059\n",
            "Epoch 3/5\n",
            "64/64 [==============================] - 0s 2ms/step - loss: 1.0450 - accuracy: 0.5918\n",
            "Epoch 4/5\n",
            "64/64 [==============================] - 0s 2ms/step - loss: 1.0150 - accuracy: 0.5977\n",
            "Epoch 5/5\n",
            "64/64 [==============================] - 0s 2ms/step - loss: 0.9883 - accuracy: 0.6230\n",
            "32/32 [==============================] - 0s 2ms/step - loss: 0.9897 - accuracy: 0.5938\n",
            "Epoch 1/5\n"
          ]
        },
        {
          "output_type": "stream",
          "name": "stderr",
          "text": [
            "/usr/local/lib/python3.7/dist-packages/tensorflow/python/util/dispatch.py:1082: UserWarning: \"`sparse_categorical_crossentropy` received `from_logits=True`, but the `output` argument was produced by a sigmoid or softmax activation and thus does not represent logits. Was this intended?\"\n",
            "  return dispatch_target(*args, **kwargs)\n"
          ]
        },
        {
          "output_type": "stream",
          "name": "stdout",
          "text": [
            "64/64 [==============================] - 0s 2ms/step - loss: 1.0952 - accuracy: 0.3633\n",
            "Epoch 2/5\n",
            "64/64 [==============================] - 0s 2ms/step - loss: 1.0724 - accuracy: 0.5117\n",
            "Epoch 3/5\n",
            "64/64 [==============================] - 0s 2ms/step - loss: 1.0413 - accuracy: 0.5645\n",
            "Epoch 4/5\n",
            "64/64 [==============================] - 0s 2ms/step - loss: 1.0061 - accuracy: 0.6621\n",
            "Epoch 5/5\n",
            "64/64 [==============================] - 0s 2ms/step - loss: 0.9742 - accuracy: 0.6699\n",
            "32/32 [==============================] - 0s 2ms/step - loss: 0.9946 - accuracy: 0.6094\n",
            "Epoch 1/5\n"
          ]
        },
        {
          "output_type": "stream",
          "name": "stderr",
          "text": [
            "/usr/local/lib/python3.7/dist-packages/tensorflow/python/util/dispatch.py:1082: UserWarning: \"`sparse_categorical_crossentropy` received `from_logits=True`, but the `output` argument was produced by a sigmoid or softmax activation and thus does not represent logits. Was this intended?\"\n",
            "  return dispatch_target(*args, **kwargs)\n"
          ]
        },
        {
          "output_type": "stream",
          "name": "stdout",
          "text": [
            "64/64 [==============================] - 0s 2ms/step - loss: 1.0967 - accuracy: 0.3418\n",
            "Epoch 2/5\n",
            "64/64 [==============================] - 0s 2ms/step - loss: 1.0917 - accuracy: 0.4395\n",
            "Epoch 3/5\n",
            "64/64 [==============================] - 0s 2ms/step - loss: 1.0866 - accuracy: 0.4824\n",
            "Epoch 4/5\n",
            "64/64 [==============================] - 0s 2ms/step - loss: 1.0814 - accuracy: 0.4824\n",
            "Epoch 5/5\n",
            "64/64 [==============================] - 0s 3ms/step - loss: 1.0749 - accuracy: 0.5098\n",
            "32/32 [==============================] - 0s 2ms/step - loss: 1.0725 - accuracy: 0.4844\n",
            "Epoch 1/5\n"
          ]
        },
        {
          "output_type": "stream",
          "name": "stderr",
          "text": [
            "/usr/local/lib/python3.7/dist-packages/tensorflow/python/util/dispatch.py:1082: UserWarning: \"`sparse_categorical_crossentropy` received `from_logits=True`, but the `output` argument was produced by a sigmoid or softmax activation and thus does not represent logits. Was this intended?\"\n",
            "  return dispatch_target(*args, **kwargs)\n"
          ]
        },
        {
          "output_type": "stream",
          "name": "stdout",
          "text": [
            "64/64 [==============================] - 0s 3ms/step - loss: 1.0971 - accuracy: 0.3906\n",
            "Epoch 2/5\n",
            "64/64 [==============================] - 0s 2ms/step - loss: 1.0909 - accuracy: 0.5293\n",
            "Epoch 3/5\n",
            "64/64 [==============================] - 0s 2ms/step - loss: 1.0838 - accuracy: 0.5176\n",
            "Epoch 4/5\n",
            "64/64 [==============================] - 0s 2ms/step - loss: 1.0759 - accuracy: 0.5508\n",
            "Epoch 5/5\n",
            "64/64 [==============================] - 0s 2ms/step - loss: 1.0688 - accuracy: 0.5605\n",
            "32/32 [==============================] - 0s 2ms/step - loss: 1.0643 - accuracy: 0.5508\n",
            "Epoch 1/5\n"
          ]
        },
        {
          "output_type": "stream",
          "name": "stderr",
          "text": [
            "/usr/local/lib/python3.7/dist-packages/tensorflow/python/util/dispatch.py:1082: UserWarning: \"`sparse_categorical_crossentropy` received `from_logits=True`, but the `output` argument was produced by a sigmoid or softmax activation and thus does not represent logits. Was this intended?\"\n",
            "  return dispatch_target(*args, **kwargs)\n"
          ]
        },
        {
          "output_type": "stream",
          "name": "stdout",
          "text": [
            "64/64 [==============================] - 0s 3ms/step - loss: 1.0965 - accuracy: 0.4297\n",
            "Epoch 2/5\n",
            "64/64 [==============================] - 0s 2ms/step - loss: 1.0916 - accuracy: 0.4512\n",
            "Epoch 3/5\n",
            "64/64 [==============================] - 0s 2ms/step - loss: 1.0838 - accuracy: 0.5117\n",
            "Epoch 4/5\n",
            "64/64 [==============================] - 0s 2ms/step - loss: 1.0752 - accuracy: 0.4980\n",
            "Epoch 5/5\n",
            "64/64 [==============================] - 0s 3ms/step - loss: 1.0676 - accuracy: 0.5781\n",
            "32/32 [==============================] - 0s 2ms/step - loss: 1.0730 - accuracy: 0.4453\n",
            "Epoch 1/5\n"
          ]
        },
        {
          "output_type": "stream",
          "name": "stderr",
          "text": [
            "/usr/local/lib/python3.7/dist-packages/tensorflow/python/util/dispatch.py:1082: UserWarning: \"`sparse_categorical_crossentropy` received `from_logits=True`, but the `output` argument was produced by a sigmoid or softmax activation and thus does not represent logits. Was this intended?\"\n",
            "  return dispatch_target(*args, **kwargs)\n"
          ]
        },
        {
          "output_type": "stream",
          "name": "stdout",
          "text": [
            "64/64 [==============================] - 1s 3ms/step - loss: 1.0959 - accuracy: 0.3750\n",
            "Epoch 2/5\n",
            "64/64 [==============================] - 0s 3ms/step - loss: 1.0733 - accuracy: 0.4785\n",
            "Epoch 3/5\n",
            "64/64 [==============================] - 0s 3ms/step - loss: 1.0481 - accuracy: 0.5781\n",
            "Epoch 4/5\n",
            "64/64 [==============================] - 0s 3ms/step - loss: 1.0249 - accuracy: 0.5898\n",
            "Epoch 5/5\n",
            "64/64 [==============================] - 0s 3ms/step - loss: 1.0019 - accuracy: 0.6211\n",
            "32/32 [==============================] - 0s 2ms/step - loss: 0.9894 - accuracy: 0.6406\n",
            "Epoch 1/5\n"
          ]
        },
        {
          "output_type": "stream",
          "name": "stderr",
          "text": [
            "/usr/local/lib/python3.7/dist-packages/tensorflow/python/util/dispatch.py:1082: UserWarning: \"`sparse_categorical_crossentropy` received `from_logits=True`, but the `output` argument was produced by a sigmoid or softmax activation and thus does not represent logits. Was this intended?\"\n",
            "  return dispatch_target(*args, **kwargs)\n"
          ]
        },
        {
          "output_type": "stream",
          "name": "stdout",
          "text": [
            "64/64 [==============================] - 1s 3ms/step - loss: 1.0953 - accuracy: 0.3926\n",
            "Epoch 2/5\n",
            "64/64 [==============================] - 0s 3ms/step - loss: 1.0707 - accuracy: 0.5605\n",
            "Epoch 3/5\n",
            "64/64 [==============================] - 0s 3ms/step - loss: 1.0377 - accuracy: 0.5488\n",
            "Epoch 4/5\n",
            "64/64 [==============================] - 0s 3ms/step - loss: 1.0075 - accuracy: 0.5664\n",
            "Epoch 5/5\n",
            "64/64 [==============================] - 0s 3ms/step - loss: 0.9836 - accuracy: 0.5859\n",
            "32/32 [==============================] - 0s 2ms/step - loss: 0.9897 - accuracy: 0.5312\n",
            "Epoch 1/5\n"
          ]
        },
        {
          "output_type": "stream",
          "name": "stderr",
          "text": [
            "/usr/local/lib/python3.7/dist-packages/tensorflow/python/util/dispatch.py:1082: UserWarning: \"`sparse_categorical_crossentropy` received `from_logits=True`, but the `output` argument was produced by a sigmoid or softmax activation and thus does not represent logits. Was this intended?\"\n",
            "  return dispatch_target(*args, **kwargs)\n"
          ]
        },
        {
          "output_type": "stream",
          "name": "stdout",
          "text": [
            "64/64 [==============================] - 1s 3ms/step - loss: 1.0936 - accuracy: 0.3555\n",
            "Epoch 2/5\n",
            "64/64 [==============================] - 0s 3ms/step - loss: 1.0762 - accuracy: 0.4688\n",
            "Epoch 3/5\n",
            "64/64 [==============================] - 0s 3ms/step - loss: 1.0534 - accuracy: 0.6094\n",
            "Epoch 4/5\n",
            "64/64 [==============================] - 0s 3ms/step - loss: 1.0211 - accuracy: 0.6875\n",
            "Epoch 5/5\n",
            "64/64 [==============================] - 0s 3ms/step - loss: 0.9832 - accuracy: 0.7031\n",
            "32/32 [==============================] - 0s 2ms/step - loss: 0.9960 - accuracy: 0.6094\n",
            "Epoch 1/5\n"
          ]
        },
        {
          "output_type": "stream",
          "name": "stderr",
          "text": [
            "/usr/local/lib/python3.7/dist-packages/tensorflow/python/util/dispatch.py:1082: UserWarning: \"`sparse_categorical_crossentropy` received `from_logits=True`, but the `output` argument was produced by a sigmoid or softmax activation and thus does not represent logits. Was this intended?\"\n",
            "  return dispatch_target(*args, **kwargs)\n"
          ]
        },
        {
          "output_type": "stream",
          "name": "stdout",
          "text": [
            "64/64 [==============================] - 0s 2ms/step - loss: 1.0990 - accuracy: 0.3281\n",
            "Epoch 2/5\n",
            "64/64 [==============================] - 0s 2ms/step - loss: 1.0985 - accuracy: 0.3359\n",
            "Epoch 3/5\n",
            "64/64 [==============================] - 0s 2ms/step - loss: 1.0982 - accuracy: 0.3242\n",
            "Epoch 4/5\n",
            "64/64 [==============================] - 0s 2ms/step - loss: 1.0981 - accuracy: 0.3203\n",
            "Epoch 5/5\n",
            "64/64 [==============================] - 0s 2ms/step - loss: 1.0981 - accuracy: 0.3262\n",
            "32/32 [==============================] - 0s 2ms/step - loss: 1.0977 - accuracy: 0.3555\n",
            "Epoch 1/5\n"
          ]
        },
        {
          "output_type": "stream",
          "name": "stderr",
          "text": [
            "/usr/local/lib/python3.7/dist-packages/tensorflow/python/util/dispatch.py:1082: UserWarning: \"`sparse_categorical_crossentropy` received `from_logits=True`, but the `output` argument was produced by a sigmoid or softmax activation and thus does not represent logits. Was this intended?\"\n",
            "  return dispatch_target(*args, **kwargs)\n"
          ]
        },
        {
          "output_type": "stream",
          "name": "stdout",
          "text": [
            "64/64 [==============================] - 0s 2ms/step - loss: 1.0990 - accuracy: 0.3066\n",
            "Epoch 2/5\n",
            "64/64 [==============================] - 0s 2ms/step - loss: 1.0989 - accuracy: 0.3281\n",
            "Epoch 3/5\n",
            "64/64 [==============================] - 0s 3ms/step - loss: 1.0988 - accuracy: 0.3477\n",
            "Epoch 4/5\n",
            "64/64 [==============================] - 0s 2ms/step - loss: 1.0987 - accuracy: 0.3477\n",
            "Epoch 5/5\n",
            "64/64 [==============================] - 0s 2ms/step - loss: 1.0986 - accuracy: 0.3477\n",
            "32/32 [==============================] - 0s 2ms/step - loss: 1.0976 - accuracy: 0.3516\n",
            "Epoch 1/5\n"
          ]
        },
        {
          "output_type": "stream",
          "name": "stderr",
          "text": [
            "/usr/local/lib/python3.7/dist-packages/tensorflow/python/util/dispatch.py:1082: UserWarning: \"`sparse_categorical_crossentropy` received `from_logits=True`, but the `output` argument was produced by a sigmoid or softmax activation and thus does not represent logits. Was this intended?\"\n",
            "  return dispatch_target(*args, **kwargs)\n"
          ]
        },
        {
          "output_type": "stream",
          "name": "stdout",
          "text": [
            "64/64 [==============================] - 0s 2ms/step - loss: 1.0983 - accuracy: 0.3535\n",
            "Epoch 2/5\n",
            "64/64 [==============================] - 0s 2ms/step - loss: 1.0979 - accuracy: 0.3516\n",
            "Epoch 3/5\n",
            "64/64 [==============================] - 0s 2ms/step - loss: 1.0975 - accuracy: 0.3535\n",
            "Epoch 4/5\n",
            "64/64 [==============================] - 0s 2ms/step - loss: 1.0974 - accuracy: 0.3477\n",
            "Epoch 5/5\n",
            "64/64 [==============================] - 0s 2ms/step - loss: 1.0970 - accuracy: 0.3535\n",
            "32/32 [==============================] - 0s 2ms/step - loss: 1.0988 - accuracy: 0.3398\n",
            "Epoch 1/5\n"
          ]
        },
        {
          "output_type": "stream",
          "name": "stderr",
          "text": [
            "/usr/local/lib/python3.7/dist-packages/tensorflow/python/util/dispatch.py:1082: UserWarning: \"`sparse_categorical_crossentropy` received `from_logits=True`, but the `output` argument was produced by a sigmoid or softmax activation and thus does not represent logits. Was this intended?\"\n",
            "  return dispatch_target(*args, **kwargs)\n"
          ]
        },
        {
          "output_type": "stream",
          "name": "stdout",
          "text": [
            "64/64 [==============================] - 1s 3ms/step - loss: 1.0949 - accuracy: 0.3867\n",
            "Epoch 2/5\n",
            "64/64 [==============================] - 0s 2ms/step - loss: 1.0758 - accuracy: 0.4980\n",
            "Epoch 3/5\n",
            "64/64 [==============================] - 0s 2ms/step - loss: 1.0598 - accuracy: 0.5430\n",
            "Epoch 4/5\n",
            "64/64 [==============================] - 0s 2ms/step - loss: 1.0405 - accuracy: 0.6309\n",
            "Epoch 5/5\n",
            "64/64 [==============================] - 0s 3ms/step - loss: 1.0205 - accuracy: 0.6836\n",
            "32/32 [==============================] - 0s 2ms/step - loss: 1.0067 - accuracy: 0.7344\n",
            "Epoch 1/5\n"
          ]
        },
        {
          "output_type": "stream",
          "name": "stderr",
          "text": [
            "/usr/local/lib/python3.7/dist-packages/tensorflow/python/util/dispatch.py:1082: UserWarning: \"`sparse_categorical_crossentropy` received `from_logits=True`, but the `output` argument was produced by a sigmoid or softmax activation and thus does not represent logits. Was this intended?\"\n",
            "  return dispatch_target(*args, **kwargs)\n"
          ]
        },
        {
          "output_type": "stream",
          "name": "stdout",
          "text": [
            "64/64 [==============================] - 1s 3ms/step - loss: 1.0959 - accuracy: 0.3867\n",
            "Epoch 2/5\n",
            "64/64 [==============================] - 0s 3ms/step - loss: 1.0799 - accuracy: 0.5195\n",
            "Epoch 3/5\n",
            "64/64 [==============================] - 0s 3ms/step - loss: 1.0614 - accuracy: 0.6035\n",
            "Epoch 4/5\n",
            "64/64 [==============================] - 0s 2ms/step - loss: 1.0390 - accuracy: 0.6523\n",
            "Epoch 5/5\n",
            "64/64 [==============================] - 0s 3ms/step - loss: 1.0169 - accuracy: 0.6641\n",
            "32/32 [==============================] - 0s 3ms/step - loss: 1.0083 - accuracy: 0.6680\n",
            "Epoch 1/5\n"
          ]
        },
        {
          "output_type": "stream",
          "name": "stderr",
          "text": [
            "/usr/local/lib/python3.7/dist-packages/tensorflow/python/util/dispatch.py:1082: UserWarning: \"`sparse_categorical_crossentropy` received `from_logits=True`, but the `output` argument was produced by a sigmoid or softmax activation and thus does not represent logits. Was this intended?\"\n",
            "  return dispatch_target(*args, **kwargs)\n"
          ]
        },
        {
          "output_type": "stream",
          "name": "stdout",
          "text": [
            "64/64 [==============================] - 1s 3ms/step - loss: 1.0907 - accuracy: 0.4316\n",
            "Epoch 2/5\n",
            "64/64 [==============================] - 0s 3ms/step - loss: 1.0686 - accuracy: 0.5586\n",
            "Epoch 3/5\n",
            "64/64 [==============================] - 0s 2ms/step - loss: 1.0501 - accuracy: 0.5957\n",
            "Epoch 4/5\n",
            "64/64 [==============================] - 0s 3ms/step - loss: 1.0285 - accuracy: 0.6523\n",
            "Epoch 5/5\n",
            "64/64 [==============================] - 0s 3ms/step - loss: 1.0064 - accuracy: 0.6621\n",
            "32/32 [==============================] - 0s 2ms/step - loss: 1.0155 - accuracy: 0.6289\n",
            "Epoch 1/5\n"
          ]
        },
        {
          "output_type": "stream",
          "name": "stderr",
          "text": [
            "/usr/local/lib/python3.7/dist-packages/tensorflow/python/util/dispatch.py:1082: UserWarning: \"`sparse_categorical_crossentropy` received `from_logits=True`, but the `output` argument was produced by a sigmoid or softmax activation and thus does not represent logits. Was this intended?\"\n",
            "  return dispatch_target(*args, **kwargs)\n"
          ]
        },
        {
          "output_type": "stream",
          "name": "stdout",
          "text": [
            "64/64 [==============================] - 0s 2ms/step - loss: 1.0986 - accuracy: 0.3223\n",
            "Epoch 2/5\n",
            "64/64 [==============================] - 0s 2ms/step - loss: 1.0986 - accuracy: 0.3184\n",
            "Epoch 3/5\n",
            "64/64 [==============================] - 0s 2ms/step - loss: 1.0985 - accuracy: 0.3164\n",
            "Epoch 4/5\n",
            "64/64 [==============================] - 0s 2ms/step - loss: 1.0985 - accuracy: 0.3301\n",
            "Epoch 5/5\n",
            "64/64 [==============================] - 0s 2ms/step - loss: 1.0985 - accuracy: 0.3223\n",
            "32/32 [==============================] - 0s 2ms/step - loss: 1.0985 - accuracy: 0.3281\n",
            "Epoch 1/5\n"
          ]
        },
        {
          "output_type": "stream",
          "name": "stderr",
          "text": [
            "/usr/local/lib/python3.7/dist-packages/tensorflow/python/util/dispatch.py:1082: UserWarning: \"`sparse_categorical_crossentropy` received `from_logits=True`, but the `output` argument was produced by a sigmoid or softmax activation and thus does not represent logits. Was this intended?\"\n",
            "  return dispatch_target(*args, **kwargs)\n"
          ]
        },
        {
          "output_type": "stream",
          "name": "stdout",
          "text": [
            "64/64 [==============================] - 0s 2ms/step - loss: 1.0985 - accuracy: 0.2988\n",
            "Epoch 2/5\n",
            "64/64 [==============================] - 0s 2ms/step - loss: 1.0984 - accuracy: 0.3398\n",
            "Epoch 3/5\n",
            "64/64 [==============================] - 0s 2ms/step - loss: 1.0984 - accuracy: 0.3633\n",
            "Epoch 4/5\n",
            "64/64 [==============================] - 0s 2ms/step - loss: 1.0983 - accuracy: 0.3613\n",
            "Epoch 5/5\n",
            "64/64 [==============================] - 0s 2ms/step - loss: 1.0983 - accuracy: 0.3535\n",
            "32/32 [==============================] - 0s 2ms/step - loss: 1.0983 - accuracy: 0.3438\n",
            "Epoch 1/5\n"
          ]
        },
        {
          "output_type": "stream",
          "name": "stderr",
          "text": [
            "/usr/local/lib/python3.7/dist-packages/tensorflow/python/util/dispatch.py:1082: UserWarning: \"`sparse_categorical_crossentropy` received `from_logits=True`, but the `output` argument was produced by a sigmoid or softmax activation and thus does not represent logits. Was this intended?\"\n",
            "  return dispatch_target(*args, **kwargs)\n"
          ]
        },
        {
          "output_type": "stream",
          "name": "stdout",
          "text": [
            "64/64 [==============================] - 0s 2ms/step - loss: 1.0983 - accuracy: 0.3418\n",
            "Epoch 2/5\n",
            "64/64 [==============================] - 0s 2ms/step - loss: 1.0982 - accuracy: 0.3418\n",
            "Epoch 3/5\n",
            "64/64 [==============================] - 0s 2ms/step - loss: 1.0982 - accuracy: 0.3438\n",
            "Epoch 4/5\n",
            "64/64 [==============================] - 0s 2ms/step - loss: 1.0981 - accuracy: 0.3438\n",
            "Epoch 5/5\n",
            "64/64 [==============================] - 0s 3ms/step - loss: 1.0981 - accuracy: 0.3477\n",
            "32/32 [==============================] - 0s 2ms/step - loss: 1.0982 - accuracy: 0.3320\n",
            "Epoch 1/5\n"
          ]
        },
        {
          "output_type": "stream",
          "name": "stderr",
          "text": [
            "/usr/local/lib/python3.7/dist-packages/tensorflow/python/util/dispatch.py:1082: UserWarning: \"`sparse_categorical_crossentropy` received `from_logits=True`, but the `output` argument was produced by a sigmoid or softmax activation and thus does not represent logits. Was this intended?\"\n",
            "  return dispatch_target(*args, **kwargs)\n"
          ]
        },
        {
          "output_type": "stream",
          "name": "stdout",
          "text": [
            "64/64 [==============================] - 0s 2ms/step - loss: 1.0988 - accuracy: 0.3496\n",
            "Epoch 2/5\n",
            "64/64 [==============================] - 0s 2ms/step - loss: 1.0988 - accuracy: 0.3438\n",
            "Epoch 3/5\n",
            "64/64 [==============================] - 0s 2ms/step - loss: 1.0988 - accuracy: 0.3457\n",
            "Epoch 4/5\n",
            "64/64 [==============================] - 0s 2ms/step - loss: 1.0988 - accuracy: 0.3438\n",
            "Epoch 5/5\n",
            "64/64 [==============================] - 0s 3ms/step - loss: 1.0988 - accuracy: 0.3457\n",
            "32/32 [==============================] - 0s 2ms/step - loss: 1.0990 - accuracy: 0.3203\n",
            "Epoch 1/5\n"
          ]
        },
        {
          "output_type": "stream",
          "name": "stderr",
          "text": [
            "/usr/local/lib/python3.7/dist-packages/tensorflow/python/util/dispatch.py:1082: UserWarning: \"`sparse_categorical_crossentropy` received `from_logits=True`, but the `output` argument was produced by a sigmoid or softmax activation and thus does not represent logits. Was this intended?\"\n",
            "  return dispatch_target(*args, **kwargs)\n"
          ]
        },
        {
          "output_type": "stream",
          "name": "stdout",
          "text": [
            "64/64 [==============================] - 0s 2ms/step - loss: 1.0986 - accuracy: 0.3457\n",
            "Epoch 2/5\n",
            "64/64 [==============================] - 0s 2ms/step - loss: 1.0986 - accuracy: 0.3457\n",
            "Epoch 3/5\n",
            "64/64 [==============================] - 0s 2ms/step - loss: 1.0986 - accuracy: 0.3457\n",
            "Epoch 4/5\n",
            "64/64 [==============================] - 0s 2ms/step - loss: 1.0986 - accuracy: 0.3457\n",
            "Epoch 5/5\n",
            "64/64 [==============================] - 0s 3ms/step - loss: 1.0986 - accuracy: 0.3457\n",
            "32/32 [==============================] - 0s 2ms/step - loss: 1.0989 - accuracy: 0.3516\n",
            "Epoch 1/5\n"
          ]
        },
        {
          "output_type": "stream",
          "name": "stderr",
          "text": [
            "/usr/local/lib/python3.7/dist-packages/tensorflow/python/util/dispatch.py:1082: UserWarning: \"`sparse_categorical_crossentropy` received `from_logits=True`, but the `output` argument was produced by a sigmoid or softmax activation and thus does not represent logits. Was this intended?\"\n",
            "  return dispatch_target(*args, **kwargs)\n"
          ]
        },
        {
          "output_type": "stream",
          "name": "stdout",
          "text": [
            "64/64 [==============================] - 0s 2ms/step - loss: 1.0988 - accuracy: 0.3496\n",
            "Epoch 2/5\n",
            "64/64 [==============================] - 0s 2ms/step - loss: 1.0988 - accuracy: 0.3496\n",
            "Epoch 3/5\n",
            "64/64 [==============================] - 0s 2ms/step - loss: 1.0988 - accuracy: 0.3516\n",
            "Epoch 4/5\n",
            "64/64 [==============================] - 0s 2ms/step - loss: 1.0988 - accuracy: 0.3535\n",
            "Epoch 5/5\n",
            "64/64 [==============================] - 0s 2ms/step - loss: 1.0988 - accuracy: 0.3516\n",
            "32/32 [==============================] - 0s 2ms/step - loss: 1.0987 - accuracy: 0.3242\n",
            "Epoch 1/5\n"
          ]
        },
        {
          "output_type": "stream",
          "name": "stderr",
          "text": [
            "/usr/local/lib/python3.7/dist-packages/tensorflow/python/util/dispatch.py:1082: UserWarning: \"`sparse_categorical_crossentropy` received `from_logits=True`, but the `output` argument was produced by a sigmoid or softmax activation and thus does not represent logits. Was this intended?\"\n",
            "  return dispatch_target(*args, **kwargs)\n"
          ]
        },
        {
          "output_type": "stream",
          "name": "stdout",
          "text": [
            "64/64 [==============================] - 0s 2ms/step - loss: 1.0946 - accuracy: 0.4023\n",
            "Epoch 2/5\n",
            "64/64 [==============================] - 0s 2ms/step - loss: 1.0774 - accuracy: 0.4844\n",
            "Epoch 3/5\n",
            "64/64 [==============================] - 0s 2ms/step - loss: 1.0503 - accuracy: 0.6191\n",
            "Epoch 4/5\n",
            "64/64 [==============================] - 0s 3ms/step - loss: 1.0198 - accuracy: 0.6641\n",
            "Epoch 5/5\n",
            "64/64 [==============================] - 0s 2ms/step - loss: 0.9839 - accuracy: 0.7129\n",
            "32/32 [==============================] - 0s 2ms/step - loss: 0.9807 - accuracy: 0.6719\n",
            "Epoch 1/5\n"
          ]
        },
        {
          "output_type": "stream",
          "name": "stderr",
          "text": [
            "/usr/local/lib/python3.7/dist-packages/tensorflow/python/util/dispatch.py:1082: UserWarning: \"`sparse_categorical_crossentropy` received `from_logits=True`, but the `output` argument was produced by a sigmoid or softmax activation and thus does not represent logits. Was this intended?\"\n",
            "  return dispatch_target(*args, **kwargs)\n"
          ]
        },
        {
          "output_type": "stream",
          "name": "stdout",
          "text": [
            "64/64 [==============================] - 0s 2ms/step - loss: 1.0954 - accuracy: 0.3555\n",
            "Epoch 2/5\n",
            "64/64 [==============================] - 0s 3ms/step - loss: 1.0702 - accuracy: 0.5117\n",
            "Epoch 3/5\n",
            "64/64 [==============================] - 0s 2ms/step - loss: 1.0396 - accuracy: 0.5605\n",
            "Epoch 4/5\n",
            "64/64 [==============================] - 0s 2ms/step - loss: 1.0112 - accuracy: 0.5625\n",
            "Epoch 5/5\n",
            "64/64 [==============================] - 0s 2ms/step - loss: 0.9812 - accuracy: 0.5957\n",
            "32/32 [==============================] - 0s 2ms/step - loss: 0.9875 - accuracy: 0.5664\n",
            "Epoch 1/5\n"
          ]
        },
        {
          "output_type": "stream",
          "name": "stderr",
          "text": [
            "/usr/local/lib/python3.7/dist-packages/tensorflow/python/util/dispatch.py:1082: UserWarning: \"`sparse_categorical_crossentropy` received `from_logits=True`, but the `output` argument was produced by a sigmoid or softmax activation and thus does not represent logits. Was this intended?\"\n",
            "  return dispatch_target(*args, **kwargs)\n"
          ]
        },
        {
          "output_type": "stream",
          "name": "stdout",
          "text": [
            "64/64 [==============================] - 0s 2ms/step - loss: 1.0951 - accuracy: 0.3574\n",
            "Epoch 2/5\n",
            "64/64 [==============================] - 0s 2ms/step - loss: 1.0699 - accuracy: 0.4844\n",
            "Epoch 3/5\n",
            "64/64 [==============================] - 0s 2ms/step - loss: 1.0394 - accuracy: 0.5996\n",
            "Epoch 4/5\n",
            "64/64 [==============================] - 0s 2ms/step - loss: 1.0100 - accuracy: 0.6465\n",
            "Epoch 5/5\n",
            "64/64 [==============================] - 0s 2ms/step - loss: 0.9748 - accuracy: 0.7266\n",
            "32/32 [==============================] - 0s 2ms/step - loss: 0.9866 - accuracy: 0.6328\n",
            "Epoch 1/5\n"
          ]
        },
        {
          "output_type": "stream",
          "name": "stderr",
          "text": [
            "/usr/local/lib/python3.7/dist-packages/tensorflow/python/util/dispatch.py:1082: UserWarning: \"`sparse_categorical_crossentropy` received `from_logits=True`, but the `output` argument was produced by a sigmoid or softmax activation and thus does not represent logits. Was this intended?\"\n",
            "  return dispatch_target(*args, **kwargs)\n"
          ]
        },
        {
          "output_type": "stream",
          "name": "stdout",
          "text": [
            "64/64 [==============================] - 0s 3ms/step - loss: 1.0974 - accuracy: 0.3652\n",
            "Epoch 2/5\n",
            "64/64 [==============================] - 0s 2ms/step - loss: 1.0922 - accuracy: 0.4277\n",
            "Epoch 3/5\n",
            "64/64 [==============================] - 0s 2ms/step - loss: 1.0845 - accuracy: 0.4941\n",
            "Epoch 4/5\n",
            "64/64 [==============================] - 0s 2ms/step - loss: 1.0767 - accuracy: 0.4551\n",
            "Epoch 5/5\n",
            "64/64 [==============================] - 0s 2ms/step - loss: 1.0688 - accuracy: 0.4883\n",
            "32/32 [==============================] - 0s 2ms/step - loss: 1.0630 - accuracy: 0.5195\n",
            "Epoch 1/5\n"
          ]
        },
        {
          "output_type": "stream",
          "name": "stderr",
          "text": [
            "/usr/local/lib/python3.7/dist-packages/tensorflow/python/util/dispatch.py:1082: UserWarning: \"`sparse_categorical_crossentropy` received `from_logits=True`, but the `output` argument was produced by a sigmoid or softmax activation and thus does not represent logits. Was this intended?\"\n",
            "  return dispatch_target(*args, **kwargs)\n"
          ]
        },
        {
          "output_type": "stream",
          "name": "stdout",
          "text": [
            "64/64 [==============================] - 0s 2ms/step - loss: 1.0977 - accuracy: 0.3535\n",
            "Epoch 2/5\n",
            "64/64 [==============================] - 0s 2ms/step - loss: 1.0930 - accuracy: 0.4980\n",
            "Epoch 3/5\n",
            "64/64 [==============================] - 0s 2ms/step - loss: 1.0871 - accuracy: 0.5547\n",
            "Epoch 4/5\n",
            "64/64 [==============================] - 0s 2ms/step - loss: 1.0800 - accuracy: 0.5566\n",
            "Epoch 5/5\n",
            "64/64 [==============================] - 0s 3ms/step - loss: 1.0725 - accuracy: 0.6016\n",
            "32/32 [==============================] - 0s 3ms/step - loss: 1.0699 - accuracy: 0.6523\n",
            "Epoch 1/5\n"
          ]
        },
        {
          "output_type": "stream",
          "name": "stderr",
          "text": [
            "/usr/local/lib/python3.7/dist-packages/tensorflow/python/util/dispatch.py:1082: UserWarning: \"`sparse_categorical_crossentropy` received `from_logits=True`, but the `output` argument was produced by a sigmoid or softmax activation and thus does not represent logits. Was this intended?\"\n",
            "  return dispatch_target(*args, **kwargs)\n"
          ]
        },
        {
          "output_type": "stream",
          "name": "stdout",
          "text": [
            "64/64 [==============================] - 0s 3ms/step - loss: 1.0959 - accuracy: 0.3965\n",
            "Epoch 2/5\n",
            "64/64 [==============================] - 0s 2ms/step - loss: 1.0885 - accuracy: 0.4629\n",
            "Epoch 3/5\n",
            "64/64 [==============================] - 0s 2ms/step - loss: 1.0785 - accuracy: 0.5547\n",
            "Epoch 4/5\n",
            "64/64 [==============================] - 0s 2ms/step - loss: 1.0679 - accuracy: 0.5742\n",
            "Epoch 5/5\n",
            "64/64 [==============================] - 0s 3ms/step - loss: 1.0574 - accuracy: 0.5938\n",
            "32/32 [==============================] - 0s 2ms/step - loss: 1.0648 - accuracy: 0.4805\n",
            "Epoch 1/5\n"
          ]
        },
        {
          "output_type": "stream",
          "name": "stderr",
          "text": [
            "/usr/local/lib/python3.7/dist-packages/tensorflow/python/util/dispatch.py:1082: UserWarning: \"`sparse_categorical_crossentropy` received `from_logits=True`, but the `output` argument was produced by a sigmoid or softmax activation and thus does not represent logits. Was this intended?\"\n",
            "  return dispatch_target(*args, **kwargs)\n"
          ]
        },
        {
          "output_type": "stream",
          "name": "stdout",
          "text": [
            "64/64 [==============================] - 1s 3ms/step - loss: 1.0959 - accuracy: 0.3711\n",
            "Epoch 2/5\n",
            "64/64 [==============================] - 0s 3ms/step - loss: 1.0681 - accuracy: 0.5645\n",
            "Epoch 3/5\n",
            "64/64 [==============================] - 0s 3ms/step - loss: 1.0283 - accuracy: 0.6445\n",
            "Epoch 4/5\n",
            "64/64 [==============================] - 0s 3ms/step - loss: 0.9897 - accuracy: 0.6797\n",
            "Epoch 5/5\n",
            "64/64 [==============================] - 0s 3ms/step - loss: 0.9552 - accuracy: 0.7129\n",
            "32/32 [==============================] - 0s 2ms/step - loss: 0.9349 - accuracy: 0.7500\n",
            "Epoch 1/5\n"
          ]
        },
        {
          "output_type": "stream",
          "name": "stderr",
          "text": [
            "/usr/local/lib/python3.7/dist-packages/tensorflow/python/util/dispatch.py:1082: UserWarning: \"`sparse_categorical_crossentropy` received `from_logits=True`, but the `output` argument was produced by a sigmoid or softmax activation and thus does not represent logits. Was this intended?\"\n",
            "  return dispatch_target(*args, **kwargs)\n"
          ]
        },
        {
          "output_type": "stream",
          "name": "stdout",
          "text": [
            "64/64 [==============================] - 1s 3ms/step - loss: 1.0966 - accuracy: 0.3711\n",
            "Epoch 2/5\n",
            "64/64 [==============================] - 0s 3ms/step - loss: 1.0703 - accuracy: 0.5137\n",
            "Epoch 3/5\n",
            "64/64 [==============================] - 0s 3ms/step - loss: 1.0407 - accuracy: 0.5723\n",
            "Epoch 4/5\n",
            "64/64 [==============================] - 0s 3ms/step - loss: 1.0125 - accuracy: 0.5977\n",
            "Epoch 5/5\n",
            "64/64 [==============================] - 0s 3ms/step - loss: 0.9745 - accuracy: 0.6523\n",
            "32/32 [==============================] - 0s 2ms/step - loss: 0.9925 - accuracy: 0.5039\n",
            "Epoch 1/5\n"
          ]
        },
        {
          "output_type": "stream",
          "name": "stderr",
          "text": [
            "/usr/local/lib/python3.7/dist-packages/tensorflow/python/util/dispatch.py:1082: UserWarning: \"`sparse_categorical_crossentropy` received `from_logits=True`, but the `output` argument was produced by a sigmoid or softmax activation and thus does not represent logits. Was this intended?\"\n",
            "  return dispatch_target(*args, **kwargs)\n"
          ]
        },
        {
          "output_type": "stream",
          "name": "stdout",
          "text": [
            "64/64 [==============================] - 1s 3ms/step - loss: 1.0951 - accuracy: 0.3770\n",
            "Epoch 2/5\n",
            "64/64 [==============================] - 0s 3ms/step - loss: 1.0698 - accuracy: 0.5254\n",
            "Epoch 3/5\n",
            "64/64 [==============================] - 0s 3ms/step - loss: 1.0346 - accuracy: 0.6367\n",
            "Epoch 4/5\n",
            "64/64 [==============================] - 0s 3ms/step - loss: 0.9909 - accuracy: 0.6895\n",
            "Epoch 5/5\n",
            "64/64 [==============================] - 0s 3ms/step - loss: 0.9494 - accuracy: 0.7441\n",
            "32/32 [==============================] - 0s 2ms/step - loss: 0.9690 - accuracy: 0.6680\n",
            "Epoch 1/5\n"
          ]
        },
        {
          "output_type": "stream",
          "name": "stderr",
          "text": [
            "/usr/local/lib/python3.7/dist-packages/tensorflow/python/util/dispatch.py:1082: UserWarning: \"`sparse_categorical_crossentropy` received `from_logits=True`, but the `output` argument was produced by a sigmoid or softmax activation and thus does not represent logits. Was this intended?\"\n",
            "  return dispatch_target(*args, **kwargs)\n"
          ]
        },
        {
          "output_type": "stream",
          "name": "stdout",
          "text": [
            "64/64 [==============================] - 1s 2ms/step - loss: 1.0988 - accuracy: 0.3145\n",
            "Epoch 2/5\n",
            "64/64 [==============================] - 0s 2ms/step - loss: 1.0985 - accuracy: 0.3047\n",
            "Epoch 3/5\n",
            "64/64 [==============================] - 0s 2ms/step - loss: 1.0982 - accuracy: 0.3398\n",
            "Epoch 4/5\n",
            "64/64 [==============================] - 0s 3ms/step - loss: 1.0981 - accuracy: 0.3438\n",
            "Epoch 5/5\n",
            "64/64 [==============================] - 0s 2ms/step - loss: 1.0980 - accuracy: 0.3262\n",
            "32/32 [==============================] - 0s 2ms/step - loss: 1.0980 - accuracy: 0.3555\n",
            "Epoch 1/5\n"
          ]
        },
        {
          "output_type": "stream",
          "name": "stderr",
          "text": [
            "/usr/local/lib/python3.7/dist-packages/tensorflow/python/util/dispatch.py:1082: UserWarning: \"`sparse_categorical_crossentropy` received `from_logits=True`, but the `output` argument was produced by a sigmoid or softmax activation and thus does not represent logits. Was this intended?\"\n",
            "  return dispatch_target(*args, **kwargs)\n"
          ]
        },
        {
          "output_type": "stream",
          "name": "stdout",
          "text": [
            "64/64 [==============================] - 0s 2ms/step - loss: 1.0989 - accuracy: 0.2988\n",
            "Epoch 2/5\n",
            "64/64 [==============================] - 0s 2ms/step - loss: 1.0988 - accuracy: 0.3457\n",
            "Epoch 3/5\n",
            "64/64 [==============================] - 0s 3ms/step - loss: 1.0987 - accuracy: 0.3477\n",
            "Epoch 4/5\n",
            "64/64 [==============================] - 0s 2ms/step - loss: 1.0987 - accuracy: 0.3477\n",
            "Epoch 5/5\n",
            "64/64 [==============================] - 0s 2ms/step - loss: 1.0985 - accuracy: 0.3477\n",
            "32/32 [==============================] - 0s 2ms/step - loss: 1.0975 - accuracy: 0.3516\n",
            "Epoch 1/5\n"
          ]
        },
        {
          "output_type": "stream",
          "name": "stderr",
          "text": [
            "/usr/local/lib/python3.7/dist-packages/tensorflow/python/util/dispatch.py:1082: UserWarning: \"`sparse_categorical_crossentropy` received `from_logits=True`, but the `output` argument was produced by a sigmoid or softmax activation and thus does not represent logits. Was this intended?\"\n",
            "  return dispatch_target(*args, **kwargs)\n"
          ]
        },
        {
          "output_type": "stream",
          "name": "stdout",
          "text": [
            "64/64 [==============================] - 0s 2ms/step - loss: 1.0987 - accuracy: 0.3262\n",
            "Epoch 2/5\n",
            "64/64 [==============================] - 0s 2ms/step - loss: 1.0981 - accuracy: 0.3496\n",
            "Epoch 3/5\n",
            "64/64 [==============================] - 0s 2ms/step - loss: 1.0977 - accuracy: 0.3496\n",
            "Epoch 4/5\n",
            "64/64 [==============================] - 0s 2ms/step - loss: 1.0975 - accuracy: 0.3535\n",
            "Epoch 5/5\n",
            "64/64 [==============================] - 0s 2ms/step - loss: 1.0974 - accuracy: 0.3535\n",
            "32/32 [==============================] - 0s 2ms/step - loss: 1.0990 - accuracy: 0.3398\n",
            "Epoch 1/5\n"
          ]
        },
        {
          "output_type": "stream",
          "name": "stderr",
          "text": [
            "/usr/local/lib/python3.7/dist-packages/tensorflow/python/util/dispatch.py:1082: UserWarning: \"`sparse_categorical_crossentropy` received `from_logits=True`, but the `output` argument was produced by a sigmoid or softmax activation and thus does not represent logits. Was this intended?\"\n",
            "  return dispatch_target(*args, **kwargs)\n"
          ]
        },
        {
          "output_type": "stream",
          "name": "stdout",
          "text": [
            "64/64 [==============================] - 1s 3ms/step - loss: 1.0989 - accuracy: 0.3320\n",
            "Epoch 2/5\n",
            "64/64 [==============================] - 0s 3ms/step - loss: 1.0985 - accuracy: 0.3027\n",
            "Epoch 3/5\n",
            "64/64 [==============================] - 0s 3ms/step - loss: 1.0983 - accuracy: 0.3125\n",
            "Epoch 4/5\n",
            "64/64 [==============================] - 0s 3ms/step - loss: 1.0982 - accuracy: 0.3301\n",
            "Epoch 5/5\n",
            "64/64 [==============================] - 0s 3ms/step - loss: 1.0980 - accuracy: 0.3203\n",
            "32/32 [==============================] - 0s 2ms/step - loss: 1.0980 - accuracy: 0.3281\n",
            "Epoch 1/5\n"
          ]
        },
        {
          "output_type": "stream",
          "name": "stderr",
          "text": [
            "/usr/local/lib/python3.7/dist-packages/tensorflow/python/util/dispatch.py:1082: UserWarning: \"`sparse_categorical_crossentropy` received `from_logits=True`, but the `output` argument was produced by a sigmoid or softmax activation and thus does not represent logits. Was this intended?\"\n",
            "  return dispatch_target(*args, **kwargs)\n"
          ]
        },
        {
          "output_type": "stream",
          "name": "stdout",
          "text": [
            "64/64 [==============================] - 1s 3ms/step - loss: 1.0990 - accuracy: 0.3438\n",
            "Epoch 2/5\n",
            "64/64 [==============================] - 0s 3ms/step - loss: 1.0989 - accuracy: 0.3398\n",
            "Epoch 3/5\n",
            "64/64 [==============================] - 0s 2ms/step - loss: 1.0987 - accuracy: 0.3477\n",
            "Epoch 4/5\n",
            "64/64 [==============================] - 0s 3ms/step - loss: 1.0987 - accuracy: 0.3477\n",
            "Epoch 5/5\n",
            "64/64 [==============================] - 0s 3ms/step - loss: 1.0986 - accuracy: 0.3477\n",
            "32/32 [==============================] - 0s 2ms/step - loss: 1.0975 - accuracy: 0.3516\n",
            "Epoch 1/5\n"
          ]
        },
        {
          "output_type": "stream",
          "name": "stderr",
          "text": [
            "/usr/local/lib/python3.7/dist-packages/tensorflow/python/util/dispatch.py:1082: UserWarning: \"`sparse_categorical_crossentropy` received `from_logits=True`, but the `output` argument was produced by a sigmoid or softmax activation and thus does not represent logits. Was this intended?\"\n",
            "  return dispatch_target(*args, **kwargs)\n"
          ]
        },
        {
          "output_type": "stream",
          "name": "stdout",
          "text": [
            "64/64 [==============================] - 1s 3ms/step - loss: 1.0987 - accuracy: 0.3164\n",
            "Epoch 2/5\n",
            "64/64 [==============================] - 0s 2ms/step - loss: 1.0982 - accuracy: 0.3418\n",
            "Epoch 3/5\n",
            "64/64 [==============================] - 0s 3ms/step - loss: 1.0978 - accuracy: 0.3535\n",
            "Epoch 4/5\n",
            "64/64 [==============================] - 0s 3ms/step - loss: 1.0975 - accuracy: 0.3379\n",
            "Epoch 5/5\n",
            "64/64 [==============================] - 0s 2ms/step - loss: 1.0973 - accuracy: 0.3535\n",
            "32/32 [==============================] - 0s 2ms/step - loss: 1.0991 - accuracy: 0.3398\n",
            "Epoch 1/5\n"
          ]
        },
        {
          "output_type": "stream",
          "name": "stderr",
          "text": [
            "/usr/local/lib/python3.7/dist-packages/tensorflow/python/util/dispatch.py:1082: UserWarning: \"`sparse_categorical_crossentropy` received `from_logits=True`, but the `output` argument was produced by a sigmoid or softmax activation and thus does not represent logits. Was this intended?\"\n",
            "  return dispatch_target(*args, **kwargs)\n"
          ]
        },
        {
          "output_type": "stream",
          "name": "stdout",
          "text": [
            "64/64 [==============================] - 0s 2ms/step - loss: 1.0986 - accuracy: 0.3125\n",
            "Epoch 2/5\n",
            "64/64 [==============================] - 0s 2ms/step - loss: 1.0985 - accuracy: 0.3281\n",
            "Epoch 3/5\n",
            "64/64 [==============================] - 0s 2ms/step - loss: 1.0985 - accuracy: 0.3242\n",
            "Epoch 4/5\n",
            "64/64 [==============================] - 0s 2ms/step - loss: 1.0984 - accuracy: 0.3379\n",
            "Epoch 5/5\n",
            "64/64 [==============================] - 0s 2ms/step - loss: 1.0984 - accuracy: 0.3281\n",
            "32/32 [==============================] - 0s 2ms/step - loss: 1.0984 - accuracy: 0.3555\n",
            "Epoch 1/5\n"
          ]
        },
        {
          "output_type": "stream",
          "name": "stderr",
          "text": [
            "/usr/local/lib/python3.7/dist-packages/tensorflow/python/util/dispatch.py:1082: UserWarning: \"`sparse_categorical_crossentropy` received `from_logits=True`, but the `output` argument was produced by a sigmoid or softmax activation and thus does not represent logits. Was this intended?\"\n",
            "  return dispatch_target(*args, **kwargs)\n"
          ]
        },
        {
          "output_type": "stream",
          "name": "stdout",
          "text": [
            "64/64 [==============================] - 0s 2ms/step - loss: 1.0987 - accuracy: 0.3145\n",
            "Epoch 2/5\n",
            "64/64 [==============================] - 0s 2ms/step - loss: 1.0986 - accuracy: 0.3301\n",
            "Epoch 3/5\n",
            "64/64 [==============================] - 0s 2ms/step - loss: 1.0986 - accuracy: 0.3477\n",
            "Epoch 4/5\n",
            "64/64 [==============================] - 0s 2ms/step - loss: 1.0986 - accuracy: 0.3477\n",
            "Epoch 5/5\n",
            "64/64 [==============================] - 0s 3ms/step - loss: 1.0986 - accuracy: 0.3477\n",
            "32/32 [==============================] - 0s 2ms/step - loss: 1.0985 - accuracy: 0.3516\n",
            "Epoch 1/5\n"
          ]
        },
        {
          "output_type": "stream",
          "name": "stderr",
          "text": [
            "/usr/local/lib/python3.7/dist-packages/tensorflow/python/util/dispatch.py:1082: UserWarning: \"`sparse_categorical_crossentropy` received `from_logits=True`, but the `output` argument was produced by a sigmoid or softmax activation and thus does not represent logits. Was this intended?\"\n",
            "  return dispatch_target(*args, **kwargs)\n"
          ]
        },
        {
          "output_type": "stream",
          "name": "stdout",
          "text": [
            "64/64 [==============================] - 0s 2ms/step - loss: 1.0987 - accuracy: 0.3359\n",
            "Epoch 2/5\n",
            "64/64 [==============================] - 0s 2ms/step - loss: 1.0985 - accuracy: 0.3535\n",
            "Epoch 3/5\n",
            "64/64 [==============================] - 0s 2ms/step - loss: 1.0985 - accuracy: 0.3535\n",
            "Epoch 4/5\n",
            "64/64 [==============================] - 0s 2ms/step - loss: 1.0984 - accuracy: 0.3535\n",
            "Epoch 5/5\n",
            "64/64 [==============================] - 0s 2ms/step - loss: 1.0984 - accuracy: 0.3535\n",
            "32/32 [==============================] - 0s 2ms/step - loss: 1.0986 - accuracy: 0.3398\n",
            "Epoch 1/5\n"
          ]
        },
        {
          "output_type": "stream",
          "name": "stderr",
          "text": [
            "/usr/local/lib/python3.7/dist-packages/tensorflow/python/util/dispatch.py:1082: UserWarning: \"`sparse_categorical_crossentropy` received `from_logits=True`, but the `output` argument was produced by a sigmoid or softmax activation and thus does not represent logits. Was this intended?\"\n",
            "  return dispatch_target(*args, **kwargs)\n"
          ]
        },
        {
          "output_type": "stream",
          "name": "stdout",
          "text": [
            "64/64 [==============================] - 0s 2ms/step - loss: 1.0986 - accuracy: 0.3105\n",
            "Epoch 2/5\n",
            "64/64 [==============================] - 0s 2ms/step - loss: 1.0986 - accuracy: 0.2930\n",
            "Epoch 3/5\n",
            "64/64 [==============================] - 0s 2ms/step - loss: 1.0986 - accuracy: 0.3438\n",
            "Epoch 4/5\n",
            "64/64 [==============================] - 0s 2ms/step - loss: 1.0986 - accuracy: 0.3418\n",
            "Epoch 5/5\n",
            "64/64 [==============================] - 0s 3ms/step - loss: 1.0986 - accuracy: 0.3359\n",
            "32/32 [==============================] - 0s 2ms/step - loss: 1.0986 - accuracy: 0.3555\n",
            "Epoch 1/5\n"
          ]
        },
        {
          "output_type": "stream",
          "name": "stderr",
          "text": [
            "/usr/local/lib/python3.7/dist-packages/tensorflow/python/util/dispatch.py:1082: UserWarning: \"`sparse_categorical_crossentropy` received `from_logits=True`, but the `output` argument was produced by a sigmoid or softmax activation and thus does not represent logits. Was this intended?\"\n",
            "  return dispatch_target(*args, **kwargs)\n"
          ]
        },
        {
          "output_type": "stream",
          "name": "stdout",
          "text": [
            "64/64 [==============================] - 0s 2ms/step - loss: 1.0986 - accuracy: 0.3105\n",
            "Epoch 2/5\n",
            "64/64 [==============================] - 0s 2ms/step - loss: 1.0986 - accuracy: 0.3477\n",
            "Epoch 3/5\n",
            "64/64 [==============================] - 0s 2ms/step - loss: 1.0986 - accuracy: 0.3477\n",
            "Epoch 4/5\n",
            "64/64 [==============================] - 0s 2ms/step - loss: 1.0986 - accuracy: 0.3477\n",
            "Epoch 5/5\n",
            "64/64 [==============================] - 0s 3ms/step - loss: 1.0986 - accuracy: 0.3477\n",
            "32/32 [==============================] - 0s 2ms/step - loss: 1.0986 - accuracy: 0.3516\n",
            "Epoch 1/5\n"
          ]
        },
        {
          "output_type": "stream",
          "name": "stderr",
          "text": [
            "/usr/local/lib/python3.7/dist-packages/tensorflow/python/util/dispatch.py:1082: UserWarning: \"`sparse_categorical_crossentropy` received `from_logits=True`, but the `output` argument was produced by a sigmoid or softmax activation and thus does not represent logits. Was this intended?\"\n",
            "  return dispatch_target(*args, **kwargs)\n"
          ]
        },
        {
          "output_type": "stream",
          "name": "stdout",
          "text": [
            "64/64 [==============================] - 0s 2ms/step - loss: 1.0986 - accuracy: 0.3242\n",
            "Epoch 2/5\n",
            "64/64 [==============================] - 0s 2ms/step - loss: 1.0986 - accuracy: 0.3535\n",
            "Epoch 3/5\n",
            "64/64 [==============================] - 0s 3ms/step - loss: 1.0986 - accuracy: 0.3535\n",
            "Epoch 4/5\n",
            "64/64 [==============================] - 0s 3ms/step - loss: 1.0986 - accuracy: 0.3535\n",
            "Epoch 5/5\n",
            "64/64 [==============================] - 0s 2ms/step - loss: 1.0986 - accuracy: 0.3535\n",
            "32/32 [==============================] - 0s 2ms/step - loss: 1.0986 - accuracy: 0.3398\n",
            "Epoch 1/5\n"
          ]
        },
        {
          "output_type": "stream",
          "name": "stderr",
          "text": [
            "/usr/local/lib/python3.7/dist-packages/tensorflow/python/util/dispatch.py:1082: UserWarning: \"`sparse_categorical_crossentropy` received `from_logits=True`, but the `output` argument was produced by a sigmoid or softmax activation and thus does not represent logits. Was this intended?\"\n",
            "  return dispatch_target(*args, **kwargs)\n"
          ]
        },
        {
          "output_type": "stream",
          "name": "stdout",
          "text": [
            "64/64 [==============================] - 0s 2ms/step - loss: 1.0990 - accuracy: 0.3262\n",
            "Epoch 2/5\n",
            "64/64 [==============================] - 0s 3ms/step - loss: 1.0986 - accuracy: 0.3164\n",
            "Epoch 3/5\n",
            "64/64 [==============================] - 0s 2ms/step - loss: 1.0982 - accuracy: 0.3340\n",
            "Epoch 4/5\n",
            "64/64 [==============================] - 0s 2ms/step - loss: 1.0980 - accuracy: 0.3477\n",
            "Epoch 5/5\n",
            "64/64 [==============================] - 0s 3ms/step - loss: 1.0979 - accuracy: 0.3203\n",
            "32/32 [==============================] - 0s 2ms/step - loss: 1.0979 - accuracy: 0.3555\n",
            "Epoch 1/5\n"
          ]
        },
        {
          "output_type": "stream",
          "name": "stderr",
          "text": [
            "/usr/local/lib/python3.7/dist-packages/tensorflow/python/util/dispatch.py:1082: UserWarning: \"`sparse_categorical_crossentropy` received `from_logits=True`, but the `output` argument was produced by a sigmoid or softmax activation and thus does not represent logits. Was this intended?\"\n",
            "  return dispatch_target(*args, **kwargs)\n"
          ]
        },
        {
          "output_type": "stream",
          "name": "stdout",
          "text": [
            "64/64 [==============================] - 0s 2ms/step - loss: 1.0992 - accuracy: 0.3086\n",
            "Epoch 2/5\n",
            "64/64 [==============================] - 0s 2ms/step - loss: 1.0987 - accuracy: 0.3477\n",
            "Epoch 3/5\n",
            "64/64 [==============================] - 0s 3ms/step - loss: 1.0985 - accuracy: 0.3477\n",
            "Epoch 4/5\n",
            "64/64 [==============================] - 0s 2ms/step - loss: 1.0986 - accuracy: 0.3477\n",
            "Epoch 5/5\n",
            "64/64 [==============================] - 0s 2ms/step - loss: 1.0986 - accuracy: 0.3477\n",
            "32/32 [==============================] - 0s 2ms/step - loss: 1.0975 - accuracy: 0.3516\n",
            "Epoch 1/5\n"
          ]
        },
        {
          "output_type": "stream",
          "name": "stderr",
          "text": [
            "/usr/local/lib/python3.7/dist-packages/tensorflow/python/util/dispatch.py:1082: UserWarning: \"`sparse_categorical_crossentropy` received `from_logits=True`, but the `output` argument was produced by a sigmoid or softmax activation and thus does not represent logits. Was this intended?\"\n",
            "  return dispatch_target(*args, **kwargs)\n"
          ]
        },
        {
          "output_type": "stream",
          "name": "stdout",
          "text": [
            "64/64 [==============================] - 0s 3ms/step - loss: 1.0984 - accuracy: 0.3281\n",
            "Epoch 2/5\n",
            "64/64 [==============================] - 0s 2ms/step - loss: 1.0978 - accuracy: 0.3535\n",
            "Epoch 3/5\n",
            "64/64 [==============================] - 0s 2ms/step - loss: 1.0972 - accuracy: 0.3535\n",
            "Epoch 4/5\n",
            "64/64 [==============================] - 0s 2ms/step - loss: 1.0976 - accuracy: 0.3535\n",
            "Epoch 5/5\n",
            "64/64 [==============================] - 0s 2ms/step - loss: 1.0971 - accuracy: 0.3535\n",
            "32/32 [==============================] - 0s 2ms/step - loss: 1.0992 - accuracy: 0.3398\n",
            "Epoch 1/5\n"
          ]
        },
        {
          "output_type": "stream",
          "name": "stderr",
          "text": [
            "/usr/local/lib/python3.7/dist-packages/tensorflow/python/util/dispatch.py:1082: UserWarning: \"`sparse_categorical_crossentropy` received `from_logits=True`, but the `output` argument was produced by a sigmoid or softmax activation and thus does not represent logits. Was this intended?\"\n",
            "  return dispatch_target(*args, **kwargs)\n"
          ]
        },
        {
          "output_type": "stream",
          "name": "stdout",
          "text": [
            "64/64 [==============================] - 0s 2ms/step - loss: 1.0987 - accuracy: 0.3125\n",
            "Epoch 2/5\n",
            "64/64 [==============================] - 0s 3ms/step - loss: 1.0984 - accuracy: 0.3457\n",
            "Epoch 3/5\n",
            "64/64 [==============================] - 0s 2ms/step - loss: 1.0983 - accuracy: 0.3457\n",
            "Epoch 4/5\n",
            "64/64 [==============================] - 0s 2ms/step - loss: 1.0981 - accuracy: 0.3223\n",
            "Epoch 5/5\n",
            "64/64 [==============================] - 0s 2ms/step - loss: 1.0980 - accuracy: 0.3301\n",
            "32/32 [==============================] - 0s 2ms/step - loss: 1.0980 - accuracy: 0.3555\n",
            "Epoch 1/5\n"
          ]
        },
        {
          "output_type": "stream",
          "name": "stderr",
          "text": [
            "/usr/local/lib/python3.7/dist-packages/tensorflow/python/util/dispatch.py:1082: UserWarning: \"`sparse_categorical_crossentropy` received `from_logits=True`, but the `output` argument was produced by a sigmoid or softmax activation and thus does not represent logits. Was this intended?\"\n",
            "  return dispatch_target(*args, **kwargs)\n"
          ]
        },
        {
          "output_type": "stream",
          "name": "stdout",
          "text": [
            "64/64 [==============================] - 0s 3ms/step - loss: 1.0986 - accuracy: 0.3164\n",
            "Epoch 2/5\n",
            "64/64 [==============================] - 0s 2ms/step - loss: 1.0985 - accuracy: 0.3418\n",
            "Epoch 3/5\n",
            "64/64 [==============================] - 0s 2ms/step - loss: 1.0985 - accuracy: 0.3477\n",
            "Epoch 4/5\n",
            "64/64 [==============================] - 0s 2ms/step - loss: 1.0984 - accuracy: 0.3477\n",
            "Epoch 5/5\n",
            "64/64 [==============================] - 0s 2ms/step - loss: 1.0984 - accuracy: 0.3477\n",
            "32/32 [==============================] - 0s 2ms/step - loss: 1.0977 - accuracy: 0.3516\n",
            "Epoch 1/5\n"
          ]
        },
        {
          "output_type": "stream",
          "name": "stderr",
          "text": [
            "/usr/local/lib/python3.7/dist-packages/tensorflow/python/util/dispatch.py:1082: UserWarning: \"`sparse_categorical_crossentropy` received `from_logits=True`, but the `output` argument was produced by a sigmoid or softmax activation and thus does not represent logits. Was this intended?\"\n",
            "  return dispatch_target(*args, **kwargs)\n"
          ]
        },
        {
          "output_type": "stream",
          "name": "stdout",
          "text": [
            "64/64 [==============================] - 0s 2ms/step - loss: 1.0988 - accuracy: 0.3008\n",
            "Epoch 2/5\n",
            "64/64 [==============================] - 0s 3ms/step - loss: 1.0984 - accuracy: 0.3535\n",
            "Epoch 3/5\n",
            "64/64 [==============================] - 0s 3ms/step - loss: 1.0981 - accuracy: 0.3535\n",
            "Epoch 4/5\n",
            "64/64 [==============================] - 0s 3ms/step - loss: 1.0979 - accuracy: 0.3535\n",
            "Epoch 5/5\n",
            "64/64 [==============================] - 0s 2ms/step - loss: 1.0976 - accuracy: 0.3535\n",
            "32/32 [==============================] - 0s 2ms/step - loss: 1.0986 - accuracy: 0.3398\n",
            "Epoch 1/5\n"
          ]
        },
        {
          "output_type": "stream",
          "name": "stderr",
          "text": [
            "/usr/local/lib/python3.7/dist-packages/tensorflow/python/util/dispatch.py:1082: UserWarning: \"`sparse_categorical_crossentropy` received `from_logits=True`, but the `output` argument was produced by a sigmoid or softmax activation and thus does not represent logits. Was this intended?\"\n",
            "  return dispatch_target(*args, **kwargs)\n"
          ]
        },
        {
          "output_type": "stream",
          "name": "stdout",
          "text": [
            "64/64 [==============================] - 1s 3ms/step - loss: 1.0988 - accuracy: 0.3398\n",
            "Epoch 2/5\n",
            "64/64 [==============================] - 0s 3ms/step - loss: 1.0984 - accuracy: 0.3438\n",
            "Epoch 3/5\n",
            "64/64 [==============================] - 0s 3ms/step - loss: 1.0981 - accuracy: 0.3359\n",
            "Epoch 4/5\n",
            "64/64 [==============================] - 0s 3ms/step - loss: 1.0981 - accuracy: 0.3418\n",
            "Epoch 5/5\n",
            "64/64 [==============================] - 0s 3ms/step - loss: 1.0979 - accuracy: 0.3184\n",
            "32/32 [==============================] - 0s 2ms/step - loss: 1.0979 - accuracy: 0.3555\n",
            "Epoch 1/5\n"
          ]
        },
        {
          "output_type": "stream",
          "name": "stderr",
          "text": [
            "/usr/local/lib/python3.7/dist-packages/tensorflow/python/util/dispatch.py:1082: UserWarning: \"`sparse_categorical_crossentropy` received `from_logits=True`, but the `output` argument was produced by a sigmoid or softmax activation and thus does not represent logits. Was this intended?\"\n",
            "  return dispatch_target(*args, **kwargs)\n"
          ]
        },
        {
          "output_type": "stream",
          "name": "stdout",
          "text": [
            "64/64 [==============================] - 1s 3ms/step - loss: 1.0989 - accuracy: 0.3418\n",
            "Epoch 2/5\n",
            "64/64 [==============================] - 0s 3ms/step - loss: 1.0988 - accuracy: 0.3477\n",
            "Epoch 3/5\n",
            "64/64 [==============================] - 0s 3ms/step - loss: 1.0987 - accuracy: 0.3477\n",
            "Epoch 4/5\n",
            "64/64 [==============================] - 0s 3ms/step - loss: 1.0986 - accuracy: 0.3477\n",
            "Epoch 5/5\n",
            "64/64 [==============================] - 0s 3ms/step - loss: 1.0987 - accuracy: 0.3477\n",
            "32/32 [==============================] - 0s 2ms/step - loss: 1.0973 - accuracy: 0.3516\n",
            "Epoch 1/5\n"
          ]
        },
        {
          "output_type": "stream",
          "name": "stderr",
          "text": [
            "/usr/local/lib/python3.7/dist-packages/tensorflow/python/util/dispatch.py:1082: UserWarning: \"`sparse_categorical_crossentropy` received `from_logits=True`, but the `output` argument was produced by a sigmoid or softmax activation and thus does not represent logits. Was this intended?\"\n",
            "  return dispatch_target(*args, **kwargs)\n"
          ]
        },
        {
          "output_type": "stream",
          "name": "stdout",
          "text": [
            "64/64 [==============================] - 1s 3ms/step - loss: 1.0986 - accuracy: 0.3398\n",
            "Epoch 2/5\n",
            "64/64 [==============================] - 0s 3ms/step - loss: 1.0981 - accuracy: 0.3535\n",
            "Epoch 3/5\n",
            "64/64 [==============================] - 0s 3ms/step - loss: 1.0977 - accuracy: 0.3535\n",
            "Epoch 4/5\n",
            "64/64 [==============================] - 0s 3ms/step - loss: 1.0974 - accuracy: 0.3535\n",
            "Epoch 5/5\n",
            "64/64 [==============================] - 0s 3ms/step - loss: 1.0972 - accuracy: 0.3535\n",
            "32/32 [==============================] - 0s 2ms/step - loss: 1.0991 - accuracy: 0.3398\n",
            "Epoch 1/5\n"
          ]
        },
        {
          "output_type": "stream",
          "name": "stderr",
          "text": [
            "/usr/local/lib/python3.7/dist-packages/tensorflow/python/util/dispatch.py:1082: UserWarning: \"`sparse_categorical_crossentropy` received `from_logits=True`, but the `output` argument was produced by a sigmoid or softmax activation and thus does not represent logits. Was this intended?\"\n",
            "  return dispatch_target(*args, **kwargs)\n"
          ]
        },
        {
          "output_type": "stream",
          "name": "stdout",
          "text": [
            "64/64 [==============================] - 0s 2ms/step - loss: 1.0988 - accuracy: 0.3320\n",
            "Epoch 2/5\n",
            "64/64 [==============================] - 0s 2ms/step - loss: 1.0985 - accuracy: 0.3398\n",
            "Epoch 3/5\n",
            "64/64 [==============================] - 0s 2ms/step - loss: 1.0983 - accuracy: 0.3242\n",
            "Epoch 4/5\n",
            "64/64 [==============================] - 0s 2ms/step - loss: 1.0982 - accuracy: 0.3066\n",
            "Epoch 5/5\n",
            "64/64 [==============================] - 0s 2ms/step - loss: 1.0981 - accuracy: 0.3066\n",
            "32/32 [==============================] - 0s 3ms/step - loss: 1.0979 - accuracy: 0.3555\n",
            "Epoch 1/5\n"
          ]
        },
        {
          "output_type": "stream",
          "name": "stderr",
          "text": [
            "/usr/local/lib/python3.7/dist-packages/tensorflow/python/util/dispatch.py:1082: UserWarning: \"`sparse_categorical_crossentropy` received `from_logits=True`, but the `output` argument was produced by a sigmoid or softmax activation and thus does not represent logits. Was this intended?\"\n",
            "  return dispatch_target(*args, **kwargs)\n"
          ]
        },
        {
          "output_type": "stream",
          "name": "stdout",
          "text": [
            "64/64 [==============================] - 0s 2ms/step - loss: 1.0988 - accuracy: 0.3223\n",
            "Epoch 2/5\n",
            "64/64 [==============================] - 0s 2ms/step - loss: 1.0987 - accuracy: 0.3477\n",
            "Epoch 3/5\n",
            "64/64 [==============================] - 0s 2ms/step - loss: 1.0987 - accuracy: 0.3398\n",
            "Epoch 4/5\n",
            "64/64 [==============================] - 0s 2ms/step - loss: 1.0986 - accuracy: 0.3477\n",
            "Epoch 5/5\n",
            "64/64 [==============================] - 0s 3ms/step - loss: 1.0985 - accuracy: 0.3477\n",
            "32/32 [==============================] - 0s 2ms/step - loss: 1.0976 - accuracy: 0.3516\n",
            "Epoch 1/5\n"
          ]
        },
        {
          "output_type": "stream",
          "name": "stderr",
          "text": [
            "/usr/local/lib/python3.7/dist-packages/tensorflow/python/util/dispatch.py:1082: UserWarning: \"`sparse_categorical_crossentropy` received `from_logits=True`, but the `output` argument was produced by a sigmoid or softmax activation and thus does not represent logits. Was this intended?\"\n",
            "  return dispatch_target(*args, **kwargs)\n"
          ]
        },
        {
          "output_type": "stream",
          "name": "stdout",
          "text": [
            "64/64 [==============================] - 0s 2ms/step - loss: 1.0986 - accuracy: 0.3496\n",
            "Epoch 2/5\n",
            "64/64 [==============================] - 0s 2ms/step - loss: 1.0981 - accuracy: 0.3203\n",
            "Epoch 3/5\n",
            "64/64 [==============================] - 0s 2ms/step - loss: 1.0977 - accuracy: 0.3535\n",
            "Epoch 4/5\n",
            "64/64 [==============================] - 0s 3ms/step - loss: 1.0976 - accuracy: 0.3535\n",
            "Epoch 5/5\n",
            "64/64 [==============================] - 0s 2ms/step - loss: 1.0973 - accuracy: 0.3535\n",
            "32/32 [==============================] - 0s 2ms/step - loss: 1.0989 - accuracy: 0.3398\n",
            "Epoch 1/5\n"
          ]
        },
        {
          "output_type": "stream",
          "name": "stderr",
          "text": [
            "/usr/local/lib/python3.7/dist-packages/tensorflow/python/util/dispatch.py:1082: UserWarning: \"`sparse_categorical_crossentropy` received `from_logits=True`, but the `output` argument was produced by a sigmoid or softmax activation and thus does not represent logits. Was this intended?\"\n",
            "  return dispatch_target(*args, **kwargs)\n"
          ]
        },
        {
          "output_type": "stream",
          "name": "stdout",
          "text": [
            "64/64 [==============================] - 1s 3ms/step - loss: 1.0989 - accuracy: 0.3066\n",
            "Epoch 2/5\n",
            "64/64 [==============================] - 0s 3ms/step - loss: 1.0984 - accuracy: 0.3340\n",
            "Epoch 3/5\n",
            "64/64 [==============================] - 0s 3ms/step - loss: 1.0982 - accuracy: 0.3438\n",
            "Epoch 4/5\n",
            "64/64 [==============================] - 0s 3ms/step - loss: 1.0981 - accuracy: 0.3105\n",
            "Epoch 5/5\n",
            "64/64 [==============================] - 0s 3ms/step - loss: 1.0980 - accuracy: 0.3262\n",
            "32/32 [==============================] - 0s 2ms/step - loss: 1.0980 - accuracy: 0.3281\n",
            "Epoch 1/5\n"
          ]
        },
        {
          "output_type": "stream",
          "name": "stderr",
          "text": [
            "/usr/local/lib/python3.7/dist-packages/tensorflow/python/util/dispatch.py:1082: UserWarning: \"`sparse_categorical_crossentropy` received `from_logits=True`, but the `output` argument was produced by a sigmoid or softmax activation and thus does not represent logits. Was this intended?\"\n",
            "  return dispatch_target(*args, **kwargs)\n"
          ]
        },
        {
          "output_type": "stream",
          "name": "stdout",
          "text": [
            "64/64 [==============================] - 1s 3ms/step - loss: 1.0990 - accuracy: 0.3262\n",
            "Epoch 2/5\n",
            "64/64 [==============================] - 0s 3ms/step - loss: 1.0987 - accuracy: 0.3477\n",
            "Epoch 3/5\n",
            "64/64 [==============================] - 0s 3ms/step - loss: 1.0988 - accuracy: 0.3477\n",
            "Epoch 4/5\n",
            "64/64 [==============================] - 0s 3ms/step - loss: 1.0986 - accuracy: 0.3477\n",
            "Epoch 5/5\n",
            "64/64 [==============================] - 0s 3ms/step - loss: 1.0986 - accuracy: 0.3477\n",
            "32/32 [==============================] - 0s 2ms/step - loss: 1.0973 - accuracy: 0.3516\n",
            "Epoch 1/5\n"
          ]
        },
        {
          "output_type": "stream",
          "name": "stderr",
          "text": [
            "/usr/local/lib/python3.7/dist-packages/tensorflow/python/util/dispatch.py:1082: UserWarning: \"`sparse_categorical_crossentropy` received `from_logits=True`, but the `output` argument was produced by a sigmoid or softmax activation and thus does not represent logits. Was this intended?\"\n",
            "  return dispatch_target(*args, **kwargs)\n"
          ]
        },
        {
          "output_type": "stream",
          "name": "stdout",
          "text": [
            "64/64 [==============================] - 1s 3ms/step - loss: 1.0985 - accuracy: 0.3145\n",
            "Epoch 2/5\n",
            "64/64 [==============================] - 0s 2ms/step - loss: 1.0979 - accuracy: 0.3359\n",
            "Epoch 3/5\n",
            "64/64 [==============================] - 0s 3ms/step - loss: 1.0977 - accuracy: 0.3398\n",
            "Epoch 4/5\n",
            "64/64 [==============================] - 0s 3ms/step - loss: 1.0975 - accuracy: 0.3398\n",
            "Epoch 5/5\n",
            "64/64 [==============================] - 0s 2ms/step - loss: 1.0973 - accuracy: 0.3438\n",
            "32/32 [==============================] - 0s 2ms/step - loss: 1.0990 - accuracy: 0.3398\n",
            "Epoch 1/5\n"
          ]
        },
        {
          "output_type": "stream",
          "name": "stderr",
          "text": [
            "/usr/local/lib/python3.7/dist-packages/tensorflow/python/util/dispatch.py:1082: UserWarning: \"`sparse_categorical_crossentropy` received `from_logits=True`, but the `output` argument was produced by a sigmoid or softmax activation and thus does not represent logits. Was this intended?\"\n",
            "  return dispatch_target(*args, **kwargs)\n"
          ]
        },
        {
          "output_type": "stream",
          "name": "stdout",
          "text": [
            "64/64 [==============================] - 0s 2ms/step - loss: 1.0986 - accuracy: 0.3164\n",
            "Epoch 2/5\n",
            "64/64 [==============================] - 0s 2ms/step - loss: 1.0986 - accuracy: 0.3086\n",
            "Epoch 3/5\n",
            "64/64 [==============================] - 0s 2ms/step - loss: 1.0985 - accuracy: 0.3457\n",
            "Epoch 4/5\n",
            "64/64 [==============================] - 0s 2ms/step - loss: 1.0985 - accuracy: 0.3262\n",
            "Epoch 5/5\n",
            "64/64 [==============================] - 0s 2ms/step - loss: 1.0985 - accuracy: 0.3457\n",
            "32/32 [==============================] - 0s 2ms/step - loss: 1.0985 - accuracy: 0.3555\n",
            "Epoch 1/5\n"
          ]
        },
        {
          "output_type": "stream",
          "name": "stderr",
          "text": [
            "/usr/local/lib/python3.7/dist-packages/tensorflow/python/util/dispatch.py:1082: UserWarning: \"`sparse_categorical_crossentropy` received `from_logits=True`, but the `output` argument was produced by a sigmoid or softmax activation and thus does not represent logits. Was this intended?\"\n",
            "  return dispatch_target(*args, **kwargs)\n"
          ]
        },
        {
          "output_type": "stream",
          "name": "stdout",
          "text": [
            "64/64 [==============================] - 0s 2ms/step - loss: 1.0987 - accuracy: 0.3281\n",
            "Epoch 2/5\n",
            "64/64 [==============================] - 0s 2ms/step - loss: 1.0986 - accuracy: 0.3477\n",
            "Epoch 3/5\n",
            "64/64 [==============================] - 0s 2ms/step - loss: 1.0986 - accuracy: 0.3477\n",
            "Epoch 4/5\n",
            "64/64 [==============================] - 0s 2ms/step - loss: 1.0986 - accuracy: 0.3477\n",
            "Epoch 5/5\n",
            "64/64 [==============================] - 0s 3ms/step - loss: 1.0986 - accuracy: 0.3477\n",
            "32/32 [==============================] - 0s 2ms/step - loss: 1.0985 - accuracy: 0.3516\n",
            "Epoch 1/5\n"
          ]
        },
        {
          "output_type": "stream",
          "name": "stderr",
          "text": [
            "/usr/local/lib/python3.7/dist-packages/tensorflow/python/util/dispatch.py:1082: UserWarning: \"`sparse_categorical_crossentropy` received `from_logits=True`, but the `output` argument was produced by a sigmoid or softmax activation and thus does not represent logits. Was this intended?\"\n",
            "  return dispatch_target(*args, **kwargs)\n"
          ]
        },
        {
          "output_type": "stream",
          "name": "stdout",
          "text": [
            "64/64 [==============================] - 0s 2ms/step - loss: 1.0986 - accuracy: 0.3320\n",
            "Epoch 2/5\n",
            "64/64 [==============================] - 0s 2ms/step - loss: 1.0985 - accuracy: 0.3535\n",
            "Epoch 3/5\n",
            "64/64 [==============================] - 0s 2ms/step - loss: 1.0984 - accuracy: 0.3535\n",
            "Epoch 4/5\n",
            "64/64 [==============================] - 0s 3ms/step - loss: 1.0984 - accuracy: 0.3535\n",
            "Epoch 5/5\n",
            "64/64 [==============================] - 0s 2ms/step - loss: 1.0984 - accuracy: 0.3535\n",
            "32/32 [==============================] - 0s 2ms/step - loss: 1.0986 - accuracy: 0.3398\n",
            "Epoch 1/5\n"
          ]
        },
        {
          "output_type": "stream",
          "name": "stderr",
          "text": [
            "/usr/local/lib/python3.7/dist-packages/tensorflow/python/util/dispatch.py:1082: UserWarning: \"`sparse_categorical_crossentropy` received `from_logits=True`, but the `output` argument was produced by a sigmoid or softmax activation and thus does not represent logits. Was this intended?\"\n",
            "  return dispatch_target(*args, **kwargs)\n"
          ]
        },
        {
          "output_type": "stream",
          "name": "stdout",
          "text": [
            "64/64 [==============================] - 0s 2ms/step - loss: 1.0986 - accuracy: 0.3281\n",
            "Epoch 2/5\n",
            "64/64 [==============================] - 0s 3ms/step - loss: 1.0986 - accuracy: 0.3359\n",
            "Epoch 3/5\n",
            "64/64 [==============================] - 0s 2ms/step - loss: 1.0986 - accuracy: 0.3281\n",
            "Epoch 4/5\n",
            "64/64 [==============================] - 0s 2ms/step - loss: 1.0986 - accuracy: 0.3438\n",
            "Epoch 5/5\n",
            "64/64 [==============================] - 0s 3ms/step - loss: 1.0986 - accuracy: 0.3320\n",
            "32/32 [==============================] - 0s 2ms/step - loss: 1.0986 - accuracy: 0.3281\n",
            "Epoch 1/5\n"
          ]
        },
        {
          "output_type": "stream",
          "name": "stderr",
          "text": [
            "/usr/local/lib/python3.7/dist-packages/tensorflow/python/util/dispatch.py:1082: UserWarning: \"`sparse_categorical_crossentropy` received `from_logits=True`, but the `output` argument was produced by a sigmoid or softmax activation and thus does not represent logits. Was this intended?\"\n",
            "  return dispatch_target(*args, **kwargs)\n"
          ]
        },
        {
          "output_type": "stream",
          "name": "stdout",
          "text": [
            "64/64 [==============================] - 0s 2ms/step - loss: 1.0986 - accuracy: 0.3359\n",
            "Epoch 2/5\n",
            "64/64 [==============================] - 0s 2ms/step - loss: 1.0986 - accuracy: 0.3379\n",
            "Epoch 3/5\n",
            "64/64 [==============================] - 0s 3ms/step - loss: 1.0986 - accuracy: 0.3477\n",
            "Epoch 4/5\n",
            "64/64 [==============================] - 0s 2ms/step - loss: 1.0986 - accuracy: 0.3477\n",
            "Epoch 5/5\n",
            "64/64 [==============================] - 0s 3ms/step - loss: 1.0986 - accuracy: 0.3477\n",
            "32/32 [==============================] - 0s 2ms/step - loss: 1.0986 - accuracy: 0.3516\n",
            "Epoch 1/5\n"
          ]
        },
        {
          "output_type": "stream",
          "name": "stderr",
          "text": [
            "/usr/local/lib/python3.7/dist-packages/tensorflow/python/util/dispatch.py:1082: UserWarning: \"`sparse_categorical_crossentropy` received `from_logits=True`, but the `output` argument was produced by a sigmoid or softmax activation and thus does not represent logits. Was this intended?\"\n",
            "  return dispatch_target(*args, **kwargs)\n"
          ]
        },
        {
          "output_type": "stream",
          "name": "stdout",
          "text": [
            "64/64 [==============================] - 0s 2ms/step - loss: 1.0986 - accuracy: 0.3066\n",
            "Epoch 2/5\n",
            "64/64 [==============================] - 0s 2ms/step - loss: 1.0986 - accuracy: 0.3496\n",
            "Epoch 3/5\n",
            "64/64 [==============================] - 0s 2ms/step - loss: 1.0986 - accuracy: 0.3535\n",
            "Epoch 4/5\n",
            "64/64 [==============================] - 0s 2ms/step - loss: 1.0986 - accuracy: 0.3535\n",
            "Epoch 5/5\n",
            "64/64 [==============================] - 0s 3ms/step - loss: 1.0986 - accuracy: 0.3535\n",
            "32/32 [==============================] - 0s 2ms/step - loss: 1.0986 - accuracy: 0.3398\n",
            "Epoch 1/5\n"
          ]
        },
        {
          "output_type": "stream",
          "name": "stderr",
          "text": [
            "/usr/local/lib/python3.7/dist-packages/tensorflow/python/util/dispatch.py:1082: UserWarning: \"`sparse_categorical_crossentropy` received `from_logits=True`, but the `output` argument was produced by a sigmoid or softmax activation and thus does not represent logits. Was this intended?\"\n",
            "  return dispatch_target(*args, **kwargs)\n"
          ]
        },
        {
          "output_type": "stream",
          "name": "stdout",
          "text": [
            "64/64 [==============================] - 0s 2ms/step - loss: 1.0994 - accuracy: 0.2812\n",
            "Epoch 2/5\n",
            "64/64 [==============================] - 0s 2ms/step - loss: 1.0986 - accuracy: 0.3242\n",
            "Epoch 3/5\n",
            "64/64 [==============================] - 0s 2ms/step - loss: 1.0982 - accuracy: 0.3281\n",
            "Epoch 4/5\n",
            "64/64 [==============================] - 0s 2ms/step - loss: 1.0979 - accuracy: 0.3320\n",
            "Epoch 5/5\n",
            "64/64 [==============================] - 0s 3ms/step - loss: 1.0978 - accuracy: 0.3398\n",
            "32/32 [==============================] - 0s 3ms/step - loss: 1.0980 - accuracy: 0.3281\n",
            "Epoch 1/5\n"
          ]
        },
        {
          "output_type": "stream",
          "name": "stderr",
          "text": [
            "/usr/local/lib/python3.7/dist-packages/tensorflow/python/util/dispatch.py:1082: UserWarning: \"`sparse_categorical_crossentropy` received `from_logits=True`, but the `output` argument was produced by a sigmoid or softmax activation and thus does not represent logits. Was this intended?\"\n",
            "  return dispatch_target(*args, **kwargs)\n"
          ]
        },
        {
          "output_type": "stream",
          "name": "stdout",
          "text": [
            "64/64 [==============================] - 0s 3ms/step - loss: 1.0990 - accuracy: 0.3281\n",
            "Epoch 2/5\n",
            "64/64 [==============================] - 0s 2ms/step - loss: 1.0989 - accuracy: 0.3457\n",
            "Epoch 3/5\n",
            "64/64 [==============================] - 0s 2ms/step - loss: 1.0987 - accuracy: 0.3301\n",
            "Epoch 4/5\n",
            "64/64 [==============================] - 0s 3ms/step - loss: 1.0986 - accuracy: 0.3477\n",
            "Epoch 5/5\n",
            "64/64 [==============================] - 0s 2ms/step - loss: 1.0988 - accuracy: 0.3477\n",
            "32/32 [==============================] - 0s 2ms/step - loss: 1.0975 - accuracy: 0.3516\n",
            "Epoch 1/5\n"
          ]
        },
        {
          "output_type": "stream",
          "name": "stderr",
          "text": [
            "/usr/local/lib/python3.7/dist-packages/tensorflow/python/util/dispatch.py:1082: UserWarning: \"`sparse_categorical_crossentropy` received `from_logits=True`, but the `output` argument was produced by a sigmoid or softmax activation and thus does not represent logits. Was this intended?\"\n",
            "  return dispatch_target(*args, **kwargs)\n"
          ]
        },
        {
          "output_type": "stream",
          "name": "stdout",
          "text": [
            "64/64 [==============================] - 1s 3ms/step - loss: 1.0988 - accuracy: 0.3477\n",
            "Epoch 2/5\n",
            "64/64 [==============================] - 0s 2ms/step - loss: 1.0980 - accuracy: 0.3535\n",
            "Epoch 3/5\n",
            "64/64 [==============================] - 0s 3ms/step - loss: 1.0974 - accuracy: 0.3535\n",
            "Epoch 4/5\n",
            "64/64 [==============================] - 0s 3ms/step - loss: 1.0974 - accuracy: 0.3535\n",
            "Epoch 5/5\n",
            "64/64 [==============================] - 0s 2ms/step - loss: 1.0975 - accuracy: 0.3535\n",
            "32/32 [==============================] - 0s 2ms/step - loss: 1.0992 - accuracy: 0.3398\n",
            "Epoch 1/5\n"
          ]
        },
        {
          "output_type": "stream",
          "name": "stderr",
          "text": [
            "/usr/local/lib/python3.7/dist-packages/tensorflow/python/util/dispatch.py:1082: UserWarning: \"`sparse_categorical_crossentropy` received `from_logits=True`, but the `output` argument was produced by a sigmoid or softmax activation and thus does not represent logits. Was this intended?\"\n",
            "  return dispatch_target(*args, **kwargs)\n"
          ]
        },
        {
          "output_type": "stream",
          "name": "stdout",
          "text": [
            "64/64 [==============================] - 0s 3ms/step - loss: 1.0986 - accuracy: 0.3398\n",
            "Epoch 2/5\n",
            "64/64 [==============================] - 0s 2ms/step - loss: 1.0983 - accuracy: 0.3438\n",
            "Epoch 3/5\n",
            "64/64 [==============================] - 0s 3ms/step - loss: 1.0982 - accuracy: 0.3438\n",
            "Epoch 4/5\n",
            "64/64 [==============================] - 0s 2ms/step - loss: 1.0981 - accuracy: 0.3438\n",
            "Epoch 5/5\n",
            "64/64 [==============================] - 0s 3ms/step - loss: 1.0980 - accuracy: 0.3223\n",
            "32/32 [==============================] - 0s 3ms/step - loss: 1.0980 - accuracy: 0.3555\n",
            "Epoch 1/5\n"
          ]
        },
        {
          "output_type": "stream",
          "name": "stderr",
          "text": [
            "/usr/local/lib/python3.7/dist-packages/tensorflow/python/util/dispatch.py:1082: UserWarning: \"`sparse_categorical_crossentropy` received `from_logits=True`, but the `output` argument was produced by a sigmoid or softmax activation and thus does not represent logits. Was this intended?\"\n",
            "  return dispatch_target(*args, **kwargs)\n"
          ]
        },
        {
          "output_type": "stream",
          "name": "stdout",
          "text": [
            "64/64 [==============================] - 0s 2ms/step - loss: 1.0988 - accuracy: 0.3047\n",
            "Epoch 2/5\n",
            "64/64 [==============================] - 0s 2ms/step - loss: 1.0986 - accuracy: 0.3164\n",
            "Epoch 3/5\n",
            "64/64 [==============================] - 0s 2ms/step - loss: 1.0985 - accuracy: 0.3477\n",
            "Epoch 4/5\n",
            "64/64 [==============================] - 0s 2ms/step - loss: 1.0985 - accuracy: 0.3477\n",
            "Epoch 5/5\n",
            "64/64 [==============================] - 0s 3ms/step - loss: 1.0984 - accuracy: 0.3477\n",
            "32/32 [==============================] - 0s 2ms/step - loss: 1.0977 - accuracy: 0.3516\n",
            "Epoch 1/5\n"
          ]
        },
        {
          "output_type": "stream",
          "name": "stderr",
          "text": [
            "/usr/local/lib/python3.7/dist-packages/tensorflow/python/util/dispatch.py:1082: UserWarning: \"`sparse_categorical_crossentropy` received `from_logits=True`, but the `output` argument was produced by a sigmoid or softmax activation and thus does not represent logits. Was this intended?\"\n",
            "  return dispatch_target(*args, **kwargs)\n"
          ]
        },
        {
          "output_type": "stream",
          "name": "stdout",
          "text": [
            "64/64 [==============================] - 0s 2ms/step - loss: 1.0985 - accuracy: 0.3398\n",
            "Epoch 2/5\n",
            "64/64 [==============================] - 0s 2ms/step - loss: 1.0981 - accuracy: 0.3535\n",
            "Epoch 3/5\n",
            "64/64 [==============================] - 0s 2ms/step - loss: 1.0979 - accuracy: 0.3535\n",
            "Epoch 4/5\n",
            "64/64 [==============================] - 0s 2ms/step - loss: 1.0978 - accuracy: 0.3535\n",
            "Epoch 5/5\n",
            "64/64 [==============================] - 0s 2ms/step - loss: 1.0975 - accuracy: 0.3535\n",
            "32/32 [==============================] - 0s 2ms/step - loss: 1.0986 - accuracy: 0.3398\n",
            "Epoch 1/5\n"
          ]
        },
        {
          "output_type": "stream",
          "name": "stderr",
          "text": [
            "/usr/local/lib/python3.7/dist-packages/tensorflow/python/util/dispatch.py:1082: UserWarning: \"`sparse_categorical_crossentropy` received `from_logits=True`, but the `output` argument was produced by a sigmoid or softmax activation and thus does not represent logits. Was this intended?\"\n",
            "  return dispatch_target(*args, **kwargs)\n"
          ]
        },
        {
          "output_type": "stream",
          "name": "stdout",
          "text": [
            "64/64 [==============================] - 1s 3ms/step - loss: 1.0988 - accuracy: 0.3457\n",
            "Epoch 2/5\n",
            "64/64 [==============================] - 0s 3ms/step - loss: 1.0984 - accuracy: 0.3301\n",
            "Epoch 3/5\n",
            "64/64 [==============================] - 0s 3ms/step - loss: 1.0983 - accuracy: 0.2988\n",
            "Epoch 4/5\n",
            "64/64 [==============================] - 0s 3ms/step - loss: 1.0980 - accuracy: 0.3457\n",
            "Epoch 5/5\n",
            "64/64 [==============================] - 0s 3ms/step - loss: 1.0980 - accuracy: 0.2988\n",
            "32/32 [==============================] - 0s 2ms/step - loss: 1.0979 - accuracy: 0.3555\n",
            "Epoch 1/5\n"
          ]
        },
        {
          "output_type": "stream",
          "name": "stderr",
          "text": [
            "/usr/local/lib/python3.7/dist-packages/tensorflow/python/util/dispatch.py:1082: UserWarning: \"`sparse_categorical_crossentropy` received `from_logits=True`, but the `output` argument was produced by a sigmoid or softmax activation and thus does not represent logits. Was this intended?\"\n",
            "  return dispatch_target(*args, **kwargs)\n"
          ]
        },
        {
          "output_type": "stream",
          "name": "stdout",
          "text": [
            "64/64 [==============================] - 1s 3ms/step - loss: 1.0990 - accuracy: 0.3477\n",
            "Epoch 2/5\n",
            "64/64 [==============================] - 0s 3ms/step - loss: 1.0988 - accuracy: 0.3066\n",
            "Epoch 3/5\n",
            "64/64 [==============================] - 0s 3ms/step - loss: 1.0986 - accuracy: 0.3477\n",
            "Epoch 4/5\n",
            "64/64 [==============================] - 0s 3ms/step - loss: 1.0986 - accuracy: 0.3477\n",
            "Epoch 5/5\n",
            "64/64 [==============================] - 0s 3ms/step - loss: 1.0986 - accuracy: 0.3477\n",
            "32/32 [==============================] - 0s 2ms/step - loss: 1.0974 - accuracy: 0.3516\n",
            "Epoch 1/5\n"
          ]
        },
        {
          "output_type": "stream",
          "name": "stderr",
          "text": [
            "/usr/local/lib/python3.7/dist-packages/tensorflow/python/util/dispatch.py:1082: UserWarning: \"`sparse_categorical_crossentropy` received `from_logits=True`, but the `output` argument was produced by a sigmoid or softmax activation and thus does not represent logits. Was this intended?\"\n",
            "  return dispatch_target(*args, **kwargs)\n"
          ]
        },
        {
          "output_type": "stream",
          "name": "stdout",
          "text": [
            "64/64 [==============================] - 1s 3ms/step - loss: 1.0985 - accuracy: 0.3320\n",
            "Epoch 2/5\n",
            "64/64 [==============================] - 0s 3ms/step - loss: 1.0979 - accuracy: 0.3535\n",
            "Epoch 3/5\n",
            "64/64 [==============================] - 0s 3ms/step - loss: 1.0976 - accuracy: 0.3535\n",
            "Epoch 4/5\n",
            "64/64 [==============================] - 0s 3ms/step - loss: 1.0974 - accuracy: 0.3477\n",
            "Epoch 5/5\n",
            "64/64 [==============================] - 0s 3ms/step - loss: 1.0974 - accuracy: 0.3516\n",
            "32/32 [==============================] - 0s 2ms/step - loss: 1.0990 - accuracy: 0.3398\n",
            "Epoch 1/5\n"
          ]
        },
        {
          "output_type": "stream",
          "name": "stderr",
          "text": [
            "/usr/local/lib/python3.7/dist-packages/tensorflow/python/util/dispatch.py:1082: UserWarning: \"`sparse_categorical_crossentropy` received `from_logits=True`, but the `output` argument was produced by a sigmoid or softmax activation and thus does not represent logits. Was this intended?\"\n",
            "  return dispatch_target(*args, **kwargs)\n"
          ]
        },
        {
          "output_type": "stream",
          "name": "stdout",
          "text": [
            "64/64 [==============================] - 0s 3ms/step - loss: 1.0988 - accuracy: 0.3301\n",
            "Epoch 2/5\n",
            "64/64 [==============================] - 0s 2ms/step - loss: 1.0984 - accuracy: 0.3262\n",
            "Epoch 3/5\n",
            "64/64 [==============================] - 0s 2ms/step - loss: 1.0982 - accuracy: 0.3262\n",
            "Epoch 4/5\n",
            "64/64 [==============================] - 0s 2ms/step - loss: 1.0981 - accuracy: 0.3301\n",
            "Epoch 5/5\n",
            "64/64 [==============================] - 0s 2ms/step - loss: 1.0980 - accuracy: 0.3242\n",
            "32/32 [==============================] - 0s 3ms/step - loss: 1.0979 - accuracy: 0.3555\n",
            "Epoch 1/5\n"
          ]
        },
        {
          "output_type": "stream",
          "name": "stderr",
          "text": [
            "/usr/local/lib/python3.7/dist-packages/tensorflow/python/util/dispatch.py:1082: UserWarning: \"`sparse_categorical_crossentropy` received `from_logits=True`, but the `output` argument was produced by a sigmoid or softmax activation and thus does not represent logits. Was this intended?\"\n",
            "  return dispatch_target(*args, **kwargs)\n"
          ]
        },
        {
          "output_type": "stream",
          "name": "stdout",
          "text": [
            "64/64 [==============================] - 0s 2ms/step - loss: 1.0989 - accuracy: 0.3125\n",
            "Epoch 2/5\n",
            "64/64 [==============================] - 0s 2ms/step - loss: 1.0988 - accuracy: 0.3477\n",
            "Epoch 3/5\n",
            "64/64 [==============================] - 0s 2ms/step - loss: 1.0986 - accuracy: 0.3477\n",
            "Epoch 4/5\n",
            "64/64 [==============================] - 0s 2ms/step - loss: 1.0986 - accuracy: 0.3477\n",
            "Epoch 5/5\n",
            "64/64 [==============================] - 0s 2ms/step - loss: 1.0985 - accuracy: 0.3477\n",
            "32/32 [==============================] - 0s 2ms/step - loss: 1.0976 - accuracy: 0.3516\n",
            "Epoch 1/5\n"
          ]
        },
        {
          "output_type": "stream",
          "name": "stderr",
          "text": [
            "/usr/local/lib/python3.7/dist-packages/tensorflow/python/util/dispatch.py:1082: UserWarning: \"`sparse_categorical_crossentropy` received `from_logits=True`, but the `output` argument was produced by a sigmoid or softmax activation and thus does not represent logits. Was this intended?\"\n",
            "  return dispatch_target(*args, **kwargs)\n"
          ]
        },
        {
          "output_type": "stream",
          "name": "stdout",
          "text": [
            "64/64 [==============================] - 0s 2ms/step - loss: 1.0986 - accuracy: 0.3418\n",
            "Epoch 2/5\n",
            "64/64 [==============================] - 0s 2ms/step - loss: 1.0982 - accuracy: 0.3398\n",
            "Epoch 3/5\n",
            "64/64 [==============================] - 0s 2ms/step - loss: 1.0977 - accuracy: 0.3164\n",
            "Epoch 4/5\n",
            "64/64 [==============================] - 0s 2ms/step - loss: 1.0975 - accuracy: 0.3535\n",
            "Epoch 5/5\n",
            "64/64 [==============================] - 0s 2ms/step - loss: 1.0974 - accuracy: 0.3535\n",
            "32/32 [==============================] - 0s 2ms/step - loss: 1.0989 - accuracy: 0.3398\n",
            "Epoch 1/5\n"
          ]
        },
        {
          "output_type": "stream",
          "name": "stderr",
          "text": [
            "/usr/local/lib/python3.7/dist-packages/tensorflow/python/util/dispatch.py:1082: UserWarning: \"`sparse_categorical_crossentropy` received `from_logits=True`, but the `output` argument was produced by a sigmoid or softmax activation and thus does not represent logits. Was this intended?\"\n",
            "  return dispatch_target(*args, **kwargs)\n"
          ]
        },
        {
          "output_type": "stream",
          "name": "stdout",
          "text": [
            "64/64 [==============================] - 1s 3ms/step - loss: 1.0989 - accuracy: 0.3047\n",
            "Epoch 2/5\n",
            "64/64 [==============================] - 0s 3ms/step - loss: 1.0985 - accuracy: 0.3281\n",
            "Epoch 3/5\n",
            "64/64 [==============================] - 0s 3ms/step - loss: 1.0983 - accuracy: 0.3281\n",
            "Epoch 4/5\n",
            "64/64 [==============================] - 0s 3ms/step - loss: 1.0981 - accuracy: 0.3398\n",
            "Epoch 5/5\n",
            "64/64 [==============================] - 0s 3ms/step - loss: 1.0981 - accuracy: 0.3027\n",
            "32/32 [==============================] - 0s 2ms/step - loss: 1.0979 - accuracy: 0.3555\n",
            "Epoch 1/5\n"
          ]
        },
        {
          "output_type": "stream",
          "name": "stderr",
          "text": [
            "/usr/local/lib/python3.7/dist-packages/tensorflow/python/util/dispatch.py:1082: UserWarning: \"`sparse_categorical_crossentropy` received `from_logits=True`, but the `output` argument was produced by a sigmoid or softmax activation and thus does not represent logits. Was this intended?\"\n",
            "  return dispatch_target(*args, **kwargs)\n"
          ]
        },
        {
          "output_type": "stream",
          "name": "stdout",
          "text": [
            "64/64 [==============================] - 1s 3ms/step - loss: 1.0989 - accuracy: 0.3320\n",
            "Epoch 2/5\n",
            "64/64 [==============================] - 0s 3ms/step - loss: 1.0987 - accuracy: 0.3477\n",
            "Epoch 3/5\n",
            "64/64 [==============================] - 0s 3ms/step - loss: 1.0985 - accuracy: 0.3477\n",
            "Epoch 4/5\n",
            "64/64 [==============================] - 0s 3ms/step - loss: 1.0985 - accuracy: 0.3477\n",
            "Epoch 5/5\n",
            "64/64 [==============================] - 0s 3ms/step - loss: 1.0987 - accuracy: 0.3477\n",
            "32/32 [==============================] - 0s 2ms/step - loss: 1.0972 - accuracy: 0.3516\n",
            "Epoch 1/5\n"
          ]
        },
        {
          "output_type": "stream",
          "name": "stderr",
          "text": [
            "/usr/local/lib/python3.7/dist-packages/tensorflow/python/util/dispatch.py:1082: UserWarning: \"`sparse_categorical_crossentropy` received `from_logits=True`, but the `output` argument was produced by a sigmoid or softmax activation and thus does not represent logits. Was this intended?\"\n",
            "  return dispatch_target(*args, **kwargs)\n"
          ]
        },
        {
          "output_type": "stream",
          "name": "stdout",
          "text": [
            "64/64 [==============================] - 1s 3ms/step - loss: 1.0988 - accuracy: 0.3379\n",
            "Epoch 2/5\n",
            "64/64 [==============================] - 0s 3ms/step - loss: 1.0981 - accuracy: 0.3301\n",
            "Epoch 3/5\n",
            "64/64 [==============================] - 0s 3ms/step - loss: 1.0976 - accuracy: 0.3320\n",
            "Epoch 4/5\n",
            "64/64 [==============================] - 0s 3ms/step - loss: 1.0975 - accuracy: 0.3535\n",
            "Epoch 5/5\n",
            "64/64 [==============================] - 0s 3ms/step - loss: 1.0973 - accuracy: 0.3535\n",
            "32/32 [==============================] - 0s 2ms/step - loss: 1.0990 - accuracy: 0.3398\n",
            "Epoch 1/5\n"
          ]
        },
        {
          "output_type": "stream",
          "name": "stderr",
          "text": [
            "/usr/local/lib/python3.7/dist-packages/tensorflow/python/util/dispatch.py:1082: UserWarning: \"`sparse_categorical_crossentropy` received `from_logits=True`, but the `output` argument was produced by a sigmoid or softmax activation and thus does not represent logits. Was this intended?\"\n",
            "  return dispatch_target(*args, **kwargs)\n"
          ]
        },
        {
          "output_type": "stream",
          "name": "stdout",
          "text": [
            "64/64 [==============================] - 0s 2ms/step - loss: 1.0987 - accuracy: 0.3203\n",
            "Epoch 2/5\n",
            "64/64 [==============================] - 0s 3ms/step - loss: 1.0986 - accuracy: 0.3438\n",
            "Epoch 3/5\n",
            "64/64 [==============================] - 0s 3ms/step - loss: 1.0986 - accuracy: 0.3438\n",
            "Epoch 4/5\n",
            "64/64 [==============================] - 0s 3ms/step - loss: 1.0985 - accuracy: 0.3379\n",
            "Epoch 5/5\n",
            "64/64 [==============================] - 0s 3ms/step - loss: 1.0985 - accuracy: 0.3438\n",
            "32/32 [==============================] - 0s 4ms/step - loss: 1.0985 - accuracy: 0.3281\n",
            "Epoch 1/5\n"
          ]
        },
        {
          "output_type": "stream",
          "name": "stderr",
          "text": [
            "/usr/local/lib/python3.7/dist-packages/tensorflow/python/util/dispatch.py:1082: UserWarning: \"`sparse_categorical_crossentropy` received `from_logits=True`, but the `output` argument was produced by a sigmoid or softmax activation and thus does not represent logits. Was this intended?\"\n",
            "  return dispatch_target(*args, **kwargs)\n"
          ]
        },
        {
          "output_type": "stream",
          "name": "stdout",
          "text": [
            "64/64 [==============================] - 1s 4ms/step - loss: 1.0987 - accuracy: 0.3281\n",
            "Epoch 2/5\n",
            "64/64 [==============================] - 0s 3ms/step - loss: 1.0986 - accuracy: 0.3242\n",
            "Epoch 3/5\n",
            "64/64 [==============================] - 0s 3ms/step - loss: 1.0986 - accuracy: 0.3281\n",
            "Epoch 4/5\n",
            "64/64 [==============================] - 0s 3ms/step - loss: 1.0986 - accuracy: 0.3281\n",
            "Epoch 5/5\n",
            "64/64 [==============================] - 0s 3ms/step - loss: 1.0986 - accuracy: 0.3477\n",
            "32/32 [==============================] - 0s 3ms/step - loss: 1.0985 - accuracy: 0.3516\n",
            "Epoch 1/5\n"
          ]
        },
        {
          "output_type": "stream",
          "name": "stderr",
          "text": [
            "/usr/local/lib/python3.7/dist-packages/tensorflow/python/util/dispatch.py:1082: UserWarning: \"`sparse_categorical_crossentropy` received `from_logits=True`, but the `output` argument was produced by a sigmoid or softmax activation and thus does not represent logits. Was this intended?\"\n",
            "  return dispatch_target(*args, **kwargs)\n"
          ]
        },
        {
          "output_type": "stream",
          "name": "stdout",
          "text": [
            "64/64 [==============================] - 0s 2ms/step - loss: 1.0986 - accuracy: 0.3125\n",
            "Epoch 2/5\n",
            "64/64 [==============================] - 0s 2ms/step - loss: 1.0985 - accuracy: 0.3262\n",
            "Epoch 3/5\n",
            "64/64 [==============================] - 0s 2ms/step - loss: 1.0985 - accuracy: 0.3418\n",
            "Epoch 4/5\n",
            "64/64 [==============================] - 0s 2ms/step - loss: 1.0984 - accuracy: 0.3535\n",
            "Epoch 5/5\n",
            "64/64 [==============================] - 0s 2ms/step - loss: 1.0984 - accuracy: 0.3535\n",
            "32/32 [==============================] - 0s 2ms/step - loss: 1.0986 - accuracy: 0.3398\n",
            "Epoch 1/5\n"
          ]
        },
        {
          "output_type": "stream",
          "name": "stderr",
          "text": [
            "/usr/local/lib/python3.7/dist-packages/tensorflow/python/util/dispatch.py:1082: UserWarning: \"`sparse_categorical_crossentropy` received `from_logits=True`, but the `output` argument was produced by a sigmoid or softmax activation and thus does not represent logits. Was this intended?\"\n",
            "  return dispatch_target(*args, **kwargs)\n"
          ]
        },
        {
          "output_type": "stream",
          "name": "stdout",
          "text": [
            "64/64 [==============================] - 0s 2ms/step - loss: 1.0986 - accuracy: 0.3320\n",
            "Epoch 2/5\n",
            "64/64 [==============================] - 0s 2ms/step - loss: 1.0986 - accuracy: 0.3457\n",
            "Epoch 3/5\n",
            "64/64 [==============================] - 0s 2ms/step - loss: 1.0986 - accuracy: 0.3438\n",
            "Epoch 4/5\n",
            "64/64 [==============================] - 0s 2ms/step - loss: 1.0986 - accuracy: 0.3125\n",
            "Epoch 5/5\n",
            "64/64 [==============================] - 0s 2ms/step - loss: 1.0986 - accuracy: 0.3281\n",
            "32/32 [==============================] - 0s 2ms/step - loss: 1.0986 - accuracy: 0.3555\n",
            "Epoch 1/5\n"
          ]
        },
        {
          "output_type": "stream",
          "name": "stderr",
          "text": [
            "/usr/local/lib/python3.7/dist-packages/tensorflow/python/util/dispatch.py:1082: UserWarning: \"`sparse_categorical_crossentropy` received `from_logits=True`, but the `output` argument was produced by a sigmoid or softmax activation and thus does not represent logits. Was this intended?\"\n",
            "  return dispatch_target(*args, **kwargs)\n"
          ]
        },
        {
          "output_type": "stream",
          "name": "stdout",
          "text": [
            "64/64 [==============================] - 1s 2ms/step - loss: 1.0986 - accuracy: 0.3320\n",
            "Epoch 2/5\n",
            "64/64 [==============================] - 0s 3ms/step - loss: 1.0986 - accuracy: 0.3359\n",
            "Epoch 3/5\n",
            "64/64 [==============================] - 0s 3ms/step - loss: 1.0986 - accuracy: 0.3477\n",
            "Epoch 4/5\n",
            "64/64 [==============================] - 0s 2ms/step - loss: 1.0986 - accuracy: 0.3477\n",
            "Epoch 5/5\n",
            "64/64 [==============================] - 0s 3ms/step - loss: 1.0986 - accuracy: 0.3477\n",
            "32/32 [==============================] - 0s 2ms/step - loss: 1.0986 - accuracy: 0.3516\n",
            "Epoch 1/5\n"
          ]
        },
        {
          "output_type": "stream",
          "name": "stderr",
          "text": [
            "/usr/local/lib/python3.7/dist-packages/tensorflow/python/util/dispatch.py:1082: UserWarning: \"`sparse_categorical_crossentropy` received `from_logits=True`, but the `output` argument was produced by a sigmoid or softmax activation and thus does not represent logits. Was this intended?\"\n",
            "  return dispatch_target(*args, **kwargs)\n"
          ]
        },
        {
          "output_type": "stream",
          "name": "stdout",
          "text": [
            "64/64 [==============================] - 0s 2ms/step - loss: 1.0986 - accuracy: 0.3242\n",
            "Epoch 2/5\n",
            "64/64 [==============================] - 0s 2ms/step - loss: 1.0986 - accuracy: 0.3438\n",
            "Epoch 3/5\n",
            "64/64 [==============================] - 0s 2ms/step - loss: 1.0986 - accuracy: 0.3535\n",
            "Epoch 4/5\n",
            "64/64 [==============================] - 0s 2ms/step - loss: 1.0986 - accuracy: 0.3535\n",
            "Epoch 5/5\n",
            "64/64 [==============================] - 0s 2ms/step - loss: 1.0986 - accuracy: 0.3535\n",
            "32/32 [==============================] - 0s 3ms/step - loss: 1.0986 - accuracy: 0.3398\n",
            "Epoch 1/5\n"
          ]
        },
        {
          "output_type": "stream",
          "name": "stderr",
          "text": [
            "/usr/local/lib/python3.7/dist-packages/tensorflow/python/util/dispatch.py:1082: UserWarning: \"`sparse_categorical_crossentropy` received `from_logits=True`, but the `output` argument was produced by a sigmoid or softmax activation and thus does not represent logits. Was this intended?\"\n",
            "  return dispatch_target(*args, **kwargs)\n"
          ]
        },
        {
          "output_type": "stream",
          "name": "stdout",
          "text": [
            "64/64 [==============================] - 0s 2ms/step - loss: 1.0988 - accuracy: 0.3398\n",
            "Epoch 2/5\n",
            "64/64 [==============================] - 0s 2ms/step - loss: 1.0983 - accuracy: 0.3203\n",
            "Epoch 3/5\n",
            "64/64 [==============================] - 0s 2ms/step - loss: 1.0982 - accuracy: 0.3066\n",
            "Epoch 4/5\n",
            "64/64 [==============================] - 0s 2ms/step - loss: 1.0980 - accuracy: 0.3203\n",
            "Epoch 5/5\n",
            "64/64 [==============================] - 0s 3ms/step - loss: 1.0982 - accuracy: 0.3438\n",
            "32/32 [==============================] - 0s 2ms/step - loss: 1.0980 - accuracy: 0.3281\n",
            "Epoch 1/5\n"
          ]
        },
        {
          "output_type": "stream",
          "name": "stderr",
          "text": [
            "/usr/local/lib/python3.7/dist-packages/tensorflow/python/util/dispatch.py:1082: UserWarning: \"`sparse_categorical_crossentropy` received `from_logits=True`, but the `output` argument was produced by a sigmoid or softmax activation and thus does not represent logits. Was this intended?\"\n",
            "  return dispatch_target(*args, **kwargs)\n"
          ]
        },
        {
          "output_type": "stream",
          "name": "stdout",
          "text": [
            "64/64 [==============================] - 0s 2ms/step - loss: 1.0991 - accuracy: 0.3164\n",
            "Epoch 2/5\n",
            "64/64 [==============================] - 0s 2ms/step - loss: 1.0990 - accuracy: 0.3477\n",
            "Epoch 3/5\n",
            "64/64 [==============================] - 0s 2ms/step - loss: 1.0985 - accuracy: 0.3477\n",
            "Epoch 4/5\n",
            "64/64 [==============================] - 0s 2ms/step - loss: 1.0986 - accuracy: 0.3477\n",
            "Epoch 5/5\n",
            "64/64 [==============================] - 0s 3ms/step - loss: 1.0985 - accuracy: 0.3477\n",
            "32/32 [==============================] - 0s 2ms/step - loss: 1.0976 - accuracy: 0.3516\n",
            "Epoch 1/5\n"
          ]
        },
        {
          "output_type": "stream",
          "name": "stderr",
          "text": [
            "/usr/local/lib/python3.7/dist-packages/tensorflow/python/util/dispatch.py:1082: UserWarning: \"`sparse_categorical_crossentropy` received `from_logits=True`, but the `output` argument was produced by a sigmoid or softmax activation and thus does not represent logits. Was this intended?\"\n",
            "  return dispatch_target(*args, **kwargs)\n"
          ]
        },
        {
          "output_type": "stream",
          "name": "stdout",
          "text": [
            "64/64 [==============================] - 0s 3ms/step - loss: 1.0987 - accuracy: 0.3398\n",
            "Epoch 2/5\n",
            "64/64 [==============================] - 0s 2ms/step - loss: 1.0983 - accuracy: 0.3145\n",
            "Epoch 3/5\n",
            "64/64 [==============================] - 0s 2ms/step - loss: 1.0977 - accuracy: 0.3535\n",
            "Epoch 4/5\n",
            "64/64 [==============================] - 0s 2ms/step - loss: 1.0974 - accuracy: 0.3535\n",
            "Epoch 5/5\n",
            "64/64 [==============================] - 0s 3ms/step - loss: 1.0971 - accuracy: 0.3535\n",
            "32/32 [==============================] - 0s 3ms/step - loss: 1.0989 - accuracy: 0.3398\n",
            "Epoch 1/5\n"
          ]
        },
        {
          "output_type": "stream",
          "name": "stderr",
          "text": [
            "/usr/local/lib/python3.7/dist-packages/tensorflow/python/util/dispatch.py:1082: UserWarning: \"`sparse_categorical_crossentropy` received `from_logits=True`, but the `output` argument was produced by a sigmoid or softmax activation and thus does not represent logits. Was this intended?\"\n",
            "  return dispatch_target(*args, **kwargs)\n"
          ]
        },
        {
          "output_type": "stream",
          "name": "stdout",
          "text": [
            "64/64 [==============================] - 0s 2ms/step - loss: 1.0986 - accuracy: 0.3398\n",
            "Epoch 2/5\n",
            "64/64 [==============================] - 0s 3ms/step - loss: 1.0983 - accuracy: 0.3320\n",
            "Epoch 3/5\n",
            "64/64 [==============================] - 0s 2ms/step - loss: 1.0982 - accuracy: 0.3457\n",
            "Epoch 4/5\n",
            "64/64 [==============================] - 0s 3ms/step - loss: 1.0981 - accuracy: 0.3457\n",
            "Epoch 5/5\n",
            "64/64 [==============================] - 0s 2ms/step - loss: 1.0980 - accuracy: 0.3242\n",
            "32/32 [==============================] - 0s 2ms/step - loss: 1.0980 - accuracy: 0.3555\n",
            "Epoch 1/5\n"
          ]
        },
        {
          "output_type": "stream",
          "name": "stderr",
          "text": [
            "/usr/local/lib/python3.7/dist-packages/tensorflow/python/util/dispatch.py:1082: UserWarning: \"`sparse_categorical_crossentropy` received `from_logits=True`, but the `output` argument was produced by a sigmoid or softmax activation and thus does not represent logits. Was this intended?\"\n",
            "  return dispatch_target(*args, **kwargs)\n"
          ]
        },
        {
          "output_type": "stream",
          "name": "stdout",
          "text": [
            "64/64 [==============================] - 0s 3ms/step - loss: 1.0990 - accuracy: 0.2949\n",
            "Epoch 2/5\n",
            "64/64 [==============================] - 0s 3ms/step - loss: 1.0987 - accuracy: 0.3477\n",
            "Epoch 3/5\n",
            "64/64 [==============================] - 0s 3ms/step - loss: 1.0986 - accuracy: 0.3477\n",
            "Epoch 4/5\n",
            "64/64 [==============================] - 0s 2ms/step - loss: 1.0985 - accuracy: 0.3477\n",
            "Epoch 5/5\n",
            "64/64 [==============================] - 0s 3ms/step - loss: 1.0985 - accuracy: 0.3477\n",
            "32/32 [==============================] - 0s 2ms/step - loss: 1.0981 - accuracy: 0.3516\n",
            "Epoch 1/5\n"
          ]
        },
        {
          "output_type": "stream",
          "name": "stderr",
          "text": [
            "/usr/local/lib/python3.7/dist-packages/tensorflow/python/util/dispatch.py:1082: UserWarning: \"`sparse_categorical_crossentropy` received `from_logits=True`, but the `output` argument was produced by a sigmoid or softmax activation and thus does not represent logits. Was this intended?\"\n",
            "  return dispatch_target(*args, **kwargs)\n"
          ]
        },
        {
          "output_type": "stream",
          "name": "stdout",
          "text": [
            "64/64 [==============================] - 0s 2ms/step - loss: 1.0985 - accuracy: 0.3379\n",
            "Epoch 2/5\n",
            "64/64 [==============================] - 0s 2ms/step - loss: 1.0980 - accuracy: 0.3418\n",
            "Epoch 3/5\n",
            "64/64 [==============================] - 0s 2ms/step - loss: 1.0978 - accuracy: 0.3379\n",
            "Epoch 4/5\n",
            "64/64 [==============================] - 0s 2ms/step - loss: 1.0976 - accuracy: 0.3535\n",
            "Epoch 5/5\n",
            "64/64 [==============================] - 0s 3ms/step - loss: 1.0975 - accuracy: 0.3203\n",
            "32/32 [==============================] - 0s 2ms/step - loss: 1.0987 - accuracy: 0.3398\n",
            "Epoch 1/5\n"
          ]
        },
        {
          "output_type": "stream",
          "name": "stderr",
          "text": [
            "/usr/local/lib/python3.7/dist-packages/tensorflow/python/util/dispatch.py:1082: UserWarning: \"`sparse_categorical_crossentropy` received `from_logits=True`, but the `output` argument was produced by a sigmoid or softmax activation and thus does not represent logits. Was this intended?\"\n",
            "  return dispatch_target(*args, **kwargs)\n"
          ]
        },
        {
          "output_type": "stream",
          "name": "stdout",
          "text": [
            "64/64 [==============================] - 1s 3ms/step - loss: 1.0987 - accuracy: 0.3066\n",
            "Epoch 2/5\n",
            "64/64 [==============================] - 0s 3ms/step - loss: 1.0984 - accuracy: 0.3184\n",
            "Epoch 3/5\n",
            "64/64 [==============================] - 0s 3ms/step - loss: 1.0981 - accuracy: 0.3457\n",
            "Epoch 4/5\n",
            "64/64 [==============================] - 0s 3ms/step - loss: 1.0981 - accuracy: 0.3457\n",
            "Epoch 5/5\n",
            "64/64 [==============================] - 0s 3ms/step - loss: 1.0983 - accuracy: 0.3320\n",
            "32/32 [==============================] - 0s 2ms/step - loss: 1.0979 - accuracy: 0.3555\n",
            "Epoch 1/5\n"
          ]
        },
        {
          "output_type": "stream",
          "name": "stderr",
          "text": [
            "/usr/local/lib/python3.7/dist-packages/tensorflow/python/util/dispatch.py:1082: UserWarning: \"`sparse_categorical_crossentropy` received `from_logits=True`, but the `output` argument was produced by a sigmoid or softmax activation and thus does not represent logits. Was this intended?\"\n",
            "  return dispatch_target(*args, **kwargs)\n"
          ]
        },
        {
          "output_type": "stream",
          "name": "stdout",
          "text": [
            "64/64 [==============================] - 1s 3ms/step - loss: 1.0991 - accuracy: 0.3242\n",
            "Epoch 2/5\n",
            "64/64 [==============================] - 0s 3ms/step - loss: 1.0987 - accuracy: 0.3477\n",
            "Epoch 3/5\n",
            "64/64 [==============================] - 0s 3ms/step - loss: 1.0987 - accuracy: 0.3477\n",
            "Epoch 4/5\n",
            "64/64 [==============================] - 0s 3ms/step - loss: 1.0987 - accuracy: 0.3477\n",
            "Epoch 5/5\n",
            "64/64 [==============================] - 0s 3ms/step - loss: 1.0986 - accuracy: 0.3477\n",
            "32/32 [==============================] - 0s 2ms/step - loss: 1.0976 - accuracy: 0.3516\n",
            "Epoch 1/5\n"
          ]
        },
        {
          "output_type": "stream",
          "name": "stderr",
          "text": [
            "/usr/local/lib/python3.7/dist-packages/tensorflow/python/util/dispatch.py:1082: UserWarning: \"`sparse_categorical_crossentropy` received `from_logits=True`, but the `output` argument was produced by a sigmoid or softmax activation and thus does not represent logits. Was this intended?\"\n",
            "  return dispatch_target(*args, **kwargs)\n"
          ]
        },
        {
          "output_type": "stream",
          "name": "stdout",
          "text": [
            "64/64 [==============================] - 1s 3ms/step - loss: 1.0985 - accuracy: 0.3320\n",
            "Epoch 2/5\n",
            "64/64 [==============================] - 0s 3ms/step - loss: 1.0979 - accuracy: 0.3535\n",
            "Epoch 3/5\n",
            "64/64 [==============================] - 0s 3ms/step - loss: 1.0975 - accuracy: 0.3535\n",
            "Epoch 4/5\n",
            "64/64 [==============================] - 0s 3ms/step - loss: 1.0973 - accuracy: 0.3535\n",
            "Epoch 5/5\n",
            "64/64 [==============================] - 0s 3ms/step - loss: 1.0972 - accuracy: 0.3535\n",
            "32/32 [==============================] - 0s 2ms/step - loss: 1.0992 - accuracy: 0.3398\n",
            "Epoch 1/5\n"
          ]
        },
        {
          "output_type": "stream",
          "name": "stderr",
          "text": [
            "/usr/local/lib/python3.7/dist-packages/tensorflow/python/util/dispatch.py:1082: UserWarning: \"`sparse_categorical_crossentropy` received `from_logits=True`, but the `output` argument was produced by a sigmoid or softmax activation and thus does not represent logits. Was this intended?\"\n",
            "  return dispatch_target(*args, **kwargs)\n"
          ]
        },
        {
          "output_type": "stream",
          "name": "stdout",
          "text": [
            "64/64 [==============================] - 0s 2ms/step - loss: 1.0988 - accuracy: 0.3164\n",
            "Epoch 2/5\n",
            "64/64 [==============================] - 0s 2ms/step - loss: 1.0985 - accuracy: 0.3457\n",
            "Epoch 3/5\n",
            "64/64 [==============================] - 0s 2ms/step - loss: 1.0983 - accuracy: 0.3242\n",
            "Epoch 4/5\n",
            "64/64 [==============================] - 0s 2ms/step - loss: 1.0982 - accuracy: 0.3262\n",
            "Epoch 5/5\n",
            "64/64 [==============================] - 0s 2ms/step - loss: 1.0980 - accuracy: 0.3125\n",
            "32/32 [==============================] - 0s 2ms/step - loss: 1.0979 - accuracy: 0.3555\n",
            "Epoch 1/5\n"
          ]
        },
        {
          "output_type": "stream",
          "name": "stderr",
          "text": [
            "/usr/local/lib/python3.7/dist-packages/tensorflow/python/util/dispatch.py:1082: UserWarning: \"`sparse_categorical_crossentropy` received `from_logits=True`, but the `output` argument was produced by a sigmoid or softmax activation and thus does not represent logits. Was this intended?\"\n",
            "  return dispatch_target(*args, **kwargs)\n"
          ]
        },
        {
          "output_type": "stream",
          "name": "stdout",
          "text": [
            "64/64 [==============================] - 0s 2ms/step - loss: 1.0989 - accuracy: 0.3418\n",
            "Epoch 2/5\n",
            "64/64 [==============================] - 0s 2ms/step - loss: 1.0988 - accuracy: 0.3477\n",
            "Epoch 3/5\n",
            "64/64 [==============================] - 0s 2ms/step - loss: 1.0986 - accuracy: 0.3477\n",
            "Epoch 4/5\n",
            "64/64 [==============================] - 0s 2ms/step - loss: 1.0986 - accuracy: 0.3477\n",
            "Epoch 5/5\n",
            "64/64 [==============================] - 0s 2ms/step - loss: 1.0986 - accuracy: 0.3477\n",
            "32/32 [==============================] - 0s 3ms/step - loss: 1.0976 - accuracy: 0.3516\n",
            "Epoch 1/5\n"
          ]
        },
        {
          "output_type": "stream",
          "name": "stderr",
          "text": [
            "/usr/local/lib/python3.7/dist-packages/tensorflow/python/util/dispatch.py:1082: UserWarning: \"`sparse_categorical_crossentropy` received `from_logits=True`, but the `output` argument was produced by a sigmoid or softmax activation and thus does not represent logits. Was this intended?\"\n",
            "  return dispatch_target(*args, **kwargs)\n"
          ]
        },
        {
          "output_type": "stream",
          "name": "stdout",
          "text": [
            "64/64 [==============================] - 0s 2ms/step - loss: 1.0987 - accuracy: 0.3418\n",
            "Epoch 2/5\n",
            "64/64 [==============================] - 0s 3ms/step - loss: 1.0981 - accuracy: 0.3477\n",
            "Epoch 3/5\n",
            "64/64 [==============================] - 0s 2ms/step - loss: 1.0978 - accuracy: 0.3496\n",
            "Epoch 4/5\n",
            "64/64 [==============================] - 0s 2ms/step - loss: 1.0975 - accuracy: 0.3535\n",
            "Epoch 5/5\n",
            "64/64 [==============================] - 0s 2ms/step - loss: 1.0974 - accuracy: 0.3535\n",
            "32/32 [==============================] - 0s 2ms/step - loss: 1.0989 - accuracy: 0.3398\n",
            "Epoch 1/5\n"
          ]
        },
        {
          "output_type": "stream",
          "name": "stderr",
          "text": [
            "/usr/local/lib/python3.7/dist-packages/tensorflow/python/util/dispatch.py:1082: UserWarning: \"`sparse_categorical_crossentropy` received `from_logits=True`, but the `output` argument was produced by a sigmoid or softmax activation and thus does not represent logits. Was this intended?\"\n",
            "  return dispatch_target(*args, **kwargs)\n"
          ]
        },
        {
          "output_type": "stream",
          "name": "stdout",
          "text": [
            "64/64 [==============================] - 1s 3ms/step - loss: 1.0990 - accuracy: 0.3418\n",
            "Epoch 2/5\n",
            "64/64 [==============================] - 0s 3ms/step - loss: 1.0985 - accuracy: 0.3203\n",
            "Epoch 3/5\n",
            "64/64 [==============================] - 0s 3ms/step - loss: 1.0982 - accuracy: 0.3457\n",
            "Epoch 4/5\n",
            "64/64 [==============================] - 0s 3ms/step - loss: 1.0981 - accuracy: 0.3457\n",
            "Epoch 5/5\n",
            "64/64 [==============================] - 0s 3ms/step - loss: 1.0980 - accuracy: 0.3457\n",
            "32/32 [==============================] - 0s 2ms/step - loss: 1.0978 - accuracy: 0.3555\n",
            "Epoch 1/5\n"
          ]
        },
        {
          "output_type": "stream",
          "name": "stderr",
          "text": [
            "/usr/local/lib/python3.7/dist-packages/tensorflow/python/util/dispatch.py:1082: UserWarning: \"`sparse_categorical_crossentropy` received `from_logits=True`, but the `output` argument was produced by a sigmoid or softmax activation and thus does not represent logits. Was this intended?\"\n",
            "  return dispatch_target(*args, **kwargs)\n"
          ]
        },
        {
          "output_type": "stream",
          "name": "stdout",
          "text": [
            "64/64 [==============================] - 1s 3ms/step - loss: 1.0990 - accuracy: 0.3418\n",
            "Epoch 2/5\n",
            "64/64 [==============================] - 0s 2ms/step - loss: 1.0987 - accuracy: 0.3477\n",
            "Epoch 3/5\n",
            "64/64 [==============================] - 0s 3ms/step - loss: 1.0987 - accuracy: 0.3477\n",
            "Epoch 4/5\n",
            "64/64 [==============================] - 0s 3ms/step - loss: 1.0985 - accuracy: 0.3477\n",
            "Epoch 5/5\n",
            "64/64 [==============================] - 0s 3ms/step - loss: 1.0987 - accuracy: 0.3477\n",
            "32/32 [==============================] - 0s 2ms/step - loss: 1.0973 - accuracy: 0.3516\n",
            "Epoch 1/5\n"
          ]
        },
        {
          "output_type": "stream",
          "name": "stderr",
          "text": [
            "/usr/local/lib/python3.7/dist-packages/tensorflow/python/util/dispatch.py:1082: UserWarning: \"`sparse_categorical_crossentropy` received `from_logits=True`, but the `output` argument was produced by a sigmoid or softmax activation and thus does not represent logits. Was this intended?\"\n",
            "  return dispatch_target(*args, **kwargs)\n"
          ]
        },
        {
          "output_type": "stream",
          "name": "stdout",
          "text": [
            "64/64 [==============================] - 1s 3ms/step - loss: 1.0989 - accuracy: 0.3281\n",
            "Epoch 2/5\n",
            "64/64 [==============================] - 0s 3ms/step - loss: 1.0981 - accuracy: 0.3320\n",
            "Epoch 3/5\n",
            "64/64 [==============================] - 0s 2ms/step - loss: 1.0977 - accuracy: 0.3535\n",
            "Epoch 4/5\n",
            "64/64 [==============================] - 0s 3ms/step - loss: 1.0975 - accuracy: 0.3535\n",
            "Epoch 5/5\n",
            "64/64 [==============================] - 0s 3ms/step - loss: 1.0973 - accuracy: 0.3535\n",
            "32/32 [==============================] - 0s 2ms/step - loss: 1.0990 - accuracy: 0.3398\n",
            "Epoch 1/5\n"
          ]
        },
        {
          "output_type": "stream",
          "name": "stderr",
          "text": [
            "/usr/local/lib/python3.7/dist-packages/tensorflow/python/util/dispatch.py:1082: UserWarning: \"`sparse_categorical_crossentropy` received `from_logits=True`, but the `output` argument was produced by a sigmoid or softmax activation and thus does not represent logits. Was this intended?\"\n",
            "  return dispatch_target(*args, **kwargs)\n"
          ]
        },
        {
          "output_type": "stream",
          "name": "stdout",
          "text": [
            "64/64 [==============================] - 1s 3ms/step - loss: 1.0986 - accuracy: 0.3418\n",
            "Epoch 2/5\n",
            "64/64 [==============================] - 0s 2ms/step - loss: 1.0985 - accuracy: 0.3457\n",
            "Epoch 3/5\n",
            "64/64 [==============================] - 0s 3ms/step - loss: 1.0985 - accuracy: 0.3457\n",
            "Epoch 4/5\n",
            "64/64 [==============================] - 0s 2ms/step - loss: 1.0985 - accuracy: 0.3457\n",
            "Epoch 5/5\n",
            "64/64 [==============================] - 0s 2ms/step - loss: 1.0985 - accuracy: 0.3457\n",
            "32/32 [==============================] - 0s 2ms/step - loss: 1.0985 - accuracy: 0.3555\n",
            "Epoch 1/5\n"
          ]
        },
        {
          "output_type": "stream",
          "name": "stderr",
          "text": [
            "/usr/local/lib/python3.7/dist-packages/tensorflow/python/util/dispatch.py:1082: UserWarning: \"`sparse_categorical_crossentropy` received `from_logits=True`, but the `output` argument was produced by a sigmoid or softmax activation and thus does not represent logits. Was this intended?\"\n",
            "  return dispatch_target(*args, **kwargs)\n"
          ]
        },
        {
          "output_type": "stream",
          "name": "stdout",
          "text": [
            "64/64 [==============================] - 0s 2ms/step - loss: 1.0987 - accuracy: 0.3262\n",
            "Epoch 2/5\n",
            "64/64 [==============================] - 0s 2ms/step - loss: 1.0986 - accuracy: 0.3340\n",
            "Epoch 3/5\n",
            "64/64 [==============================] - 0s 2ms/step - loss: 1.0986 - accuracy: 0.3477\n",
            "Epoch 4/5\n",
            "64/64 [==============================] - 0s 2ms/step - loss: 1.0986 - accuracy: 0.3477\n",
            "Epoch 5/5\n",
            "64/64 [==============================] - 0s 3ms/step - loss: 1.0986 - accuracy: 0.3477\n",
            "32/32 [==============================] - 0s 2ms/step - loss: 1.0985 - accuracy: 0.3516\n",
            "Epoch 1/5\n"
          ]
        },
        {
          "output_type": "stream",
          "name": "stderr",
          "text": [
            "/usr/local/lib/python3.7/dist-packages/tensorflow/python/util/dispatch.py:1082: UserWarning: \"`sparse_categorical_crossentropy` received `from_logits=True`, but the `output` argument was produced by a sigmoid or softmax activation and thus does not represent logits. Was this intended?\"\n",
            "  return dispatch_target(*args, **kwargs)\n"
          ]
        },
        {
          "output_type": "stream",
          "name": "stdout",
          "text": [
            "64/64 [==============================] - 0s 2ms/step - loss: 1.0986 - accuracy: 0.3340\n",
            "Epoch 2/5\n",
            "64/64 [==============================] - 0s 3ms/step - loss: 1.0985 - accuracy: 0.3535\n",
            "Epoch 3/5\n",
            "64/64 [==============================] - 0s 3ms/step - loss: 1.0984 - accuracy: 0.3535\n",
            "Epoch 4/5\n",
            "64/64 [==============================] - 0s 2ms/step - loss: 1.0984 - accuracy: 0.3535\n",
            "Epoch 5/5\n",
            "64/64 [==============================] - 0s 3ms/step - loss: 1.0984 - accuracy: 0.3535\n",
            "32/32 [==============================] - 0s 2ms/step - loss: 1.0986 - accuracy: 0.3398\n",
            "Epoch 1/5\n"
          ]
        },
        {
          "output_type": "stream",
          "name": "stderr",
          "text": [
            "/usr/local/lib/python3.7/dist-packages/tensorflow/python/util/dispatch.py:1082: UserWarning: \"`sparse_categorical_crossentropy` received `from_logits=True`, but the `output` argument was produced by a sigmoid or softmax activation and thus does not represent logits. Was this intended?\"\n",
            "  return dispatch_target(*args, **kwargs)\n"
          ]
        },
        {
          "output_type": "stream",
          "name": "stdout",
          "text": [
            "64/64 [==============================] - 0s 2ms/step - loss: 1.0986 - accuracy: 0.3281\n",
            "Epoch 2/5\n",
            "64/64 [==============================] - 0s 2ms/step - loss: 1.0986 - accuracy: 0.3223\n",
            "Epoch 3/5\n",
            "64/64 [==============================] - 0s 2ms/step - loss: 1.0986 - accuracy: 0.3418\n",
            "Epoch 4/5\n",
            "64/64 [==============================] - 0s 2ms/step - loss: 1.0986 - accuracy: 0.3379\n",
            "Epoch 5/5\n",
            "64/64 [==============================] - 0s 2ms/step - loss: 1.0986 - accuracy: 0.3398\n",
            "32/32 [==============================] - 0s 2ms/step - loss: 1.0986 - accuracy: 0.3555\n",
            "Epoch 1/5\n"
          ]
        },
        {
          "output_type": "stream",
          "name": "stderr",
          "text": [
            "/usr/local/lib/python3.7/dist-packages/tensorflow/python/util/dispatch.py:1082: UserWarning: \"`sparse_categorical_crossentropy` received `from_logits=True`, but the `output` argument was produced by a sigmoid or softmax activation and thus does not represent logits. Was this intended?\"\n",
            "  return dispatch_target(*args, **kwargs)\n"
          ]
        },
        {
          "output_type": "stream",
          "name": "stdout",
          "text": [
            "64/64 [==============================] - 0s 2ms/step - loss: 1.0986 - accuracy: 0.3105\n",
            "Epoch 2/5\n",
            "64/64 [==============================] - 0s 2ms/step - loss: 1.0986 - accuracy: 0.3359\n",
            "Epoch 3/5\n",
            "64/64 [==============================] - 0s 2ms/step - loss: 1.0986 - accuracy: 0.3477\n",
            "Epoch 4/5\n",
            "64/64 [==============================] - 0s 2ms/step - loss: 1.0986 - accuracy: 0.3477\n",
            "Epoch 5/5\n",
            "64/64 [==============================] - 0s 3ms/step - loss: 1.0986 - accuracy: 0.3477\n",
            "32/32 [==============================] - 0s 2ms/step - loss: 1.0986 - accuracy: 0.3516\n",
            "Epoch 1/5\n"
          ]
        },
        {
          "output_type": "stream",
          "name": "stderr",
          "text": [
            "/usr/local/lib/python3.7/dist-packages/tensorflow/python/util/dispatch.py:1082: UserWarning: \"`sparse_categorical_crossentropy` received `from_logits=True`, but the `output` argument was produced by a sigmoid or softmax activation and thus does not represent logits. Was this intended?\"\n",
            "  return dispatch_target(*args, **kwargs)\n"
          ]
        },
        {
          "output_type": "stream",
          "name": "stdout",
          "text": [
            "64/64 [==============================] - 0s 2ms/step - loss: 1.0986 - accuracy: 0.3438\n",
            "Epoch 2/5\n",
            "64/64 [==============================] - 0s 2ms/step - loss: 1.0986 - accuracy: 0.3496\n",
            "Epoch 3/5\n",
            "64/64 [==============================] - 0s 2ms/step - loss: 1.0986 - accuracy: 0.3496\n",
            "Epoch 4/5\n",
            "64/64 [==============================] - 0s 2ms/step - loss: 1.0986 - accuracy: 0.3535\n",
            "Epoch 5/5\n",
            "64/64 [==============================] - 0s 3ms/step - loss: 1.0986 - accuracy: 0.3535\n",
            "32/32 [==============================] - 0s 3ms/step - loss: 1.0986 - accuracy: 0.3398\n",
            "Epoch 1/5\n"
          ]
        },
        {
          "output_type": "stream",
          "name": "stderr",
          "text": [
            "/usr/local/lib/python3.7/dist-packages/tensorflow/python/util/dispatch.py:1082: UserWarning: \"`sparse_categorical_crossentropy` received `from_logits=True`, but the `output` argument was produced by a sigmoid or softmax activation and thus does not represent logits. Was this intended?\"\n",
            "  return dispatch_target(*args, **kwargs)\n"
          ]
        },
        {
          "output_type": "stream",
          "name": "stdout",
          "text": [
            "64/64 [==============================] - 0s 3ms/step - loss: 1.0987 - accuracy: 0.3379\n",
            "Epoch 2/5\n",
            "64/64 [==============================] - 0s 2ms/step - loss: 1.0984 - accuracy: 0.3457\n",
            "Epoch 3/5\n",
            "64/64 [==============================] - 0s 2ms/step - loss: 1.0981 - accuracy: 0.3457\n",
            "Epoch 4/5\n",
            "64/64 [==============================] - 0s 2ms/step - loss: 1.0980 - accuracy: 0.3164\n",
            "Epoch 5/5\n",
            "64/64 [==============================] - 0s 3ms/step - loss: 1.0979 - accuracy: 0.3301\n",
            "32/32 [==============================] - 0s 2ms/step - loss: 1.0979 - accuracy: 0.3555\n",
            "Epoch 1/5\n"
          ]
        },
        {
          "output_type": "stream",
          "name": "stderr",
          "text": [
            "/usr/local/lib/python3.7/dist-packages/tensorflow/python/util/dispatch.py:1082: UserWarning: \"`sparse_categorical_crossentropy` received `from_logits=True`, but the `output` argument was produced by a sigmoid or softmax activation and thus does not represent logits. Was this intended?\"\n",
            "  return dispatch_target(*args, **kwargs)\n"
          ]
        },
        {
          "output_type": "stream",
          "name": "stdout",
          "text": [
            "64/64 [==============================] - 0s 2ms/step - loss: 1.0990 - accuracy: 0.3145\n",
            "Epoch 2/5\n",
            "64/64 [==============================] - 0s 2ms/step - loss: 1.0987 - accuracy: 0.3477\n",
            "Epoch 3/5\n",
            "64/64 [==============================] - 0s 2ms/step - loss: 1.0985 - accuracy: 0.3477\n",
            "Epoch 4/5\n",
            "64/64 [==============================] - 0s 2ms/step - loss: 1.0987 - accuracy: 0.3477\n",
            "Epoch 5/5\n",
            "64/64 [==============================] - 0s 2ms/step - loss: 1.0984 - accuracy: 0.3477\n",
            "32/32 [==============================] - 0s 2ms/step - loss: 1.0976 - accuracy: 0.3516\n",
            "Epoch 1/5\n"
          ]
        },
        {
          "output_type": "stream",
          "name": "stderr",
          "text": [
            "/usr/local/lib/python3.7/dist-packages/tensorflow/python/util/dispatch.py:1082: UserWarning: \"`sparse_categorical_crossentropy` received `from_logits=True`, but the `output` argument was produced by a sigmoid or softmax activation and thus does not represent logits. Was this intended?\"\n",
            "  return dispatch_target(*args, **kwargs)\n"
          ]
        },
        {
          "output_type": "stream",
          "name": "stdout",
          "text": [
            "64/64 [==============================] - 0s 2ms/step - loss: 1.0986 - accuracy: 0.3477\n",
            "Epoch 2/5\n",
            "64/64 [==============================] - 0s 2ms/step - loss: 1.0976 - accuracy: 0.3535\n",
            "Epoch 3/5\n",
            "64/64 [==============================] - 0s 3ms/step - loss: 1.0973 - accuracy: 0.3535\n",
            "Epoch 4/5\n",
            "64/64 [==============================] - 0s 2ms/step - loss: 1.0973 - accuracy: 0.3535\n",
            "Epoch 5/5\n",
            "64/64 [==============================] - 0s 2ms/step - loss: 1.0971 - accuracy: 0.3535\n",
            "32/32 [==============================] - 0s 2ms/step - loss: 1.0993 - accuracy: 0.3398\n",
            "Epoch 1/5\n"
          ]
        },
        {
          "output_type": "stream",
          "name": "stderr",
          "text": [
            "/usr/local/lib/python3.7/dist-packages/tensorflow/python/util/dispatch.py:1082: UserWarning: \"`sparse_categorical_crossentropy` received `from_logits=True`, but the `output` argument was produced by a sigmoid or softmax activation and thus does not represent logits. Was this intended?\"\n",
            "  return dispatch_target(*args, **kwargs)\n"
          ]
        },
        {
          "output_type": "stream",
          "name": "stdout",
          "text": [
            "64/64 [==============================] - 0s 2ms/step - loss: 1.0989 - accuracy: 0.3066\n",
            "Epoch 2/5\n",
            "64/64 [==============================] - 0s 2ms/step - loss: 1.0986 - accuracy: 0.3457\n",
            "Epoch 3/5\n",
            "64/64 [==============================] - 0s 2ms/step - loss: 1.0984 - accuracy: 0.3457\n",
            "Epoch 4/5\n",
            "64/64 [==============================] - 0s 3ms/step - loss: 1.0983 - accuracy: 0.3457\n",
            "Epoch 5/5\n",
            "64/64 [==============================] - 0s 2ms/step - loss: 1.0981 - accuracy: 0.3457\n",
            "32/32 [==============================] - 0s 2ms/step - loss: 1.0981 - accuracy: 0.3555\n",
            "Epoch 1/5\n"
          ]
        },
        {
          "output_type": "stream",
          "name": "stderr",
          "text": [
            "/usr/local/lib/python3.7/dist-packages/tensorflow/python/util/dispatch.py:1082: UserWarning: \"`sparse_categorical_crossentropy` received `from_logits=True`, but the `output` argument was produced by a sigmoid or softmax activation and thus does not represent logits. Was this intended?\"\n",
            "  return dispatch_target(*args, **kwargs)\n"
          ]
        },
        {
          "output_type": "stream",
          "name": "stdout",
          "text": [
            "64/64 [==============================] - 0s 3ms/step - loss: 1.0989 - accuracy: 0.3184\n",
            "Epoch 2/5\n",
            "64/64 [==============================] - 0s 3ms/step - loss: 1.0986 - accuracy: 0.3477\n",
            "Epoch 3/5\n",
            "64/64 [==============================] - 0s 2ms/step - loss: 1.0986 - accuracy: 0.3477\n",
            "Epoch 4/5\n",
            "64/64 [==============================] - 0s 3ms/step - loss: 1.0986 - accuracy: 0.3477\n",
            "Epoch 5/5\n",
            "64/64 [==============================] - 0s 2ms/step - loss: 1.0985 - accuracy: 0.3477\n",
            "32/32 [==============================] - 0s 2ms/step - loss: 1.0980 - accuracy: 0.3516\n",
            "Epoch 1/5\n"
          ]
        },
        {
          "output_type": "stream",
          "name": "stderr",
          "text": [
            "/usr/local/lib/python3.7/dist-packages/tensorflow/python/util/dispatch.py:1082: UserWarning: \"`sparse_categorical_crossentropy` received `from_logits=True`, but the `output` argument was produced by a sigmoid or softmax activation and thus does not represent logits. Was this intended?\"\n",
            "  return dispatch_target(*args, **kwargs)\n"
          ]
        },
        {
          "output_type": "stream",
          "name": "stdout",
          "text": [
            "64/64 [==============================] - 0s 2ms/step - loss: 1.0986 - accuracy: 0.3223\n",
            "Epoch 2/5\n",
            "64/64 [==============================] - 0s 2ms/step - loss: 1.0982 - accuracy: 0.3184\n",
            "Epoch 3/5\n",
            "64/64 [==============================] - 0s 3ms/step - loss: 1.0979 - accuracy: 0.3340\n",
            "Epoch 4/5\n",
            "64/64 [==============================] - 0s 2ms/step - loss: 1.0977 - accuracy: 0.3535\n",
            "Epoch 5/5\n",
            "64/64 [==============================] - 0s 3ms/step - loss: 1.0975 - accuracy: 0.3535\n",
            "32/32 [==============================] - 0s 2ms/step - loss: 1.0986 - accuracy: 0.3398\n",
            "Epoch 1/5\n"
          ]
        },
        {
          "output_type": "stream",
          "name": "stderr",
          "text": [
            "/usr/local/lib/python3.7/dist-packages/tensorflow/python/util/dispatch.py:1082: UserWarning: \"`sparse_categorical_crossentropy` received `from_logits=True`, but the `output` argument was produced by a sigmoid or softmax activation and thus does not represent logits. Was this intended?\"\n",
            "  return dispatch_target(*args, **kwargs)\n"
          ]
        },
        {
          "output_type": "stream",
          "name": "stdout",
          "text": [
            "64/64 [==============================] - 1s 3ms/step - loss: 1.0987 - accuracy: 0.3184\n",
            "Epoch 2/5\n",
            "64/64 [==============================] - 0s 3ms/step - loss: 1.0983 - accuracy: 0.3359\n",
            "Epoch 3/5\n",
            "64/64 [==============================] - 0s 3ms/step - loss: 1.0982 - accuracy: 0.3125\n",
            "Epoch 4/5\n",
            "64/64 [==============================] - 0s 3ms/step - loss: 1.0980 - accuracy: 0.3359\n",
            "Epoch 5/5\n",
            "64/64 [==============================] - 0s 3ms/step - loss: 1.0979 - accuracy: 0.3223\n",
            "32/32 [==============================] - 0s 2ms/step - loss: 1.0979 - accuracy: 0.3555\n",
            "Epoch 1/5\n"
          ]
        },
        {
          "output_type": "stream",
          "name": "stderr",
          "text": [
            "/usr/local/lib/python3.7/dist-packages/tensorflow/python/util/dispatch.py:1082: UserWarning: \"`sparse_categorical_crossentropy` received `from_logits=True`, but the `output` argument was produced by a sigmoid or softmax activation and thus does not represent logits. Was this intended?\"\n",
            "  return dispatch_target(*args, **kwargs)\n"
          ]
        },
        {
          "output_type": "stream",
          "name": "stdout",
          "text": [
            "64/64 [==============================] - 1s 3ms/step - loss: 1.0989 - accuracy: 0.3359\n",
            "Epoch 2/5\n",
            "64/64 [==============================] - 0s 3ms/step - loss: 1.0989 - accuracy: 0.3477\n",
            "Epoch 3/5\n",
            "64/64 [==============================] - 0s 3ms/step - loss: 1.0987 - accuracy: 0.3477\n",
            "Epoch 4/5\n",
            "64/64 [==============================] - 0s 3ms/step - loss: 1.0989 - accuracy: 0.3477\n",
            "Epoch 5/5\n",
            "64/64 [==============================] - 0s 3ms/step - loss: 1.0986 - accuracy: 0.3477\n",
            "32/32 [==============================] - 0s 2ms/step - loss: 1.0975 - accuracy: 0.3516\n",
            "Epoch 1/5\n"
          ]
        },
        {
          "output_type": "stream",
          "name": "stderr",
          "text": [
            "/usr/local/lib/python3.7/dist-packages/tensorflow/python/util/dispatch.py:1082: UserWarning: \"`sparse_categorical_crossentropy` received `from_logits=True`, but the `output` argument was produced by a sigmoid or softmax activation and thus does not represent logits. Was this intended?\"\n",
            "  return dispatch_target(*args, **kwargs)\n"
          ]
        },
        {
          "output_type": "stream",
          "name": "stdout",
          "text": [
            "64/64 [==============================] - 1s 3ms/step - loss: 1.0987 - accuracy: 0.3418\n",
            "Epoch 2/5\n",
            "64/64 [==============================] - 0s 3ms/step - loss: 1.0981 - accuracy: 0.3535\n",
            "Epoch 3/5\n",
            "64/64 [==============================] - 0s 3ms/step - loss: 1.0976 - accuracy: 0.3535\n",
            "Epoch 4/5\n",
            "64/64 [==============================] - 0s 3ms/step - loss: 1.0974 - accuracy: 0.3535\n",
            "Epoch 5/5\n",
            "64/64 [==============================] - 0s 3ms/step - loss: 1.0974 - accuracy: 0.3535\n",
            "32/32 [==============================] - 0s 2ms/step - loss: 1.0991 - accuracy: 0.3398\n",
            "Epoch 1/5\n"
          ]
        },
        {
          "output_type": "stream",
          "name": "stderr",
          "text": [
            "/usr/local/lib/python3.7/dist-packages/tensorflow/python/util/dispatch.py:1082: UserWarning: \"`sparse_categorical_crossentropy` received `from_logits=True`, but the `output` argument was produced by a sigmoid or softmax activation and thus does not represent logits. Was this intended?\"\n",
            "  return dispatch_target(*args, **kwargs)\n"
          ]
        },
        {
          "output_type": "stream",
          "name": "stdout",
          "text": [
            "64/64 [==============================] - 0s 2ms/step - loss: 1.0989 - accuracy: 0.3379\n",
            "Epoch 2/5\n",
            "64/64 [==============================] - 0s 3ms/step - loss: 1.0985 - accuracy: 0.3203\n",
            "Epoch 3/5\n",
            "64/64 [==============================] - 0s 2ms/step - loss: 1.0982 - accuracy: 0.3223\n",
            "Epoch 4/5\n",
            "64/64 [==============================] - 0s 2ms/step - loss: 1.0981 - accuracy: 0.3457\n",
            "Epoch 5/5\n",
            "64/64 [==============================] - 0s 2ms/step - loss: 1.0980 - accuracy: 0.3457\n",
            "32/32 [==============================] - 0s 2ms/step - loss: 1.0980 - accuracy: 0.3281\n",
            "Epoch 1/5\n"
          ]
        },
        {
          "output_type": "stream",
          "name": "stderr",
          "text": [
            "/usr/local/lib/python3.7/dist-packages/tensorflow/python/util/dispatch.py:1082: UserWarning: \"`sparse_categorical_crossentropy` received `from_logits=True`, but the `output` argument was produced by a sigmoid or softmax activation and thus does not represent logits. Was this intended?\"\n",
            "  return dispatch_target(*args, **kwargs)\n"
          ]
        },
        {
          "output_type": "stream",
          "name": "stdout",
          "text": [
            "64/64 [==============================] - 0s 2ms/step - loss: 1.0989 - accuracy: 0.3301\n",
            "Epoch 2/5\n",
            "64/64 [==============================] - 0s 2ms/step - loss: 1.0988 - accuracy: 0.3086\n",
            "Epoch 3/5\n",
            "64/64 [==============================] - 0s 2ms/step - loss: 1.0987 - accuracy: 0.3477\n",
            "Epoch 4/5\n",
            "64/64 [==============================] - 0s 2ms/step - loss: 1.0986 - accuracy: 0.3477\n",
            "Epoch 5/5\n",
            "64/64 [==============================] - 0s 2ms/step - loss: 1.0985 - accuracy: 0.3477\n",
            "32/32 [==============================] - 0s 2ms/step - loss: 1.0976 - accuracy: 0.3516\n",
            "Epoch 1/5\n"
          ]
        },
        {
          "output_type": "stream",
          "name": "stderr",
          "text": [
            "/usr/local/lib/python3.7/dist-packages/tensorflow/python/util/dispatch.py:1082: UserWarning: \"`sparse_categorical_crossentropy` received `from_logits=True`, but the `output` argument was produced by a sigmoid or softmax activation and thus does not represent logits. Was this intended?\"\n",
            "  return dispatch_target(*args, **kwargs)\n"
          ]
        },
        {
          "output_type": "stream",
          "name": "stdout",
          "text": [
            "64/64 [==============================] - 1s 3ms/step - loss: 1.0986 - accuracy: 0.3340\n",
            "Epoch 2/5\n",
            "64/64 [==============================] - 0s 2ms/step - loss: 1.0982 - accuracy: 0.3535\n",
            "Epoch 3/5\n",
            "64/64 [==============================] - 0s 2ms/step - loss: 1.0978 - accuracy: 0.3535\n",
            "Epoch 4/5\n",
            "64/64 [==============================] - 0s 2ms/step - loss: 1.0975 - accuracy: 0.3535\n",
            "Epoch 5/5\n",
            "64/64 [==============================] - 0s 3ms/step - loss: 1.0974 - accuracy: 0.3535\n",
            "32/32 [==============================] - 0s 2ms/step - loss: 1.0989 - accuracy: 0.3398\n",
            "Epoch 1/5\n"
          ]
        },
        {
          "output_type": "stream",
          "name": "stderr",
          "text": [
            "/usr/local/lib/python3.7/dist-packages/tensorflow/python/util/dispatch.py:1082: UserWarning: \"`sparse_categorical_crossentropy` received `from_logits=True`, but the `output` argument was produced by a sigmoid or softmax activation and thus does not represent logits. Was this intended?\"\n",
            "  return dispatch_target(*args, **kwargs)\n"
          ]
        },
        {
          "output_type": "stream",
          "name": "stdout",
          "text": [
            "64/64 [==============================] - 1s 2ms/step - loss: 1.0988 - accuracy: 0.3477\n",
            "Epoch 2/5\n",
            "64/64 [==============================] - 0s 3ms/step - loss: 1.0984 - accuracy: 0.3203\n",
            "Epoch 3/5\n",
            "64/64 [==============================] - 0s 3ms/step - loss: 1.0982 - accuracy: 0.3398\n",
            "Epoch 4/5\n",
            "64/64 [==============================] - 0s 3ms/step - loss: 1.0981 - accuracy: 0.3301\n",
            "Epoch 5/5\n",
            "64/64 [==============================] - 0s 3ms/step - loss: 1.0980 - accuracy: 0.3457\n",
            "32/32 [==============================] - 0s 2ms/step - loss: 1.0978 - accuracy: 0.3555\n",
            "Epoch 1/5\n"
          ]
        },
        {
          "output_type": "stream",
          "name": "stderr",
          "text": [
            "/usr/local/lib/python3.7/dist-packages/tensorflow/python/util/dispatch.py:1082: UserWarning: \"`sparse_categorical_crossentropy` received `from_logits=True`, but the `output` argument was produced by a sigmoid or softmax activation and thus does not represent logits. Was this intended?\"\n",
            "  return dispatch_target(*args, **kwargs)\n"
          ]
        },
        {
          "output_type": "stream",
          "name": "stdout",
          "text": [
            "64/64 [==============================] - 1s 3ms/step - loss: 1.0991 - accuracy: 0.3379\n",
            "Epoch 2/5\n",
            "64/64 [==============================] - 0s 3ms/step - loss: 1.0988 - accuracy: 0.3477\n",
            "Epoch 3/5\n",
            "64/64 [==============================] - 0s 3ms/step - loss: 1.0987 - accuracy: 0.3477\n",
            "Epoch 4/5\n",
            "64/64 [==============================] - 0s 3ms/step - loss: 1.0987 - accuracy: 0.3477\n",
            "Epoch 5/5\n",
            "64/64 [==============================] - 0s 3ms/step - loss: 1.0986 - accuracy: 0.3477\n",
            "32/32 [==============================] - 0s 2ms/step - loss: 1.0972 - accuracy: 0.3516\n",
            "Epoch 1/5\n"
          ]
        },
        {
          "output_type": "stream",
          "name": "stderr",
          "text": [
            "/usr/local/lib/python3.7/dist-packages/tensorflow/python/util/dispatch.py:1082: UserWarning: \"`sparse_categorical_crossentropy` received `from_logits=True`, but the `output` argument was produced by a sigmoid or softmax activation and thus does not represent logits. Was this intended?\"\n",
            "  return dispatch_target(*args, **kwargs)\n"
          ]
        },
        {
          "output_type": "stream",
          "name": "stdout",
          "text": [
            "64/64 [==============================] - 1s 3ms/step - loss: 1.0987 - accuracy: 0.3340\n",
            "Epoch 2/5\n",
            "64/64 [==============================] - 0s 3ms/step - loss: 1.0981 - accuracy: 0.3516\n",
            "Epoch 3/5\n",
            "64/64 [==============================] - 0s 3ms/step - loss: 1.0978 - accuracy: 0.3535\n",
            "Epoch 4/5\n",
            "64/64 [==============================] - 0s 3ms/step - loss: 1.0975 - accuracy: 0.3418\n",
            "Epoch 5/5\n",
            "64/64 [==============================] - 0s 3ms/step - loss: 1.0974 - accuracy: 0.3535\n",
            "32/32 [==============================] - 0s 2ms/step - loss: 1.0990 - accuracy: 0.3398\n",
            "Epoch 1/5\n"
          ]
        },
        {
          "output_type": "stream",
          "name": "stderr",
          "text": [
            "/usr/local/lib/python3.7/dist-packages/tensorflow/python/util/dispatch.py:1082: UserWarning: \"`sparse_categorical_crossentropy` received `from_logits=True`, but the `output` argument was produced by a sigmoid or softmax activation and thus does not represent logits. Was this intended?\"\n",
            "  return dispatch_target(*args, **kwargs)\n"
          ]
        },
        {
          "output_type": "stream",
          "name": "stdout",
          "text": [
            "64/64 [==============================] - 0s 2ms/step - loss: 1.0986 - accuracy: 0.3340\n",
            "Epoch 2/5\n",
            "64/64 [==============================] - 0s 2ms/step - loss: 1.0986 - accuracy: 0.3438\n",
            "Epoch 3/5\n",
            "64/64 [==============================] - 0s 2ms/step - loss: 1.0985 - accuracy: 0.3438\n",
            "Epoch 4/5\n",
            "64/64 [==============================] - 0s 3ms/step - loss: 1.0985 - accuracy: 0.3438\n",
            "Epoch 5/5\n",
            "64/64 [==============================] - 0s 2ms/step - loss: 1.0985 - accuracy: 0.3438\n",
            "32/32 [==============================] - 0s 2ms/step - loss: 1.0985 - accuracy: 0.3281\n",
            "Epoch 1/5\n"
          ]
        },
        {
          "output_type": "stream",
          "name": "stderr",
          "text": [
            "/usr/local/lib/python3.7/dist-packages/tensorflow/python/util/dispatch.py:1082: UserWarning: \"`sparse_categorical_crossentropy` received `from_logits=True`, but the `output` argument was produced by a sigmoid or softmax activation and thus does not represent logits. Was this intended?\"\n",
            "  return dispatch_target(*args, **kwargs)\n"
          ]
        },
        {
          "output_type": "stream",
          "name": "stdout",
          "text": [
            "64/64 [==============================] - 0s 2ms/step - loss: 1.0987 - accuracy: 0.2852\n",
            "Epoch 2/5\n",
            "64/64 [==============================] - 0s 2ms/step - loss: 1.0986 - accuracy: 0.3086\n",
            "Epoch 3/5\n",
            "64/64 [==============================] - 0s 2ms/step - loss: 1.0986 - accuracy: 0.3477\n",
            "Epoch 4/5\n",
            "64/64 [==============================] - 0s 2ms/step - loss: 1.0986 - accuracy: 0.3477\n",
            "Epoch 5/5\n",
            "64/64 [==============================] - 0s 2ms/step - loss: 1.0986 - accuracy: 0.3477\n",
            "32/32 [==============================] - 0s 2ms/step - loss: 1.0985 - accuracy: 0.3516\n",
            "Epoch 1/5\n"
          ]
        },
        {
          "output_type": "stream",
          "name": "stderr",
          "text": [
            "/usr/local/lib/python3.7/dist-packages/tensorflow/python/util/dispatch.py:1082: UserWarning: \"`sparse_categorical_crossentropy` received `from_logits=True`, but the `output` argument was produced by a sigmoid or softmax activation and thus does not represent logits. Was this intended?\"\n",
            "  return dispatch_target(*args, **kwargs)\n"
          ]
        },
        {
          "output_type": "stream",
          "name": "stdout",
          "text": [
            "64/64 [==============================] - 0s 2ms/step - loss: 1.0986 - accuracy: 0.3359\n",
            "Epoch 2/5\n",
            "64/64 [==============================] - 0s 2ms/step - loss: 1.0985 - accuracy: 0.3535\n",
            "Epoch 3/5\n",
            "64/64 [==============================] - 0s 2ms/step - loss: 1.0985 - accuracy: 0.3535\n",
            "Epoch 4/5\n",
            "64/64 [==============================] - 0s 3ms/step - loss: 1.0984 - accuracy: 0.3535\n",
            "Epoch 5/5\n",
            "64/64 [==============================] - 0s 2ms/step - loss: 1.0984 - accuracy: 0.3535\n",
            "32/32 [==============================] - 0s 2ms/step - loss: 1.0986 - accuracy: 0.3398\n",
            "Epoch 1/5\n"
          ]
        },
        {
          "output_type": "stream",
          "name": "stderr",
          "text": [
            "/usr/local/lib/python3.7/dist-packages/tensorflow/python/util/dispatch.py:1082: UserWarning: \"`sparse_categorical_crossentropy` received `from_logits=True`, but the `output` argument was produced by a sigmoid or softmax activation and thus does not represent logits. Was this intended?\"\n",
            "  return dispatch_target(*args, **kwargs)\n"
          ]
        },
        {
          "output_type": "stream",
          "name": "stdout",
          "text": [
            "64/64 [==============================] - 0s 2ms/step - loss: 1.0986 - accuracy: 0.3379\n",
            "Epoch 2/5\n",
            "64/64 [==============================] - 0s 3ms/step - loss: 1.0986 - accuracy: 0.3457\n",
            "Epoch 3/5\n",
            "64/64 [==============================] - 0s 2ms/step - loss: 1.0986 - accuracy: 0.3086\n",
            "Epoch 4/5\n",
            "64/64 [==============================] - 0s 2ms/step - loss: 1.0986 - accuracy: 0.3086\n",
            "Epoch 5/5\n",
            "64/64 [==============================] - 0s 3ms/step - loss: 1.0986 - accuracy: 0.3438\n",
            "32/32 [==============================] - 0s 2ms/step - loss: 1.0986 - accuracy: 0.3555\n",
            "Epoch 1/5\n"
          ]
        },
        {
          "output_type": "stream",
          "name": "stderr",
          "text": [
            "/usr/local/lib/python3.7/dist-packages/tensorflow/python/util/dispatch.py:1082: UserWarning: \"`sparse_categorical_crossentropy` received `from_logits=True`, but the `output` argument was produced by a sigmoid or softmax activation and thus does not represent logits. Was this intended?\"\n",
            "  return dispatch_target(*args, **kwargs)\n"
          ]
        },
        {
          "output_type": "stream",
          "name": "stdout",
          "text": [
            "64/64 [==============================] - 0s 2ms/step - loss: 1.0986 - accuracy: 0.2910\n",
            "Epoch 2/5\n",
            "64/64 [==============================] - 0s 3ms/step - loss: 1.0986 - accuracy: 0.3477\n",
            "Epoch 3/5\n",
            "64/64 [==============================] - 0s 3ms/step - loss: 1.0986 - accuracy: 0.3477\n",
            "Epoch 4/5\n",
            "64/64 [==============================] - 0s 3ms/step - loss: 1.0986 - accuracy: 0.3477\n",
            "Epoch 5/5\n",
            "64/64 [==============================] - 0s 3ms/step - loss: 1.0986 - accuracy: 0.3477\n",
            "32/32 [==============================] - 0s 2ms/step - loss: 1.0986 - accuracy: 0.3516\n",
            "Epoch 1/5\n"
          ]
        },
        {
          "output_type": "stream",
          "name": "stderr",
          "text": [
            "/usr/local/lib/python3.7/dist-packages/tensorflow/python/util/dispatch.py:1082: UserWarning: \"`sparse_categorical_crossentropy` received `from_logits=True`, but the `output` argument was produced by a sigmoid or softmax activation and thus does not represent logits. Was this intended?\"\n",
            "  return dispatch_target(*args, **kwargs)\n"
          ]
        },
        {
          "output_type": "stream",
          "name": "stdout",
          "text": [
            "64/64 [==============================] - 0s 2ms/step - loss: 1.0986 - accuracy: 0.3477\n",
            "Epoch 2/5\n",
            "64/64 [==============================] - 0s 2ms/step - loss: 1.0986 - accuracy: 0.3535\n",
            "Epoch 3/5\n",
            "64/64 [==============================] - 0s 2ms/step - loss: 1.0986 - accuracy: 0.3535\n",
            "Epoch 4/5\n",
            "64/64 [==============================] - 0s 2ms/step - loss: 1.0986 - accuracy: 0.3535\n",
            "Epoch 5/5\n",
            "64/64 [==============================] - 0s 3ms/step - loss: 1.0986 - accuracy: 0.3535\n",
            "32/32 [==============================] - 0s 3ms/step - loss: 1.0986 - accuracy: 0.3398\n",
            "Epoch 1/5\n"
          ]
        },
        {
          "output_type": "stream",
          "name": "stderr",
          "text": [
            "/usr/local/lib/python3.7/dist-packages/tensorflow/python/util/dispatch.py:1082: UserWarning: \"`sparse_categorical_crossentropy` received `from_logits=True`, but the `output` argument was produced by a sigmoid or softmax activation and thus does not represent logits. Was this intended?\"\n",
            "  return dispatch_target(*args, **kwargs)\n"
          ]
        },
        {
          "output_type": "stream",
          "name": "stdout",
          "text": [
            "64/64 [==============================] - 0s 2ms/step - loss: 1.0990 - accuracy: 0.3125\n",
            "Epoch 2/5\n",
            "64/64 [==============================] - 0s 2ms/step - loss: 1.0984 - accuracy: 0.3262\n",
            "Epoch 3/5\n",
            "64/64 [==============================] - 0s 2ms/step - loss: 1.0981 - accuracy: 0.3438\n",
            "Epoch 4/5\n",
            "64/64 [==============================] - 0s 3ms/step - loss: 1.0979 - accuracy: 0.3125\n",
            "Epoch 5/5\n",
            "64/64 [==============================] - 0s 2ms/step - loss: 1.0981 - accuracy: 0.3301\n",
            "32/32 [==============================] - 0s 2ms/step - loss: 1.0979 - accuracy: 0.3555\n",
            "Epoch 1/5\n"
          ]
        },
        {
          "output_type": "stream",
          "name": "stderr",
          "text": [
            "/usr/local/lib/python3.7/dist-packages/tensorflow/python/util/dispatch.py:1082: UserWarning: \"`sparse_categorical_crossentropy` received `from_logits=True`, but the `output` argument was produced by a sigmoid or softmax activation and thus does not represent logits. Was this intended?\"\n",
            "  return dispatch_target(*args, **kwargs)\n"
          ]
        },
        {
          "output_type": "stream",
          "name": "stdout",
          "text": [
            "64/64 [==============================] - 0s 2ms/step - loss: 1.0992 - accuracy: 0.2969\n",
            "Epoch 2/5\n",
            "64/64 [==============================] - 0s 2ms/step - loss: 1.0986 - accuracy: 0.3418\n",
            "Epoch 3/5\n",
            "64/64 [==============================] - 0s 2ms/step - loss: 1.0986 - accuracy: 0.3477\n",
            "Epoch 4/5\n",
            "64/64 [==============================] - 0s 3ms/step - loss: 1.0985 - accuracy: 0.3477\n",
            "Epoch 5/5\n",
            "64/64 [==============================] - 0s 2ms/step - loss: 1.0986 - accuracy: 0.3477\n",
            "32/32 [==============================] - 0s 2ms/step - loss: 1.0974 - accuracy: 0.3516\n",
            "Epoch 1/5\n"
          ]
        },
        {
          "output_type": "stream",
          "name": "stderr",
          "text": [
            "/usr/local/lib/python3.7/dist-packages/tensorflow/python/util/dispatch.py:1082: UserWarning: \"`sparse_categorical_crossentropy` received `from_logits=True`, but the `output` argument was produced by a sigmoid or softmax activation and thus does not represent logits. Was this intended?\"\n",
            "  return dispatch_target(*args, **kwargs)\n"
          ]
        },
        {
          "output_type": "stream",
          "name": "stdout",
          "text": [
            "64/64 [==============================] - 0s 2ms/step - loss: 1.0986 - accuracy: 0.3516\n",
            "Epoch 2/5\n",
            "64/64 [==============================] - 0s 2ms/step - loss: 1.0976 - accuracy: 0.3535\n",
            "Epoch 3/5\n",
            "64/64 [==============================] - 0s 2ms/step - loss: 1.0977 - accuracy: 0.3535\n",
            "Epoch 4/5\n",
            "64/64 [==============================] - 0s 2ms/step - loss: 1.0973 - accuracy: 0.3535\n",
            "Epoch 5/5\n",
            "64/64 [==============================] - 0s 3ms/step - loss: 1.0972 - accuracy: 0.3535\n",
            "32/32 [==============================] - 0s 2ms/step - loss: 1.0993 - accuracy: 0.3398\n",
            "Epoch 1/5\n"
          ]
        },
        {
          "output_type": "stream",
          "name": "stderr",
          "text": [
            "/usr/local/lib/python3.7/dist-packages/tensorflow/python/util/dispatch.py:1082: UserWarning: \"`sparse_categorical_crossentropy` received `from_logits=True`, but the `output` argument was produced by a sigmoid or softmax activation and thus does not represent logits. Was this intended?\"\n",
            "  return dispatch_target(*args, **kwargs)\n"
          ]
        },
        {
          "output_type": "stream",
          "name": "stdout",
          "text": [
            "64/64 [==============================] - 0s 3ms/step - loss: 1.0989 - accuracy: 0.3301\n",
            "Epoch 2/5\n",
            "64/64 [==============================] - 0s 2ms/step - loss: 1.0986 - accuracy: 0.2949\n",
            "Epoch 3/5\n",
            "64/64 [==============================] - 0s 2ms/step - loss: 1.0983 - accuracy: 0.3457\n",
            "Epoch 4/5\n",
            "64/64 [==============================] - 0s 2ms/step - loss: 1.0983 - accuracy: 0.3086\n",
            "Epoch 5/5\n",
            "64/64 [==============================] - 0s 3ms/step - loss: 1.0981 - accuracy: 0.3457\n",
            "32/32 [==============================] - 0s 2ms/step - loss: 1.0981 - accuracy: 0.3555\n",
            "Epoch 1/5\n"
          ]
        },
        {
          "output_type": "stream",
          "name": "stderr",
          "text": [
            "/usr/local/lib/python3.7/dist-packages/tensorflow/python/util/dispatch.py:1082: UserWarning: \"`sparse_categorical_crossentropy` received `from_logits=True`, but the `output` argument was produced by a sigmoid or softmax activation and thus does not represent logits. Was this intended?\"\n",
            "  return dispatch_target(*args, **kwargs)\n"
          ]
        },
        {
          "output_type": "stream",
          "name": "stdout",
          "text": [
            "64/64 [==============================] - 0s 2ms/step - loss: 1.0988 - accuracy: 0.3418\n",
            "Epoch 2/5\n",
            "64/64 [==============================] - 0s 3ms/step - loss: 1.0985 - accuracy: 0.3477\n",
            "Epoch 3/5\n",
            "64/64 [==============================] - 0s 2ms/step - loss: 1.0986 - accuracy: 0.3477\n",
            "Epoch 4/5\n",
            "64/64 [==============================] - 0s 3ms/step - loss: 1.0985 - accuracy: 0.3477\n",
            "Epoch 5/5\n",
            "64/64 [==============================] - 0s 2ms/step - loss: 1.0985 - accuracy: 0.3477\n",
            "32/32 [==============================] - 0s 2ms/step - loss: 1.0981 - accuracy: 0.3516\n",
            "Epoch 1/5\n"
          ]
        },
        {
          "output_type": "stream",
          "name": "stderr",
          "text": [
            "/usr/local/lib/python3.7/dist-packages/tensorflow/python/util/dispatch.py:1082: UserWarning: \"`sparse_categorical_crossentropy` received `from_logits=True`, but the `output` argument was produced by a sigmoid or softmax activation and thus does not represent logits. Was this intended?\"\n",
            "  return dispatch_target(*args, **kwargs)\n"
          ]
        },
        {
          "output_type": "stream",
          "name": "stdout",
          "text": [
            "64/64 [==============================] - 0s 2ms/step - loss: 1.0986 - accuracy: 0.3496\n",
            "Epoch 2/5\n",
            "64/64 [==============================] - 0s 2ms/step - loss: 1.0983 - accuracy: 0.3535\n",
            "Epoch 3/5\n",
            "64/64 [==============================] - 0s 3ms/step - loss: 1.0979 - accuracy: 0.3535\n",
            "Epoch 4/5\n",
            "64/64 [==============================] - 0s 2ms/step - loss: 1.0976 - accuracy: 0.3535\n",
            "Epoch 5/5\n",
            "64/64 [==============================] - 0s 2ms/step - loss: 1.0975 - accuracy: 0.3535\n",
            "32/32 [==============================] - 0s 2ms/step - loss: 1.0986 - accuracy: 0.3398\n",
            "Epoch 1/5\n"
          ]
        },
        {
          "output_type": "stream",
          "name": "stderr",
          "text": [
            "/usr/local/lib/python3.7/dist-packages/tensorflow/python/util/dispatch.py:1082: UserWarning: \"`sparse_categorical_crossentropy` received `from_logits=True`, but the `output` argument was produced by a sigmoid or softmax activation and thus does not represent logits. Was this intended?\"\n",
            "  return dispatch_target(*args, **kwargs)\n"
          ]
        },
        {
          "output_type": "stream",
          "name": "stdout",
          "text": [
            "64/64 [==============================] - 1s 3ms/step - loss: 1.0988 - accuracy: 0.3418\n",
            "Epoch 2/5\n",
            "64/64 [==============================] - 0s 3ms/step - loss: 1.0984 - accuracy: 0.3379\n",
            "Epoch 3/5\n",
            "64/64 [==============================] - 0s 3ms/step - loss: 1.0982 - accuracy: 0.3457\n",
            "Epoch 4/5\n",
            "64/64 [==============================] - 0s 3ms/step - loss: 1.0981 - accuracy: 0.3184\n",
            "Epoch 5/5\n",
            "64/64 [==============================] - 0s 3ms/step - loss: 1.0981 - accuracy: 0.3320\n",
            "32/32 [==============================] - 0s 2ms/step - loss: 1.0979 - accuracy: 0.3555\n",
            "Epoch 1/5\n"
          ]
        },
        {
          "output_type": "stream",
          "name": "stderr",
          "text": [
            "/usr/local/lib/python3.7/dist-packages/tensorflow/python/util/dispatch.py:1082: UserWarning: \"`sparse_categorical_crossentropy` received `from_logits=True`, but the `output` argument was produced by a sigmoid or softmax activation and thus does not represent logits. Was this intended?\"\n",
            "  return dispatch_target(*args, **kwargs)\n"
          ]
        },
        {
          "output_type": "stream",
          "name": "stdout",
          "text": [
            "64/64 [==============================] - 1s 3ms/step - loss: 1.0989 - accuracy: 0.3418\n",
            "Epoch 2/5\n",
            "64/64 [==============================] - 0s 3ms/step - loss: 1.0987 - accuracy: 0.3477\n",
            "Epoch 3/5\n",
            "64/64 [==============================] - 0s 3ms/step - loss: 1.0987 - accuracy: 0.3477\n",
            "Epoch 4/5\n",
            "64/64 [==============================] - 0s 3ms/step - loss: 1.0986 - accuracy: 0.3477\n",
            "Epoch 5/5\n",
            "64/64 [==============================] - 0s 3ms/step - loss: 1.0985 - accuracy: 0.3477\n",
            "32/32 [==============================] - 0s 2ms/step - loss: 1.0974 - accuracy: 0.3516\n",
            "Epoch 1/5\n"
          ]
        },
        {
          "output_type": "stream",
          "name": "stderr",
          "text": [
            "/usr/local/lib/python3.7/dist-packages/tensorflow/python/util/dispatch.py:1082: UserWarning: \"`sparse_categorical_crossentropy` received `from_logits=True`, but the `output` argument was produced by a sigmoid or softmax activation and thus does not represent logits. Was this intended?\"\n",
            "  return dispatch_target(*args, **kwargs)\n"
          ]
        },
        {
          "output_type": "stream",
          "name": "stdout",
          "text": [
            "64/64 [==============================] - 1s 3ms/step - loss: 1.0987 - accuracy: 0.3125\n",
            "Epoch 2/5\n",
            "64/64 [==============================] - 0s 3ms/step - loss: 1.0981 - accuracy: 0.3535\n",
            "Epoch 3/5\n",
            "64/64 [==============================] - 0s 3ms/step - loss: 1.0976 - accuracy: 0.3203\n",
            "Epoch 4/5\n",
            "64/64 [==============================] - 0s 3ms/step - loss: 1.0976 - accuracy: 0.3535\n",
            "Epoch 5/5\n",
            "64/64 [==============================] - 0s 4ms/step - loss: 1.0972 - accuracy: 0.3535\n",
            "32/32 [==============================] - 0s 2ms/step - loss: 1.0991 - accuracy: 0.3398\n",
            "Epoch 1/5\n"
          ]
        },
        {
          "output_type": "stream",
          "name": "stderr",
          "text": [
            "/usr/local/lib/python3.7/dist-packages/tensorflow/python/util/dispatch.py:1082: UserWarning: \"`sparse_categorical_crossentropy` received `from_logits=True`, but the `output` argument was produced by a sigmoid or softmax activation and thus does not represent logits. Was this intended?\"\n",
            "  return dispatch_target(*args, **kwargs)\n"
          ]
        },
        {
          "output_type": "stream",
          "name": "stdout",
          "text": [
            "64/64 [==============================] - 0s 2ms/step - loss: 1.0979 - accuracy: 0.3574\n",
            "Epoch 2/5\n",
            "64/64 [==============================] - 0s 3ms/step - loss: 1.0869 - accuracy: 0.4277\n",
            "Epoch 3/5\n",
            "64/64 [==============================] - 0s 2ms/step - loss: 1.0767 - accuracy: 0.4531\n",
            "Epoch 4/5\n",
            "64/64 [==============================] - 0s 2ms/step - loss: 1.0716 - accuracy: 0.4785\n",
            "Epoch 5/5\n",
            "64/64 [==============================] - 0s 2ms/step - loss: 1.0604 - accuracy: 0.5098\n",
            "32/32 [==============================] - 0s 2ms/step - loss: 1.0607 - accuracy: 0.4727\n",
            "Epoch 1/5\n"
          ]
        },
        {
          "output_type": "stream",
          "name": "stderr",
          "text": [
            "/usr/local/lib/python3.7/dist-packages/tensorflow/python/util/dispatch.py:1082: UserWarning: \"`sparse_categorical_crossentropy` received `from_logits=True`, but the `output` argument was produced by a sigmoid or softmax activation and thus does not represent logits. Was this intended?\"\n",
            "  return dispatch_target(*args, **kwargs)\n"
          ]
        },
        {
          "output_type": "stream",
          "name": "stdout",
          "text": [
            "64/64 [==============================] - 0s 2ms/step - loss: 1.1049 - accuracy: 0.3203\n",
            "Epoch 2/5\n",
            "64/64 [==============================] - 0s 2ms/step - loss: 1.0953 - accuracy: 0.3691\n",
            "Epoch 3/5\n",
            "64/64 [==============================] - 0s 3ms/step - loss: 1.0904 - accuracy: 0.4199\n",
            "Epoch 4/5\n",
            "64/64 [==============================] - 0s 3ms/step - loss: 1.0860 - accuracy: 0.4238\n",
            "Epoch 5/5\n",
            "64/64 [==============================] - 0s 2ms/step - loss: 1.0799 - accuracy: 0.4512\n",
            "32/32 [==============================] - 0s 3ms/step - loss: 1.0777 - accuracy: 0.4648\n",
            "Epoch 1/5\n"
          ]
        },
        {
          "output_type": "stream",
          "name": "stderr",
          "text": [
            "/usr/local/lib/python3.7/dist-packages/tensorflow/python/util/dispatch.py:1082: UserWarning: \"`sparse_categorical_crossentropy` received `from_logits=True`, but the `output` argument was produced by a sigmoid or softmax activation and thus does not represent logits. Was this intended?\"\n",
            "  return dispatch_target(*args, **kwargs)\n"
          ]
        },
        {
          "output_type": "stream",
          "name": "stdout",
          "text": [
            "64/64 [==============================] - 0s 2ms/step - loss: 1.1025 - accuracy: 0.3535\n",
            "Epoch 2/5\n",
            "64/64 [==============================] - 0s 2ms/step - loss: 1.0994 - accuracy: 0.3594\n",
            "Epoch 3/5\n",
            "64/64 [==============================] - 0s 2ms/step - loss: 1.0969 - accuracy: 0.3633\n",
            "Epoch 4/5\n",
            "64/64 [==============================] - 0s 2ms/step - loss: 1.0943 - accuracy: 0.3984\n",
            "Epoch 5/5\n",
            "64/64 [==============================] - 0s 3ms/step - loss: 1.0921 - accuracy: 0.3750\n",
            "32/32 [==============================] - 0s 2ms/step - loss: 1.0953 - accuracy: 0.4141\n",
            "Epoch 1/5\n"
          ]
        },
        {
          "output_type": "stream",
          "name": "stderr",
          "text": [
            "/usr/local/lib/python3.7/dist-packages/tensorflow/python/util/dispatch.py:1082: UserWarning: \"`sparse_categorical_crossentropy` received `from_logits=True`, but the `output` argument was produced by a sigmoid or softmax activation and thus does not represent logits. Was this intended?\"\n",
            "  return dispatch_target(*args, **kwargs)\n"
          ]
        },
        {
          "output_type": "stream",
          "name": "stdout",
          "text": [
            "64/64 [==============================] - 1s 3ms/step - loss: 1.0872 - accuracy: 0.3750\n",
            "Epoch 2/5\n",
            "64/64 [==============================] - 0s 3ms/step - loss: 1.0565 - accuracy: 0.5039\n",
            "Epoch 3/5\n",
            "64/64 [==============================] - 0s 3ms/step - loss: 1.0321 - accuracy: 0.5762\n",
            "Epoch 4/5\n",
            "64/64 [==============================] - 0s 3ms/step - loss: 1.0042 - accuracy: 0.6035\n",
            "Epoch 5/5\n",
            "64/64 [==============================] - 0s 3ms/step - loss: 0.9800 - accuracy: 0.6660\n",
            "32/32 [==============================] - 0s 2ms/step - loss: 0.9687 - accuracy: 0.6836\n",
            "Epoch 1/5\n"
          ]
        },
        {
          "output_type": "stream",
          "name": "stderr",
          "text": [
            "/usr/local/lib/python3.7/dist-packages/tensorflow/python/util/dispatch.py:1082: UserWarning: \"`sparse_categorical_crossentropy` received `from_logits=True`, but the `output` argument was produced by a sigmoid or softmax activation and thus does not represent logits. Was this intended?\"\n",
            "  return dispatch_target(*args, **kwargs)\n"
          ]
        },
        {
          "output_type": "stream",
          "name": "stdout",
          "text": [
            "64/64 [==============================] - 1s 3ms/step - loss: 1.0897 - accuracy: 0.3906\n",
            "Epoch 2/5\n",
            "64/64 [==============================] - 0s 3ms/step - loss: 1.0384 - accuracy: 0.4805\n",
            "Epoch 3/5\n",
            "64/64 [==============================] - 0s 2ms/step - loss: 0.9999 - accuracy: 0.5488\n",
            "Epoch 4/5\n",
            "64/64 [==============================] - 0s 3ms/step - loss: 0.9779 - accuracy: 0.5762\n",
            "Epoch 5/5\n",
            "64/64 [==============================] - 0s 3ms/step - loss: 0.9478 - accuracy: 0.6172\n",
            "32/32 [==============================] - 0s 2ms/step - loss: 0.9513 - accuracy: 0.5703\n",
            "Epoch 1/5\n"
          ]
        },
        {
          "output_type": "stream",
          "name": "stderr",
          "text": [
            "/usr/local/lib/python3.7/dist-packages/tensorflow/python/util/dispatch.py:1082: UserWarning: \"`sparse_categorical_crossentropy` received `from_logits=True`, but the `output` argument was produced by a sigmoid or softmax activation and thus does not represent logits. Was this intended?\"\n",
            "  return dispatch_target(*args, **kwargs)\n"
          ]
        },
        {
          "output_type": "stream",
          "name": "stdout",
          "text": [
            "64/64 [==============================] - 1s 2ms/step - loss: 1.0803 - accuracy: 0.3828\n",
            "Epoch 2/5\n",
            "64/64 [==============================] - 0s 3ms/step - loss: 1.0317 - accuracy: 0.5020\n",
            "Epoch 3/5\n",
            "64/64 [==============================] - 0s 3ms/step - loss: 0.9918 - accuracy: 0.6270\n",
            "Epoch 4/5\n",
            "64/64 [==============================] - 0s 3ms/step - loss: 0.9644 - accuracy: 0.6406\n",
            "Epoch 5/5\n",
            "64/64 [==============================] - 0s 2ms/step - loss: 0.9365 - accuracy: 0.7031\n",
            "32/32 [==============================] - 0s 2ms/step - loss: 0.9620 - accuracy: 0.6055\n",
            "Epoch 1/5\n"
          ]
        },
        {
          "output_type": "stream",
          "name": "stderr",
          "text": [
            "/usr/local/lib/python3.7/dist-packages/tensorflow/python/util/dispatch.py:1082: UserWarning: \"`sparse_categorical_crossentropy` received `from_logits=True`, but the `output` argument was produced by a sigmoid or softmax activation and thus does not represent logits. Was this intended?\"\n",
            "  return dispatch_target(*args, **kwargs)\n"
          ]
        },
        {
          "output_type": "stream",
          "name": "stdout",
          "text": [
            "64/64 [==============================] - 0s 2ms/step - loss: 1.1044 - accuracy: 0.3105\n",
            "Epoch 2/5\n",
            "64/64 [==============================] - 0s 2ms/step - loss: 1.1025 - accuracy: 0.3320\n",
            "Epoch 3/5\n",
            "64/64 [==============================] - 0s 2ms/step - loss: 1.1011 - accuracy: 0.3359\n",
            "Epoch 4/5\n",
            "64/64 [==============================] - 0s 3ms/step - loss: 1.0999 - accuracy: 0.3379\n",
            "Epoch 5/5\n",
            "64/64 [==============================] - 0s 2ms/step - loss: 1.0988 - accuracy: 0.3398\n",
            "32/32 [==============================] - 0s 2ms/step - loss: 1.0977 - accuracy: 0.3125\n",
            "Epoch 1/5\n"
          ]
        },
        {
          "output_type": "stream",
          "name": "stderr",
          "text": [
            "/usr/local/lib/python3.7/dist-packages/tensorflow/python/util/dispatch.py:1082: UserWarning: \"`sparse_categorical_crossentropy` received `from_logits=True`, but the `output` argument was produced by a sigmoid or softmax activation and thus does not represent logits. Was this intended?\"\n",
            "  return dispatch_target(*args, **kwargs)\n"
          ]
        },
        {
          "output_type": "stream",
          "name": "stdout",
          "text": [
            "64/64 [==============================] - 0s 2ms/step - loss: 1.0996 - accuracy: 0.3594\n",
            "Epoch 2/5\n",
            "64/64 [==============================] - 0s 2ms/step - loss: 1.0981 - accuracy: 0.3848\n",
            "Epoch 3/5\n",
            "64/64 [==============================] - 0s 2ms/step - loss: 1.0969 - accuracy: 0.3965\n",
            "Epoch 4/5\n",
            "64/64 [==============================] - 0s 2ms/step - loss: 1.0957 - accuracy: 0.3906\n",
            "Epoch 5/5\n",
            "64/64 [==============================] - 0s 2ms/step - loss: 1.0948 - accuracy: 0.3984\n",
            "32/32 [==============================] - 0s 2ms/step - loss: 1.1022 - accuracy: 0.3633\n",
            "Epoch 1/5\n"
          ]
        },
        {
          "output_type": "stream",
          "name": "stderr",
          "text": [
            "/usr/local/lib/python3.7/dist-packages/tensorflow/python/util/dispatch.py:1082: UserWarning: \"`sparse_categorical_crossentropy` received `from_logits=True`, but the `output` argument was produced by a sigmoid or softmax activation and thus does not represent logits. Was this intended?\"\n",
            "  return dispatch_target(*args, **kwargs)\n"
          ]
        },
        {
          "output_type": "stream",
          "name": "stdout",
          "text": [
            "64/64 [==============================] - 0s 3ms/step - loss: 1.1046 - accuracy: 0.2930\n",
            "Epoch 2/5\n",
            "64/64 [==============================] - 0s 2ms/step - loss: 1.1033 - accuracy: 0.2988\n",
            "Epoch 3/5\n",
            "64/64 [==============================] - 0s 2ms/step - loss: 1.1023 - accuracy: 0.2969\n",
            "Epoch 4/5\n",
            "64/64 [==============================] - 0s 2ms/step - loss: 1.1014 - accuracy: 0.2969\n",
            "Epoch 5/5\n",
            "64/64 [==============================] - 0s 3ms/step - loss: 1.1005 - accuracy: 0.3047\n",
            "32/32 [==============================] - 0s 2ms/step - loss: 1.0985 - accuracy: 0.3438\n",
            "Epoch 1/5\n"
          ]
        },
        {
          "output_type": "stream",
          "name": "stderr",
          "text": [
            "/usr/local/lib/python3.7/dist-packages/tensorflow/python/util/dispatch.py:1082: UserWarning: \"`sparse_categorical_crossentropy` received `from_logits=True`, but the `output` argument was produced by a sigmoid or softmax activation and thus does not represent logits. Was this intended?\"\n",
            "  return dispatch_target(*args, **kwargs)\n"
          ]
        },
        {
          "output_type": "stream",
          "name": "stdout",
          "text": [
            "64/64 [==============================] - 0s 2ms/step - loss: 1.1084 - accuracy: 0.3438\n",
            "Epoch 2/5\n",
            "64/64 [==============================] - 0s 2ms/step - loss: 1.1082 - accuracy: 0.3438\n",
            "Epoch 3/5\n",
            "64/64 [==============================] - 0s 2ms/step - loss: 1.1081 - accuracy: 0.3438\n",
            "Epoch 4/5\n",
            "64/64 [==============================] - 0s 2ms/step - loss: 1.1080 - accuracy: 0.3438\n",
            "Epoch 5/5\n",
            "64/64 [==============================] - 0s 3ms/step - loss: 1.1079 - accuracy: 0.3438\n",
            "32/32 [==============================] - 0s 2ms/step - loss: 1.1078 - accuracy: 0.3320\n",
            "Epoch 1/5\n"
          ]
        },
        {
          "output_type": "stream",
          "name": "stderr",
          "text": [
            "/usr/local/lib/python3.7/dist-packages/tensorflow/python/util/dispatch.py:1082: UserWarning: \"`sparse_categorical_crossentropy` received `from_logits=True`, but the `output` argument was produced by a sigmoid or softmax activation and thus does not represent logits. Was this intended?\"\n",
            "  return dispatch_target(*args, **kwargs)\n"
          ]
        },
        {
          "output_type": "stream",
          "name": "stdout",
          "text": [
            "64/64 [==============================] - 0s 2ms/step - loss: 1.1332 - accuracy: 0.3320\n",
            "Epoch 2/5\n",
            "64/64 [==============================] - 0s 3ms/step - loss: 1.1329 - accuracy: 0.3320\n",
            "Epoch 3/5\n",
            "64/64 [==============================] - 0s 2ms/step - loss: 1.1327 - accuracy: 0.3320\n",
            "Epoch 4/5\n",
            "64/64 [==============================] - 0s 3ms/step - loss: 1.1324 - accuracy: 0.3320\n",
            "Epoch 5/5\n",
            "64/64 [==============================] - 0s 2ms/step - loss: 1.1321 - accuracy: 0.3320\n",
            "32/32 [==============================] - 0s 2ms/step - loss: 1.1311 - accuracy: 0.3516\n",
            "Epoch 1/5\n"
          ]
        },
        {
          "output_type": "stream",
          "name": "stderr",
          "text": [
            "/usr/local/lib/python3.7/dist-packages/tensorflow/python/util/dispatch.py:1082: UserWarning: \"`sparse_categorical_crossentropy` received `from_logits=True`, but the `output` argument was produced by a sigmoid or softmax activation and thus does not represent logits. Was this intended?\"\n",
            "  return dispatch_target(*args, **kwargs)\n"
          ]
        },
        {
          "output_type": "stream",
          "name": "stdout",
          "text": [
            "64/64 [==============================] - 0s 2ms/step - loss: 1.0905 - accuracy: 0.3730\n",
            "Epoch 2/5\n",
            "64/64 [==============================] - 0s 2ms/step - loss: 1.0904 - accuracy: 0.3730\n",
            "Epoch 3/5\n",
            "64/64 [==============================] - 0s 3ms/step - loss: 1.0904 - accuracy: 0.3789\n",
            "Epoch 4/5\n",
            "64/64 [==============================] - 0s 2ms/step - loss: 1.0903 - accuracy: 0.3789\n",
            "Epoch 5/5\n",
            "64/64 [==============================] - 0s 3ms/step - loss: 1.0903 - accuracy: 0.3809\n",
            "32/32 [==============================] - 0s 2ms/step - loss: 1.0950 - accuracy: 0.3320\n",
            "Epoch 1/5\n"
          ]
        },
        {
          "output_type": "stream",
          "name": "stderr",
          "text": [
            "/usr/local/lib/python3.7/dist-packages/tensorflow/python/util/dispatch.py:1082: UserWarning: \"`sparse_categorical_crossentropy` received `from_logits=True`, but the `output` argument was produced by a sigmoid or softmax activation and thus does not represent logits. Was this intended?\"\n",
            "  return dispatch_target(*args, **kwargs)\n"
          ]
        },
        {
          "output_type": "stream",
          "name": "stdout",
          "text": [
            "64/64 [==============================] - 0s 2ms/step - loss: 1.0972 - accuracy: 0.3613\n",
            "Epoch 2/5\n",
            "64/64 [==============================] - 0s 2ms/step - loss: 1.0572 - accuracy: 0.4824\n",
            "Epoch 3/5\n",
            "64/64 [==============================] - 0s 2ms/step - loss: 1.0001 - accuracy: 0.6348\n",
            "Epoch 4/5\n",
            "64/64 [==============================] - 0s 3ms/step - loss: 0.9555 - accuracy: 0.6719\n",
            "Epoch 5/5\n",
            "64/64 [==============================] - 0s 2ms/step - loss: 0.9213 - accuracy: 0.6797\n",
            "32/32 [==============================] - 0s 3ms/step - loss: 0.9020 - accuracy: 0.7188\n",
            "Epoch 1/5\n"
          ]
        },
        {
          "output_type": "stream",
          "name": "stderr",
          "text": [
            "/usr/local/lib/python3.7/dist-packages/tensorflow/python/util/dispatch.py:1082: UserWarning: \"`sparse_categorical_crossentropy` received `from_logits=True`, but the `output` argument was produced by a sigmoid or softmax activation and thus does not represent logits. Was this intended?\"\n",
            "  return dispatch_target(*args, **kwargs)\n"
          ]
        },
        {
          "output_type": "stream",
          "name": "stdout",
          "text": [
            "64/64 [==============================] - 0s 2ms/step - loss: 1.0807 - accuracy: 0.4082\n",
            "Epoch 2/5\n",
            "64/64 [==============================] - 0s 2ms/step - loss: 1.0270 - accuracy: 0.5195\n",
            "Epoch 3/5\n",
            "64/64 [==============================] - 0s 2ms/step - loss: 0.9844 - accuracy: 0.5742\n",
            "Epoch 4/5\n",
            "64/64 [==============================] - 0s 3ms/step - loss: 0.9387 - accuracy: 0.5449\n",
            "Epoch 5/5\n",
            "64/64 [==============================] - 0s 2ms/step - loss: 0.9118 - accuracy: 0.5664\n",
            "32/32 [==============================] - 0s 2ms/step - loss: 0.9282 - accuracy: 0.5352\n",
            "Epoch 1/5\n"
          ]
        },
        {
          "output_type": "stream",
          "name": "stderr",
          "text": [
            "/usr/local/lib/python3.7/dist-packages/tensorflow/python/util/dispatch.py:1082: UserWarning: \"`sparse_categorical_crossentropy` received `from_logits=True`, but the `output` argument was produced by a sigmoid or softmax activation and thus does not represent logits. Was this intended?\"\n",
            "  return dispatch_target(*args, **kwargs)\n"
          ]
        },
        {
          "output_type": "stream",
          "name": "stdout",
          "text": [
            "64/64 [==============================] - 0s 3ms/step - loss: 1.0894 - accuracy: 0.3809\n",
            "Epoch 2/5\n",
            "64/64 [==============================] - 0s 2ms/step - loss: 1.0354 - accuracy: 0.5391\n",
            "Epoch 3/5\n",
            "64/64 [==============================] - 0s 2ms/step - loss: 1.0003 - accuracy: 0.6094\n",
            "Epoch 4/5\n",
            "64/64 [==============================] - 0s 2ms/step - loss: 0.9668 - accuracy: 0.6602\n",
            "Epoch 5/5\n",
            "64/64 [==============================] - 0s 3ms/step - loss: 0.9267 - accuracy: 0.6934\n",
            "32/32 [==============================] - 0s 2ms/step - loss: 0.9542 - accuracy: 0.6211\n",
            "Epoch 1/5\n"
          ]
        },
        {
          "output_type": "stream",
          "name": "stderr",
          "text": [
            "/usr/local/lib/python3.7/dist-packages/tensorflow/python/util/dispatch.py:1082: UserWarning: \"`sparse_categorical_crossentropy` received `from_logits=True`, but the `output` argument was produced by a sigmoid or softmax activation and thus does not represent logits. Was this intended?\"\n",
            "  return dispatch_target(*args, **kwargs)\n"
          ]
        },
        {
          "output_type": "stream",
          "name": "stdout",
          "text": [
            "64/64 [==============================] - 0s 2ms/step - loss: 1.0973 - accuracy: 0.3164\n",
            "Epoch 2/5\n",
            "64/64 [==============================] - 0s 2ms/step - loss: 1.0797 - accuracy: 0.3945\n",
            "Epoch 3/5\n",
            "64/64 [==============================] - 0s 3ms/step - loss: 1.0663 - accuracy: 0.4180\n",
            "Epoch 4/5\n",
            "64/64 [==============================] - 0s 2ms/step - loss: 1.0515 - accuracy: 0.4727\n",
            "Epoch 5/5\n",
            "64/64 [==============================] - 0s 3ms/step - loss: 1.0387 - accuracy: 0.5586\n",
            "32/32 [==============================] - 0s 2ms/step - loss: 1.0353 - accuracy: 0.5156\n",
            "Epoch 1/5\n"
          ]
        },
        {
          "output_type": "stream",
          "name": "stderr",
          "text": [
            "/usr/local/lib/python3.7/dist-packages/tensorflow/python/util/dispatch.py:1082: UserWarning: \"`sparse_categorical_crossentropy` received `from_logits=True`, but the `output` argument was produced by a sigmoid or softmax activation and thus does not represent logits. Was this intended?\"\n",
            "  return dispatch_target(*args, **kwargs)\n"
          ]
        },
        {
          "output_type": "stream",
          "name": "stdout",
          "text": [
            "64/64 [==============================] - 0s 3ms/step - loss: 1.0996 - accuracy: 0.3730\n",
            "Epoch 2/5\n",
            "64/64 [==============================] - 0s 3ms/step - loss: 1.0857 - accuracy: 0.4902\n",
            "Epoch 3/5\n",
            "64/64 [==============================] - 0s 2ms/step - loss: 1.0671 - accuracy: 0.5332\n",
            "Epoch 4/5\n",
            "64/64 [==============================] - 0s 3ms/step - loss: 1.0450 - accuracy: 0.5508\n",
            "Epoch 5/5\n",
            "64/64 [==============================] - 0s 3ms/step - loss: 1.0299 - accuracy: 0.5684\n",
            "32/32 [==============================] - 0s 2ms/step - loss: 1.0177 - accuracy: 0.5820\n",
            "Epoch 1/5\n"
          ]
        },
        {
          "output_type": "stream",
          "name": "stderr",
          "text": [
            "/usr/local/lib/python3.7/dist-packages/tensorflow/python/util/dispatch.py:1082: UserWarning: \"`sparse_categorical_crossentropy` received `from_logits=True`, but the `output` argument was produced by a sigmoid or softmax activation and thus does not represent logits. Was this intended?\"\n",
            "  return dispatch_target(*args, **kwargs)\n"
          ]
        },
        {
          "output_type": "stream",
          "name": "stdout",
          "text": [
            "64/64 [==============================] - 0s 2ms/step - loss: 1.0953 - accuracy: 0.3750\n",
            "Epoch 2/5\n",
            "64/64 [==============================] - 0s 2ms/step - loss: 1.0734 - accuracy: 0.4980\n",
            "Epoch 3/5\n",
            "64/64 [==============================] - 0s 2ms/step - loss: 1.0500 - accuracy: 0.5586\n",
            "Epoch 4/5\n",
            "64/64 [==============================] - 0s 2ms/step - loss: 1.0291 - accuracy: 0.5840\n",
            "Epoch 5/5\n",
            "64/64 [==============================] - 0s 3ms/step - loss: 1.0122 - accuracy: 0.5840\n",
            "32/32 [==============================] - 0s 2ms/step - loss: 1.0301 - accuracy: 0.4922\n",
            "Epoch 1/5\n"
          ]
        },
        {
          "output_type": "stream",
          "name": "stderr",
          "text": [
            "/usr/local/lib/python3.7/dist-packages/tensorflow/python/util/dispatch.py:1082: UserWarning: \"`sparse_categorical_crossentropy` received `from_logits=True`, but the `output` argument was produced by a sigmoid or softmax activation and thus does not represent logits. Was this intended?\"\n",
            "  return dispatch_target(*args, **kwargs)\n"
          ]
        },
        {
          "output_type": "stream",
          "name": "stdout",
          "text": [
            "64/64 [==============================] - 1s 3ms/step - loss: 1.0825 - accuracy: 0.4160\n",
            "Epoch 2/5\n",
            "64/64 [==============================] - 0s 3ms/step - loss: 1.0391 - accuracy: 0.5215\n",
            "Epoch 3/5\n",
            "64/64 [==============================] - 0s 3ms/step - loss: 1.0033 - accuracy: 0.5898\n",
            "Epoch 4/5\n",
            "64/64 [==============================] - 0s 3ms/step - loss: 0.9675 - accuracy: 0.6777\n",
            "Epoch 5/5\n",
            "64/64 [==============================] - 0s 3ms/step - loss: 0.9312 - accuracy: 0.7441\n",
            "32/32 [==============================] - 1s 3ms/step - loss: 0.9514 - accuracy: 0.5781\n",
            "Epoch 1/5\n"
          ]
        },
        {
          "output_type": "stream",
          "name": "stderr",
          "text": [
            "/usr/local/lib/python3.7/dist-packages/tensorflow/python/util/dispatch.py:1082: UserWarning: \"`sparse_categorical_crossentropy` received `from_logits=True`, but the `output` argument was produced by a sigmoid or softmax activation and thus does not represent logits. Was this intended?\"\n",
            "  return dispatch_target(*args, **kwargs)\n"
          ]
        },
        {
          "output_type": "stream",
          "name": "stdout",
          "text": [
            "64/64 [==============================] - 1s 3ms/step - loss: 1.0891 - accuracy: 0.4082\n",
            "Epoch 2/5\n",
            "64/64 [==============================] - 0s 3ms/step - loss: 1.0428 - accuracy: 0.5352\n",
            "Epoch 3/5\n",
            "64/64 [==============================] - 0s 3ms/step - loss: 0.9974 - accuracy: 0.6172\n",
            "Epoch 4/5\n",
            "64/64 [==============================] - 0s 3ms/step - loss: 0.9601 - accuracy: 0.6445\n",
            "Epoch 5/5\n",
            "64/64 [==============================] - 0s 3ms/step - loss: 0.9160 - accuracy: 0.7109\n",
            "32/32 [==============================] - 0s 2ms/step - loss: 0.9142 - accuracy: 0.6758\n",
            "Epoch 1/5\n"
          ]
        },
        {
          "output_type": "stream",
          "name": "stderr",
          "text": [
            "/usr/local/lib/python3.7/dist-packages/tensorflow/python/util/dispatch.py:1082: UserWarning: \"`sparse_categorical_crossentropy` received `from_logits=True`, but the `output` argument was produced by a sigmoid or softmax activation and thus does not represent logits. Was this intended?\"\n",
            "  return dispatch_target(*args, **kwargs)\n"
          ]
        },
        {
          "output_type": "stream",
          "name": "stdout",
          "text": [
            "64/64 [==============================] - 1s 3ms/step - loss: 1.0864 - accuracy: 0.3945\n",
            "Epoch 2/5\n",
            "64/64 [==============================] - 0s 3ms/step - loss: 1.0353 - accuracy: 0.5547\n",
            "Epoch 3/5\n",
            "64/64 [==============================] - 0s 3ms/step - loss: 0.9606 - accuracy: 0.6387\n",
            "Epoch 4/5\n",
            "64/64 [==============================] - 0s 3ms/step - loss: 0.8887 - accuracy: 0.7051\n",
            "Epoch 5/5\n",
            "64/64 [==============================] - 0s 3ms/step - loss: 0.8310 - accuracy: 0.7617\n",
            "32/32 [==============================] - 0s 2ms/step - loss: 0.8808 - accuracy: 0.6758\n",
            "Epoch 1/5\n"
          ]
        },
        {
          "output_type": "stream",
          "name": "stderr",
          "text": [
            "/usr/local/lib/python3.7/dist-packages/tensorflow/python/util/dispatch.py:1082: UserWarning: \"`sparse_categorical_crossentropy` received `from_logits=True`, but the `output` argument was produced by a sigmoid or softmax activation and thus does not represent logits. Was this intended?\"\n",
            "  return dispatch_target(*args, **kwargs)\n"
          ]
        },
        {
          "output_type": "stream",
          "name": "stdout",
          "text": [
            "64/64 [==============================] - 0s 2ms/step - loss: 1.0954 - accuracy: 0.3711\n",
            "Epoch 2/5\n",
            "64/64 [==============================] - 0s 2ms/step - loss: 1.0918 - accuracy: 0.4023\n",
            "Epoch 3/5\n",
            "64/64 [==============================] - 0s 3ms/step - loss: 1.0885 - accuracy: 0.3848\n",
            "Epoch 4/5\n",
            "64/64 [==============================] - 0s 2ms/step - loss: 1.0845 - accuracy: 0.4082\n",
            "Epoch 5/5\n",
            "64/64 [==============================] - 0s 2ms/step - loss: 1.0793 - accuracy: 0.4180\n",
            "32/32 [==============================] - 0s 3ms/step - loss: 1.0706 - accuracy: 0.4453\n",
            "Epoch 1/5\n"
          ]
        },
        {
          "output_type": "stream",
          "name": "stderr",
          "text": [
            "/usr/local/lib/python3.7/dist-packages/tensorflow/python/util/dispatch.py:1082: UserWarning: \"`sparse_categorical_crossentropy` received `from_logits=True`, but the `output` argument was produced by a sigmoid or softmax activation and thus does not represent logits. Was this intended?\"\n",
            "  return dispatch_target(*args, **kwargs)\n"
          ]
        },
        {
          "output_type": "stream",
          "name": "stdout",
          "text": [
            "64/64 [==============================] - 0s 2ms/step - loss: 1.1023 - accuracy: 0.3066\n",
            "Epoch 2/5\n",
            "64/64 [==============================] - 0s 2ms/step - loss: 1.1007 - accuracy: 0.3438\n",
            "Epoch 3/5\n",
            "64/64 [==============================] - 0s 2ms/step - loss: 1.0999 - accuracy: 0.3379\n",
            "Epoch 4/5\n",
            "64/64 [==============================] - 0s 2ms/step - loss: 1.0986 - accuracy: 0.3555\n",
            "Epoch 5/5\n",
            "64/64 [==============================] - 0s 2ms/step - loss: 1.0981 - accuracy: 0.3555\n",
            "32/32 [==============================] - 0s 2ms/step - loss: 1.0944 - accuracy: 0.3789\n",
            "Epoch 1/5\n"
          ]
        },
        {
          "output_type": "stream",
          "name": "stderr",
          "text": [
            "/usr/local/lib/python3.7/dist-packages/tensorflow/python/util/dispatch.py:1082: UserWarning: \"`sparse_categorical_crossentropy` received `from_logits=True`, but the `output` argument was produced by a sigmoid or softmax activation and thus does not represent logits. Was this intended?\"\n",
            "  return dispatch_target(*args, **kwargs)\n"
          ]
        },
        {
          "output_type": "stream",
          "name": "stdout",
          "text": [
            "64/64 [==============================] - 0s 2ms/step - loss: 1.1062 - accuracy: 0.2617\n",
            "Epoch 2/5\n",
            "64/64 [==============================] - 0s 2ms/step - loss: 1.1019 - accuracy: 0.2676\n",
            "Epoch 3/5\n",
            "64/64 [==============================] - 0s 2ms/step - loss: 1.0990 - accuracy: 0.3047\n",
            "Epoch 4/5\n",
            "64/64 [==============================] - 0s 2ms/step - loss: 1.0966 - accuracy: 0.3652\n",
            "Epoch 5/5\n",
            "64/64 [==============================] - 0s 2ms/step - loss: 1.0941 - accuracy: 0.3984\n",
            "32/32 [==============================] - 0s 2ms/step - loss: 1.0958 - accuracy: 0.3281\n",
            "Epoch 1/5\n"
          ]
        },
        {
          "output_type": "stream",
          "name": "stderr",
          "text": [
            "/usr/local/lib/python3.7/dist-packages/tensorflow/python/util/dispatch.py:1082: UserWarning: \"`sparse_categorical_crossentropy` received `from_logits=True`, but the `output` argument was produced by a sigmoid or softmax activation and thus does not represent logits. Was this intended?\"\n",
            "  return dispatch_target(*args, **kwargs)\n"
          ]
        },
        {
          "output_type": "stream",
          "name": "stdout",
          "text": [
            "64/64 [==============================] - 1s 3ms/step - loss: 1.0880 - accuracy: 0.4180\n",
            "Epoch 2/5\n",
            "64/64 [==============================] - 0s 3ms/step - loss: 1.0493 - accuracy: 0.5332\n",
            "Epoch 3/5\n",
            "64/64 [==============================] - 0s 3ms/step - loss: 1.0168 - accuracy: 0.5957\n",
            "Epoch 4/5\n",
            "64/64 [==============================] - 0s 3ms/step - loss: 0.9865 - accuracy: 0.6348\n",
            "Epoch 5/5\n",
            "64/64 [==============================] - 0s 3ms/step - loss: 0.9581 - accuracy: 0.6816\n",
            "32/32 [==============================] - 0s 2ms/step - loss: 0.9491 - accuracy: 0.6797\n",
            "Epoch 1/5\n"
          ]
        },
        {
          "output_type": "stream",
          "name": "stderr",
          "text": [
            "/usr/local/lib/python3.7/dist-packages/tensorflow/python/util/dispatch.py:1082: UserWarning: \"`sparse_categorical_crossentropy` received `from_logits=True`, but the `output` argument was produced by a sigmoid or softmax activation and thus does not represent logits. Was this intended?\"\n",
            "  return dispatch_target(*args, **kwargs)\n"
          ]
        },
        {
          "output_type": "stream",
          "name": "stdout",
          "text": [
            "64/64 [==============================] - 1s 3ms/step - loss: 1.0746 - accuracy: 0.4238\n",
            "Epoch 2/5\n",
            "64/64 [==============================] - 0s 3ms/step - loss: 1.0300 - accuracy: 0.5273\n",
            "Epoch 3/5\n",
            "64/64 [==============================] - 0s 3ms/step - loss: 0.9947 - accuracy: 0.5938\n",
            "Epoch 4/5\n",
            "64/64 [==============================] - 0s 3ms/step - loss: 0.9682 - accuracy: 0.6172\n",
            "Epoch 5/5\n",
            "64/64 [==============================] - 0s 3ms/step - loss: 0.9411 - accuracy: 0.6445\n",
            "32/32 [==============================] - 0s 2ms/step - loss: 0.9456 - accuracy: 0.6523\n",
            "Epoch 1/5\n"
          ]
        },
        {
          "output_type": "stream",
          "name": "stderr",
          "text": [
            "/usr/local/lib/python3.7/dist-packages/tensorflow/python/util/dispatch.py:1082: UserWarning: \"`sparse_categorical_crossentropy` received `from_logits=True`, but the `output` argument was produced by a sigmoid or softmax activation and thus does not represent logits. Was this intended?\"\n",
            "  return dispatch_target(*args, **kwargs)\n"
          ]
        },
        {
          "output_type": "stream",
          "name": "stdout",
          "text": [
            "64/64 [==============================] - 1s 3ms/step - loss: 1.0885 - accuracy: 0.4082\n",
            "Epoch 2/5\n",
            "64/64 [==============================] - 0s 3ms/step - loss: 1.0459 - accuracy: 0.5195\n",
            "Epoch 3/5\n",
            "64/64 [==============================] - 0s 3ms/step - loss: 0.9999 - accuracy: 0.6211\n",
            "Epoch 4/5\n",
            "64/64 [==============================] - 0s 3ms/step - loss: 0.9731 - accuracy: 0.6777\n",
            "Epoch 5/5\n",
            "64/64 [==============================] - 0s 3ms/step - loss: 0.9415 - accuracy: 0.7070\n",
            "32/32 [==============================] - 0s 3ms/step - loss: 0.9685 - accuracy: 0.6133\n",
            "Epoch 1/5\n"
          ]
        },
        {
          "output_type": "stream",
          "name": "stderr",
          "text": [
            "/usr/local/lib/python3.7/dist-packages/tensorflow/python/util/dispatch.py:1082: UserWarning: \"`sparse_categorical_crossentropy` received `from_logits=True`, but the `output` argument was produced by a sigmoid or softmax activation and thus does not represent logits. Was this intended?\"\n",
            "  return dispatch_target(*args, **kwargs)\n"
          ]
        },
        {
          "output_type": "stream",
          "name": "stdout",
          "text": [
            "64/64 [==============================] - 0s 2ms/step - loss: 1.0953 - accuracy: 0.3555\n",
            "Epoch 2/5\n",
            "64/64 [==============================] - 0s 2ms/step - loss: 1.0936 - accuracy: 0.3574\n",
            "Epoch 3/5\n",
            "64/64 [==============================] - 0s 2ms/step - loss: 1.0921 - accuracy: 0.4043\n",
            "Epoch 4/5\n",
            "64/64 [==============================] - 0s 2ms/step - loss: 1.0910 - accuracy: 0.3848\n",
            "Epoch 5/5\n",
            "64/64 [==============================] - 0s 3ms/step - loss: 1.0899 - accuracy: 0.3711\n",
            "32/32 [==============================] - 0s 2ms/step - loss: 1.0894 - accuracy: 0.4180\n",
            "Epoch 1/5\n"
          ]
        },
        {
          "output_type": "stream",
          "name": "stderr",
          "text": [
            "/usr/local/lib/python3.7/dist-packages/tensorflow/python/util/dispatch.py:1082: UserWarning: \"`sparse_categorical_crossentropy` received `from_logits=True`, but the `output` argument was produced by a sigmoid or softmax activation and thus does not represent logits. Was this intended?\"\n",
            "  return dispatch_target(*args, **kwargs)\n"
          ]
        },
        {
          "output_type": "stream",
          "name": "stdout",
          "text": [
            "64/64 [==============================] - 0s 2ms/step - loss: 1.1009 - accuracy: 0.3477\n",
            "Epoch 2/5\n",
            "64/64 [==============================] - 0s 2ms/step - loss: 1.0995 - accuracy: 0.3477\n",
            "Epoch 3/5\n",
            "64/64 [==============================] - 0s 2ms/step - loss: 1.0984 - accuracy: 0.3477\n",
            "Epoch 4/5\n",
            "64/64 [==============================] - 0s 2ms/step - loss: 1.0973 - accuracy: 0.3477\n",
            "Epoch 5/5\n",
            "64/64 [==============================] - 0s 2ms/step - loss: 1.0964 - accuracy: 0.3477\n",
            "32/32 [==============================] - 0s 2ms/step - loss: 1.0965 - accuracy: 0.3516\n",
            "Epoch 1/5\n"
          ]
        },
        {
          "output_type": "stream",
          "name": "stderr",
          "text": [
            "/usr/local/lib/python3.7/dist-packages/tensorflow/python/util/dispatch.py:1082: UserWarning: \"`sparse_categorical_crossentropy` received `from_logits=True`, but the `output` argument was produced by a sigmoid or softmax activation and thus does not represent logits. Was this intended?\"\n",
            "  return dispatch_target(*args, **kwargs)\n"
          ]
        },
        {
          "output_type": "stream",
          "name": "stdout",
          "text": [
            "64/64 [==============================] - 0s 3ms/step - loss: 1.1071 - accuracy: 0.2715\n",
            "Epoch 2/5\n",
            "64/64 [==============================] - 0s 2ms/step - loss: 1.1060 - accuracy: 0.2988\n",
            "Epoch 3/5\n",
            "64/64 [==============================] - 0s 2ms/step - loss: 1.1052 - accuracy: 0.3125\n",
            "Epoch 4/5\n",
            "64/64 [==============================] - 0s 2ms/step - loss: 1.1044 - accuracy: 0.3262\n",
            "Epoch 5/5\n",
            "64/64 [==============================] - 0s 2ms/step - loss: 1.1036 - accuracy: 0.3301\n",
            "32/32 [==============================] - 0s 3ms/step - loss: 1.1032 - accuracy: 0.3008\n",
            "Epoch 1/5\n"
          ]
        },
        {
          "output_type": "stream",
          "name": "stderr",
          "text": [
            "/usr/local/lib/python3.7/dist-packages/tensorflow/python/util/dispatch.py:1082: UserWarning: \"`sparse_categorical_crossentropy` received `from_logits=True`, but the `output` argument was produced by a sigmoid or softmax activation and thus does not represent logits. Was this intended?\"\n",
            "  return dispatch_target(*args, **kwargs)\n"
          ]
        },
        {
          "output_type": "stream",
          "name": "stdout",
          "text": [
            "64/64 [==============================] - 0s 2ms/step - loss: 1.1019 - accuracy: 0.3359\n",
            "Epoch 2/5\n",
            "64/64 [==============================] - 0s 3ms/step - loss: 1.1019 - accuracy: 0.3320\n",
            "Epoch 3/5\n",
            "64/64 [==============================] - 0s 3ms/step - loss: 1.1018 - accuracy: 0.3359\n",
            "Epoch 4/5\n",
            "64/64 [==============================] - 0s 2ms/step - loss: 1.1018 - accuracy: 0.3359\n",
            "Epoch 5/5\n",
            "64/64 [==============================] - 0s 3ms/step - loss: 1.1017 - accuracy: 0.3398\n",
            "32/32 [==============================] - 0s 3ms/step - loss: 1.0993 - accuracy: 0.3633\n",
            "Epoch 1/5\n"
          ]
        },
        {
          "output_type": "stream",
          "name": "stderr",
          "text": [
            "/usr/local/lib/python3.7/dist-packages/tensorflow/python/util/dispatch.py:1082: UserWarning: \"`sparse_categorical_crossentropy` received `from_logits=True`, but the `output` argument was produced by a sigmoid or softmax activation and thus does not represent logits. Was this intended?\"\n",
            "  return dispatch_target(*args, **kwargs)\n"
          ]
        },
        {
          "output_type": "stream",
          "name": "stdout",
          "text": [
            "64/64 [==============================] - 0s 2ms/step - loss: 1.0989 - accuracy: 0.3496\n",
            "Epoch 2/5\n",
            "64/64 [==============================] - 0s 2ms/step - loss: 1.0989 - accuracy: 0.3496\n",
            "Epoch 3/5\n",
            "64/64 [==============================] - 0s 2ms/step - loss: 1.0988 - accuracy: 0.3535\n",
            "Epoch 4/5\n",
            "64/64 [==============================] - 0s 3ms/step - loss: 1.0988 - accuracy: 0.3516\n",
            "Epoch 5/5\n",
            "64/64 [==============================] - 0s 2ms/step - loss: 1.0987 - accuracy: 0.3477\n",
            "32/32 [==============================] - 0s 3ms/step - loss: 1.0930 - accuracy: 0.3945\n",
            "Epoch 1/5\n"
          ]
        },
        {
          "output_type": "stream",
          "name": "stderr",
          "text": [
            "/usr/local/lib/python3.7/dist-packages/tensorflow/python/util/dispatch.py:1082: UserWarning: \"`sparse_categorical_crossentropy` received `from_logits=True`, but the `output` argument was produced by a sigmoid or softmax activation and thus does not represent logits. Was this intended?\"\n",
            "  return dispatch_target(*args, **kwargs)\n"
          ]
        },
        {
          "output_type": "stream",
          "name": "stdout",
          "text": [
            "64/64 [==============================] - 0s 2ms/step - loss: 1.0959 - accuracy: 0.3848\n",
            "Epoch 2/5\n",
            "64/64 [==============================] - 0s 3ms/step - loss: 1.0958 - accuracy: 0.3848\n",
            "Epoch 3/5\n",
            "64/64 [==============================] - 0s 2ms/step - loss: 1.0958 - accuracy: 0.3848\n",
            "Epoch 4/5\n",
            "64/64 [==============================] - 0s 3ms/step - loss: 1.0957 - accuracy: 0.3848\n",
            "Epoch 5/5\n",
            "64/64 [==============================] - 0s 2ms/step - loss: 1.0957 - accuracy: 0.3848\n",
            "32/32 [==============================] - 0s 2ms/step - loss: 1.0975 - accuracy: 0.3789\n",
            "Epoch 1/5\n"
          ]
        },
        {
          "output_type": "stream",
          "name": "stderr",
          "text": [
            "/usr/local/lib/python3.7/dist-packages/tensorflow/python/util/dispatch.py:1082: UserWarning: \"`sparse_categorical_crossentropy` received `from_logits=True`, but the `output` argument was produced by a sigmoid or softmax activation and thus does not represent logits. Was this intended?\"\n",
            "  return dispatch_target(*args, **kwargs)\n"
          ]
        },
        {
          "output_type": "stream",
          "name": "stdout",
          "text": [
            "64/64 [==============================] - 0s 2ms/step - loss: 1.0993 - accuracy: 0.3438\n",
            "Epoch 2/5\n",
            "64/64 [==============================] - 0s 2ms/step - loss: 1.0702 - accuracy: 0.4395\n",
            "Epoch 3/5\n",
            "64/64 [==============================] - 0s 2ms/step - loss: 1.0010 - accuracy: 0.6328\n",
            "Epoch 4/5\n",
            "64/64 [==============================] - 0s 3ms/step - loss: 0.9541 - accuracy: 0.6895\n",
            "Epoch 5/5\n",
            "64/64 [==============================] - 0s 3ms/step - loss: 0.9143 - accuracy: 0.6738\n",
            "32/32 [==============================] - 0s 3ms/step - loss: 0.9025 - accuracy: 0.7109\n",
            "Epoch 1/5\n"
          ]
        },
        {
          "output_type": "stream",
          "name": "stderr",
          "text": [
            "/usr/local/lib/python3.7/dist-packages/tensorflow/python/util/dispatch.py:1082: UserWarning: \"`sparse_categorical_crossentropy` received `from_logits=True`, but the `output` argument was produced by a sigmoid or softmax activation and thus does not represent logits. Was this intended?\"\n",
            "  return dispatch_target(*args, **kwargs)\n"
          ]
        },
        {
          "output_type": "stream",
          "name": "stdout",
          "text": [
            "64/64 [==============================] - 0s 3ms/step - loss: 1.0918 - accuracy: 0.3672\n",
            "Epoch 2/5\n",
            "64/64 [==============================] - 0s 3ms/step - loss: 1.0580 - accuracy: 0.4941\n",
            "Epoch 3/5\n",
            "64/64 [==============================] - 0s 2ms/step - loss: 1.0233 - accuracy: 0.5801\n",
            "Epoch 4/5\n",
            "64/64 [==============================] - 0s 3ms/step - loss: 0.9954 - accuracy: 0.6074\n",
            "Epoch 5/5\n",
            "64/64 [==============================] - 0s 2ms/step - loss: 0.9620 - accuracy: 0.6602\n",
            "32/32 [==============================] - 0s 2ms/step - loss: 0.9563 - accuracy: 0.6445\n",
            "Epoch 1/5\n"
          ]
        },
        {
          "output_type": "stream",
          "name": "stderr",
          "text": [
            "/usr/local/lib/python3.7/dist-packages/tensorflow/python/util/dispatch.py:1082: UserWarning: \"`sparse_categorical_crossentropy` received `from_logits=True`, but the `output` argument was produced by a sigmoid or softmax activation and thus does not represent logits. Was this intended?\"\n",
            "  return dispatch_target(*args, **kwargs)\n"
          ]
        },
        {
          "output_type": "stream",
          "name": "stdout",
          "text": [
            "64/64 [==============================] - 0s 3ms/step - loss: 1.0834 - accuracy: 0.4395\n",
            "Epoch 2/5\n",
            "64/64 [==============================] - 0s 2ms/step - loss: 1.0364 - accuracy: 0.5430\n",
            "Epoch 3/5\n",
            "64/64 [==============================] - 0s 3ms/step - loss: 1.0058 - accuracy: 0.5879\n",
            "Epoch 4/5\n",
            "64/64 [==============================] - 0s 3ms/step - loss: 0.9765 - accuracy: 0.6504\n",
            "Epoch 5/5\n",
            "64/64 [==============================] - 0s 2ms/step - loss: 0.9517 - accuracy: 0.6543\n",
            "32/32 [==============================] - 0s 2ms/step - loss: 0.9717 - accuracy: 0.5977\n",
            "Epoch 1/5\n"
          ]
        },
        {
          "output_type": "stream",
          "name": "stderr",
          "text": [
            "/usr/local/lib/python3.7/dist-packages/tensorflow/python/util/dispatch.py:1082: UserWarning: \"`sparse_categorical_crossentropy` received `from_logits=True`, but the `output` argument was produced by a sigmoid or softmax activation and thus does not represent logits. Was this intended?\"\n",
            "  return dispatch_target(*args, **kwargs)\n"
          ]
        },
        {
          "output_type": "stream",
          "name": "stdout",
          "text": [
            "64/64 [==============================] - 0s 3ms/step - loss: 1.0928 - accuracy: 0.3926\n",
            "Epoch 2/5\n",
            "64/64 [==============================] - 0s 2ms/step - loss: 1.0810 - accuracy: 0.4531\n",
            "Epoch 3/5\n",
            "64/64 [==============================] - 0s 2ms/step - loss: 1.0695 - accuracy: 0.5020\n",
            "Epoch 4/5\n",
            "64/64 [==============================] - 0s 2ms/step - loss: 1.0574 - accuracy: 0.5605\n",
            "Epoch 5/5\n",
            "64/64 [==============================] - 0s 3ms/step - loss: 1.0442 - accuracy: 0.5508\n",
            "32/32 [==============================] - 0s 3ms/step - loss: 1.0372 - accuracy: 0.5781\n",
            "Epoch 1/5\n"
          ]
        },
        {
          "output_type": "stream",
          "name": "stderr",
          "text": [
            "/usr/local/lib/python3.7/dist-packages/tensorflow/python/util/dispatch.py:1082: UserWarning: \"`sparse_categorical_crossentropy` received `from_logits=True`, but the `output` argument was produced by a sigmoid or softmax activation and thus does not represent logits. Was this intended?\"\n",
            "  return dispatch_target(*args, **kwargs)\n"
          ]
        },
        {
          "output_type": "stream",
          "name": "stdout",
          "text": [
            "64/64 [==============================] - 0s 2ms/step - loss: 1.0995 - accuracy: 0.3359\n",
            "Epoch 2/5\n",
            "64/64 [==============================] - 0s 3ms/step - loss: 1.0844 - accuracy: 0.4492\n",
            "Epoch 3/5\n",
            "64/64 [==============================] - 0s 2ms/step - loss: 1.0720 - accuracy: 0.4746\n",
            "Epoch 4/5\n",
            "64/64 [==============================] - 0s 2ms/step - loss: 1.0601 - accuracy: 0.5918\n",
            "Epoch 5/5\n",
            "64/64 [==============================] - 0s 3ms/step - loss: 1.0497 - accuracy: 0.6191\n",
            "32/32 [==============================] - 0s 2ms/step - loss: 1.0438 - accuracy: 0.6641\n",
            "Epoch 1/5\n"
          ]
        },
        {
          "output_type": "stream",
          "name": "stderr",
          "text": [
            "/usr/local/lib/python3.7/dist-packages/tensorflow/python/util/dispatch.py:1082: UserWarning: \"`sparse_categorical_crossentropy` received `from_logits=True`, but the `output` argument was produced by a sigmoid or softmax activation and thus does not represent logits. Was this intended?\"\n",
            "  return dispatch_target(*args, **kwargs)\n"
          ]
        },
        {
          "output_type": "stream",
          "name": "stdout",
          "text": [
            "64/64 [==============================] - 1s 3ms/step - loss: 1.0884 - accuracy: 0.4043\n",
            "Epoch 2/5\n",
            "64/64 [==============================] - 0s 2ms/step - loss: 1.0663 - accuracy: 0.4922\n",
            "Epoch 3/5\n",
            "64/64 [==============================] - 0s 2ms/step - loss: 1.0468 - accuracy: 0.4824\n",
            "Epoch 4/5\n",
            "64/64 [==============================] - 0s 2ms/step - loss: 1.0306 - accuracy: 0.4844\n",
            "Epoch 5/5\n",
            "64/64 [==============================] - 0s 2ms/step - loss: 1.0218 - accuracy: 0.5039\n",
            "32/32 [==============================] - 0s 3ms/step - loss: 1.0395 - accuracy: 0.4141\n",
            "Epoch 1/5\n"
          ]
        },
        {
          "output_type": "stream",
          "name": "stderr",
          "text": [
            "/usr/local/lib/python3.7/dist-packages/tensorflow/python/util/dispatch.py:1082: UserWarning: \"`sparse_categorical_crossentropy` received `from_logits=True`, but the `output` argument was produced by a sigmoid or softmax activation and thus does not represent logits. Was this intended?\"\n",
            "  return dispatch_target(*args, **kwargs)\n"
          ]
        },
        {
          "output_type": "stream",
          "name": "stdout",
          "text": [
            "64/64 [==============================] - 1s 3ms/step - loss: 1.0852 - accuracy: 0.4082\n",
            "Epoch 2/5\n",
            "64/64 [==============================] - 0s 3ms/step - loss: 1.0420 - accuracy: 0.5410\n",
            "Epoch 3/5\n",
            "64/64 [==============================] - 0s 3ms/step - loss: 1.0024 - accuracy: 0.6035\n",
            "Epoch 4/5\n",
            "64/64 [==============================] - 0s 3ms/step - loss: 0.9665 - accuracy: 0.6504\n",
            "Epoch 5/5\n",
            "64/64 [==============================] - 0s 3ms/step - loss: 0.9294 - accuracy: 0.7031\n",
            "32/32 [==============================] - 0s 2ms/step - loss: 0.9216 - accuracy: 0.7305\n",
            "Epoch 1/5\n"
          ]
        },
        {
          "output_type": "stream",
          "name": "stderr",
          "text": [
            "/usr/local/lib/python3.7/dist-packages/tensorflow/python/util/dispatch.py:1082: UserWarning: \"`sparse_categorical_crossentropy` received `from_logits=True`, but the `output` argument was produced by a sigmoid or softmax activation and thus does not represent logits. Was this intended?\"\n",
            "  return dispatch_target(*args, **kwargs)\n"
          ]
        },
        {
          "output_type": "stream",
          "name": "stdout",
          "text": [
            "64/64 [==============================] - 1s 3ms/step - loss: 1.0903 - accuracy: 0.3984\n",
            "Epoch 2/5\n",
            "64/64 [==============================] - 0s 3ms/step - loss: 1.0459 - accuracy: 0.4922\n",
            "Epoch 3/5\n",
            "64/64 [==============================] - 0s 3ms/step - loss: 0.9957 - accuracy: 0.5801\n",
            "Epoch 4/5\n",
            "64/64 [==============================] - 0s 3ms/step - loss: 0.9578 - accuracy: 0.6426\n",
            "Epoch 5/5\n",
            "64/64 [==============================] - 0s 3ms/step - loss: 0.9246 - accuracy: 0.6895\n",
            "32/32 [==============================] - 0s 2ms/step - loss: 0.9096 - accuracy: 0.6914\n",
            "Epoch 1/5\n"
          ]
        },
        {
          "output_type": "stream",
          "name": "stderr",
          "text": [
            "/usr/local/lib/python3.7/dist-packages/tensorflow/python/util/dispatch.py:1082: UserWarning: \"`sparse_categorical_crossentropy` received `from_logits=True`, but the `output` argument was produced by a sigmoid or softmax activation and thus does not represent logits. Was this intended?\"\n",
            "  return dispatch_target(*args, **kwargs)\n"
          ]
        },
        {
          "output_type": "stream",
          "name": "stdout",
          "text": [
            "64/64 [==============================] - 1s 3ms/step - loss: 1.0846 - accuracy: 0.4160\n",
            "Epoch 2/5\n",
            "64/64 [==============================] - 0s 3ms/step - loss: 1.0352 - accuracy: 0.6191\n",
            "Epoch 3/5\n",
            "64/64 [==============================] - 0s 3ms/step - loss: 0.9849 - accuracy: 0.6367\n",
            "Epoch 4/5\n",
            "64/64 [==============================] - 0s 3ms/step - loss: 0.9461 - accuracy: 0.6973\n",
            "Epoch 5/5\n",
            "64/64 [==============================] - 0s 3ms/step - loss: 0.9090 - accuracy: 0.7109\n",
            "32/32 [==============================] - 0s 2ms/step - loss: 0.9404 - accuracy: 0.6484\n",
            "Epoch 1/5\n"
          ]
        },
        {
          "output_type": "stream",
          "name": "stderr",
          "text": [
            "/usr/local/lib/python3.7/dist-packages/tensorflow/python/util/dispatch.py:1082: UserWarning: \"`sparse_categorical_crossentropy` received `from_logits=True`, but the `output` argument was produced by a sigmoid or softmax activation and thus does not represent logits. Was this intended?\"\n",
            "  return dispatch_target(*args, **kwargs)\n"
          ]
        },
        {
          "output_type": "stream",
          "name": "stdout",
          "text": [
            "64/64 [==============================] - 0s 2ms/step - loss: 1.0975 - accuracy: 0.3242\n",
            "Epoch 2/5\n",
            "64/64 [==============================] - 0s 2ms/step - loss: 1.0965 - accuracy: 0.3477\n",
            "Epoch 3/5\n",
            "64/64 [==============================] - 0s 2ms/step - loss: 1.0957 - accuracy: 0.3457\n",
            "Epoch 4/5\n",
            "64/64 [==============================] - 0s 3ms/step - loss: 1.0949 - accuracy: 0.3438\n",
            "Epoch 5/5\n",
            "64/64 [==============================] - 0s 3ms/step - loss: 1.0941 - accuracy: 0.3438\n",
            "32/32 [==============================] - 0s 2ms/step - loss: 1.0930 - accuracy: 0.3555\n",
            "Epoch 1/5\n"
          ]
        },
        {
          "output_type": "stream",
          "name": "stderr",
          "text": [
            "/usr/local/lib/python3.7/dist-packages/tensorflow/python/util/dispatch.py:1082: UserWarning: \"`sparse_categorical_crossentropy` received `from_logits=True`, but the `output` argument was produced by a sigmoid or softmax activation and thus does not represent logits. Was this intended?\"\n",
            "  return dispatch_target(*args, **kwargs)\n"
          ]
        },
        {
          "output_type": "stream",
          "name": "stdout",
          "text": [
            "64/64 [==============================] - 0s 3ms/step - loss: 1.0988 - accuracy: 0.3301\n",
            "Epoch 2/5\n",
            "64/64 [==============================] - 0s 3ms/step - loss: 1.0976 - accuracy: 0.3555\n",
            "Epoch 3/5\n",
            "64/64 [==============================] - 0s 2ms/step - loss: 1.0965 - accuracy: 0.3691\n",
            "Epoch 4/5\n",
            "64/64 [==============================] - 0s 2ms/step - loss: 1.0951 - accuracy: 0.3730\n",
            "Epoch 5/5\n",
            "64/64 [==============================] - 0s 3ms/step - loss: 1.0936 - accuracy: 0.4062\n",
            "32/32 [==============================] - 0s 2ms/step - loss: 1.0928 - accuracy: 0.4258\n",
            "Epoch 1/5\n"
          ]
        },
        {
          "output_type": "stream",
          "name": "stderr",
          "text": [
            "/usr/local/lib/python3.7/dist-packages/tensorflow/python/util/dispatch.py:1082: UserWarning: \"`sparse_categorical_crossentropy` received `from_logits=True`, but the `output` argument was produced by a sigmoid or softmax activation and thus does not represent logits. Was this intended?\"\n",
            "  return dispatch_target(*args, **kwargs)\n"
          ]
        },
        {
          "output_type": "stream",
          "name": "stdout",
          "text": [
            "64/64 [==============================] - 0s 2ms/step - loss: 1.0962 - accuracy: 0.3477\n",
            "Epoch 2/5\n",
            "64/64 [==============================] - 0s 3ms/step - loss: 1.0949 - accuracy: 0.3457\n",
            "Epoch 3/5\n",
            "64/64 [==============================] - 0s 2ms/step - loss: 1.0939 - accuracy: 0.3535\n",
            "Epoch 4/5\n",
            "64/64 [==============================] - 0s 3ms/step - loss: 1.0931 - accuracy: 0.3535\n",
            "Epoch 5/5\n",
            "64/64 [==============================] - 0s 2ms/step - loss: 1.0920 - accuracy: 0.3516\n",
            "32/32 [==============================] - 0s 2ms/step - loss: 1.0948 - accuracy: 0.3398\n",
            "Epoch 1/5\n"
          ]
        },
        {
          "output_type": "stream",
          "name": "stderr",
          "text": [
            "/usr/local/lib/python3.7/dist-packages/tensorflow/python/util/dispatch.py:1082: UserWarning: \"`sparse_categorical_crossentropy` received `from_logits=True`, but the `output` argument was produced by a sigmoid or softmax activation and thus does not represent logits. Was this intended?\"\n",
            "  return dispatch_target(*args, **kwargs)\n"
          ]
        },
        {
          "output_type": "stream",
          "name": "stdout",
          "text": [
            "64/64 [==============================] - 1s 3ms/step - loss: 1.0929 - accuracy: 0.4062\n",
            "Epoch 2/5\n",
            "64/64 [==============================] - 0s 3ms/step - loss: 1.0628 - accuracy: 0.5820\n",
            "Epoch 3/5\n",
            "64/64 [==============================] - 0s 3ms/step - loss: 1.0335 - accuracy: 0.5625\n",
            "Epoch 4/5\n",
            "64/64 [==============================] - 0s 3ms/step - loss: 1.0083 - accuracy: 0.6680\n",
            "Epoch 5/5\n",
            "64/64 [==============================] - 0s 3ms/step - loss: 0.9788 - accuracy: 0.6777\n",
            "32/32 [==============================] - 0s 2ms/step - loss: 0.9599 - accuracy: 0.7148\n",
            "Epoch 1/5\n"
          ]
        },
        {
          "output_type": "stream",
          "name": "stderr",
          "text": [
            "/usr/local/lib/python3.7/dist-packages/tensorflow/python/util/dispatch.py:1082: UserWarning: \"`sparse_categorical_crossentropy` received `from_logits=True`, but the `output` argument was produced by a sigmoid or softmax activation and thus does not represent logits. Was this intended?\"\n",
            "  return dispatch_target(*args, **kwargs)\n"
          ]
        },
        {
          "output_type": "stream",
          "name": "stdout",
          "text": [
            "64/64 [==============================] - 1s 3ms/step - loss: 1.0902 - accuracy: 0.3691\n",
            "Epoch 2/5\n",
            "64/64 [==============================] - 0s 3ms/step - loss: 1.0600 - accuracy: 0.5312\n",
            "Epoch 3/5\n",
            "64/64 [==============================] - 0s 3ms/step - loss: 1.0400 - accuracy: 0.5566\n",
            "Epoch 4/5\n",
            "64/64 [==============================] - 0s 3ms/step - loss: 1.0137 - accuracy: 0.6309\n",
            "Epoch 5/5\n",
            "64/64 [==============================] - 0s 3ms/step - loss: 0.9871 - accuracy: 0.6445\n",
            "32/32 [==============================] - 0s 3ms/step - loss: 0.9831 - accuracy: 0.6836\n",
            "Epoch 1/5\n"
          ]
        },
        {
          "output_type": "stream",
          "name": "stderr",
          "text": [
            "/usr/local/lib/python3.7/dist-packages/tensorflow/python/util/dispatch.py:1082: UserWarning: \"`sparse_categorical_crossentropy` received `from_logits=True`, but the `output` argument was produced by a sigmoid or softmax activation and thus does not represent logits. Was this intended?\"\n",
            "  return dispatch_target(*args, **kwargs)\n"
          ]
        },
        {
          "output_type": "stream",
          "name": "stdout",
          "text": [
            "64/64 [==============================] - 1s 3ms/step - loss: 1.0735 - accuracy: 0.4355\n",
            "Epoch 2/5\n",
            "64/64 [==============================] - 0s 3ms/step - loss: 1.0363 - accuracy: 0.5508\n",
            "Epoch 3/5\n",
            "64/64 [==============================] - 0s 3ms/step - loss: 1.0111 - accuracy: 0.5840\n",
            "Epoch 4/5\n",
            "64/64 [==============================] - 0s 3ms/step - loss: 0.9829 - accuracy: 0.6484\n",
            "Epoch 5/5\n",
            "64/64 [==============================] - 0s 3ms/step - loss: 0.9565 - accuracy: 0.6836\n",
            "32/32 [==============================] - 0s 3ms/step - loss: 0.9769 - accuracy: 0.6055\n",
            "Epoch 1/5\n"
          ]
        },
        {
          "output_type": "stream",
          "name": "stderr",
          "text": [
            "/usr/local/lib/python3.7/dist-packages/tensorflow/python/util/dispatch.py:1082: UserWarning: \"`sparse_categorical_crossentropy` received `from_logits=True`, but the `output` argument was produced by a sigmoid or softmax activation and thus does not represent logits. Was this intended?\"\n",
            "  return dispatch_target(*args, **kwargs)\n"
          ]
        },
        {
          "output_type": "stream",
          "name": "stdout",
          "text": [
            "64/64 [==============================] - 0s 2ms/step - loss: 1.1001 - accuracy: 0.3535\n",
            "Epoch 2/5\n",
            "64/64 [==============================] - 0s 2ms/step - loss: 1.0996 - accuracy: 0.3438\n",
            "Epoch 3/5\n",
            "64/64 [==============================] - 0s 2ms/step - loss: 1.0991 - accuracy: 0.3457\n",
            "Epoch 4/5\n",
            "64/64 [==============================] - 0s 3ms/step - loss: 1.0986 - accuracy: 0.3457\n",
            "Epoch 5/5\n",
            "64/64 [==============================] - 0s 2ms/step - loss: 1.0981 - accuracy: 0.3555\n",
            "32/32 [==============================] - 0s 2ms/step - loss: 1.0980 - accuracy: 0.3594\n",
            "Epoch 1/5\n"
          ]
        },
        {
          "output_type": "stream",
          "name": "stderr",
          "text": [
            "/usr/local/lib/python3.7/dist-packages/tensorflow/python/util/dispatch.py:1082: UserWarning: \"`sparse_categorical_crossentropy` received `from_logits=True`, but the `output` argument was produced by a sigmoid or softmax activation and thus does not represent logits. Was this intended?\"\n",
            "  return dispatch_target(*args, **kwargs)\n"
          ]
        },
        {
          "output_type": "stream",
          "name": "stdout",
          "text": [
            "64/64 [==============================] - 0s 2ms/step - loss: 1.0991 - accuracy: 0.3730\n",
            "Epoch 2/5\n",
            "64/64 [==============================] - 0s 3ms/step - loss: 1.0990 - accuracy: 0.3574\n",
            "Epoch 3/5\n",
            "64/64 [==============================] - 0s 2ms/step - loss: 1.0988 - accuracy: 0.3730\n",
            "Epoch 4/5\n",
            "64/64 [==============================] - 0s 3ms/step - loss: 1.0987 - accuracy: 0.3867\n",
            "Epoch 5/5\n",
            "64/64 [==============================] - 0s 2ms/step - loss: 1.0986 - accuracy: 0.3848\n",
            "32/32 [==============================] - 0s 2ms/step - loss: 1.0997 - accuracy: 0.3711\n",
            "Epoch 1/5\n"
          ]
        },
        {
          "output_type": "stream",
          "name": "stderr",
          "text": [
            "/usr/local/lib/python3.7/dist-packages/tensorflow/python/util/dispatch.py:1082: UserWarning: \"`sparse_categorical_crossentropy` received `from_logits=True`, but the `output` argument was produced by a sigmoid or softmax activation and thus does not represent logits. Was this intended?\"\n",
            "  return dispatch_target(*args, **kwargs)\n"
          ]
        },
        {
          "output_type": "stream",
          "name": "stdout",
          "text": [
            "64/64 [==============================] - 0s 2ms/step - loss: 1.1012 - accuracy: 0.3418\n",
            "Epoch 2/5\n",
            "64/64 [==============================] - 0s 2ms/step - loss: 1.1005 - accuracy: 0.3418\n",
            "Epoch 3/5\n",
            "64/64 [==============================] - 0s 2ms/step - loss: 1.1000 - accuracy: 0.3418\n",
            "Epoch 4/5\n",
            "64/64 [==============================] - 0s 3ms/step - loss: 1.0996 - accuracy: 0.3418\n",
            "Epoch 5/5\n",
            "64/64 [==============================] - 0s 2ms/step - loss: 1.0992 - accuracy: 0.3418\n",
            "32/32 [==============================] - 0s 2ms/step - loss: 1.1001 - accuracy: 0.3320\n",
            "Epoch 1/5\n"
          ]
        },
        {
          "output_type": "stream",
          "name": "stderr",
          "text": [
            "/usr/local/lib/python3.7/dist-packages/tensorflow/python/util/dispatch.py:1082: UserWarning: \"`sparse_categorical_crossentropy` received `from_logits=True`, but the `output` argument was produced by a sigmoid or softmax activation and thus does not represent logits. Was this intended?\"\n",
            "  return dispatch_target(*args, **kwargs)\n"
          ]
        },
        {
          "output_type": "stream",
          "name": "stdout",
          "text": [
            "64/64 [==============================] - 0s 3ms/step - loss: 1.0995 - accuracy: 0.3457\n",
            "Epoch 2/5\n",
            "64/64 [==============================] - 0s 2ms/step - loss: 1.0995 - accuracy: 0.3457\n",
            "Epoch 3/5\n",
            "64/64 [==============================] - 0s 3ms/step - loss: 1.0995 - accuracy: 0.3457\n",
            "Epoch 4/5\n",
            "64/64 [==============================] - 0s 2ms/step - loss: 1.0994 - accuracy: 0.3457\n",
            "Epoch 5/5\n",
            "64/64 [==============================] - 0s 3ms/step - loss: 1.0994 - accuracy: 0.3457\n",
            "32/32 [==============================] - 0s 2ms/step - loss: 1.0977 - accuracy: 0.3555\n",
            "Epoch 1/5\n"
          ]
        },
        {
          "output_type": "stream",
          "name": "stderr",
          "text": [
            "/usr/local/lib/python3.7/dist-packages/tensorflow/python/util/dispatch.py:1082: UserWarning: \"`sparse_categorical_crossentropy` received `from_logits=True`, but the `output` argument was produced by a sigmoid or softmax activation and thus does not represent logits. Was this intended?\"\n",
            "  return dispatch_target(*args, **kwargs)\n"
          ]
        },
        {
          "output_type": "stream",
          "name": "stdout",
          "text": [
            "64/64 [==============================] - 0s 3ms/step - loss: 1.0993 - accuracy: 0.3164\n",
            "Epoch 2/5\n",
            "64/64 [==============================] - 0s 3ms/step - loss: 1.0993 - accuracy: 0.3164\n",
            "Epoch 3/5\n",
            "64/64 [==============================] - 0s 2ms/step - loss: 1.0993 - accuracy: 0.3164\n",
            "Epoch 4/5\n",
            "64/64 [==============================] - 0s 3ms/step - loss: 1.0993 - accuracy: 0.3145\n",
            "Epoch 5/5\n",
            "64/64 [==============================] - 0s 2ms/step - loss: 1.0992 - accuracy: 0.3145\n",
            "32/32 [==============================] - 0s 2ms/step - loss: 1.1013 - accuracy: 0.2852\n",
            "Epoch 1/5\n"
          ]
        },
        {
          "output_type": "stream",
          "name": "stderr",
          "text": [
            "/usr/local/lib/python3.7/dist-packages/tensorflow/python/util/dispatch.py:1082: UserWarning: \"`sparse_categorical_crossentropy` received `from_logits=True`, but the `output` argument was produced by a sigmoid or softmax activation and thus does not represent logits. Was this intended?\"\n",
            "  return dispatch_target(*args, **kwargs)\n"
          ]
        },
        {
          "output_type": "stream",
          "name": "stdout",
          "text": [
            "64/64 [==============================] - 0s 2ms/step - loss: 1.1011 - accuracy: 0.3047\n",
            "Epoch 2/5\n",
            "64/64 [==============================] - 0s 3ms/step - loss: 1.1010 - accuracy: 0.3047\n",
            "Epoch 3/5\n",
            "64/64 [==============================] - 0s 3ms/step - loss: 1.1010 - accuracy: 0.3047\n",
            "Epoch 4/5\n",
            "64/64 [==============================] - 0s 3ms/step - loss: 1.1009 - accuracy: 0.3047\n",
            "Epoch 5/5\n",
            "64/64 [==============================] - 0s 2ms/step - loss: 1.1009 - accuracy: 0.3047\n",
            "32/32 [==============================] - 0s 3ms/step - loss: 1.0982 - accuracy: 0.3281\n",
            "Epoch 1/5\n"
          ]
        },
        {
          "output_type": "stream",
          "name": "stderr",
          "text": [
            "/usr/local/lib/python3.7/dist-packages/tensorflow/python/util/dispatch.py:1082: UserWarning: \"`sparse_categorical_crossentropy` received `from_logits=True`, but the `output` argument was produced by a sigmoid or softmax activation and thus does not represent logits. Was this intended?\"\n",
            "  return dispatch_target(*args, **kwargs)\n"
          ]
        },
        {
          "output_type": "stream",
          "name": "stdout",
          "text": [
            "64/64 [==============================] - 0s 3ms/step - loss: 1.0915 - accuracy: 0.3945\n",
            "Epoch 2/5\n",
            "64/64 [==============================] - 0s 2ms/step - loss: 1.0572 - accuracy: 0.5137\n",
            "Epoch 3/5\n",
            "64/64 [==============================] - 0s 2ms/step - loss: 1.0053 - accuracy: 0.6777\n",
            "Epoch 4/5\n",
            "64/64 [==============================] - 0s 2ms/step - loss: 0.9600 - accuracy: 0.7109\n",
            "Epoch 5/5\n",
            "64/64 [==============================] - 0s 3ms/step - loss: 0.9265 - accuracy: 0.7148\n",
            "32/32 [==============================] - 0s 2ms/step - loss: 0.9106 - accuracy: 0.7031\n",
            "Epoch 1/5\n"
          ]
        },
        {
          "output_type": "stream",
          "name": "stderr",
          "text": [
            "/usr/local/lib/python3.7/dist-packages/tensorflow/python/util/dispatch.py:1082: UserWarning: \"`sparse_categorical_crossentropy` received `from_logits=True`, but the `output` argument was produced by a sigmoid or softmax activation and thus does not represent logits. Was this intended?\"\n",
            "  return dispatch_target(*args, **kwargs)\n"
          ]
        },
        {
          "output_type": "stream",
          "name": "stdout",
          "text": [
            "64/64 [==============================] - 1s 2ms/step - loss: 1.0969 - accuracy: 0.3457\n",
            "Epoch 2/5\n",
            "64/64 [==============================] - 0s 2ms/step - loss: 1.0495 - accuracy: 0.5352\n",
            "Epoch 3/5\n",
            "64/64 [==============================] - 0s 2ms/step - loss: 1.0092 - accuracy: 0.5742\n",
            "Epoch 4/5\n",
            "64/64 [==============================] - 0s 3ms/step - loss: 0.9809 - accuracy: 0.6289\n",
            "Epoch 5/5\n",
            "64/64 [==============================] - 0s 3ms/step - loss: 0.9420 - accuracy: 0.6758\n",
            "32/32 [==============================] - 0s 2ms/step - loss: 0.9465 - accuracy: 0.6211\n",
            "Epoch 1/5\n"
          ]
        },
        {
          "output_type": "stream",
          "name": "stderr",
          "text": [
            "/usr/local/lib/python3.7/dist-packages/tensorflow/python/util/dispatch.py:1082: UserWarning: \"`sparse_categorical_crossentropy` received `from_logits=True`, but the `output` argument was produced by a sigmoid or softmax activation and thus does not represent logits. Was this intended?\"\n",
            "  return dispatch_target(*args, **kwargs)\n"
          ]
        },
        {
          "output_type": "stream",
          "name": "stdout",
          "text": [
            "64/64 [==============================] - 0s 2ms/step - loss: 1.0880 - accuracy: 0.4277\n",
            "Epoch 2/5\n",
            "64/64 [==============================] - 0s 3ms/step - loss: 1.0467 - accuracy: 0.5449\n",
            "Epoch 3/5\n",
            "64/64 [==============================] - 0s 2ms/step - loss: 0.9979 - accuracy: 0.6621\n",
            "Epoch 4/5\n",
            "64/64 [==============================] - 0s 3ms/step - loss: 0.9492 - accuracy: 0.6953\n",
            "Epoch 5/5\n",
            "64/64 [==============================] - 0s 3ms/step - loss: 0.9023 - accuracy: 0.7246\n",
            "32/32 [==============================] - 0s 3ms/step - loss: 0.9278 - accuracy: 0.6523\n",
            "Epoch 1/5\n"
          ]
        },
        {
          "output_type": "stream",
          "name": "stderr",
          "text": [
            "/usr/local/lib/python3.7/dist-packages/tensorflow/python/util/dispatch.py:1082: UserWarning: \"`sparse_categorical_crossentropy` received `from_logits=True`, but the `output` argument was produced by a sigmoid or softmax activation and thus does not represent logits. Was this intended?\"\n",
            "  return dispatch_target(*args, **kwargs)\n"
          ]
        },
        {
          "output_type": "stream",
          "name": "stdout",
          "text": [
            "64/64 [==============================] - 0s 2ms/step - loss: 1.0932 - accuracy: 0.4199\n",
            "Epoch 2/5\n",
            "64/64 [==============================] - 0s 3ms/step - loss: 1.0809 - accuracy: 0.4883\n",
            "Epoch 3/5\n",
            "64/64 [==============================] - 0s 3ms/step - loss: 1.0668 - accuracy: 0.5410\n",
            "Epoch 4/5\n",
            "64/64 [==============================] - 0s 3ms/step - loss: 1.0524 - accuracy: 0.5605\n",
            "Epoch 5/5\n",
            "64/64 [==============================] - 0s 2ms/step - loss: 1.0414 - accuracy: 0.5879\n",
            "32/32 [==============================] - 0s 2ms/step - loss: 1.0372 - accuracy: 0.6211\n",
            "Epoch 1/5\n"
          ]
        },
        {
          "output_type": "stream",
          "name": "stderr",
          "text": [
            "/usr/local/lib/python3.7/dist-packages/tensorflow/python/util/dispatch.py:1082: UserWarning: \"`sparse_categorical_crossentropy` received `from_logits=True`, but the `output` argument was produced by a sigmoid or softmax activation and thus does not represent logits. Was this intended?\"\n",
            "  return dispatch_target(*args, **kwargs)\n"
          ]
        },
        {
          "output_type": "stream",
          "name": "stdout",
          "text": [
            "64/64 [==============================] - 0s 3ms/step - loss: 1.0967 - accuracy: 0.3262\n",
            "Epoch 2/5\n",
            "64/64 [==============================] - 0s 2ms/step - loss: 1.0845 - accuracy: 0.5137\n",
            "Epoch 3/5\n",
            "64/64 [==============================] - 0s 3ms/step - loss: 1.0706 - accuracy: 0.4902\n",
            "Epoch 4/5\n",
            "64/64 [==============================] - 0s 3ms/step - loss: 1.0564 - accuracy: 0.5859\n",
            "Epoch 5/5\n",
            "64/64 [==============================] - 0s 2ms/step - loss: 1.0400 - accuracy: 0.6582\n",
            "32/32 [==============================] - 0s 3ms/step - loss: 1.0322 - accuracy: 0.6055\n",
            "Epoch 1/5\n"
          ]
        },
        {
          "output_type": "stream",
          "name": "stderr",
          "text": [
            "/usr/local/lib/python3.7/dist-packages/tensorflow/python/util/dispatch.py:1082: UserWarning: \"`sparse_categorical_crossentropy` received `from_logits=True`, but the `output` argument was produced by a sigmoid or softmax activation and thus does not represent logits. Was this intended?\"\n",
            "  return dispatch_target(*args, **kwargs)\n"
          ]
        },
        {
          "output_type": "stream",
          "name": "stdout",
          "text": [
            "64/64 [==============================] - 0s 2ms/step - loss: 1.0854 - accuracy: 0.4062\n",
            "Epoch 2/5\n",
            "64/64 [==============================] - 0s 2ms/step - loss: 1.0631 - accuracy: 0.5117\n",
            "Epoch 3/5\n",
            "64/64 [==============================] - 0s 3ms/step - loss: 1.0518 - accuracy: 0.5762\n",
            "Epoch 4/5\n",
            "64/64 [==============================] - 0s 3ms/step - loss: 1.0410 - accuracy: 0.5664\n",
            "Epoch 5/5\n",
            "64/64 [==============================] - 0s 3ms/step - loss: 1.0303 - accuracy: 0.5898\n",
            "32/32 [==============================] - 0s 2ms/step - loss: 1.0445 - accuracy: 0.4922\n",
            "Epoch 1/5\n"
          ]
        },
        {
          "output_type": "stream",
          "name": "stderr",
          "text": [
            "/usr/local/lib/python3.7/dist-packages/tensorflow/python/util/dispatch.py:1082: UserWarning: \"`sparse_categorical_crossentropy` received `from_logits=True`, but the `output` argument was produced by a sigmoid or softmax activation and thus does not represent logits. Was this intended?\"\n",
            "  return dispatch_target(*args, **kwargs)\n"
          ]
        },
        {
          "output_type": "stream",
          "name": "stdout",
          "text": [
            "64/64 [==============================] - 1s 3ms/step - loss: 1.0896 - accuracy: 0.3535\n",
            "Epoch 2/5\n",
            "64/64 [==============================] - 0s 3ms/step - loss: 1.0462 - accuracy: 0.4785\n",
            "Epoch 3/5\n",
            "64/64 [==============================] - 0s 3ms/step - loss: 1.0116 - accuracy: 0.5469\n",
            "Epoch 4/5\n",
            "64/64 [==============================] - 0s 3ms/step - loss: 0.9847 - accuracy: 0.5898\n",
            "Epoch 5/5\n",
            "64/64 [==============================] - 0s 3ms/step - loss: 0.9686 - accuracy: 0.5996\n",
            "32/32 [==============================] - 0s 2ms/step - loss: 0.9576 - accuracy: 0.6602\n",
            "Epoch 1/5\n"
          ]
        },
        {
          "output_type": "stream",
          "name": "stderr",
          "text": [
            "/usr/local/lib/python3.7/dist-packages/tensorflow/python/util/dispatch.py:1082: UserWarning: \"`sparse_categorical_crossentropy` received `from_logits=True`, but the `output` argument was produced by a sigmoid or softmax activation and thus does not represent logits. Was this intended?\"\n",
            "  return dispatch_target(*args, **kwargs)\n"
          ]
        },
        {
          "output_type": "stream",
          "name": "stdout",
          "text": [
            "64/64 [==============================] - 1s 3ms/step - loss: 1.0949 - accuracy: 0.3555\n",
            "Epoch 2/5\n",
            "64/64 [==============================] - 0s 3ms/step - loss: 1.0652 - accuracy: 0.5117\n",
            "Epoch 3/5\n",
            "64/64 [==============================] - 0s 3ms/step - loss: 1.0419 - accuracy: 0.5469\n",
            "Epoch 4/5\n",
            "64/64 [==============================] - 0s 3ms/step - loss: 1.0179 - accuracy: 0.5957\n",
            "Epoch 5/5\n",
            "64/64 [==============================] - 0s 3ms/step - loss: 0.9921 - accuracy: 0.6641\n",
            "32/32 [==============================] - 0s 2ms/step - loss: 0.9799 - accuracy: 0.6484\n",
            "Epoch 1/5\n"
          ]
        },
        {
          "output_type": "stream",
          "name": "stderr",
          "text": [
            "/usr/local/lib/python3.7/dist-packages/tensorflow/python/util/dispatch.py:1082: UserWarning: \"`sparse_categorical_crossentropy` received `from_logits=True`, but the `output` argument was produced by a sigmoid or softmax activation and thus does not represent logits. Was this intended?\"\n",
            "  return dispatch_target(*args, **kwargs)\n"
          ]
        },
        {
          "output_type": "stream",
          "name": "stdout",
          "text": [
            "64/64 [==============================] - 1s 3ms/step - loss: 1.0861 - accuracy: 0.4023\n",
            "Epoch 2/5\n",
            "64/64 [==============================] - 0s 3ms/step - loss: 1.0273 - accuracy: 0.5117\n",
            "Epoch 3/5\n",
            "64/64 [==============================] - 0s 3ms/step - loss: 0.9853 - accuracy: 0.5625\n",
            "Epoch 4/5\n",
            "64/64 [==============================] - 0s 3ms/step - loss: 0.9516 - accuracy: 0.6270\n",
            "Epoch 5/5\n",
            "64/64 [==============================] - 0s 4ms/step - loss: 0.9201 - accuracy: 0.6641\n",
            "32/32 [==============================] - 0s 2ms/step - loss: 0.9503 - accuracy: 0.5820\n",
            "Epoch 1/5\n"
          ]
        },
        {
          "output_type": "stream",
          "name": "stderr",
          "text": [
            "/usr/local/lib/python3.7/dist-packages/tensorflow/python/util/dispatch.py:1082: UserWarning: \"`sparse_categorical_crossentropy` received `from_logits=True`, but the `output` argument was produced by a sigmoid or softmax activation and thus does not represent logits. Was this intended?\"\n",
            "  return dispatch_target(*args, **kwargs)\n"
          ]
        },
        {
          "output_type": "stream",
          "name": "stdout",
          "text": [
            "64/64 [==============================] - 0s 2ms/step - loss: 1.0981 - accuracy: 0.3438\n",
            "Epoch 2/5\n",
            "64/64 [==============================] - 0s 3ms/step - loss: 1.0979 - accuracy: 0.3398\n",
            "Epoch 3/5\n",
            "64/64 [==============================] - 0s 2ms/step - loss: 1.0973 - accuracy: 0.3594\n",
            "Epoch 4/5\n",
            "64/64 [==============================] - 0s 2ms/step - loss: 1.0971 - accuracy: 0.3730\n",
            "Epoch 5/5\n",
            "64/64 [==============================] - 0s 2ms/step - loss: 1.0971 - accuracy: 0.3906\n",
            "32/32 [==============================] - 0s 2ms/step - loss: 1.0973 - accuracy: 0.3672\n",
            "Epoch 1/5\n"
          ]
        },
        {
          "output_type": "stream",
          "name": "stderr",
          "text": [
            "/usr/local/lib/python3.7/dist-packages/tensorflow/python/util/dispatch.py:1082: UserWarning: \"`sparse_categorical_crossentropy` received `from_logits=True`, but the `output` argument was produced by a sigmoid or softmax activation and thus does not represent logits. Was this intended?\"\n",
            "  return dispatch_target(*args, **kwargs)\n"
          ]
        },
        {
          "output_type": "stream",
          "name": "stdout",
          "text": [
            "64/64 [==============================] - 0s 2ms/step - loss: 1.0992 - accuracy: 0.3301\n",
            "Epoch 2/5\n",
            "64/64 [==============================] - 0s 2ms/step - loss: 1.0986 - accuracy: 0.3359\n",
            "Epoch 3/5\n",
            "64/64 [==============================] - 0s 3ms/step - loss: 1.0983 - accuracy: 0.3477\n",
            "Epoch 4/5\n",
            "64/64 [==============================] - 0s 2ms/step - loss: 1.0980 - accuracy: 0.3496\n",
            "Epoch 5/5\n",
            "64/64 [==============================] - 0s 2ms/step - loss: 1.0978 - accuracy: 0.3477\n",
            "32/32 [==============================] - 0s 2ms/step - loss: 1.0960 - accuracy: 0.3555\n",
            "Epoch 1/5\n"
          ]
        },
        {
          "output_type": "stream",
          "name": "stderr",
          "text": [
            "/usr/local/lib/python3.7/dist-packages/tensorflow/python/util/dispatch.py:1082: UserWarning: \"`sparse_categorical_crossentropy` received `from_logits=True`, but the `output` argument was produced by a sigmoid or softmax activation and thus does not represent logits. Was this intended?\"\n",
            "  return dispatch_target(*args, **kwargs)\n"
          ]
        },
        {
          "output_type": "stream",
          "name": "stdout",
          "text": [
            "64/64 [==============================] - 0s 2ms/step - loss: 1.0977 - accuracy: 0.3496\n",
            "Epoch 2/5\n",
            "64/64 [==============================] - 0s 3ms/step - loss: 1.0968 - accuracy: 0.3574\n",
            "Epoch 3/5\n",
            "64/64 [==============================] - 0s 2ms/step - loss: 1.0962 - accuracy: 0.3477\n",
            "Epoch 4/5\n",
            "64/64 [==============================] - 0s 2ms/step - loss: 1.0955 - accuracy: 0.3535\n",
            "Epoch 5/5\n",
            "64/64 [==============================] - 0s 2ms/step - loss: 1.0951 - accuracy: 0.3496\n",
            "32/32 [==============================] - 0s 3ms/step - loss: 1.0971 - accuracy: 0.3398\n",
            "Epoch 1/5\n"
          ]
        },
        {
          "output_type": "stream",
          "name": "stderr",
          "text": [
            "/usr/local/lib/python3.7/dist-packages/tensorflow/python/util/dispatch.py:1082: UserWarning: \"`sparse_categorical_crossentropy` received `from_logits=True`, but the `output` argument was produced by a sigmoid or softmax activation and thus does not represent logits. Was this intended?\"\n",
            "  return dispatch_target(*args, **kwargs)\n"
          ]
        },
        {
          "output_type": "stream",
          "name": "stdout",
          "text": [
            "64/64 [==============================] - 1s 3ms/step - loss: 1.0905 - accuracy: 0.3887\n",
            "Epoch 2/5\n",
            "64/64 [==============================] - 0s 3ms/step - loss: 1.0592 - accuracy: 0.5312\n",
            "Epoch 3/5\n",
            "64/64 [==============================] - 0s 3ms/step - loss: 1.0353 - accuracy: 0.6270\n",
            "Epoch 4/5\n",
            "64/64 [==============================] - 0s 3ms/step - loss: 1.0090 - accuracy: 0.6562\n",
            "Epoch 5/5\n",
            "64/64 [==============================] - 0s 3ms/step - loss: 0.9823 - accuracy: 0.6875\n",
            "32/32 [==============================] - 0s 3ms/step - loss: 0.9717 - accuracy: 0.6680\n",
            "Epoch 1/5\n"
          ]
        },
        {
          "output_type": "stream",
          "name": "stderr",
          "text": [
            "/usr/local/lib/python3.7/dist-packages/tensorflow/python/util/dispatch.py:1082: UserWarning: \"`sparse_categorical_crossentropy` received `from_logits=True`, but the `output` argument was produced by a sigmoid or softmax activation and thus does not represent logits. Was this intended?\"\n",
            "  return dispatch_target(*args, **kwargs)\n"
          ]
        },
        {
          "output_type": "stream",
          "name": "stdout",
          "text": [
            "64/64 [==============================] - 1s 3ms/step - loss: 1.0933 - accuracy: 0.3691\n",
            "Epoch 2/5\n",
            "64/64 [==============================] - 0s 3ms/step - loss: 1.0641 - accuracy: 0.5508\n",
            "Epoch 3/5\n",
            "64/64 [==============================] - 0s 3ms/step - loss: 1.0358 - accuracy: 0.6270\n",
            "Epoch 4/5\n",
            "64/64 [==============================] - 0s 3ms/step - loss: 1.0112 - accuracy: 0.6680\n",
            "Epoch 5/5\n",
            "64/64 [==============================] - 0s 3ms/step - loss: 0.9878 - accuracy: 0.6777\n",
            "32/32 [==============================] - 0s 2ms/step - loss: 0.9840 - accuracy: 0.6719\n",
            "Epoch 1/5\n"
          ]
        },
        {
          "output_type": "stream",
          "name": "stderr",
          "text": [
            "/usr/local/lib/python3.7/dist-packages/tensorflow/python/util/dispatch.py:1082: UserWarning: \"`sparse_categorical_crossentropy` received `from_logits=True`, but the `output` argument was produced by a sigmoid or softmax activation and thus does not represent logits. Was this intended?\"\n",
            "  return dispatch_target(*args, **kwargs)\n"
          ]
        },
        {
          "output_type": "stream",
          "name": "stdout",
          "text": [
            "64/64 [==============================] - 1s 3ms/step - loss: 1.0912 - accuracy: 0.4004\n",
            "Epoch 2/5\n",
            "64/64 [==============================] - 0s 3ms/step - loss: 1.0560 - accuracy: 0.5156\n",
            "Epoch 3/5\n",
            "64/64 [==============================] - 0s 3ms/step - loss: 1.0298 - accuracy: 0.5371\n",
            "Epoch 4/5\n",
            "64/64 [==============================] - 0s 3ms/step - loss: 1.0080 - accuracy: 0.6289\n",
            "Epoch 5/5\n",
            "64/64 [==============================] - 0s 3ms/step - loss: 0.9802 - accuracy: 0.6777\n",
            "32/32 [==============================] - 0s 2ms/step - loss: 0.9981 - accuracy: 0.5820\n",
            "Epoch 1/5\n"
          ]
        },
        {
          "output_type": "stream",
          "name": "stderr",
          "text": [
            "/usr/local/lib/python3.7/dist-packages/tensorflow/python/util/dispatch.py:1082: UserWarning: \"`sparse_categorical_crossentropy` received `from_logits=True`, but the `output` argument was produced by a sigmoid or softmax activation and thus does not represent logits. Was this intended?\"\n",
            "  return dispatch_target(*args, **kwargs)\n"
          ]
        },
        {
          "output_type": "stream",
          "name": "stdout",
          "text": [
            "64/64 [==============================] - 0s 3ms/step - loss: 1.1002 - accuracy: 0.3105\n",
            "Epoch 2/5\n",
            "64/64 [==============================] - 0s 2ms/step - loss: 1.0999 - accuracy: 0.3105\n",
            "Epoch 3/5\n",
            "64/64 [==============================] - 0s 3ms/step - loss: 1.0997 - accuracy: 0.3105\n",
            "Epoch 4/5\n",
            "64/64 [==============================] - 0s 2ms/step - loss: 1.0995 - accuracy: 0.3105\n",
            "Epoch 5/5\n",
            "64/64 [==============================] - 0s 2ms/step - loss: 1.0993 - accuracy: 0.3105\n",
            "32/32 [==============================] - 0s 2ms/step - loss: 1.0993 - accuracy: 0.3164\n",
            "Epoch 1/5\n"
          ]
        },
        {
          "output_type": "stream",
          "name": "stderr",
          "text": [
            "/usr/local/lib/python3.7/dist-packages/tensorflow/python/util/dispatch.py:1082: UserWarning: \"`sparse_categorical_crossentropy` received `from_logits=True`, but the `output` argument was produced by a sigmoid or softmax activation and thus does not represent logits. Was this intended?\"\n",
            "  return dispatch_target(*args, **kwargs)\n"
          ]
        },
        {
          "output_type": "stream",
          "name": "stdout",
          "text": [
            "64/64 [==============================] - 0s 2ms/step - loss: 1.0983 - accuracy: 0.3301\n",
            "Epoch 2/5\n",
            "64/64 [==============================] - 0s 2ms/step - loss: 1.0982 - accuracy: 0.3301\n",
            "Epoch 3/5\n",
            "64/64 [==============================] - 0s 2ms/step - loss: 1.0980 - accuracy: 0.3301\n",
            "Epoch 4/5\n",
            "64/64 [==============================] - 0s 2ms/step - loss: 1.0979 - accuracy: 0.3301\n",
            "Epoch 5/5\n",
            "64/64 [==============================] - 0s 3ms/step - loss: 1.0978 - accuracy: 0.3320\n",
            "32/32 [==============================] - 0s 2ms/step - loss: 1.0964 - accuracy: 0.3516\n",
            "Epoch 1/5\n"
          ]
        },
        {
          "output_type": "stream",
          "name": "stderr",
          "text": [
            "/usr/local/lib/python3.7/dist-packages/tensorflow/python/util/dispatch.py:1082: UserWarning: \"`sparse_categorical_crossentropy` received `from_logits=True`, but the `output` argument was produced by a sigmoid or softmax activation and thus does not represent logits. Was this intended?\"\n",
            "  return dispatch_target(*args, **kwargs)\n"
          ]
        },
        {
          "output_type": "stream",
          "name": "stdout",
          "text": [
            "64/64 [==============================] - 0s 2ms/step - loss: 1.0985 - accuracy: 0.2773\n",
            "Epoch 2/5\n",
            "64/64 [==============================] - 0s 2ms/step - loss: 1.0983 - accuracy: 0.2891\n",
            "Epoch 3/5\n",
            "64/64 [==============================] - 0s 2ms/step - loss: 1.0980 - accuracy: 0.3027\n",
            "Epoch 4/5\n",
            "64/64 [==============================] - 0s 2ms/step - loss: 1.0978 - accuracy: 0.3066\n",
            "Epoch 5/5\n",
            "64/64 [==============================] - 0s 3ms/step - loss: 1.0976 - accuracy: 0.3184\n",
            "32/32 [==============================] - 0s 2ms/step - loss: 1.0975 - accuracy: 0.3594\n",
            "Epoch 1/5\n"
          ]
        },
        {
          "output_type": "stream",
          "name": "stderr",
          "text": [
            "/usr/local/lib/python3.7/dist-packages/tensorflow/python/util/dispatch.py:1082: UserWarning: \"`sparse_categorical_crossentropy` received `from_logits=True`, but the `output` argument was produced by a sigmoid or softmax activation and thus does not represent logits. Was this intended?\"\n",
            "  return dispatch_target(*args, **kwargs)\n"
          ]
        },
        {
          "output_type": "stream",
          "name": "stdout",
          "text": [
            "64/64 [==============================] - 1s 2ms/step - loss: 1.0979 - accuracy: 0.3496\n",
            "Epoch 2/5\n",
            "64/64 [==============================] - 0s 2ms/step - loss: 1.0979 - accuracy: 0.3496\n",
            "Epoch 3/5\n",
            "64/64 [==============================] - 0s 2ms/step - loss: 1.0979 - accuracy: 0.3516\n",
            "Epoch 4/5\n",
            "64/64 [==============================] - 0s 2ms/step - loss: 1.0979 - accuracy: 0.3516\n",
            "Epoch 5/5\n",
            "64/64 [==============================] - 0s 3ms/step - loss: 1.0979 - accuracy: 0.3535\n",
            "32/32 [==============================] - 0s 3ms/step - loss: 1.0982 - accuracy: 0.4062\n",
            "Epoch 1/5\n"
          ]
        },
        {
          "output_type": "stream",
          "name": "stderr",
          "text": [
            "/usr/local/lib/python3.7/dist-packages/tensorflow/python/util/dispatch.py:1082: UserWarning: \"`sparse_categorical_crossentropy` received `from_logits=True`, but the `output` argument was produced by a sigmoid or softmax activation and thus does not represent logits. Was this intended?\"\n",
            "  return dispatch_target(*args, **kwargs)\n"
          ]
        },
        {
          "output_type": "stream",
          "name": "stdout",
          "text": [
            "64/64 [==============================] - 0s 3ms/step - loss: 1.0977 - accuracy: 0.4258\n",
            "Epoch 2/5\n",
            "64/64 [==============================] - 0s 2ms/step - loss: 1.0977 - accuracy: 0.4258\n",
            "Epoch 3/5\n",
            "64/64 [==============================] - 0s 2ms/step - loss: 1.0976 - accuracy: 0.4277\n",
            "Epoch 4/5\n",
            "64/64 [==============================] - 0s 2ms/step - loss: 1.0976 - accuracy: 0.4277\n",
            "Epoch 5/5\n",
            "64/64 [==============================] - 0s 3ms/step - loss: 1.0976 - accuracy: 0.4277\n",
            "32/32 [==============================] - 0s 3ms/step - loss: 1.0978 - accuracy: 0.4297\n",
            "Epoch 1/5\n"
          ]
        },
        {
          "output_type": "stream",
          "name": "stderr",
          "text": [
            "/usr/local/lib/python3.7/dist-packages/tensorflow/python/util/dispatch.py:1082: UserWarning: \"`sparse_categorical_crossentropy` received `from_logits=True`, but the `output` argument was produced by a sigmoid or softmax activation and thus does not represent logits. Was this intended?\"\n",
            "  return dispatch_target(*args, **kwargs)\n"
          ]
        },
        {
          "output_type": "stream",
          "name": "stdout",
          "text": [
            "64/64 [==============================] - 0s 3ms/step - loss: 1.0989 - accuracy: 0.3340\n",
            "Epoch 2/5\n",
            "64/64 [==============================] - 0s 3ms/step - loss: 1.0989 - accuracy: 0.3320\n",
            "Epoch 3/5\n",
            "64/64 [==============================] - 0s 3ms/step - loss: 1.0989 - accuracy: 0.3359\n",
            "Epoch 4/5\n",
            "64/64 [==============================] - 0s 3ms/step - loss: 1.0989 - accuracy: 0.3379\n",
            "Epoch 5/5\n",
            "64/64 [==============================] - 0s 3ms/step - loss: 1.0989 - accuracy: 0.3379\n",
            "32/32 [==============================] - 0s 2ms/step - loss: 1.0985 - accuracy: 0.3945\n",
            "Epoch 1/5\n"
          ]
        },
        {
          "output_type": "stream",
          "name": "stderr",
          "text": [
            "/usr/local/lib/python3.7/dist-packages/tensorflow/python/util/dispatch.py:1082: UserWarning: \"`sparse_categorical_crossentropy` received `from_logits=True`, but the `output` argument was produced by a sigmoid or softmax activation and thus does not represent logits. Was this intended?\"\n",
            "  return dispatch_target(*args, **kwargs)\n"
          ]
        },
        {
          "output_type": "stream",
          "name": "stdout",
          "text": [
            "64/64 [==============================] - 0s 3ms/step - loss: 1.0928 - accuracy: 0.3828\n",
            "Epoch 2/5\n",
            "64/64 [==============================] - 0s 2ms/step - loss: 1.0607 - accuracy: 0.5566\n",
            "Epoch 3/5\n",
            "64/64 [==============================] - 0s 3ms/step - loss: 1.0173 - accuracy: 0.6133\n",
            "Epoch 4/5\n",
            "64/64 [==============================] - 0s 3ms/step - loss: 0.9865 - accuracy: 0.6016\n",
            "Epoch 5/5\n",
            "64/64 [==============================] - 0s 2ms/step - loss: 0.9523 - accuracy: 0.6641\n",
            "32/32 [==============================] - 0s 2ms/step - loss: 0.9382 - accuracy: 0.6641\n",
            "Epoch 1/5\n"
          ]
        },
        {
          "output_type": "stream",
          "name": "stderr",
          "text": [
            "/usr/local/lib/python3.7/dist-packages/tensorflow/python/util/dispatch.py:1082: UserWarning: \"`sparse_categorical_crossentropy` received `from_logits=True`, but the `output` argument was produced by a sigmoid or softmax activation and thus does not represent logits. Was this intended?\"\n",
            "  return dispatch_target(*args, **kwargs)\n"
          ]
        },
        {
          "output_type": "stream",
          "name": "stdout",
          "text": [
            "64/64 [==============================] - 0s 3ms/step - loss: 1.0915 - accuracy: 0.4121\n",
            "Epoch 2/5\n",
            "64/64 [==============================] - 0s 3ms/step - loss: 1.0516 - accuracy: 0.5566\n",
            "Epoch 3/5\n",
            "64/64 [==============================] - 0s 2ms/step - loss: 1.0152 - accuracy: 0.6016\n",
            "Epoch 4/5\n",
            "64/64 [==============================] - 0s 3ms/step - loss: 0.9802 - accuracy: 0.6562\n",
            "Epoch 5/5\n",
            "64/64 [==============================] - 0s 3ms/step - loss: 0.9473 - accuracy: 0.6582\n",
            "32/32 [==============================] - 0s 3ms/step - loss: 0.9495 - accuracy: 0.6211\n",
            "Epoch 1/5\n"
          ]
        },
        {
          "output_type": "stream",
          "name": "stderr",
          "text": [
            "/usr/local/lib/python3.7/dist-packages/tensorflow/python/util/dispatch.py:1082: UserWarning: \"`sparse_categorical_crossentropy` received `from_logits=True`, but the `output` argument was produced by a sigmoid or softmax activation and thus does not represent logits. Was this intended?\"\n",
            "  return dispatch_target(*args, **kwargs)\n"
          ]
        },
        {
          "output_type": "stream",
          "name": "stdout",
          "text": [
            "64/64 [==============================] - 0s 3ms/step - loss: 1.0937 - accuracy: 0.3770\n",
            "Epoch 2/5\n",
            "64/64 [==============================] - 0s 3ms/step - loss: 1.0584 - accuracy: 0.5254\n",
            "Epoch 3/5\n",
            "64/64 [==============================] - 0s 3ms/step - loss: 1.0239 - accuracy: 0.6055\n",
            "Epoch 4/5\n",
            "64/64 [==============================] - 0s 3ms/step - loss: 0.9857 - accuracy: 0.6426\n",
            "Epoch 5/5\n",
            "64/64 [==============================] - 0s 3ms/step - loss: 0.9490 - accuracy: 0.7207\n",
            "32/32 [==============================] - 0s 2ms/step - loss: 0.9652 - accuracy: 0.6484\n",
            "Epoch 1/5\n"
          ]
        },
        {
          "output_type": "stream",
          "name": "stderr",
          "text": [
            "/usr/local/lib/python3.7/dist-packages/tensorflow/python/util/dispatch.py:1082: UserWarning: \"`sparse_categorical_crossentropy` received `from_logits=True`, but the `output` argument was produced by a sigmoid or softmax activation and thus does not represent logits. Was this intended?\"\n",
            "  return dispatch_target(*args, **kwargs)\n"
          ]
        },
        {
          "output_type": "stream",
          "name": "stdout",
          "text": [
            "64/64 [==============================] - 0s 3ms/step - loss: 1.0965 - accuracy: 0.3418\n",
            "Epoch 2/5\n",
            "64/64 [==============================] - 0s 3ms/step - loss: 1.0877 - accuracy: 0.4609\n",
            "Epoch 3/5\n",
            "64/64 [==============================] - 0s 3ms/step - loss: 1.0784 - accuracy: 0.4512\n",
            "Epoch 4/5\n",
            "64/64 [==============================] - 0s 3ms/step - loss: 1.0669 - accuracy: 0.4688\n",
            "Epoch 5/5\n",
            "64/64 [==============================] - 0s 3ms/step - loss: 1.0578 - accuracy: 0.4727\n",
            "32/32 [==============================] - 0s 3ms/step - loss: 1.0524 - accuracy: 0.4805\n",
            "Epoch 1/5\n"
          ]
        },
        {
          "output_type": "stream",
          "name": "stderr",
          "text": [
            "/usr/local/lib/python3.7/dist-packages/tensorflow/python/util/dispatch.py:1082: UserWarning: \"`sparse_categorical_crossentropy` received `from_logits=True`, but the `output` argument was produced by a sigmoid or softmax activation and thus does not represent logits. Was this intended?\"\n",
            "  return dispatch_target(*args, **kwargs)\n"
          ]
        },
        {
          "output_type": "stream",
          "name": "stdout",
          "text": [
            "64/64 [==============================] - 0s 2ms/step - loss: 1.0964 - accuracy: 0.3496\n",
            "Epoch 2/5\n",
            "64/64 [==============================] - 0s 2ms/step - loss: 1.0851 - accuracy: 0.4258\n",
            "Epoch 3/5\n",
            "64/64 [==============================] - 0s 3ms/step - loss: 1.0740 - accuracy: 0.6191\n",
            "Epoch 4/5\n",
            "64/64 [==============================] - 0s 3ms/step - loss: 1.0634 - accuracy: 0.6191\n",
            "Epoch 5/5\n",
            "64/64 [==============================] - 0s 3ms/step - loss: 1.0503 - accuracy: 0.6504\n",
            "32/32 [==============================] - 0s 2ms/step - loss: 1.0451 - accuracy: 0.6758\n",
            "Epoch 1/5\n"
          ]
        },
        {
          "output_type": "stream",
          "name": "stderr",
          "text": [
            "/usr/local/lib/python3.7/dist-packages/tensorflow/python/util/dispatch.py:1082: UserWarning: \"`sparse_categorical_crossentropy` received `from_logits=True`, but the `output` argument was produced by a sigmoid or softmax activation and thus does not represent logits. Was this intended?\"\n",
            "  return dispatch_target(*args, **kwargs)\n"
          ]
        },
        {
          "output_type": "stream",
          "name": "stdout",
          "text": [
            "64/64 [==============================] - 0s 3ms/step - loss: 1.0932 - accuracy: 0.3438\n",
            "Epoch 2/5\n",
            "64/64 [==============================] - 0s 2ms/step - loss: 1.0771 - accuracy: 0.4258\n",
            "Epoch 3/5\n",
            "64/64 [==============================] - 0s 3ms/step - loss: 1.0637 - accuracy: 0.4551\n",
            "Epoch 4/5\n",
            "64/64 [==============================] - 0s 3ms/step - loss: 1.0531 - accuracy: 0.4688\n",
            "Epoch 5/5\n",
            "64/64 [==============================] - 0s 3ms/step - loss: 1.0446 - accuracy: 0.4863\n",
            "32/32 [==============================] - 0s 2ms/step - loss: 1.0590 - accuracy: 0.4688\n",
            "Epoch 1/5\n"
          ]
        },
        {
          "output_type": "stream",
          "name": "stderr",
          "text": [
            "/usr/local/lib/python3.7/dist-packages/tensorflow/python/util/dispatch.py:1082: UserWarning: \"`sparse_categorical_crossentropy` received `from_logits=True`, but the `output` argument was produced by a sigmoid or softmax activation and thus does not represent logits. Was this intended?\"\n",
            "  return dispatch_target(*args, **kwargs)\n"
          ]
        },
        {
          "output_type": "stream",
          "name": "stdout",
          "text": [
            "64/64 [==============================] - 1s 3ms/step - loss: 1.0939 - accuracy: 0.4043\n",
            "Epoch 2/5\n",
            "64/64 [==============================] - 0s 3ms/step - loss: 1.0587 - accuracy: 0.5156\n",
            "Epoch 3/5\n",
            "64/64 [==============================] - 0s 4ms/step - loss: 1.0195 - accuracy: 0.5918\n",
            "Epoch 4/5\n",
            "64/64 [==============================] - 0s 3ms/step - loss: 0.9883 - accuracy: 0.6523\n",
            "Epoch 5/5\n",
            "64/64 [==============================] - 0s 3ms/step - loss: 0.9501 - accuracy: 0.7070\n",
            "32/32 [==============================] - 0s 2ms/step - loss: 0.9380 - accuracy: 0.7227\n",
            "Epoch 1/5\n"
          ]
        },
        {
          "output_type": "stream",
          "name": "stderr",
          "text": [
            "/usr/local/lib/python3.7/dist-packages/tensorflow/python/util/dispatch.py:1082: UserWarning: \"`sparse_categorical_crossentropy` received `from_logits=True`, but the `output` argument was produced by a sigmoid or softmax activation and thus does not represent logits. Was this intended?\"\n",
            "  return dispatch_target(*args, **kwargs)\n"
          ]
        },
        {
          "output_type": "stream",
          "name": "stdout",
          "text": [
            "64/64 [==============================] - 1s 3ms/step - loss: 1.0944 - accuracy: 0.3887\n",
            "Epoch 2/5\n",
            "64/64 [==============================] - 0s 3ms/step - loss: 1.0600 - accuracy: 0.5234\n",
            "Epoch 3/5\n",
            "64/64 [==============================] - 0s 3ms/step - loss: 1.0127 - accuracy: 0.6387\n",
            "Epoch 4/5\n",
            "64/64 [==============================] - 0s 3ms/step - loss: 0.9702 - accuracy: 0.6719\n",
            "Epoch 5/5\n",
            "64/64 [==============================] - 0s 3ms/step - loss: 0.9304 - accuracy: 0.7168\n",
            "32/32 [==============================] - 0s 2ms/step - loss: 0.9276 - accuracy: 0.6875\n",
            "Epoch 1/5\n"
          ]
        },
        {
          "output_type": "stream",
          "name": "stderr",
          "text": [
            "/usr/local/lib/python3.7/dist-packages/tensorflow/python/util/dispatch.py:1082: UserWarning: \"`sparse_categorical_crossentropy` received `from_logits=True`, but the `output` argument was produced by a sigmoid or softmax activation and thus does not represent logits. Was this intended?\"\n",
            "  return dispatch_target(*args, **kwargs)\n"
          ]
        },
        {
          "output_type": "stream",
          "name": "stdout",
          "text": [
            "64/64 [==============================] - 1s 3ms/step - loss: 1.0908 - accuracy: 0.3887\n",
            "Epoch 2/5\n",
            "64/64 [==============================] - 0s 3ms/step - loss: 1.0489 - accuracy: 0.4941\n",
            "Epoch 3/5\n",
            "64/64 [==============================] - 0s 3ms/step - loss: 1.0085 - accuracy: 0.5254\n",
            "Epoch 4/5\n",
            "64/64 [==============================] - 0s 4ms/step - loss: 0.9779 - accuracy: 0.5254\n",
            "Epoch 5/5\n",
            "64/64 [==============================] - 0s 3ms/step - loss: 0.9512 - accuracy: 0.5898\n",
            "32/32 [==============================] - 0s 3ms/step - loss: 0.9774 - accuracy: 0.5391\n",
            "Epoch 1/5\n"
          ]
        },
        {
          "output_type": "stream",
          "name": "stderr",
          "text": [
            "/usr/local/lib/python3.7/dist-packages/tensorflow/python/util/dispatch.py:1082: UserWarning: \"`sparse_categorical_crossentropy` received `from_logits=True`, but the `output` argument was produced by a sigmoid or softmax activation and thus does not represent logits. Was this intended?\"\n",
            "  return dispatch_target(*args, **kwargs)\n"
          ]
        },
        {
          "output_type": "stream",
          "name": "stdout",
          "text": [
            "64/64 [==============================] - 0s 3ms/step - loss: 1.0988 - accuracy: 0.3242\n",
            "Epoch 2/5\n",
            "64/64 [==============================] - 0s 3ms/step - loss: 1.0985 - accuracy: 0.3262\n",
            "Epoch 3/5\n",
            "64/64 [==============================] - 0s 2ms/step - loss: 1.0982 - accuracy: 0.3125\n",
            "Epoch 4/5\n",
            "64/64 [==============================] - 0s 2ms/step - loss: 1.0982 - accuracy: 0.3047\n",
            "Epoch 5/5\n",
            "64/64 [==============================] - 0s 2ms/step - loss: 1.0979 - accuracy: 0.3379\n",
            "32/32 [==============================] - 0s 2ms/step - loss: 1.0976 - accuracy: 0.3594\n",
            "Epoch 1/5\n"
          ]
        },
        {
          "output_type": "stream",
          "name": "stderr",
          "text": [
            "/usr/local/lib/python3.7/dist-packages/tensorflow/python/util/dispatch.py:1082: UserWarning: \"`sparse_categorical_crossentropy` received `from_logits=True`, but the `output` argument was produced by a sigmoid or softmax activation and thus does not represent logits. Was this intended?\"\n",
            "  return dispatch_target(*args, **kwargs)\n"
          ]
        },
        {
          "output_type": "stream",
          "name": "stdout",
          "text": [
            "64/64 [==============================] - 0s 2ms/step - loss: 1.0995 - accuracy: 0.3145\n",
            "Epoch 2/5\n",
            "64/64 [==============================] - 0s 2ms/step - loss: 1.0991 - accuracy: 0.3320\n",
            "Epoch 3/5\n",
            "64/64 [==============================] - 0s 2ms/step - loss: 1.0990 - accuracy: 0.3086\n",
            "Epoch 4/5\n",
            "64/64 [==============================] - 0s 2ms/step - loss: 1.0988 - accuracy: 0.3477\n",
            "Epoch 5/5\n",
            "64/64 [==============================] - 0s 2ms/step - loss: 1.0987 - accuracy: 0.3340\n",
            "32/32 [==============================] - 0s 3ms/step - loss: 1.0977 - accuracy: 0.3516\n",
            "Epoch 1/5\n"
          ]
        },
        {
          "output_type": "stream",
          "name": "stderr",
          "text": [
            "/usr/local/lib/python3.7/dist-packages/tensorflow/python/util/dispatch.py:1082: UserWarning: \"`sparse_categorical_crossentropy` received `from_logits=True`, but the `output` argument was produced by a sigmoid or softmax activation and thus does not represent logits. Was this intended?\"\n",
            "  return dispatch_target(*args, **kwargs)\n"
          ]
        },
        {
          "output_type": "stream",
          "name": "stdout",
          "text": [
            "64/64 [==============================] - 0s 3ms/step - loss: 1.0986 - accuracy: 0.3086\n",
            "Epoch 2/5\n",
            "64/64 [==============================] - 0s 2ms/step - loss: 1.0980 - accuracy: 0.3066\n",
            "Epoch 3/5\n",
            "64/64 [==============================] - 0s 3ms/step - loss: 1.0975 - accuracy: 0.3145\n",
            "Epoch 4/5\n",
            "64/64 [==============================] - 0s 3ms/step - loss: 1.0971 - accuracy: 0.3379\n",
            "Epoch 5/5\n",
            "64/64 [==============================] - 0s 2ms/step - loss: 1.0969 - accuracy: 0.3398\n",
            "32/32 [==============================] - 0s 2ms/step - loss: 1.0983 - accuracy: 0.3398\n",
            "Epoch 1/5\n"
          ]
        },
        {
          "output_type": "stream",
          "name": "stderr",
          "text": [
            "/usr/local/lib/python3.7/dist-packages/tensorflow/python/util/dispatch.py:1082: UserWarning: \"`sparse_categorical_crossentropy` received `from_logits=True`, but the `output` argument was produced by a sigmoid or softmax activation and thus does not represent logits. Was this intended?\"\n",
            "  return dispatch_target(*args, **kwargs)\n"
          ]
        },
        {
          "output_type": "stream",
          "name": "stdout",
          "text": [
            "64/64 [==============================] - 1s 3ms/step - loss: 1.0950 - accuracy: 0.3594\n",
            "Epoch 2/5\n",
            "64/64 [==============================] - 0s 3ms/step - loss: 1.0732 - accuracy: 0.4941\n",
            "Epoch 3/5\n",
            "64/64 [==============================] - 0s 3ms/step - loss: 1.0508 - accuracy: 0.5508\n",
            "Epoch 4/5\n",
            "64/64 [==============================] - 0s 3ms/step - loss: 1.0318 - accuracy: 0.6094\n",
            "Epoch 5/5\n",
            "64/64 [==============================] - 0s 3ms/step - loss: 1.0127 - accuracy: 0.5996\n",
            "32/32 [==============================] - 0s 2ms/step - loss: 1.0021 - accuracy: 0.7031\n",
            "Epoch 1/5\n"
          ]
        },
        {
          "output_type": "stream",
          "name": "stderr",
          "text": [
            "/usr/local/lib/python3.7/dist-packages/tensorflow/python/util/dispatch.py:1082: UserWarning: \"`sparse_categorical_crossentropy` received `from_logits=True`, but the `output` argument was produced by a sigmoid or softmax activation and thus does not represent logits. Was this intended?\"\n",
            "  return dispatch_target(*args, **kwargs)\n"
          ]
        },
        {
          "output_type": "stream",
          "name": "stdout",
          "text": [
            "64/64 [==============================] - 1s 3ms/step - loss: 1.0901 - accuracy: 0.4277\n",
            "Epoch 2/5\n",
            "64/64 [==============================] - 0s 3ms/step - loss: 1.0671 - accuracy: 0.5410\n",
            "Epoch 3/5\n",
            "64/64 [==============================] - 0s 3ms/step - loss: 1.0410 - accuracy: 0.6016\n",
            "Epoch 4/5\n",
            "64/64 [==============================] - 0s 3ms/step - loss: 1.0163 - accuracy: 0.6621\n",
            "Epoch 5/5\n",
            "64/64 [==============================] - 0s 3ms/step - loss: 0.9888 - accuracy: 0.6992\n",
            "32/32 [==============================] - 0s 3ms/step - loss: 0.9896 - accuracy: 0.6484\n",
            "Epoch 1/5\n"
          ]
        },
        {
          "output_type": "stream",
          "name": "stderr",
          "text": [
            "/usr/local/lib/python3.7/dist-packages/tensorflow/python/util/dispatch.py:1082: UserWarning: \"`sparse_categorical_crossentropy` received `from_logits=True`, but the `output` argument was produced by a sigmoid or softmax activation and thus does not represent logits. Was this intended?\"\n",
            "  return dispatch_target(*args, **kwargs)\n"
          ]
        },
        {
          "output_type": "stream",
          "name": "stdout",
          "text": [
            "64/64 [==============================] - 1s 3ms/step - loss: 1.0861 - accuracy: 0.4141\n",
            "Epoch 2/5\n",
            "64/64 [==============================] - 0s 3ms/step - loss: 1.0556 - accuracy: 0.5840\n",
            "Epoch 3/5\n",
            "64/64 [==============================] - 0s 3ms/step - loss: 1.0312 - accuracy: 0.6094\n",
            "Epoch 4/5\n",
            "64/64 [==============================] - 0s 3ms/step - loss: 1.0069 - accuracy: 0.6562\n",
            "Epoch 5/5\n",
            "64/64 [==============================] - 0s 3ms/step - loss: 0.9799 - accuracy: 0.6836\n",
            "32/32 [==============================] - 0s 2ms/step - loss: 0.9941 - accuracy: 0.5781\n",
            "Epoch 1/5\n"
          ]
        },
        {
          "output_type": "stream",
          "name": "stderr",
          "text": [
            "/usr/local/lib/python3.7/dist-packages/tensorflow/python/util/dispatch.py:1082: UserWarning: \"`sparse_categorical_crossentropy` received `from_logits=True`, but the `output` argument was produced by a sigmoid or softmax activation and thus does not represent logits. Was this intended?\"\n",
            "  return dispatch_target(*args, **kwargs)\n"
          ]
        },
        {
          "output_type": "stream",
          "name": "stdout",
          "text": [
            "64/64 [==============================] - 0s 2ms/step - loss: 1.0985 - accuracy: 0.3672\n",
            "Epoch 2/5\n",
            "64/64 [==============================] - 0s 3ms/step - loss: 1.0984 - accuracy: 0.3789\n",
            "Epoch 3/5\n",
            "64/64 [==============================] - 0s 2ms/step - loss: 1.0984 - accuracy: 0.3750\n",
            "Epoch 4/5\n",
            "64/64 [==============================] - 0s 3ms/step - loss: 1.0983 - accuracy: 0.3945\n",
            "Epoch 5/5\n",
            "64/64 [==============================] - 0s 2ms/step - loss: 1.0983 - accuracy: 0.3809\n",
            "32/32 [==============================] - 0s 2ms/step - loss: 1.0985 - accuracy: 0.3477\n",
            "Epoch 1/5\n"
          ]
        },
        {
          "output_type": "stream",
          "name": "stderr",
          "text": [
            "/usr/local/lib/python3.7/dist-packages/tensorflow/python/util/dispatch.py:1082: UserWarning: \"`sparse_categorical_crossentropy` received `from_logits=True`, but the `output` argument was produced by a sigmoid or softmax activation and thus does not represent logits. Was this intended?\"\n",
            "  return dispatch_target(*args, **kwargs)\n"
          ]
        },
        {
          "output_type": "stream",
          "name": "stdout",
          "text": [
            "64/64 [==============================] - 0s 3ms/step - loss: 1.0988 - accuracy: 0.3301\n",
            "Epoch 2/5\n",
            "64/64 [==============================] - 0s 3ms/step - loss: 1.0988 - accuracy: 0.3301\n",
            "Epoch 3/5\n",
            "64/64 [==============================] - 0s 3ms/step - loss: 1.0988 - accuracy: 0.3301\n",
            "Epoch 4/5\n",
            "64/64 [==============================] - 0s 2ms/step - loss: 1.0987 - accuracy: 0.3281\n",
            "Epoch 5/5\n",
            "64/64 [==============================] - 0s 3ms/step - loss: 1.0987 - accuracy: 0.3301\n",
            "32/32 [==============================] - 0s 2ms/step - loss: 1.0982 - accuracy: 0.3594\n",
            "Epoch 1/5\n"
          ]
        },
        {
          "output_type": "stream",
          "name": "stderr",
          "text": [
            "/usr/local/lib/python3.7/dist-packages/tensorflow/python/util/dispatch.py:1082: UserWarning: \"`sparse_categorical_crossentropy` received `from_logits=True`, but the `output` argument was produced by a sigmoid or softmax activation and thus does not represent logits. Was this intended?\"\n",
            "  return dispatch_target(*args, **kwargs)\n"
          ]
        },
        {
          "output_type": "stream",
          "name": "stdout",
          "text": [
            "64/64 [==============================] - 0s 2ms/step - loss: 1.0983 - accuracy: 0.3672\n",
            "Epoch 2/5\n",
            "64/64 [==============================] - 0s 2ms/step - loss: 1.0982 - accuracy: 0.4004\n",
            "Epoch 3/5\n",
            "64/64 [==============================] - 0s 2ms/step - loss: 1.0981 - accuracy: 0.4180\n",
            "Epoch 4/5\n",
            "64/64 [==============================] - 0s 3ms/step - loss: 1.0980 - accuracy: 0.4004\n",
            "Epoch 5/5\n",
            "64/64 [==============================] - 0s 3ms/step - loss: 1.0980 - accuracy: 0.4121\n",
            "32/32 [==============================] - 0s 3ms/step - loss: 1.0986 - accuracy: 0.3555\n",
            "Epoch 1/5\n"
          ]
        },
        {
          "output_type": "stream",
          "name": "stderr",
          "text": [
            "/usr/local/lib/python3.7/dist-packages/tensorflow/python/util/dispatch.py:1082: UserWarning: \"`sparse_categorical_crossentropy` received `from_logits=True`, but the `output` argument was produced by a sigmoid or softmax activation and thus does not represent logits. Was this intended?\"\n",
            "  return dispatch_target(*args, **kwargs)\n"
          ]
        },
        {
          "output_type": "stream",
          "name": "stdout",
          "text": [
            "64/64 [==============================] - 0s 3ms/step - loss: 1.0987 - accuracy: 0.3418\n",
            "Epoch 2/5\n",
            "64/64 [==============================] - 0s 3ms/step - loss: 1.0986 - accuracy: 0.3418\n",
            "Epoch 3/5\n",
            "64/64 [==============================] - 0s 3ms/step - loss: 1.0986 - accuracy: 0.3418\n",
            "Epoch 4/5\n",
            "64/64 [==============================] - 0s 3ms/step - loss: 1.0986 - accuracy: 0.3418\n",
            "Epoch 5/5\n",
            "64/64 [==============================] - 0s 2ms/step - loss: 1.0986 - accuracy: 0.3418\n",
            "32/32 [==============================] - 0s 3ms/step - loss: 1.0989 - accuracy: 0.3555\n",
            "Epoch 1/5\n"
          ]
        },
        {
          "output_type": "stream",
          "name": "stderr",
          "text": [
            "/usr/local/lib/python3.7/dist-packages/tensorflow/python/util/dispatch.py:1082: UserWarning: \"`sparse_categorical_crossentropy` received `from_logits=True`, but the `output` argument was produced by a sigmoid or softmax activation and thus does not represent logits. Was this intended?\"\n",
            "  return dispatch_target(*args, **kwargs)\n"
          ]
        },
        {
          "output_type": "stream",
          "name": "stdout",
          "text": [
            "64/64 [==============================] - 0s 3ms/step - loss: 1.0987 - accuracy: 0.3223\n",
            "Epoch 2/5\n",
            "64/64 [==============================] - 0s 3ms/step - loss: 1.0987 - accuracy: 0.3223\n",
            "Epoch 3/5\n",
            "64/64 [==============================] - 0s 2ms/step - loss: 1.0987 - accuracy: 0.3223\n",
            "Epoch 4/5\n",
            "64/64 [==============================] - 0s 3ms/step - loss: 1.0987 - accuracy: 0.3223\n",
            "Epoch 5/5\n",
            "64/64 [==============================] - 0s 2ms/step - loss: 1.0987 - accuracy: 0.3223\n",
            "32/32 [==============================] - 0s 2ms/step - loss: 1.0990 - accuracy: 0.2930\n",
            "Epoch 1/5\n"
          ]
        },
        {
          "output_type": "stream",
          "name": "stderr",
          "text": [
            "/usr/local/lib/python3.7/dist-packages/tensorflow/python/util/dispatch.py:1082: UserWarning: \"`sparse_categorical_crossentropy` received `from_logits=True`, but the `output` argument was produced by a sigmoid or softmax activation and thus does not represent logits. Was this intended?\"\n",
            "  return dispatch_target(*args, **kwargs)\n"
          ]
        },
        {
          "output_type": "stream",
          "name": "stdout",
          "text": [
            "64/64 [==============================] - 0s 2ms/step - loss: 1.0982 - accuracy: 0.3770\n",
            "Epoch 2/5\n",
            "64/64 [==============================] - 0s 3ms/step - loss: 1.0982 - accuracy: 0.3750\n",
            "Epoch 3/5\n",
            "64/64 [==============================] - 0s 2ms/step - loss: 1.0982 - accuracy: 0.3750\n",
            "Epoch 4/5\n",
            "64/64 [==============================] - 0s 3ms/step - loss: 1.0982 - accuracy: 0.3730\n",
            "Epoch 5/5\n",
            "64/64 [==============================] - 0s 3ms/step - loss: 1.0982 - accuracy: 0.3691\n",
            "32/32 [==============================] - 0s 2ms/step - loss: 1.0981 - accuracy: 0.3906\n",
            "Epoch 1/5\n"
          ]
        },
        {
          "output_type": "stream",
          "name": "stderr",
          "text": [
            "/usr/local/lib/python3.7/dist-packages/tensorflow/python/util/dispatch.py:1082: UserWarning: \"`sparse_categorical_crossentropy` received `from_logits=True`, but the `output` argument was produced by a sigmoid or softmax activation and thus does not represent logits. Was this intended?\"\n",
            "  return dispatch_target(*args, **kwargs)\n"
          ]
        },
        {
          "output_type": "stream",
          "name": "stdout",
          "text": [
            "64/64 [==============================] - 0s 2ms/step - loss: 1.0950 - accuracy: 0.3711\n",
            "Epoch 2/5\n",
            "64/64 [==============================] - 0s 3ms/step - loss: 1.0704 - accuracy: 0.5215\n",
            "Epoch 3/5\n",
            "64/64 [==============================] - 0s 3ms/step - loss: 1.0350 - accuracy: 0.5801\n",
            "Epoch 4/5\n",
            "64/64 [==============================] - 0s 3ms/step - loss: 0.9993 - accuracy: 0.6270\n",
            "Epoch 5/5\n",
            "64/64 [==============================] - 0s 3ms/step - loss: 0.9574 - accuracy: 0.6914\n",
            "32/32 [==============================] - 0s 2ms/step - loss: 0.9420 - accuracy: 0.7188\n",
            "Epoch 1/5\n"
          ]
        },
        {
          "output_type": "stream",
          "name": "stderr",
          "text": [
            "/usr/local/lib/python3.7/dist-packages/tensorflow/python/util/dispatch.py:1082: UserWarning: \"`sparse_categorical_crossentropy` received `from_logits=True`, but the `output` argument was produced by a sigmoid or softmax activation and thus does not represent logits. Was this intended?\"\n",
            "  return dispatch_target(*args, **kwargs)\n"
          ]
        },
        {
          "output_type": "stream",
          "name": "stdout",
          "text": [
            "64/64 [==============================] - 0s 3ms/step - loss: 1.0988 - accuracy: 0.3457\n",
            "Epoch 2/5\n",
            "64/64 [==============================] - 0s 3ms/step - loss: 1.0754 - accuracy: 0.4629\n",
            "Epoch 3/5\n",
            "64/64 [==============================] - 0s 3ms/step - loss: 1.0375 - accuracy: 0.5879\n",
            "Epoch 4/5\n",
            "64/64 [==============================] - 0s 2ms/step - loss: 1.0048 - accuracy: 0.6289\n",
            "Epoch 5/5\n",
            "64/64 [==============================] - 0s 3ms/step - loss: 0.9618 - accuracy: 0.6953\n",
            "32/32 [==============================] - 0s 3ms/step - loss: 0.9524 - accuracy: 0.6836\n",
            "Epoch 1/5\n"
          ]
        },
        {
          "output_type": "stream",
          "name": "stderr",
          "text": [
            "/usr/local/lib/python3.7/dist-packages/tensorflow/python/util/dispatch.py:1082: UserWarning: \"`sparse_categorical_crossentropy` received `from_logits=True`, but the `output` argument was produced by a sigmoid or softmax activation and thus does not represent logits. Was this intended?\"\n",
            "  return dispatch_target(*args, **kwargs)\n"
          ]
        },
        {
          "output_type": "stream",
          "name": "stdout",
          "text": [
            "64/64 [==============================] - 0s 3ms/step - loss: 1.0919 - accuracy: 0.3730\n",
            "Epoch 2/5\n",
            "64/64 [==============================] - 0s 2ms/step - loss: 1.0588 - accuracy: 0.4863\n",
            "Epoch 3/5\n",
            "64/64 [==============================] - 0s 3ms/step - loss: 1.0269 - accuracy: 0.6055\n",
            "Epoch 4/5\n",
            "64/64 [==============================] - 0s 2ms/step - loss: 0.9927 - accuracy: 0.6641\n",
            "Epoch 5/5\n",
            "64/64 [==============================] - 0s 3ms/step - loss: 0.9402 - accuracy: 0.7441\n",
            "32/32 [==============================] - 0s 3ms/step - loss: 0.9606 - accuracy: 0.6602\n",
            "Epoch 1/5\n"
          ]
        },
        {
          "output_type": "stream",
          "name": "stderr",
          "text": [
            "/usr/local/lib/python3.7/dist-packages/tensorflow/python/util/dispatch.py:1082: UserWarning: \"`sparse_categorical_crossentropy` received `from_logits=True`, but the `output` argument was produced by a sigmoid or softmax activation and thus does not represent logits. Was this intended?\"\n",
            "  return dispatch_target(*args, **kwargs)\n"
          ]
        },
        {
          "output_type": "stream",
          "name": "stdout",
          "text": [
            "64/64 [==============================] - 0s 3ms/step - loss: 1.0963 - accuracy: 0.3633\n",
            "Epoch 2/5\n",
            "64/64 [==============================] - 0s 3ms/step - loss: 1.0880 - accuracy: 0.4707\n",
            "Epoch 3/5\n",
            "64/64 [==============================] - 0s 2ms/step - loss: 1.0797 - accuracy: 0.4902\n",
            "Epoch 4/5\n",
            "64/64 [==============================] - 0s 3ms/step - loss: 1.0724 - accuracy: 0.5195\n",
            "Epoch 5/5\n",
            "64/64 [==============================] - 0s 3ms/step - loss: 1.0632 - accuracy: 0.5840\n",
            "32/32 [==============================] - 0s 2ms/step - loss: 1.0568 - accuracy: 0.6133\n",
            "Epoch 1/5\n"
          ]
        },
        {
          "output_type": "stream",
          "name": "stderr",
          "text": [
            "/usr/local/lib/python3.7/dist-packages/tensorflow/python/util/dispatch.py:1082: UserWarning: \"`sparse_categorical_crossentropy` received `from_logits=True`, but the `output` argument was produced by a sigmoid or softmax activation and thus does not represent logits. Was this intended?\"\n",
            "  return dispatch_target(*args, **kwargs)\n"
          ]
        },
        {
          "output_type": "stream",
          "name": "stdout",
          "text": [
            "64/64 [==============================] - 0s 3ms/step - loss: 1.0964 - accuracy: 0.3789\n",
            "Epoch 2/5\n",
            "64/64 [==============================] - 0s 2ms/step - loss: 1.0873 - accuracy: 0.4883\n",
            "Epoch 3/5\n",
            "64/64 [==============================] - 0s 3ms/step - loss: 1.0773 - accuracy: 0.4922\n",
            "Epoch 4/5\n",
            "64/64 [==============================] - 0s 3ms/step - loss: 1.0675 - accuracy: 0.5449\n",
            "Epoch 5/5\n",
            "64/64 [==============================] - 0s 2ms/step - loss: 1.0574 - accuracy: 0.5957\n",
            "32/32 [==============================] - 0s 2ms/step - loss: 1.0539 - accuracy: 0.6641\n",
            "Epoch 1/5\n"
          ]
        },
        {
          "output_type": "stream",
          "name": "stderr",
          "text": [
            "/usr/local/lib/python3.7/dist-packages/tensorflow/python/util/dispatch.py:1082: UserWarning: \"`sparse_categorical_crossentropy` received `from_logits=True`, but the `output` argument was produced by a sigmoid or softmax activation and thus does not represent logits. Was this intended?\"\n",
            "  return dispatch_target(*args, **kwargs)\n"
          ]
        },
        {
          "output_type": "stream",
          "name": "stdout",
          "text": [
            "64/64 [==============================] - 0s 2ms/step - loss: 1.0965 - accuracy: 0.3809\n",
            "Epoch 2/5\n",
            "64/64 [==============================] - 0s 2ms/step - loss: 1.0857 - accuracy: 0.5312\n",
            "Epoch 3/5\n",
            "64/64 [==============================] - 0s 3ms/step - loss: 1.0730 - accuracy: 0.6055\n",
            "Epoch 4/5\n",
            "64/64 [==============================] - 0s 2ms/step - loss: 1.0629 - accuracy: 0.6211\n",
            "Epoch 5/5\n",
            "64/64 [==============================] - 0s 5ms/step - loss: 1.0522 - accuracy: 0.6270\n",
            "32/32 [==============================] - 0s 2ms/step - loss: 1.0591 - accuracy: 0.5273\n",
            "Epoch 1/5\n"
          ]
        },
        {
          "output_type": "stream",
          "name": "stderr",
          "text": [
            "/usr/local/lib/python3.7/dist-packages/tensorflow/python/util/dispatch.py:1082: UserWarning: \"`sparse_categorical_crossentropy` received `from_logits=True`, but the `output` argument was produced by a sigmoid or softmax activation and thus does not represent logits. Was this intended?\"\n",
            "  return dispatch_target(*args, **kwargs)\n"
          ]
        },
        {
          "output_type": "stream",
          "name": "stdout",
          "text": [
            "64/64 [==============================] - 1s 3ms/step - loss: 1.0918 - accuracy: 0.3984\n",
            "Epoch 2/5\n",
            "64/64 [==============================] - 0s 3ms/step - loss: 1.0598 - accuracy: 0.5215\n",
            "Epoch 3/5\n",
            "64/64 [==============================] - 0s 3ms/step - loss: 1.0327 - accuracy: 0.5684\n",
            "Epoch 4/5\n",
            "64/64 [==============================] - 0s 3ms/step - loss: 1.0004 - accuracy: 0.6309\n",
            "Epoch 5/5\n",
            "64/64 [==============================] - 0s 3ms/step - loss: 0.9684 - accuracy: 0.6934\n",
            "32/32 [==============================] - 0s 2ms/step - loss: 0.9593 - accuracy: 0.6445\n",
            "Epoch 1/5\n"
          ]
        },
        {
          "output_type": "stream",
          "name": "stderr",
          "text": [
            "/usr/local/lib/python3.7/dist-packages/tensorflow/python/util/dispatch.py:1082: UserWarning: \"`sparse_categorical_crossentropy` received `from_logits=True`, but the `output` argument was produced by a sigmoid or softmax activation and thus does not represent logits. Was this intended?\"\n",
            "  return dispatch_target(*args, **kwargs)\n"
          ]
        },
        {
          "output_type": "stream",
          "name": "stdout",
          "text": [
            "64/64 [==============================] - 1s 3ms/step - loss: 1.0947 - accuracy: 0.4160\n",
            "Epoch 2/5\n",
            "64/64 [==============================] - 0s 3ms/step - loss: 1.0620 - accuracy: 0.5566\n",
            "Epoch 3/5\n",
            "64/64 [==============================] - 0s 3ms/step - loss: 1.0308 - accuracy: 0.5684\n",
            "Epoch 4/5\n",
            "64/64 [==============================] - 0s 3ms/step - loss: 1.0046 - accuracy: 0.5664\n",
            "Epoch 5/5\n",
            "64/64 [==============================] - 0s 3ms/step - loss: 0.9825 - accuracy: 0.6016\n",
            "32/32 [==============================] - 0s 2ms/step - loss: 0.9892 - accuracy: 0.5352\n",
            "Epoch 1/5\n"
          ]
        },
        {
          "output_type": "stream",
          "name": "stderr",
          "text": [
            "/usr/local/lib/python3.7/dist-packages/tensorflow/python/util/dispatch.py:1082: UserWarning: \"`sparse_categorical_crossentropy` received `from_logits=True`, but the `output` argument was produced by a sigmoid or softmax activation and thus does not represent logits. Was this intended?\"\n",
            "  return dispatch_target(*args, **kwargs)\n"
          ]
        },
        {
          "output_type": "stream",
          "name": "stdout",
          "text": [
            "64/64 [==============================] - 1s 3ms/step - loss: 1.0930 - accuracy: 0.3926\n",
            "Epoch 2/5\n",
            "64/64 [==============================] - 0s 3ms/step - loss: 1.0701 - accuracy: 0.5117\n",
            "Epoch 3/5\n",
            "64/64 [==============================] - 0s 3ms/step - loss: 1.0243 - accuracy: 0.6641\n",
            "Epoch 4/5\n",
            "64/64 [==============================] - 0s 3ms/step - loss: 0.9792 - accuracy: 0.7129\n",
            "Epoch 5/5\n",
            "64/64 [==============================] - 0s 3ms/step - loss: 0.9372 - accuracy: 0.7480\n",
            "32/32 [==============================] - 0s 2ms/step - loss: 0.9523 - accuracy: 0.6719\n",
            "Epoch 1/5\n"
          ]
        },
        {
          "output_type": "stream",
          "name": "stderr",
          "text": [
            "/usr/local/lib/python3.7/dist-packages/tensorflow/python/util/dispatch.py:1082: UserWarning: \"`sparse_categorical_crossentropy` received `from_logits=True`, but the `output` argument was produced by a sigmoid or softmax activation and thus does not represent logits. Was this intended?\"\n",
            "  return dispatch_target(*args, **kwargs)\n"
          ]
        },
        {
          "output_type": "stream",
          "name": "stdout",
          "text": [
            "64/64 [==============================] - 0s 2ms/step - loss: 1.1070 - accuracy: 0.3496\n",
            "Epoch 2/5\n",
            "64/64 [==============================] - 0s 3ms/step - loss: 1.0882 - accuracy: 0.4062\n",
            "Epoch 3/5\n",
            "64/64 [==============================] - 0s 2ms/step - loss: 1.0808 - accuracy: 0.4199\n",
            "Epoch 4/5\n",
            "64/64 [==============================] - 0s 2ms/step - loss: 1.0681 - accuracy: 0.4766\n",
            "Epoch 5/5\n",
            "64/64 [==============================] - 0s 2ms/step - loss: 1.0572 - accuracy: 0.4941\n",
            "32/32 [==============================] - 0s 3ms/step - loss: 1.0251 - accuracy: 0.5469\n",
            "Epoch 1/5\n"
          ]
        },
        {
          "output_type": "stream",
          "name": "stderr",
          "text": [
            "/usr/local/lib/python3.7/dist-packages/tensorflow/python/util/dispatch.py:1082: UserWarning: \"`sparse_categorical_crossentropy` received `from_logits=True`, but the `output` argument was produced by a sigmoid or softmax activation and thus does not represent logits. Was this intended?\"\n",
            "  return dispatch_target(*args, **kwargs)\n"
          ]
        },
        {
          "output_type": "stream",
          "name": "stdout",
          "text": [
            "64/64 [==============================] - 1s 2ms/step - loss: 1.1104 - accuracy: 0.3477\n",
            "Epoch 2/5\n",
            "64/64 [==============================] - 0s 2ms/step - loss: 1.1031 - accuracy: 0.3398\n",
            "Epoch 3/5\n",
            "64/64 [==============================] - 0s 3ms/step - loss: 1.0988 - accuracy: 0.3477\n",
            "Epoch 4/5\n",
            "64/64 [==============================] - 0s 2ms/step - loss: 1.0936 - accuracy: 0.3477\n",
            "Epoch 5/5\n",
            "64/64 [==============================] - 0s 3ms/step - loss: 1.0886 - accuracy: 0.3594\n",
            "32/32 [==============================] - 0s 2ms/step - loss: 1.0831 - accuracy: 0.3555\n",
            "Epoch 1/5\n"
          ]
        },
        {
          "output_type": "stream",
          "name": "stderr",
          "text": [
            "/usr/local/lib/python3.7/dist-packages/tensorflow/python/util/dispatch.py:1082: UserWarning: \"`sparse_categorical_crossentropy` received `from_logits=True`, but the `output` argument was produced by a sigmoid or softmax activation and thus does not represent logits. Was this intended?\"\n",
            "  return dispatch_target(*args, **kwargs)\n"
          ]
        },
        {
          "output_type": "stream",
          "name": "stdout",
          "text": [
            "64/64 [==============================] - 0s 2ms/step - loss: 1.0934 - accuracy: 0.3828\n",
            "Epoch 2/5\n",
            "64/64 [==============================] - 0s 2ms/step - loss: 1.0779 - accuracy: 0.4082\n",
            "Epoch 3/5\n",
            "64/64 [==============================] - 0s 2ms/step - loss: 1.0569 - accuracy: 0.4531\n",
            "Epoch 4/5\n",
            "64/64 [==============================] - 0s 3ms/step - loss: 1.0357 - accuracy: 0.5137\n",
            "Epoch 5/5\n",
            "64/64 [==============================] - 0s 3ms/step - loss: 1.0210 - accuracy: 0.5352\n",
            "32/32 [==============================] - 0s 3ms/step - loss: 1.0465 - accuracy: 0.4141\n",
            "Epoch 1/5\n"
          ]
        },
        {
          "output_type": "stream",
          "name": "stderr",
          "text": [
            "/usr/local/lib/python3.7/dist-packages/tensorflow/python/util/dispatch.py:1082: UserWarning: \"`sparse_categorical_crossentropy` received `from_logits=True`, but the `output` argument was produced by a sigmoid or softmax activation and thus does not represent logits. Was this intended?\"\n",
            "  return dispatch_target(*args, **kwargs)\n"
          ]
        },
        {
          "output_type": "stream",
          "name": "stdout",
          "text": [
            "64/64 [==============================] - 1s 3ms/step - loss: 1.0903 - accuracy: 0.3379\n",
            "Epoch 2/5\n",
            "64/64 [==============================] - 0s 3ms/step - loss: 1.0588 - accuracy: 0.4434\n",
            "Epoch 3/5\n",
            "64/64 [==============================] - 0s 3ms/step - loss: 1.0352 - accuracy: 0.5215\n",
            "Epoch 4/5\n",
            "64/64 [==============================] - 0s 3ms/step - loss: 0.9994 - accuracy: 0.6113\n",
            "Epoch 5/5\n",
            "64/64 [==============================] - 0s 3ms/step - loss: 0.9634 - accuracy: 0.6602\n",
            "32/32 [==============================] - 0s 2ms/step - loss: 0.9501 - accuracy: 0.6484\n",
            "Epoch 1/5\n"
          ]
        },
        {
          "output_type": "stream",
          "name": "stderr",
          "text": [
            "/usr/local/lib/python3.7/dist-packages/tensorflow/python/util/dispatch.py:1082: UserWarning: \"`sparse_categorical_crossentropy` received `from_logits=True`, but the `output` argument was produced by a sigmoid or softmax activation and thus does not represent logits. Was this intended?\"\n",
            "  return dispatch_target(*args, **kwargs)\n"
          ]
        },
        {
          "output_type": "stream",
          "name": "stdout",
          "text": [
            "64/64 [==============================] - 1s 3ms/step - loss: 1.0913 - accuracy: 0.3750\n",
            "Epoch 2/5\n",
            "64/64 [==============================] - 0s 3ms/step - loss: 1.0655 - accuracy: 0.5117\n",
            "Epoch 3/5\n",
            "64/64 [==============================] - 0s 3ms/step - loss: 1.0325 - accuracy: 0.4980\n",
            "Epoch 4/5\n",
            "64/64 [==============================] - 0s 3ms/step - loss: 1.0008 - accuracy: 0.5566\n",
            "Epoch 5/5\n",
            "64/64 [==============================] - 0s 3ms/step - loss: 0.9643 - accuracy: 0.6348\n",
            "32/32 [==============================] - 0s 3ms/step - loss: 0.9477 - accuracy: 0.6875\n",
            "Epoch 1/5\n"
          ]
        },
        {
          "output_type": "stream",
          "name": "stderr",
          "text": [
            "/usr/local/lib/python3.7/dist-packages/tensorflow/python/util/dispatch.py:1082: UserWarning: \"`sparse_categorical_crossentropy` received `from_logits=True`, but the `output` argument was produced by a sigmoid or softmax activation and thus does not represent logits. Was this intended?\"\n",
            "  return dispatch_target(*args, **kwargs)\n"
          ]
        },
        {
          "output_type": "stream",
          "name": "stdout",
          "text": [
            "64/64 [==============================] - 1s 3ms/step - loss: 1.0636 - accuracy: 0.4512\n",
            "Epoch 2/5\n",
            "64/64 [==============================] - 0s 3ms/step - loss: 1.0083 - accuracy: 0.5664\n",
            "Epoch 3/5\n",
            "64/64 [==============================] - 0s 3ms/step - loss: 0.9755 - accuracy: 0.5996\n",
            "Epoch 4/5\n",
            "64/64 [==============================] - 0s 3ms/step - loss: 0.9453 - accuracy: 0.6660\n",
            "Epoch 5/5\n",
            "64/64 [==============================] - 0s 3ms/step - loss: 0.9154 - accuracy: 0.7090\n",
            "32/32 [==============================] - 0s 2ms/step - loss: 0.9433 - accuracy: 0.6562\n",
            "Epoch 1/5\n"
          ]
        },
        {
          "output_type": "stream",
          "name": "stderr",
          "text": [
            "/usr/local/lib/python3.7/dist-packages/tensorflow/python/util/dispatch.py:1082: UserWarning: \"`sparse_categorical_crossentropy` received `from_logits=True`, but the `output` argument was produced by a sigmoid or softmax activation and thus does not represent logits. Was this intended?\"\n",
            "  return dispatch_target(*args, **kwargs)\n"
          ]
        },
        {
          "output_type": "stream",
          "name": "stdout",
          "text": [
            "64/64 [==============================] - 0s 3ms/step - loss: 1.1004 - accuracy: 0.3359\n",
            "Epoch 2/5\n",
            "64/64 [==============================] - 0s 2ms/step - loss: 1.0994 - accuracy: 0.3477\n",
            "Epoch 3/5\n",
            "64/64 [==============================] - 0s 3ms/step - loss: 1.0986 - accuracy: 0.3477\n",
            "Epoch 4/5\n",
            "64/64 [==============================] - 0s 2ms/step - loss: 1.0980 - accuracy: 0.3477\n",
            "Epoch 5/5\n",
            "64/64 [==============================] - 0s 2ms/step - loss: 1.0975 - accuracy: 0.3516\n",
            "32/32 [==============================] - 0s 3ms/step - loss: 1.0970 - accuracy: 0.3477\n",
            "Epoch 1/5\n"
          ]
        },
        {
          "output_type": "stream",
          "name": "stderr",
          "text": [
            "/usr/local/lib/python3.7/dist-packages/tensorflow/python/util/dispatch.py:1082: UserWarning: \"`sparse_categorical_crossentropy` received `from_logits=True`, but the `output` argument was produced by a sigmoid or softmax activation and thus does not represent logits. Was this intended?\"\n",
            "  return dispatch_target(*args, **kwargs)\n"
          ]
        },
        {
          "output_type": "stream",
          "name": "stdout",
          "text": [
            "64/64 [==============================] - 0s 3ms/step - loss: 1.1014 - accuracy: 0.3926\n",
            "Epoch 2/5\n",
            "64/64 [==============================] - 0s 3ms/step - loss: 1.0984 - accuracy: 0.3691\n",
            "Epoch 3/5\n",
            "64/64 [==============================] - 0s 2ms/step - loss: 1.0960 - accuracy: 0.3711\n",
            "Epoch 4/5\n",
            "64/64 [==============================] - 0s 3ms/step - loss: 1.0938 - accuracy: 0.3633\n",
            "Epoch 5/5\n",
            "64/64 [==============================] - 0s 2ms/step - loss: 1.0918 - accuracy: 0.3691\n",
            "32/32 [==============================] - 0s 2ms/step - loss: 1.0884 - accuracy: 0.3594\n",
            "Epoch 1/5\n"
          ]
        },
        {
          "output_type": "stream",
          "name": "stderr",
          "text": [
            "/usr/local/lib/python3.7/dist-packages/tensorflow/python/util/dispatch.py:1082: UserWarning: \"`sparse_categorical_crossentropy` received `from_logits=True`, but the `output` argument was produced by a sigmoid or softmax activation and thus does not represent logits. Was this intended?\"\n",
            "  return dispatch_target(*args, **kwargs)\n"
          ]
        },
        {
          "output_type": "stream",
          "name": "stdout",
          "text": [
            "64/64 [==============================] - 0s 2ms/step - loss: 1.1096 - accuracy: 0.3418\n",
            "Epoch 2/5\n",
            "64/64 [==============================] - 0s 3ms/step - loss: 1.1082 - accuracy: 0.3418\n",
            "Epoch 3/5\n",
            "64/64 [==============================] - 0s 3ms/step - loss: 1.1072 - accuracy: 0.3418\n",
            "Epoch 4/5\n",
            "64/64 [==============================] - 0s 2ms/step - loss: 1.1062 - accuracy: 0.3418\n",
            "Epoch 5/5\n",
            "64/64 [==============================] - 0s 3ms/step - loss: 1.1054 - accuracy: 0.3418\n",
            "32/32 [==============================] - 0s 2ms/step - loss: 1.1087 - accuracy: 0.3320\n",
            "Epoch 1/5\n"
          ]
        },
        {
          "output_type": "stream",
          "name": "stderr",
          "text": [
            "/usr/local/lib/python3.7/dist-packages/tensorflow/python/util/dispatch.py:1082: UserWarning: \"`sparse_categorical_crossentropy` received `from_logits=True`, but the `output` argument was produced by a sigmoid or softmax activation and thus does not represent logits. Was this intended?\"\n",
            "  return dispatch_target(*args, **kwargs)\n"
          ]
        },
        {
          "output_type": "stream",
          "name": "stdout",
          "text": [
            "64/64 [==============================] - 0s 3ms/step - loss: 1.1090 - accuracy: 0.2852\n",
            "Epoch 2/5\n",
            "64/64 [==============================] - 0s 3ms/step - loss: 1.1089 - accuracy: 0.2852\n",
            "Epoch 3/5\n",
            "64/64 [==============================] - 0s 2ms/step - loss: 1.1087 - accuracy: 0.2852\n",
            "Epoch 4/5\n",
            "64/64 [==============================] - 0s 3ms/step - loss: 1.1086 - accuracy: 0.2832\n",
            "Epoch 5/5\n",
            "64/64 [==============================] - 0s 3ms/step - loss: 1.1085 - accuracy: 0.2812\n",
            "32/32 [==============================] - 0s 3ms/step - loss: 1.1103 - accuracy: 0.2617\n",
            "Epoch 1/5\n"
          ]
        },
        {
          "output_type": "stream",
          "name": "stderr",
          "text": [
            "/usr/local/lib/python3.7/dist-packages/tensorflow/python/util/dispatch.py:1082: UserWarning: \"`sparse_categorical_crossentropy` received `from_logits=True`, but the `output` argument was produced by a sigmoid or softmax activation and thus does not represent logits. Was this intended?\"\n",
            "  return dispatch_target(*args, **kwargs)\n"
          ]
        },
        {
          "output_type": "stream",
          "name": "stdout",
          "text": [
            "64/64 [==============================] - 0s 2ms/step - loss: 1.0999 - accuracy: 0.3340\n",
            "Epoch 2/5\n",
            "64/64 [==============================] - 0s 3ms/step - loss: 1.0998 - accuracy: 0.3359\n",
            "Epoch 3/5\n",
            "64/64 [==============================] - 0s 3ms/step - loss: 1.0996 - accuracy: 0.3359\n",
            "Epoch 4/5\n",
            "64/64 [==============================] - 0s 3ms/step - loss: 1.0994 - accuracy: 0.3359\n",
            "Epoch 5/5\n",
            "64/64 [==============================] - 0s 3ms/step - loss: 1.0993 - accuracy: 0.3320\n",
            "32/32 [==============================] - 0s 2ms/step - loss: 1.0991 - accuracy: 0.3477\n",
            "Epoch 1/5\n"
          ]
        },
        {
          "output_type": "stream",
          "name": "stderr",
          "text": [
            "/usr/local/lib/python3.7/dist-packages/tensorflow/python/util/dispatch.py:1082: UserWarning: \"`sparse_categorical_crossentropy` received `from_logits=True`, but the `output` argument was produced by a sigmoid or softmax activation and thus does not represent logits. Was this intended?\"\n",
            "  return dispatch_target(*args, **kwargs)\n"
          ]
        },
        {
          "output_type": "stream",
          "name": "stdout",
          "text": [
            "64/64 [==============================] - 0s 3ms/step - loss: 1.1002 - accuracy: 0.2969\n",
            "Epoch 2/5\n",
            "64/64 [==============================] - 0s 2ms/step - loss: 1.1000 - accuracy: 0.2988\n",
            "Epoch 3/5\n",
            "64/64 [==============================] - 0s 3ms/step - loss: 1.0998 - accuracy: 0.3008\n",
            "Epoch 4/5\n",
            "64/64 [==============================] - 0s 3ms/step - loss: 1.0996 - accuracy: 0.3027\n",
            "Epoch 5/5\n",
            "64/64 [==============================] - 0s 3ms/step - loss: 1.0994 - accuracy: 0.3047\n",
            "32/32 [==============================] - 0s 3ms/step - loss: 1.0993 - accuracy: 0.3008\n",
            "Epoch 1/5\n"
          ]
        },
        {
          "output_type": "stream",
          "name": "stderr",
          "text": [
            "/usr/local/lib/python3.7/dist-packages/tensorflow/python/util/dispatch.py:1082: UserWarning: \"`sparse_categorical_crossentropy` received `from_logits=True`, but the `output` argument was produced by a sigmoid or softmax activation and thus does not represent logits. Was this intended?\"\n",
            "  return dispatch_target(*args, **kwargs)\n"
          ]
        },
        {
          "output_type": "stream",
          "name": "stdout",
          "text": [
            "64/64 [==============================] - 0s 3ms/step - loss: 1.0862 - accuracy: 0.4141\n",
            "Epoch 2/5\n",
            "64/64 [==============================] - 0s 3ms/step - loss: 1.0483 - accuracy: 0.4785\n",
            "Epoch 3/5\n",
            "64/64 [==============================] - 0s 3ms/step - loss: 1.0021 - accuracy: 0.6074\n",
            "Epoch 4/5\n",
            "64/64 [==============================] - 0s 3ms/step - loss: 0.9619 - accuracy: 0.6973\n",
            "Epoch 5/5\n",
            "64/64 [==============================] - 0s 3ms/step - loss: 0.9223 - accuracy: 0.7168\n",
            "32/32 [==============================] - 0s 2ms/step - loss: 0.9094 - accuracy: 0.6875\n",
            "Epoch 1/5\n"
          ]
        },
        {
          "output_type": "stream",
          "name": "stderr",
          "text": [
            "/usr/local/lib/python3.7/dist-packages/tensorflow/python/util/dispatch.py:1082: UserWarning: \"`sparse_categorical_crossentropy` received `from_logits=True`, but the `output` argument was produced by a sigmoid or softmax activation and thus does not represent logits. Was this intended?\"\n",
            "  return dispatch_target(*args, **kwargs)\n"
          ]
        },
        {
          "output_type": "stream",
          "name": "stdout",
          "text": [
            "64/64 [==============================] - 0s 3ms/step - loss: 1.0802 - accuracy: 0.4434\n",
            "Epoch 2/5\n",
            "64/64 [==============================] - 0s 3ms/step - loss: 1.0487 - accuracy: 0.5391\n",
            "Epoch 3/5\n",
            "64/64 [==============================] - 0s 3ms/step - loss: 1.0110 - accuracy: 0.6016\n",
            "Epoch 4/5\n",
            "64/64 [==============================] - 0s 3ms/step - loss: 0.9916 - accuracy: 0.5859\n",
            "Epoch 5/5\n",
            "64/64 [==============================] - 0s 3ms/step - loss: 0.9571 - accuracy: 0.6484\n",
            "32/32 [==============================] - 0s 2ms/step - loss: 0.9512 - accuracy: 0.6289\n",
            "Epoch 1/5\n"
          ]
        },
        {
          "output_type": "stream",
          "name": "stderr",
          "text": [
            "/usr/local/lib/python3.7/dist-packages/tensorflow/python/util/dispatch.py:1082: UserWarning: \"`sparse_categorical_crossentropy` received `from_logits=True`, but the `output` argument was produced by a sigmoid or softmax activation and thus does not represent logits. Was this intended?\"\n",
            "  return dispatch_target(*args, **kwargs)\n"
          ]
        },
        {
          "output_type": "stream",
          "name": "stdout",
          "text": [
            "64/64 [==============================] - 0s 3ms/step - loss: 1.0859 - accuracy: 0.3828\n",
            "Epoch 2/5\n",
            "64/64 [==============================] - 0s 3ms/step - loss: 1.0391 - accuracy: 0.4531\n",
            "Epoch 3/5\n",
            "64/64 [==============================] - 0s 3ms/step - loss: 1.0248 - accuracy: 0.4688\n",
            "Epoch 4/5\n",
            "64/64 [==============================] - 0s 3ms/step - loss: 0.9882 - accuracy: 0.5195\n",
            "Epoch 5/5\n",
            "64/64 [==============================] - 0s 3ms/step - loss: 0.9692 - accuracy: 0.5469\n",
            "32/32 [==============================] - 0s 2ms/step - loss: 0.9982 - accuracy: 0.4844\n",
            "Epoch 1/5\n"
          ]
        },
        {
          "output_type": "stream",
          "name": "stderr",
          "text": [
            "/usr/local/lib/python3.7/dist-packages/tensorflow/python/util/dispatch.py:1082: UserWarning: \"`sparse_categorical_crossentropy` received `from_logits=True`, but the `output` argument was produced by a sigmoid or softmax activation and thus does not represent logits. Was this intended?\"\n",
            "  return dispatch_target(*args, **kwargs)\n"
          ]
        },
        {
          "output_type": "stream",
          "name": "stdout",
          "text": [
            "64/64 [==============================] - 0s 3ms/step - loss: 1.1028 - accuracy: 0.3477\n",
            "Epoch 2/5\n",
            "64/64 [==============================] - 0s 2ms/step - loss: 1.0884 - accuracy: 0.4492\n",
            "Epoch 3/5\n",
            "64/64 [==============================] - 0s 3ms/step - loss: 1.0777 - accuracy: 0.4844\n",
            "Epoch 4/5\n",
            "64/64 [==============================] - 0s 3ms/step - loss: 1.0638 - accuracy: 0.5195\n",
            "Epoch 5/5\n",
            "64/64 [==============================] - 0s 3ms/step - loss: 1.0498 - accuracy: 0.5000\n",
            "32/32 [==============================] - 0s 2ms/step - loss: 1.0358 - accuracy: 0.5742\n",
            "Epoch 1/5\n"
          ]
        },
        {
          "output_type": "stream",
          "name": "stderr",
          "text": [
            "/usr/local/lib/python3.7/dist-packages/tensorflow/python/util/dispatch.py:1082: UserWarning: \"`sparse_categorical_crossentropy` received `from_logits=True`, but the `output` argument was produced by a sigmoid or softmax activation and thus does not represent logits. Was this intended?\"\n",
            "  return dispatch_target(*args, **kwargs)\n"
          ]
        },
        {
          "output_type": "stream",
          "name": "stdout",
          "text": [
            "64/64 [==============================] - 0s 3ms/step - loss: 1.0957 - accuracy: 0.3652\n",
            "Epoch 2/5\n",
            "64/64 [==============================] - 0s 3ms/step - loss: 1.0689 - accuracy: 0.4902\n",
            "Epoch 3/5\n",
            "64/64 [==============================] - 0s 2ms/step - loss: 1.0443 - accuracy: 0.5234\n",
            "Epoch 4/5\n",
            "64/64 [==============================] - 0s 3ms/step - loss: 1.0271 - accuracy: 0.5684\n",
            "Epoch 5/5\n",
            "64/64 [==============================] - 0s 3ms/step - loss: 1.0131 - accuracy: 0.5938\n",
            "32/32 [==============================] - 0s 3ms/step - loss: 1.0092 - accuracy: 0.5781\n",
            "Epoch 1/5\n"
          ]
        },
        {
          "output_type": "stream",
          "name": "stderr",
          "text": [
            "/usr/local/lib/python3.7/dist-packages/tensorflow/python/util/dispatch.py:1082: UserWarning: \"`sparse_categorical_crossentropy` received `from_logits=True`, but the `output` argument was produced by a sigmoid or softmax activation and thus does not represent logits. Was this intended?\"\n",
            "  return dispatch_target(*args, **kwargs)\n"
          ]
        },
        {
          "output_type": "stream",
          "name": "stdout",
          "text": [
            "64/64 [==============================] - 0s 3ms/step - loss: 1.0887 - accuracy: 0.3965\n",
            "Epoch 2/5\n",
            "64/64 [==============================] - 0s 2ms/step - loss: 1.0664 - accuracy: 0.5176\n",
            "Epoch 3/5\n",
            "64/64 [==============================] - 0s 3ms/step - loss: 1.0442 - accuracy: 0.5176\n",
            "Epoch 4/5\n",
            "64/64 [==============================] - 0s 3ms/step - loss: 1.0270 - accuracy: 0.5820\n",
            "Epoch 5/5\n",
            "64/64 [==============================] - 0s 3ms/step - loss: 1.0145 - accuracy: 0.5957\n",
            "32/32 [==============================] - 0s 2ms/step - loss: 1.0238 - accuracy: 0.4961\n",
            "Epoch 1/5\n"
          ]
        },
        {
          "output_type": "stream",
          "name": "stderr",
          "text": [
            "/usr/local/lib/python3.7/dist-packages/tensorflow/python/util/dispatch.py:1082: UserWarning: \"`sparse_categorical_crossentropy` received `from_logits=True`, but the `output` argument was produced by a sigmoid or softmax activation and thus does not represent logits. Was this intended?\"\n",
            "  return dispatch_target(*args, **kwargs)\n"
          ]
        },
        {
          "output_type": "stream",
          "name": "stdout",
          "text": [
            "64/64 [==============================] - 1s 3ms/step - loss: 1.0899 - accuracy: 0.3926\n",
            "Epoch 2/5\n",
            "64/64 [==============================] - 0s 3ms/step - loss: 1.0553 - accuracy: 0.5293\n",
            "Epoch 3/5\n",
            "64/64 [==============================] - 0s 3ms/step - loss: 1.0156 - accuracy: 0.5879\n",
            "Epoch 4/5\n",
            "64/64 [==============================] - 0s 4ms/step - loss: 0.9675 - accuracy: 0.6406\n",
            "Epoch 5/5\n",
            "64/64 [==============================] - 0s 3ms/step - loss: 0.9292 - accuracy: 0.6953\n",
            "32/32 [==============================] - 0s 2ms/step - loss: 0.9254 - accuracy: 0.7188\n",
            "Epoch 1/5\n"
          ]
        },
        {
          "output_type": "stream",
          "name": "stderr",
          "text": [
            "/usr/local/lib/python3.7/dist-packages/tensorflow/python/util/dispatch.py:1082: UserWarning: \"`sparse_categorical_crossentropy` received `from_logits=True`, but the `output` argument was produced by a sigmoid or softmax activation and thus does not represent logits. Was this intended?\"\n",
            "  return dispatch_target(*args, **kwargs)\n"
          ]
        },
        {
          "output_type": "stream",
          "name": "stdout",
          "text": [
            "64/64 [==============================] - 1s 3ms/step - loss: 1.0855 - accuracy: 0.3867\n",
            "Epoch 2/5\n",
            "64/64 [==============================] - 0s 3ms/step - loss: 1.0366 - accuracy: 0.4863\n",
            "Epoch 3/5\n",
            "64/64 [==============================] - 0s 3ms/step - loss: 1.0069 - accuracy: 0.5176\n",
            "Epoch 4/5\n",
            "64/64 [==============================] - 0s 3ms/step - loss: 0.9815 - accuracy: 0.5781\n",
            "Epoch 5/5\n",
            "64/64 [==============================] - 0s 3ms/step - loss: 0.9554 - accuracy: 0.5625\n",
            "32/32 [==============================] - 0s 3ms/step - loss: 0.9616 - accuracy: 0.5781\n",
            "Epoch 1/5\n"
          ]
        },
        {
          "output_type": "stream",
          "name": "stderr",
          "text": [
            "/usr/local/lib/python3.7/dist-packages/tensorflow/python/util/dispatch.py:1082: UserWarning: \"`sparse_categorical_crossentropy` received `from_logits=True`, but the `output` argument was produced by a sigmoid or softmax activation and thus does not represent logits. Was this intended?\"\n",
            "  return dispatch_target(*args, **kwargs)\n"
          ]
        },
        {
          "output_type": "stream",
          "name": "stdout",
          "text": [
            "64/64 [==============================] - 1s 3ms/step - loss: 1.0906 - accuracy: 0.3887\n",
            "Epoch 2/5\n",
            "64/64 [==============================] - 0s 3ms/step - loss: 1.0470 - accuracy: 0.5078\n",
            "Epoch 3/5\n",
            "64/64 [==============================] - 0s 3ms/step - loss: 1.0186 - accuracy: 0.5488\n",
            "Epoch 4/5\n",
            "64/64 [==============================] - 0s 3ms/step - loss: 0.9915 - accuracy: 0.5684\n",
            "Epoch 5/5\n",
            "64/64 [==============================] - 0s 3ms/step - loss: 0.9606 - accuracy: 0.5645\n",
            "32/32 [==============================] - 0s 3ms/step - loss: 0.9871 - accuracy: 0.4727\n",
            "Epoch 1/5\n"
          ]
        },
        {
          "output_type": "stream",
          "name": "stderr",
          "text": [
            "/usr/local/lib/python3.7/dist-packages/tensorflow/python/util/dispatch.py:1082: UserWarning: \"`sparse_categorical_crossentropy` received `from_logits=True`, but the `output` argument was produced by a sigmoid or softmax activation and thus does not represent logits. Was this intended?\"\n",
            "  return dispatch_target(*args, **kwargs)\n"
          ]
        },
        {
          "output_type": "stream",
          "name": "stdout",
          "text": [
            "19/64 [=======>......................] - ETA: 0s - loss: 1.0987 - accuracy: 0.3684 "
          ]
        }
      ]
    },
    {
      "cell_type": "code",
      "source": [
        ""
      ],
      "metadata": {
        "id": "n-UFEOmR3lTB"
      },
      "execution_count": null,
      "outputs": []
    },
    {
      "cell_type": "code",
      "source": [
        "model.summary()"
      ],
      "metadata": {
        "colab": {
          "base_uri": "https://localhost:8080/"
        },
        "id": "y7xnoagn8QMd",
        "outputId": "9361a9c8-80d9-48d8-e1e8-7060a1eecdcf"
      },
      "execution_count": null,
      "outputs": [
        {
          "output_type": "stream",
          "name": "stdout",
          "text": [
            "Model: \"sequential\"\n",
            "_________________________________________________________________\n",
            " Layer (type)                Output Shape              Param #   \n",
            "=================================================================\n",
            " vgg16 (Functional)          (None, 8, 8, 512)         14714688  \n",
            "                                                                 \n",
            " flatten (Flatten)           (None, 32768)             0         \n",
            "                                                                 \n",
            " dense (Dense)               (None, 128)               4194432   \n",
            "                                                                 \n",
            " dense_1 (Dense)             (None, 32)                4128      \n",
            "                                                                 \n",
            " dense_2 (Dense)             (None, 3)                 99        \n",
            "                                                                 \n",
            "=================================================================\n",
            "Total params: 18,913,347\n",
            "Trainable params: 4,198,659\n",
            "Non-trainable params: 14,714,688\n",
            "_________________________________________________________________\n"
          ]
        }
      ]
    },
    {
      "cell_type": "code",
      "source": [
        "model.fit(data_train,batch_size=8, epochs=5, validation_data = data_val)"
      ],
      "metadata": {
        "colab": {
          "base_uri": "https://localhost:8080/"
        },
        "id": "J_scdBAB8SZT",
        "outputId": "2313e724-60b0-4427-acdf-f9792e5b2dc8"
      },
      "execution_count": null,
      "outputs": [
        {
          "output_type": "stream",
          "name": "stdout",
          "text": [
            "Epoch 1/5\n"
          ]
        },
        {
          "output_type": "stream",
          "name": "stderr",
          "text": [
            "/usr/local/lib/python3.7/dist-packages/tensorflow/python/util/dispatch.py:1082: UserWarning: \"`sparse_categorical_crossentropy` received `from_logits=True`, but the `output` argument was produced by a sigmoid or softmax activation and thus does not represent logits. Was this intended?\"\n",
            "  return dispatch_target(*args, **kwargs)\n"
          ]
        },
        {
          "output_type": "stream",
          "name": "stdout",
          "text": [
            "96/96 [==============================] - 97s 799ms/step - loss: 0.3958 - accuracy: 0.8385 - val_loss: 0.0709 - val_accuracy: 0.9792\n",
            "Epoch 2/5\n",
            "96/96 [==============================] - 41s 417ms/step - loss: 0.0248 - accuracy: 0.9922 - val_loss: 0.0695 - val_accuracy: 0.9792\n",
            "Epoch 3/5\n",
            "96/96 [==============================] - 41s 418ms/step - loss: 0.0107 - accuracy: 0.9961 - val_loss: 0.0029 - val_accuracy: 1.0000\n",
            "Epoch 4/5\n",
            "96/96 [==============================] - 41s 417ms/step - loss: 4.3032e-04 - accuracy: 1.0000 - val_loss: 0.0179 - val_accuracy: 0.9896\n",
            "Epoch 5/5\n",
            "96/96 [==============================] - 41s 416ms/step - loss: 2.1238e-04 - accuracy: 1.0000 - val_loss: 0.0120 - val_accuracy: 0.9896\n"
          ]
        },
        {
          "output_type": "execute_result",
          "data": {
            "text/plain": [
              "<keras.callbacks.History at 0x7fa61fc1a510>"
            ]
          },
          "metadata": {},
          "execution_count": 14
        }
      ]
    },
    {
      "cell_type": "code",
      "source": [
        "model.evaluate(data_test)"
      ],
      "metadata": {
        "colab": {
          "base_uri": "https://localhost:8080/"
        },
        "id": "xXgxDJE68UqS",
        "outputId": "c2657e40-0a99-43fa-e98d-a16c5084ebe8"
      },
      "execution_count": null,
      "outputs": [
        {
          "output_type": "stream",
          "name": "stdout",
          "text": [
            "12/12 [==============================] - 24s 253ms/step - loss: 0.0350 - accuracy: 0.9785\n"
          ]
        },
        {
          "output_type": "execute_result",
          "data": {
            "text/plain": [
              "[0.035041529685258865, 0.9784946441650391]"
            ]
          },
          "metadata": {},
          "execution_count": 15
        }
      ]
    },
    {
      "cell_type": "code",
      "source": [
        "model.save('my_model.h5') \n",
        "model = tf.keras.models.load_model('my_model.h5')\n",
        "converter = tf.lite.TFLiteConverter.from_keras_model(model)\n",
        "tflite_model = converter.convert()\n",
        "open(\"converted_model.tflite\", \"wb\").write(tflite_model)"
      ],
      "metadata": {
        "colab": {
          "base_uri": "https://localhost:8080/"
        },
        "id": "EAvKbwae8d7v",
        "outputId": "3e1f945e-c6d7-456d-8ce6-91b545af7985"
      },
      "execution_count": null,
      "outputs": [
        {
          "output_type": "stream",
          "name": "stdout",
          "text": [
            "INFO:tensorflow:Assets written to: /tmp/tmpjp9hdbc6/assets\n"
          ]
        },
        {
          "output_type": "execute_result",
          "data": {
            "text/plain": [
              "75662852"
            ]
          },
          "metadata": {},
          "execution_count": 16
        }
      ]
    }
  ]
}